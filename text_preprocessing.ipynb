{
 "cells": [
  {
   "cell_type": "markdown",
   "metadata": {},
   "source": [
    "# Text Preprocessing for Twitter Sentiment Analysis"
   ]
  },
  {
   "cell_type": "markdown",
   "metadata": {},
   "source": [
    "# Imports and Constants"
   ]
  },
  {
   "cell_type": "code",
   "execution_count": 1,
   "metadata": {
    "ExecuteTime": {
     "end_time": "2020-08-26T17:31:57.538380Z",
     "start_time": "2020-08-26T17:31:56.272828Z"
    }
   },
   "outputs": [],
   "source": [
    "import pandas as pd\n",
    "import re\n",
    "import nltk\n",
    "from nltk.tokenize import TweetTokenizer\n",
    "from nltk import FreqDist\n",
    "import string"
   ]
  },
  {
   "cell_type": "code",
   "execution_count": 48,
   "metadata": {
    "ExecuteTime": {
     "end_time": "2020-08-26T18:04:47.031170Z",
     "start_time": "2020-08-26T18:04:47.027477Z"
    }
   },
   "outputs": [],
   "source": [
    "DATA_FILE_PATH = 'data/crowdflower-brands-and-product-emotions/data/'\n",
    "CLEAN_DATA_FILE_NAME = 'clean_twitter_data.csv'\n",
    "SAVE_FILE = False\n",
    "TOKENIZED_DATA_FILE_NAME = 'tokenized_twitter_data.csv'"
   ]
  },
  {
   "cell_type": "markdown",
   "metadata": {},
   "source": [
    "# Load Data"
   ]
  },
  {
   "cell_type": "code",
   "execution_count": 3,
   "metadata": {
    "ExecuteTime": {
     "end_time": "2020-08-26T17:31:57.579491Z",
     "start_time": "2020-08-26T17:31:57.547766Z"
    }
   },
   "outputs": [],
   "source": [
    "df = pd.read_csv(DATA_FILE_PATH + CLEAN_DATA_FILE_NAME)"
   ]
  },
  {
   "cell_type": "code",
   "execution_count": 4,
   "metadata": {
    "ExecuteTime": {
     "end_time": "2020-08-26T17:31:57.608819Z",
     "start_time": "2020-08-26T17:31:57.582103Z"
    }
   },
   "outputs": [
    {
     "data": {
      "text/html": [
       "<div>\n",
       "<style scoped>\n",
       "    .dataframe tbody tr th:only-of-type {\n",
       "        vertical-align: middle;\n",
       "    }\n",
       "\n",
       "    .dataframe tbody tr th {\n",
       "        vertical-align: top;\n",
       "    }\n",
       "\n",
       "    .dataframe thead th {\n",
       "        text-align: right;\n",
       "    }\n",
       "</style>\n",
       "<table border=\"1\" class=\"dataframe\">\n",
       "  <thead>\n",
       "    <tr style=\"text-align: right;\">\n",
       "      <th></th>\n",
       "      <th>tweet_text</th>\n",
       "      <th>emotion_in_tweet_is_directed_at</th>\n",
       "      <th>is_there_an_emotion_directed_at_a_brand_or_product</th>\n",
       "    </tr>\n",
       "  </thead>\n",
       "  <tbody>\n",
       "    <tr>\n",
       "      <th>0</th>\n",
       "      <td>.@mention I have a 3G iPhone. After 3 hrs tweeting at #RISE_Austin, it was dead!  I need to upgrade. Plugin stations at #SXSW.</td>\n",
       "      <td>iPhone</td>\n",
       "      <td>Negative emotion</td>\n",
       "    </tr>\n",
       "    <tr>\n",
       "      <th>1</th>\n",
       "      <td>@mention Know about @mention ? Awesome iPad/iPhone app that you'll likely appreciate for its design. Also, they're giving free Ts at #SXSW</td>\n",
       "      <td>iPad or iPhone App</td>\n",
       "      <td>Positive emotion</td>\n",
       "    </tr>\n",
       "    <tr>\n",
       "      <th>2</th>\n",
       "      <td>@mention Can not wait for #iPad 2 also. They should sale them down at #SXSW.</td>\n",
       "      <td>iPad</td>\n",
       "      <td>Positive emotion</td>\n",
       "    </tr>\n",
       "    <tr>\n",
       "      <th>3</th>\n",
       "      <td>@mention I hope this year's festival isn't as crashy as this year's iPhone app. #sxsw</td>\n",
       "      <td>iPad or iPhone App</td>\n",
       "      <td>Negative emotion</td>\n",
       "    </tr>\n",
       "    <tr>\n",
       "      <th>4</th>\n",
       "      <td>@mention great stuff on Fri #SXSW: Marissa Mayer (Google), Tim O'Reilly (tech books/conferences) &amp;amp; Matt Mullenweg (Wordpress)</td>\n",
       "      <td>Google</td>\n",
       "      <td>Positive emotion</td>\n",
       "    </tr>\n",
       "  </tbody>\n",
       "</table>\n",
       "</div>"
      ],
      "text/plain": [
       "                                                                                                                                   tweet_text  \\\n",
       "0              .@mention I have a 3G iPhone. After 3 hrs tweeting at #RISE_Austin, it was dead!  I need to upgrade. Plugin stations at #SXSW.   \n",
       "1  @mention Know about @mention ? Awesome iPad/iPhone app that you'll likely appreciate for its design. Also, they're giving free Ts at #SXSW   \n",
       "2                                                                @mention Can not wait for #iPad 2 also. They should sale them down at #SXSW.   \n",
       "3                                                       @mention I hope this year's festival isn't as crashy as this year's iPhone app. #sxsw   \n",
       "4           @mention great stuff on Fri #SXSW: Marissa Mayer (Google), Tim O'Reilly (tech books/conferences) &amp; Matt Mullenweg (Wordpress)   \n",
       "\n",
       "  emotion_in_tweet_is_directed_at  \\\n",
       "0                          iPhone   \n",
       "1              iPad or iPhone App   \n",
       "2                            iPad   \n",
       "3              iPad or iPhone App   \n",
       "4                          Google   \n",
       "\n",
       "  is_there_an_emotion_directed_at_a_brand_or_product  \n",
       "0                                   Negative emotion  \n",
       "1                                   Positive emotion  \n",
       "2                                   Positive emotion  \n",
       "3                                   Negative emotion  \n",
       "4                                   Positive emotion  "
      ]
     },
     "execution_count": 4,
     "metadata": {},
     "output_type": "execute_result"
    }
   ],
   "source": [
    "pd.set_option('display.max_colwidth', None)\n",
    "df.head()"
   ]
  },
  {
   "cell_type": "markdown",
   "metadata": {},
   "source": [
    "# Clean Tweet Text Data\n",
    "\n",
    "* Change all text to lowercase\n",
    "* Remove urls\n",
    "* Remove mentions\n",
    "* Remove placeholders {link} and \\[video\\]\n",
    "* Remove punctuation that isn't associated with emojis"
   ]
  },
  {
   "cell_type": "code",
   "execution_count": 5,
   "metadata": {
    "ExecuteTime": {
     "end_time": "2020-08-26T17:31:57.614397Z",
     "start_time": "2020-08-26T17:31:57.611106Z"
    }
   },
   "outputs": [],
   "source": [
    "df_clean = df"
   ]
  },
  {
   "cell_type": "code",
   "execution_count": 6,
   "metadata": {
    "ExecuteTime": {
     "end_time": "2020-08-26T17:31:57.643421Z",
     "start_time": "2020-08-26T17:31:57.616495Z"
    }
   },
   "outputs": [],
   "source": [
    "# lower case\n",
    "df_clean.tweet_text = df_clean.tweet_text.str.lower()"
   ]
  },
  {
   "cell_type": "code",
   "execution_count": 7,
   "metadata": {
    "ExecuteTime": {
     "end_time": "2020-08-26T17:31:57.669529Z",
     "start_time": "2020-08-26T17:31:57.645720Z"
    }
   },
   "outputs": [],
   "source": [
    "# remove url links\n",
    "df_clean.tweet_text = df_clean.tweet_text.apply(lambda x: re.sub(r'https?:\\/\\/\\S+', '', x))"
   ]
  },
  {
   "cell_type": "code",
   "execution_count": 8,
   "metadata": {
    "ExecuteTime": {
     "end_time": "2020-08-26T17:31:57.766787Z",
     "start_time": "2020-08-26T17:31:57.673526Z"
    }
   },
   "outputs": [],
   "source": [
    "# remove url/website that didn't use http, is only checking for .com websites \n",
    "# so words that are seperated by a . are not removed\n",
    "df_clean.tweet_text = df_clean.tweet_text.apply(lambda x: re.sub(r\"www\\.[a-z]?\\.?(com)+|[a-z]+\\.(com)\", '', x))"
   ]
  },
  {
   "cell_type": "code",
   "execution_count": 9,
   "metadata": {
    "ExecuteTime": {
     "end_time": "2020-08-26T17:31:57.794113Z",
     "start_time": "2020-08-26T17:31:57.769747Z"
    }
   },
   "outputs": [],
   "source": [
    "# remove @mention\n",
    "df_clean.tweet_text = df_clean.tweet_text.apply(lambda x: re.sub(r'@mention', '', x))"
   ]
  },
  {
   "cell_type": "code",
   "execution_count": 10,
   "metadata": {
    "ExecuteTime": {
     "end_time": "2020-08-26T17:31:57.819923Z",
     "start_time": "2020-08-26T17:31:57.796436Z"
    }
   },
   "outputs": [],
   "source": [
    "# remove {link}\n",
    "df_clean.tweet_text = df_clean.tweet_text.apply(lambda x: re.sub(r'{link}', '', x))"
   ]
  },
  {
   "cell_type": "code",
   "execution_count": 11,
   "metadata": {
    "ExecuteTime": {
     "end_time": "2020-08-26T17:31:57.845847Z",
     "start_time": "2020-08-26T17:31:57.822273Z"
    }
   },
   "outputs": [],
   "source": [
    "# remove &text; html chars\n",
    "df_clean.tweet_text = df_clean.tweet_text.apply(lambda x: re.sub(r'&[a-z]+;', '', x))"
   ]
  },
  {
   "cell_type": "code",
   "execution_count": 12,
   "metadata": {
    "ExecuteTime": {
     "end_time": "2020-08-26T17:31:57.869491Z",
     "start_time": "2020-08-26T17:31:57.848024Z"
    }
   },
   "outputs": [],
   "source": [
    "# [video]\n",
    "df_clean.tweet_text = df_clean.tweet_text.apply(lambda x: re.sub(r\"\\[video\\]\", '', x))"
   ]
  },
  {
   "cell_type": "code",
   "execution_count": 13,
   "metadata": {
    "ExecuteTime": {
     "end_time": "2020-08-26T17:31:57.928534Z",
     "start_time": "2020-08-26T17:31:57.871768Z"
    }
   },
   "outputs": [],
   "source": [
    "# remove all remaining characters that aren't letters, white space, and \n",
    "# the following #:)(/\\='] that are used in emojis or hashtags\n",
    "df_clean.tweet_text = df_clean.tweet_text.apply(lambda x: re.sub(r\"[^a-z\\s\\(\\-:\\)\\\\\\/\\];='#]\", '', x))"
   ]
  },
  {
   "cell_type": "code",
   "execution_count": 14,
   "metadata": {
    "ExecuteTime": {
     "end_time": "2020-08-26T17:31:57.943677Z",
     "start_time": "2020-08-26T17:31:57.930860Z"
    }
   },
   "outputs": [
    {
     "data": {
      "text/html": [
       "<div>\n",
       "<style scoped>\n",
       "    .dataframe tbody tr th:only-of-type {\n",
       "        vertical-align: middle;\n",
       "    }\n",
       "\n",
       "    .dataframe tbody tr th {\n",
       "        vertical-align: top;\n",
       "    }\n",
       "\n",
       "    .dataframe thead th {\n",
       "        text-align: right;\n",
       "    }\n",
       "</style>\n",
       "<table border=\"1\" class=\"dataframe\">\n",
       "  <thead>\n",
       "    <tr style=\"text-align: right;\">\n",
       "      <th></th>\n",
       "      <th>tweet_text</th>\n",
       "      <th>emotion_in_tweet_is_directed_at</th>\n",
       "      <th>is_there_an_emotion_directed_at_a_brand_or_product</th>\n",
       "    </tr>\n",
       "  </thead>\n",
       "  <tbody>\n",
       "    <tr>\n",
       "      <th>90</th>\n",
       "      <td>wonder if  is putting tips from the  api #sxsw #suxsw</td>\n",
       "      <td>NaN</td>\n",
       "      <td>No emotion toward brand or product</td>\n",
       "    </tr>\n",
       "    <tr>\n",
       "      <th>91</th>\n",
       "      <td>xmas rt  shiny new    apps a new  book pop-up ipad  stores #sxsw is christmas for nerds</td>\n",
       "      <td>iPad</td>\n",
       "      <td>Positive emotion</td>\n",
       "    </tr>\n",
       "    <tr>\n",
       "      <th>92</th>\n",
       "      <td>yai rt  new #ubersocial for #iphone now in the app store includes uberguide to #sxsw sponsored by (cont)</td>\n",
       "      <td>iPhone</td>\n",
       "      <td>Positive emotion</td>\n",
       "    </tr>\n",
       "    <tr>\n",
       "      <th>93</th>\n",
       "      <td>yes rt  hey   i've got another gem for you -- free  sxsw  #sxsw</td>\n",
       "      <td>NaN</td>\n",
       "      <td>No emotion toward brand or product</td>\n",
       "    </tr>\n",
       "    <tr>\n",
       "      <th>94</th>\n",
       "      <td>fast fun  future:  of google presenting at #sxsw on search local and mobile</td>\n",
       "      <td>Google</td>\n",
       "      <td>Positive emotion</td>\n",
       "    </tr>\n",
       "    <tr>\n",
       "      <th>95</th>\n",
       "      <td>gsdm  google's industry party tonight  - see u there  #sxsw #austin #welivehere #gsdm</td>\n",
       "      <td>NaN</td>\n",
       "      <td>No emotion toward brand or product</td>\n",
       "    </tr>\n",
       "    <tr>\n",
       "      <th>96</th>\n",
       "      <td>new buzz  google to launch major new social network called circles possibly today  rt  #sxsw</td>\n",
       "      <td>NaN</td>\n",
       "      <td>No emotion toward brand or product</td>\n",
       "    </tr>\n",
       "    <tr>\n",
       "      <th>97</th>\n",
       "      <td>headline: #ipad  is the must-have gadget at #sxsw hmm i could have seen that one coming  #gadget</td>\n",
       "      <td>iPad</td>\n",
       "      <td>Positive emotion</td>\n",
       "    </tr>\n",
       "    <tr>\n",
       "      <th>98</th>\n",
       "      <td>know that dataviz translates to satanic on an iphone i'm just sayin' #sxsw</td>\n",
       "      <td>NaN</td>\n",
       "      <td>Negative emotion</td>\n",
       "    </tr>\n",
       "    <tr>\n",
       "      <th>99</th>\n",
       "      <td>google launched checkins a month ago check ins are ok but check outs are the future #sxsw #bizzy</td>\n",
       "      <td>Google</td>\n",
       "      <td>Positive emotion</td>\n",
       "    </tr>\n",
       "  </tbody>\n",
       "</table>\n",
       "</div>"
      ],
      "text/plain": [
       "                                                                                                   tweet_text  \\\n",
       "90                                                      wonder if  is putting tips from the  api #sxsw #suxsw   \n",
       "91                    xmas rt  shiny new    apps a new  book pop-up ipad  stores #sxsw is christmas for nerds   \n",
       "92  yai rt  new #ubersocial for #iphone now in the app store includes uberguide to #sxsw sponsored by (cont)    \n",
       "93                                            yes rt  hey   i've got another gem for you -- free  sxsw  #sxsw   \n",
       "94                                fast fun  future:  of google presenting at #sxsw on search local and mobile   \n",
       "95                      gsdm  google's industry party tonight  - see u there  #sxsw #austin #welivehere #gsdm   \n",
       "96               new buzz  google to launch major new social network called circles possibly today  rt  #sxsw   \n",
       "97           headline: #ipad  is the must-have gadget at #sxsw hmm i could have seen that one coming  #gadget   \n",
       "98                                 know that dataviz translates to satanic on an iphone i'm just sayin' #sxsw   \n",
       "99           google launched checkins a month ago check ins are ok but check outs are the future #sxsw #bizzy   \n",
       "\n",
       "   emotion_in_tweet_is_directed_at  \\\n",
       "90                             NaN   \n",
       "91                            iPad   \n",
       "92                          iPhone   \n",
       "93                             NaN   \n",
       "94                          Google   \n",
       "95                             NaN   \n",
       "96                             NaN   \n",
       "97                            iPad   \n",
       "98                             NaN   \n",
       "99                          Google   \n",
       "\n",
       "   is_there_an_emotion_directed_at_a_brand_or_product  \n",
       "90                 No emotion toward brand or product  \n",
       "91                                   Positive emotion  \n",
       "92                                   Positive emotion  \n",
       "93                 No emotion toward brand or product  \n",
       "94                                   Positive emotion  \n",
       "95                 No emotion toward brand or product  \n",
       "96                 No emotion toward brand or product  \n",
       "97                                   Positive emotion  \n",
       "98                                   Negative emotion  \n",
       "99                                   Positive emotion  "
      ]
     },
     "execution_count": 14,
     "metadata": {},
     "output_type": "execute_result"
    }
   ],
   "source": [
    "df_clean.iloc[90:100]"
   ]
  },
  {
   "cell_type": "markdown",
   "metadata": {},
   "source": [
    "# Tokenize tweet_text\n",
    "\n",
    "Use the specialized NLTK TweetTokenizer to keep hashtags and emojis "
   ]
  },
  {
   "cell_type": "code",
   "execution_count": 15,
   "metadata": {
    "ExecuteTime": {
     "end_time": "2020-08-26T17:31:57.966509Z",
     "start_time": "2020-08-26T17:31:57.945802Z"
    }
   },
   "outputs": [],
   "source": [
    "tknzr = TweetTokenizer()"
   ]
  },
  {
   "cell_type": "code",
   "execution_count": 16,
   "metadata": {
    "ExecuteTime": {
     "end_time": "2020-08-26T17:31:58.764414Z",
     "start_time": "2020-08-26T17:31:57.968877Z"
    }
   },
   "outputs": [],
   "source": [
    "df_clean['tokens'] = df_clean['tweet_text'].apply(tknzr.tokenize)"
   ]
  },
  {
   "cell_type": "code",
   "execution_count": 17,
   "metadata": {
    "ExecuteTime": {
     "end_time": "2020-08-26T17:31:58.786401Z",
     "start_time": "2020-08-26T17:31:58.766472Z"
    }
   },
   "outputs": [
    {
     "data": {
      "text/html": [
       "<div>\n",
       "<style scoped>\n",
       "    .dataframe tbody tr th:only-of-type {\n",
       "        vertical-align: middle;\n",
       "    }\n",
       "\n",
       "    .dataframe tbody tr th {\n",
       "        vertical-align: top;\n",
       "    }\n",
       "\n",
       "    .dataframe thead th {\n",
       "        text-align: right;\n",
       "    }\n",
       "</style>\n",
       "<table border=\"1\" class=\"dataframe\">\n",
       "  <thead>\n",
       "    <tr style=\"text-align: right;\">\n",
       "      <th></th>\n",
       "      <th>tweet_text</th>\n",
       "      <th>tokens</th>\n",
       "    </tr>\n",
       "  </thead>\n",
       "  <tbody>\n",
       "    <tr>\n",
       "      <th>40</th>\n",
       "      <td>hootsuite - hootsuite mobile for #sxsw  updates for iphone blackberry  android: whether youre getting friend</td>\n",
       "      <td>[hootsuite, -, hootsuite, mobile, for, #sxsw, updates, for, iphone, blackberry, android, :, whether, youre, getting, friend]</td>\n",
       "    </tr>\n",
       "    <tr>\n",
       "      <th>41</th>\n",
       "      <td>hey #sxsw - how long do you think it takes us to make an iphone case answer  using #zazzlesxsw and well make you one</td>\n",
       "      <td>[hey, #sxsw, -, how, long, do, you, think, it, takes, us, to, make, an, iphone, case, answer, using, #zazzlesxsw, and, well, make, you, one]</td>\n",
       "    </tr>\n",
       "    <tr>\n",
       "      <th>42</th>\n",
       "      <td>mashable - the ipad  takes over sxsw  #ipad #sxsw #gadgets</td>\n",
       "      <td>[mashable, -, the, ipad, takes, over, sxsw, #ipad, #sxsw, #gadgets]</td>\n",
       "    </tr>\n",
       "    <tr>\n",
       "      <th>43</th>\n",
       "      <td>for i-pad rt  new #ubersocial for #iphone now in the app store includes uberguide to #sxsw sponsored by</td>\n",
       "      <td>[for, i-pad, rt, new, #ubersocial, for, #iphone, now, in, the, app, store, includes, uberguide, to, #sxsw, sponsored, by]</td>\n",
       "    </tr>\n",
       "    <tr>\n",
       "      <th>44</th>\n",
       "      <td>hand-held hobo: drafthouse launches hobo with a shotgun iphone app #sxsw</td>\n",
       "      <td>[hand-held, hobo, :, drafthouse, launches, hobo, with, a, shotgun, iphone, app, #sxsw]</td>\n",
       "    </tr>\n",
       "    <tr>\n",
       "      <th>45</th>\n",
       "      <td>hooray rt  apple is opening a pop-up store in austin for #sxsw</td>\n",
       "      <td>[hooray, rt, apple, is, opening, a, pop-up, store, in, austin, for, #sxsw]</td>\n",
       "    </tr>\n",
       "    <tr>\n",
       "      <th>46</th>\n",
       "      <td>orly  google set to launch new social network #circles today at #sxsw</td>\n",
       "      <td>[orly, google, set, to, launch, new, social, network, #circles, today, at, #sxsw]</td>\n",
       "    </tr>\n",
       "    <tr>\n",
       "      <th>47</th>\n",
       "      <td>wooooo  apple store downtown austin open til midnight #sxsw</td>\n",
       "      <td>[wooooo, apple, store, downtown, austin, open, til, midnight, #sxsw]</td>\n",
       "    </tr>\n",
       "    <tr>\n",
       "      <th>48</th>\n",
       "      <td>khoi vinh ( says conde nast's headlong rush into ipad publishing was a fundamental misunderstanding of the platform #sxsw</td>\n",
       "      <td>[khoi, vinh, (, says, conde, nast's, headlong, rush, into, ipad, publishing, was, a, fundamental, misunderstanding, of, the, platform, #sxsw]</td>\n",
       "    </tr>\n",
       "    <tr>\n",
       "      <th>49</th>\n",
       "      <td>-- help me forward this doc to all anonymous accounts techies ppl who can help us jam #libya #sxsw</td>\n",
       "      <td>[-, -, help, me, forward, this, doc, to, all, anonymous, accounts, techies, ppl, who, can, help, us, jam, #libya, #sxsw]</td>\n",
       "    </tr>\n",
       "  </tbody>\n",
       "</table>\n",
       "</div>"
      ],
      "text/plain": [
       "                                                                                                                   tweet_text  \\\n",
       "40              hootsuite - hootsuite mobile for #sxsw  updates for iphone blackberry  android: whether youre getting friend    \n",
       "41       hey #sxsw - how long do you think it takes us to make an iphone case answer  using #zazzlesxsw and well make you one   \n",
       "42                                                                mashable - the ipad  takes over sxsw  #ipad #sxsw #gadgets    \n",
       "43                  for i-pad rt  new #ubersocial for #iphone now in the app store includes uberguide to #sxsw sponsored by     \n",
       "44                                                  hand-held hobo: drafthouse launches hobo with a shotgun iphone app #sxsw    \n",
       "45                                                          hooray rt  apple is opening a pop-up store in austin for #sxsw      \n",
       "46                                                      orly  google set to launch new social network #circles today at #sxsw   \n",
       "47                                                                wooooo  apple store downtown austin open til midnight #sxsw   \n",
       "48  khoi vinh ( says conde nast's headlong rush into ipad publishing was a fundamental misunderstanding of the platform #sxsw   \n",
       "49                         -- help me forward this doc to all anonymous accounts techies ppl who can help us jam #libya #sxsw   \n",
       "\n",
       "                                                                                                                                           tokens  \n",
       "40                   [hootsuite, -, hootsuite, mobile, for, #sxsw, updates, for, iphone, blackberry, android, :, whether, youre, getting, friend]  \n",
       "41   [hey, #sxsw, -, how, long, do, you, think, it, takes, us, to, make, an, iphone, case, answer, using, #zazzlesxsw, and, well, make, you, one]  \n",
       "42                                                                            [mashable, -, the, ipad, takes, over, sxsw, #ipad, #sxsw, #gadgets]  \n",
       "43                      [for, i-pad, rt, new, #ubersocial, for, #iphone, now, in, the, app, store, includes, uberguide, to, #sxsw, sponsored, by]  \n",
       "44                                                         [hand-held, hobo, :, drafthouse, launches, hobo, with, a, shotgun, iphone, app, #sxsw]  \n",
       "45                                                                     [hooray, rt, apple, is, opening, a, pop-up, store, in, austin, for, #sxsw]  \n",
       "46                                                              [orly, google, set, to, launch, new, social, network, #circles, today, at, #sxsw]  \n",
       "47                                                                           [wooooo, apple, store, downtown, austin, open, til, midnight, #sxsw]  \n",
       "48  [khoi, vinh, (, says, conde, nast's, headlong, rush, into, ipad, publishing, was, a, fundamental, misunderstanding, of, the, platform, #sxsw]  \n",
       "49                       [-, -, help, me, forward, this, doc, to, all, anonymous, accounts, techies, ppl, who, can, help, us, jam, #libya, #sxsw]  "
      ]
     },
     "execution_count": 17,
     "metadata": {},
     "output_type": "execute_result"
    }
   ],
   "source": [
    "df_clean.iloc[40:50][['tweet_text', 'tokens']]"
   ]
  },
  {
   "cell_type": "markdown",
   "metadata": {},
   "source": [
    "## Remove Punctuation From Tokens\n",
    "\n",
    "The tweet tokenizer combined characters that make common emoticons, but all the other punctuation needs to be removed"
   ]
  },
  {
   "cell_type": "code",
   "execution_count": 18,
   "metadata": {
    "ExecuteTime": {
     "end_time": "2020-08-26T17:31:58.791833Z",
     "start_time": "2020-08-26T17:31:58.788589Z"
    }
   },
   "outputs": [],
   "source": [
    "PUNCUATION_LIST = list(string.punctuation)"
   ]
  },
  {
   "cell_type": "code",
   "execution_count": 19,
   "metadata": {
    "ExecuteTime": {
     "end_time": "2020-08-26T17:31:58.808401Z",
     "start_time": "2020-08-26T17:31:58.793979Z"
    }
   },
   "outputs": [],
   "source": [
    "def remove_punctuation(word_list):\n",
    "    \"\"\"Remove punctuation tokens from a list of tokens\"\"\"\n",
    "    return [w for w in word_list if w not in PUNCUATION_LIST]"
   ]
  },
  {
   "cell_type": "code",
   "execution_count": 20,
   "metadata": {
    "ExecuteTime": {
     "end_time": "2020-08-26T17:31:58.917717Z",
     "start_time": "2020-08-26T17:31:58.810731Z"
    }
   },
   "outputs": [],
   "source": [
    "df_clean['tokens'] = df_clean['tokens'].apply(remove_punctuation)"
   ]
  },
  {
   "cell_type": "markdown",
   "metadata": {},
   "source": [
    "# Create Corpus"
   ]
  },
  {
   "cell_type": "code",
   "execution_count": 34,
   "metadata": {
    "ExecuteTime": {
     "end_time": "2020-08-26T17:43:05.604593Z",
     "start_time": "2020-08-26T17:42:59.307566Z"
    }
   },
   "outputs": [],
   "source": [
    "corpus_tokens = df_clean['tokens'].sum()"
   ]
  },
  {
   "cell_type": "markdown",
   "metadata": {},
   "source": [
    "# Check Frequency Distribution"
   ]
  },
  {
   "cell_type": "code",
   "execution_count": 35,
   "metadata": {
    "ExecuteTime": {
     "end_time": "2020-08-26T17:43:16.985295Z",
     "start_time": "2020-08-26T17:43:16.788955Z"
    }
   },
   "outputs": [],
   "source": [
    "corpus_freq_dist = FreqDist(corpus_tokens)"
   ]
  },
  {
   "cell_type": "code",
   "execution_count": 36,
   "metadata": {
    "ExecuteTime": {
     "end_time": "2020-08-26T17:43:18.454677Z",
     "start_time": "2020-08-26T17:43:18.449772Z"
    }
   },
   "outputs": [
    {
     "data": {
      "text/plain": [
       "9854"
      ]
     },
     "execution_count": 36,
     "metadata": {},
     "output_type": "execute_result"
    }
   ],
   "source": [
    "len(corpus_freq_dist)"
   ]
  },
  {
   "cell_type": "markdown",
   "metadata": {},
   "source": [
    "How many words appear only once?"
   ]
  },
  {
   "cell_type": "code",
   "execution_count": 37,
   "metadata": {
    "ExecuteTime": {
     "end_time": "2020-08-26T17:43:28.694606Z",
     "start_time": "2020-08-26T17:43:28.680392Z"
    }
   },
   "outputs": [],
   "source": [
    "only_one_instance = [w for w in corpus_freq_dist.most_common() if w[1] == 1]"
   ]
  },
  {
   "cell_type": "code",
   "execution_count": 38,
   "metadata": {
    "ExecuteTime": {
     "end_time": "2020-08-26T17:43:30.229046Z",
     "start_time": "2020-08-26T17:43:30.223953Z"
    }
   },
   "outputs": [
    {
     "data": {
      "text/plain": [
       "4308"
      ]
     },
     "execution_count": 38,
     "metadata": {},
     "output_type": "execute_result"
    }
   ],
   "source": [
    "len(only_one_instance)"
   ]
  },
  {
   "cell_type": "markdown",
   "metadata": {},
   "source": [
    "About half the words in the corpus appear only once."
   ]
  },
  {
   "cell_type": "markdown",
   "metadata": {},
   "source": [
    "How many words appear at least 5 times?"
   ]
  },
  {
   "cell_type": "code",
   "execution_count": 39,
   "metadata": {
    "ExecuteTime": {
     "end_time": "2020-08-26T17:43:33.663631Z",
     "start_time": "2020-08-26T17:43:33.653031Z"
    }
   },
   "outputs": [],
   "source": [
    "at_least_five = [w for w in corpus_freq_dist.most_common() if w[1] >= 5]"
   ]
  },
  {
   "cell_type": "code",
   "execution_count": 40,
   "metadata": {
    "ExecuteTime": {
     "end_time": "2020-08-26T17:43:35.186973Z",
     "start_time": "2020-08-26T17:43:35.182056Z"
    }
   },
   "outputs": [
    {
     "data": {
      "text/plain": [
       "2409"
      ]
     },
     "execution_count": 40,
     "metadata": {},
     "output_type": "execute_result"
    }
   ],
   "source": [
    "len(at_least_five)"
   ]
  },
  {
   "cell_type": "code",
   "execution_count": 41,
   "metadata": {
    "ExecuteTime": {
     "end_time": "2020-08-26T17:43:37.239239Z",
     "start_time": "2020-08-26T17:43:37.231512Z"
    },
    "scrolled": true
   },
   "outputs": [
    {
     "data": {
      "text/plain": [
       "[('#sxsw', 8581),\n",
       " ('the', 4223),\n",
       " ('to', 3426),\n",
       " ('at', 2931),\n",
       " ('rt', 2919),\n",
       " ('for', 2409),\n",
       " ('ipad', 2290),\n",
       " ('a', 2167),\n",
       " ('google', 2018),\n",
       " ('in', 1810),\n",
       " ('apple', 1714),\n",
       " ('is', 1609),\n",
       " ('of', 1606),\n",
       " ('and', 1555),\n",
       " ('store', 1382),\n",
       " ('on', 1259),\n",
       " ('iphone', 1226),\n",
       " ('i', 1063),\n",
       " ('new', 1055),\n",
       " ('you', 881),\n",
       " ('an', 837),\n",
       " ('with', 816),\n",
       " ('austin', 804),\n",
       " ('up', 793),\n",
       " ('my', 793),\n",
       " ('app', 762),\n",
       " ('it', 737),\n",
       " ('launch', 623),\n",
       " ('social', 598),\n",
       " ('this', 583),\n",
       " ('today', 552),\n",
       " ('circles', 546),\n",
       " ('just', 537),\n",
       " ('be', 530),\n",
       " ('from', 514),\n",
       " ('not', 511),\n",
       " ('#ipad', 506),\n",
       " ('out', 498),\n",
       " ('are', 493),\n",
       " ('by', 493),\n",
       " ('sxsw', 479),\n",
       " ('that', 452),\n",
       " ('your', 448),\n",
       " ('network', 446),\n",
       " ('android', 437),\n",
       " ('have', 410),\n",
       " ('via', 400),\n",
       " ('will', 393),\n",
       " ('line', 382),\n",
       " ('get', 381)]"
      ]
     },
     "execution_count": 41,
     "metadata": {},
     "output_type": "execute_result"
    }
   ],
   "source": [
    "at_least_five[:50]"
   ]
  },
  {
   "cell_type": "markdown",
   "metadata": {},
   "source": [
    "This group is about a quarter of the corpus and contains many stop words that would typically be removed from text, however since a tweet is highly restricted to a number of characters, 140, each word that a person uses is of potential value for the sentiment analysis.  According to a study down on the removal of stop words from tweets when doing sentiment analysis, removing them degrades classification performance. see [link](https://www.aclweb.org/anthology/L14-1265/)"
   ]
  },
  {
   "cell_type": "markdown",
   "metadata": {},
   "source": [
    "# Save Cleaned and Tokenized Data"
   ]
  },
  {
   "cell_type": "code",
   "execution_count": 47,
   "metadata": {
    "ExecuteTime": {
     "end_time": "2020-08-26T18:04:41.005422Z",
     "start_time": "2020-08-26T18:04:40.828773Z"
    }
   },
   "outputs": [],
   "source": [
    "if SAVE_FILE:\n",
    "    df_clean.to_csv(DATA_FILE_PATH + TOKENIZED_DATA_FILE_NAME, index=False)"
   ]
  }
 ],
 "metadata": {
  "kernelspec": {
   "display_name": "learn-env",
   "language": "python",
   "name": "learn-env"
  },
  "language_info": {
   "codemirror_mode": {
    "name": "ipython",
    "version": 3
   },
   "file_extension": ".py",
   "mimetype": "text/x-python",
   "name": "python",
   "nbconvert_exporter": "python",
   "pygments_lexer": "ipython3",
   "version": "3.6.9"
  },
  "toc": {
   "base_numbering": 1,
   "nav_menu": {},
   "number_sections": true,
   "sideBar": true,
   "skip_h1_title": false,
   "title_cell": "Table of Contents",
   "title_sidebar": "Contents",
   "toc_cell": false,
   "toc_position": {},
   "toc_section_display": true,
   "toc_window_display": true
  },
  "varInspector": {
   "cols": {
    "lenName": 16,
    "lenType": 16,
    "lenVar": 40
   },
   "kernels_config": {
    "python": {
     "delete_cmd_postfix": "",
     "delete_cmd_prefix": "del ",
     "library": "var_list.py",
     "varRefreshCmd": "print(var_dic_list())"
    },
    "r": {
     "delete_cmd_postfix": ") ",
     "delete_cmd_prefix": "rm(",
     "library": "var_list.r",
     "varRefreshCmd": "cat(var_dic_list()) "
    }
   },
   "types_to_exclude": [
    "module",
    "function",
    "builtin_function_or_method",
    "instance",
    "_Feature"
   ],
   "window_display": false
  }
 },
 "nbformat": 4,
 "nbformat_minor": 2
}
