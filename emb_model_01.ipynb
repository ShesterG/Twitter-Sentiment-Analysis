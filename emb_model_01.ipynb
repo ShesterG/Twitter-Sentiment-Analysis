{
 "cells": [
  {
   "cell_type": "markdown",
   "metadata": {},
   "source": [
    "# Word Embeddings Model for Twitter Sentiment Analysis"
   ]
  },
  {
   "cell_type": "markdown",
   "metadata": {},
   "source": [
    "Word Embeddings with 8 nodes in the embedding layer of the Neural Network"
   ]
  },
  {
   "cell_type": "markdown",
   "metadata": {},
   "source": [
    "# Imports and Constants"
   ]
  },
  {
   "cell_type": "code",
   "execution_count": 2,
   "metadata": {
    "ExecuteTime": {
     "end_time": "2020-09-14T16:57:39.777413Z",
     "start_time": "2020-09-14T16:57:39.759094Z"
    }
   },
   "outputs": [],
   "source": [
    "import pandas as pd\n",
    "import numpy as np\n",
    "from sklearn.naive_bayes import MultinomialNB\n",
    "from sklearn.model_selection import train_test_split\n",
    "from sklearn.feature_extraction.text import CountVectorizer\n",
    "from imblearn.pipeline import Pipeline\n",
    "from sklearn.preprocessing import LabelEncoder\n",
    "from sklearn.metrics import classification_report, plot_confusion_matrix\n",
    "import matplotlib.pyplot as plt\n",
    "%matplotlib inline\n",
    "from sklearn.metrics import precision_recall_curve, auc\n",
    "from sklearn.metrics import accuracy_score, f1_score\n",
    "from sklearn.preprocessing import LabelBinarizer\n",
    "import evaluation_functions\n",
    "from sklearn.feature_extraction.text import TfidfTransformer \n",
    "from imblearn.over_sampling import SMOTE\n",
    "import ast\n",
    "from keras.preprocessing.text import Tokenizer\n",
    "from keras.preprocessing.sequence import pad_sequences\n",
    "from keras.utils.np_utils import to_categorical\n",
    "from keras import models\n",
    "from keras import layers\n",
    "from keras import metrics\n",
    "from sklearn.metrics import confusion_matrix\n",
    "import seaborn as sns\n",
    "from keras.callbacks import EarlyStopping\n",
    "from nltk.stem import WordNetLemmatizer\n",
    "from keras.callbacks import ModelCheckpoint\n",
    "from keras.models import load_model\n",
    "import os"
   ]
  },
  {
   "cell_type": "code",
   "execution_count": 3,
   "metadata": {
    "ExecuteTime": {
     "end_time": "2020-09-14T16:57:39.784437Z",
     "start_time": "2020-09-14T16:57:39.780154Z"
    }
   },
   "outputs": [],
   "source": [
    "DATA_FILE_PATH = 'data/crowdflower-brands-and-product-emotions/data/'\n",
    "TOKENIZED_DATA_FILE_NAME = 'tokenized_twitter_data.csv'\n",
    "pd.set_option('display.max_colwidth', None)\n",
    "RANDOM_STATE = 42\n",
    "MODEL_FILE_PATH = 'models/'\n",
    "MODEL_FILE_NAME = 'emb_model_01_best_model.h5'\n",
    "RUN_MODEL = False"
   ]
  },
  {
   "cell_type": "markdown",
   "metadata": {},
   "source": [
    "# Load Data"
   ]
  },
  {
   "cell_type": "code",
   "execution_count": 4,
   "metadata": {
    "ExecuteTime": {
     "end_time": "2020-09-14T16:57:39.988169Z",
     "start_time": "2020-09-14T16:57:39.787320Z"
    }
   },
   "outputs": [],
   "source": [
    "df = pd.read_csv(DATA_FILE_PATH + TOKENIZED_DATA_FILE_NAME)"
   ]
  },
  {
   "cell_type": "code",
   "execution_count": 5,
   "metadata": {
    "ExecuteTime": {
     "end_time": "2020-09-14T16:57:40.088997Z",
     "start_time": "2020-09-14T16:57:39.990986Z"
    },
    "scrolled": true
   },
   "outputs": [
    {
     "data": {
      "text/html": [
       "<div>\n",
       "<style scoped>\n",
       "    .dataframe tbody tr th:only-of-type {\n",
       "        vertical-align: middle;\n",
       "    }\n",
       "\n",
       "    .dataframe tbody tr th {\n",
       "        vertical-align: top;\n",
       "    }\n",
       "\n",
       "    .dataframe thead th {\n",
       "        text-align: right;\n",
       "    }\n",
       "</style>\n",
       "<table border=\"1\" class=\"dataframe\">\n",
       "  <thead>\n",
       "    <tr style=\"text-align: right;\">\n",
       "      <th></th>\n",
       "      <th>tweet_text</th>\n",
       "      <th>emotion_in_tweet_is_directed_at</th>\n",
       "      <th>is_there_an_emotion_directed_at_a_brand_or_product</th>\n",
       "      <th>tokens</th>\n",
       "    </tr>\n",
       "  </thead>\n",
       "  <tbody>\n",
       "    <tr>\n",
       "      <th>0</th>\n",
       "      <td>i have a g iphone after  hrs tweeting at #riseaustin it was dead  i need to upgrade plugin stations at #sxsw</td>\n",
       "      <td>iPhone</td>\n",
       "      <td>Negative emotion</td>\n",
       "      <td>['i', 'have', 'a', 'g', 'iphone', 'after', 'hrs', 'tweeting', 'at', '#riseaustin', 'it', 'was', 'dead', 'i', 'need', 'to', 'upgrade', 'plugin', 'stations', 'at', '#sxsw']</td>\n",
       "    </tr>\n",
       "    <tr>\n",
       "      <th>1</th>\n",
       "      <td>know about   awesome ipad/iphone app that you'll likely appreciate for its design also they're giving free ts at #sxsw</td>\n",
       "      <td>iPad or iPhone App</td>\n",
       "      <td>Positive emotion</td>\n",
       "      <td>['know', 'about', 'awesome', 'ipad', 'iphone', 'app', 'that', \"you'll\", 'likely', 'appreciate', 'for', 'its', 'design', 'also', \"they're\", 'giving', 'free', 'ts', 'at', '#sxsw']</td>\n",
       "    </tr>\n",
       "    <tr>\n",
       "      <th>2</th>\n",
       "      <td>can not wait for #ipad  also they should sale them down at #sxsw</td>\n",
       "      <td>iPad</td>\n",
       "      <td>Positive emotion</td>\n",
       "      <td>['can', 'not', 'wait', 'for', '#ipad', 'also', 'they', 'should', 'sale', 'them', 'down', 'at', '#sxsw']</td>\n",
       "    </tr>\n",
       "    <tr>\n",
       "      <th>3</th>\n",
       "      <td>i hope this year's festival isn't as crashy as this year's iphone app #sxsw</td>\n",
       "      <td>iPad or iPhone App</td>\n",
       "      <td>Negative emotion</td>\n",
       "      <td>['i', 'hope', 'this', \"year's\", 'festival', \"isn't\", 'as', 'crashy', 'as', 'this', \"year's\", 'iphone', 'app', '#sxsw']</td>\n",
       "    </tr>\n",
       "    <tr>\n",
       "      <th>4</th>\n",
       "      <td>great stuff on fri #sxsw: marissa mayer (google) tim o'reilly (tech books/conferences)  matt mullenweg (wordpress)</td>\n",
       "      <td>Google</td>\n",
       "      <td>Positive emotion</td>\n",
       "      <td>['great', 'stuff', 'on', 'fri', '#sxsw', 'marissa', 'mayer', 'google', 'tim', \"o'reilly\", 'tech', 'books', 'conferences', 'matt', 'mullenweg', 'wordpress']</td>\n",
       "    </tr>\n",
       "  </tbody>\n",
       "</table>\n",
       "</div>"
      ],
      "text/plain": [
       "                                                                                                                tweet_text  \\\n",
       "0             i have a g iphone after  hrs tweeting at #riseaustin it was dead  i need to upgrade plugin stations at #sxsw   \n",
       "1   know about   awesome ipad/iphone app that you'll likely appreciate for its design also they're giving free ts at #sxsw   \n",
       "2                                                         can not wait for #ipad  also they should sale them down at #sxsw   \n",
       "3                                              i hope this year's festival isn't as crashy as this year's iphone app #sxsw   \n",
       "4       great stuff on fri #sxsw: marissa mayer (google) tim o'reilly (tech books/conferences)  matt mullenweg (wordpress)   \n",
       "\n",
       "  emotion_in_tweet_is_directed_at  \\\n",
       "0                          iPhone   \n",
       "1              iPad or iPhone App   \n",
       "2                            iPad   \n",
       "3              iPad or iPhone App   \n",
       "4                          Google   \n",
       "\n",
       "  is_there_an_emotion_directed_at_a_brand_or_product  \\\n",
       "0                                   Negative emotion   \n",
       "1                                   Positive emotion   \n",
       "2                                   Positive emotion   \n",
       "3                                   Negative emotion   \n",
       "4                                   Positive emotion   \n",
       "\n",
       "                                                                                                                                                                              tokens  \n",
       "0         ['i', 'have', 'a', 'g', 'iphone', 'after', 'hrs', 'tweeting', 'at', '#riseaustin', 'it', 'was', 'dead', 'i', 'need', 'to', 'upgrade', 'plugin', 'stations', 'at', '#sxsw']  \n",
       "1  ['know', 'about', 'awesome', 'ipad', 'iphone', 'app', 'that', \"you'll\", 'likely', 'appreciate', 'for', 'its', 'design', 'also', \"they're\", 'giving', 'free', 'ts', 'at', '#sxsw']  \n",
       "2                                                                            ['can', 'not', 'wait', 'for', '#ipad', 'also', 'they', 'should', 'sale', 'them', 'down', 'at', '#sxsw']  \n",
       "3                                                             ['i', 'hope', 'this', \"year's\", 'festival', \"isn't\", 'as', 'crashy', 'as', 'this', \"year's\", 'iphone', 'app', '#sxsw']  \n",
       "4                        ['great', 'stuff', 'on', 'fri', '#sxsw', 'marissa', 'mayer', 'google', 'tim', \"o'reilly\", 'tech', 'books', 'conferences', 'matt', 'mullenweg', 'wordpress']  "
      ]
     },
     "execution_count": 5,
     "metadata": {},
     "output_type": "execute_result"
    }
   ],
   "source": [
    "df.head()"
   ]
  },
  {
   "cell_type": "code",
   "execution_count": 6,
   "metadata": {
    "ExecuteTime": {
     "end_time": "2020-09-14T16:57:40.535929Z",
     "start_time": "2020-09-14T16:57:40.091267Z"
    }
   },
   "outputs": [],
   "source": [
    "# convert list of strings represented as a string to a list of strings\n",
    "df.tokens = df.tokens.map(ast.literal_eval)"
   ]
  },
  {
   "cell_type": "code",
   "execution_count": 7,
   "metadata": {
    "ExecuteTime": {
     "end_time": "2020-09-14T16:57:40.542397Z",
     "start_time": "2020-09-14T16:57:40.538139Z"
    }
   },
   "outputs": [],
   "source": [
    "def lemmatize(token_list):\n",
    "    \"\"\"return a lemmatized version of the passed in token list\"\"\"\n",
    "    wnl = WordNetLemmatizer()\n",
    "    return [wnl.lemmatize(token) for token in token_list]"
   ]
  },
  {
   "cell_type": "code",
   "execution_count": 8,
   "metadata": {
    "ExecuteTime": {
     "end_time": "2020-09-14T16:57:44.962998Z",
     "start_time": "2020-09-14T16:57:40.544558Z"
    }
   },
   "outputs": [],
   "source": [
    "df['tokens_lemma'] = df.tokens.map(lemmatize)"
   ]
  },
  {
   "cell_type": "code",
   "execution_count": 9,
   "metadata": {
    "ExecuteTime": {
     "end_time": "2020-09-14T16:57:44.980364Z",
     "start_time": "2020-09-14T16:57:44.967471Z"
    }
   },
   "outputs": [],
   "source": [
    "# convert list of strings (tokens) to single string for use with Keras Tokenizer\n",
    "df['tokens_text'] = df.tokens_lemma.map(' '.join)"
   ]
  },
  {
   "cell_type": "code",
   "execution_count": 10,
   "metadata": {
    "ExecuteTime": {
     "end_time": "2020-09-14T16:57:44.996873Z",
     "start_time": "2020-09-14T16:57:44.983605Z"
    }
   },
   "outputs": [],
   "source": [
    "data = df[['tokens_text', 'is_there_an_emotion_directed_at_a_brand_or_product']]"
   ]
  },
  {
   "cell_type": "code",
   "execution_count": 11,
   "metadata": {
    "ExecuteTime": {
     "end_time": "2020-09-14T16:57:45.020013Z",
     "start_time": "2020-09-14T16:57:44.999127Z"
    }
   },
   "outputs": [
    {
     "data": {
      "text/html": [
       "<div>\n",
       "<style scoped>\n",
       "    .dataframe tbody tr th:only-of-type {\n",
       "        vertical-align: middle;\n",
       "    }\n",
       "\n",
       "    .dataframe tbody tr th {\n",
       "        vertical-align: top;\n",
       "    }\n",
       "\n",
       "    .dataframe thead th {\n",
       "        text-align: right;\n",
       "    }\n",
       "</style>\n",
       "<table border=\"1\" class=\"dataframe\">\n",
       "  <thead>\n",
       "    <tr style=\"text-align: right;\">\n",
       "      <th></th>\n",
       "      <th>tokens_text</th>\n",
       "      <th>is_there_an_emotion_directed_at_a_brand_or_product</th>\n",
       "    </tr>\n",
       "  </thead>\n",
       "  <tbody>\n",
       "    <tr>\n",
       "      <th>0</th>\n",
       "      <td>i have a g iphone after hr tweeting at #riseaustin it wa dead i need to upgrade plugin station at #sxsw</td>\n",
       "      <td>Negative emotion</td>\n",
       "    </tr>\n",
       "    <tr>\n",
       "      <th>1</th>\n",
       "      <td>know about awesome ipad iphone app that you'll likely appreciate for it design also they're giving free t at #sxsw</td>\n",
       "      <td>Positive emotion</td>\n",
       "    </tr>\n",
       "    <tr>\n",
       "      <th>2</th>\n",
       "      <td>can not wait for #ipad also they should sale them down at #sxsw</td>\n",
       "      <td>Positive emotion</td>\n",
       "    </tr>\n",
       "    <tr>\n",
       "      <th>3</th>\n",
       "      <td>i hope this year's festival isn't a crashy a this year's iphone app #sxsw</td>\n",
       "      <td>Negative emotion</td>\n",
       "    </tr>\n",
       "    <tr>\n",
       "      <th>4</th>\n",
       "      <td>great stuff on fri #sxsw marissa mayer google tim o'reilly tech book conference matt mullenweg wordpress</td>\n",
       "      <td>Positive emotion</td>\n",
       "    </tr>\n",
       "  </tbody>\n",
       "</table>\n",
       "</div>"
      ],
      "text/plain": [
       "                                                                                                          tokens_text  \\\n",
       "0             i have a g iphone after hr tweeting at #riseaustin it wa dead i need to upgrade plugin station at #sxsw   \n",
       "1  know about awesome ipad iphone app that you'll likely appreciate for it design also they're giving free t at #sxsw   \n",
       "2                                                     can not wait for #ipad also they should sale them down at #sxsw   \n",
       "3                                           i hope this year's festival isn't a crashy a this year's iphone app #sxsw   \n",
       "4            great stuff on fri #sxsw marissa mayer google tim o'reilly tech book conference matt mullenweg wordpress   \n",
       "\n",
       "  is_there_an_emotion_directed_at_a_brand_or_product  \n",
       "0                                   Negative emotion  \n",
       "1                                   Positive emotion  \n",
       "2                                   Positive emotion  \n",
       "3                                   Negative emotion  \n",
       "4                                   Positive emotion  "
      ]
     },
     "execution_count": 11,
     "metadata": {},
     "output_type": "execute_result"
    }
   ],
   "source": [
    "data.head()"
   ]
  },
  {
   "cell_type": "markdown",
   "metadata": {},
   "source": [
    "# Split Data"
   ]
  },
  {
   "cell_type": "code",
   "execution_count": 12,
   "metadata": {
    "ExecuteTime": {
     "end_time": "2020-09-14T16:57:45.075612Z",
     "start_time": "2020-09-14T16:57:45.022242Z"
    }
   },
   "outputs": [],
   "source": [
    "X_train, X_test, y_train, y_test = train_test_split(data['tokens_text'], \n",
    "                                                    data['is_there_an_emotion_directed_at_a_brand_or_product'],\n",
    "                                                   test_size = 0.2,\n",
    "                                                   random_state = RANDOM_STATE,\n",
    "                                                   stratify = data['is_there_an_emotion_directed_at_a_brand_or_product'])"
   ]
  },
  {
   "cell_type": "code",
   "execution_count": 13,
   "metadata": {
    "ExecuteTime": {
     "end_time": "2020-09-14T16:57:45.082853Z",
     "start_time": "2020-09-14T16:57:45.077897Z"
    }
   },
   "outputs": [
    {
     "data": {
      "text/plain": [
       "(6855,)"
      ]
     },
     "execution_count": 13,
     "metadata": {},
     "output_type": "execute_result"
    }
   ],
   "source": [
    "X_train.shape"
   ]
  },
  {
   "cell_type": "code",
   "execution_count": 14,
   "metadata": {
    "ExecuteTime": {
     "end_time": "2020-09-14T16:57:45.090627Z",
     "start_time": "2020-09-14T16:57:45.084988Z"
    }
   },
   "outputs": [
    {
     "data": {
      "text/plain": [
       "(1714,)"
      ]
     },
     "execution_count": 14,
     "metadata": {},
     "output_type": "execute_result"
    }
   ],
   "source": [
    "X_test.shape"
   ]
  },
  {
   "cell_type": "markdown",
   "metadata": {},
   "source": [
    "# Convert Words into Integers"
   ]
  },
  {
   "cell_type": "code",
   "execution_count": 15,
   "metadata": {
    "ExecuteTime": {
     "end_time": "2020-09-14T16:57:45.095891Z",
     "start_time": "2020-09-14T16:57:45.092598Z"
    }
   },
   "outputs": [],
   "source": [
    "# Set Max number of tokens per tweet\n",
    "MAX_TOKENS = 30\n",
    "# Set Max number of words/tokens in the corpus\n",
    "NUM_WORDS = 5000"
   ]
  },
  {
   "cell_type": "code",
   "execution_count": 16,
   "metadata": {
    "ExecuteTime": {
     "end_time": "2020-09-14T16:57:45.101747Z",
     "start_time": "2020-09-14T16:57:45.098310Z"
    }
   },
   "outputs": [],
   "source": [
    "tokenizer = Tokenizer(num_words=NUM_WORDS, filters='', lower=False, split=' ')"
   ]
  },
  {
   "cell_type": "code",
   "execution_count": 17,
   "metadata": {
    "ExecuteTime": {
     "end_time": "2020-09-14T16:57:45.290885Z",
     "start_time": "2020-09-14T16:57:45.103950Z"
    }
   },
   "outputs": [],
   "source": [
    "tokenizer.fit_on_texts(X_train)"
   ]
  },
  {
   "cell_type": "code",
   "execution_count": 18,
   "metadata": {
    "ExecuteTime": {
     "end_time": "2020-09-14T16:57:45.460048Z",
     "start_time": "2020-09-14T16:57:45.293015Z"
    }
   },
   "outputs": [],
   "source": [
    "X_train_seq = tokenizer.texts_to_sequences(X_train)\n",
    "X_test_seq = tokenizer.texts_to_sequences(X_test)"
   ]
  },
  {
   "cell_type": "code",
   "execution_count": 19,
   "metadata": {
    "ExecuteTime": {
     "end_time": "2020-09-14T16:57:45.659581Z",
     "start_time": "2020-09-14T16:57:45.462306Z"
    }
   },
   "outputs": [],
   "source": [
    "X_train_seq_pad = pad_sequences(X_train_seq)\n",
    "X_test_seq_pad = pad_sequences(X_test_seq)"
   ]
  },
  {
   "cell_type": "markdown",
   "metadata": {},
   "source": [
    "# Encode Labels"
   ]
  },
  {
   "cell_type": "code",
   "execution_count": 20,
   "metadata": {
    "ExecuteTime": {
     "end_time": "2020-09-14T16:57:45.664903Z",
     "start_time": "2020-09-14T16:57:45.661817Z"
    }
   },
   "outputs": [],
   "source": [
    "le = LabelEncoder()"
   ]
  },
  {
   "cell_type": "code",
   "execution_count": 21,
   "metadata": {
    "ExecuteTime": {
     "end_time": "2020-09-14T16:57:45.672207Z",
     "start_time": "2020-09-14T16:57:45.667159Z"
    }
   },
   "outputs": [],
   "source": [
    "y_train_enc = le.fit_transform(y_train)"
   ]
  },
  {
   "cell_type": "code",
   "execution_count": 22,
   "metadata": {
    "ExecuteTime": {
     "end_time": "2020-09-14T16:57:45.695736Z",
     "start_time": "2020-09-14T16:57:45.674361Z"
    }
   },
   "outputs": [],
   "source": [
    "y_test_enc = le.transform(y_test)"
   ]
  },
  {
   "cell_type": "code",
   "execution_count": 23,
   "metadata": {
    "ExecuteTime": {
     "end_time": "2020-09-14T16:57:45.702475Z",
     "start_time": "2020-09-14T16:57:45.698153Z"
    }
   },
   "outputs": [],
   "source": [
    "y_train_oh = to_categorical(y_train_enc)\n",
    "y_test_oh = to_categorical(y_test_enc)"
   ]
  },
  {
   "cell_type": "markdown",
   "metadata": {},
   "source": [
    "# Create Validation Set"
   ]
  },
  {
   "cell_type": "code",
   "execution_count": 24,
   "metadata": {
    "ExecuteTime": {
     "end_time": "2020-09-14T16:57:45.716032Z",
     "start_time": "2020-09-14T16:57:45.709904Z"
    }
   },
   "outputs": [],
   "source": [
    "X_train_emb, X_val_emb, y_train_emb, y_val_emb = train_test_split(X_train_seq_pad, \n",
    "                                                                  y_train_oh, \n",
    "                                                                  test_size=0.1, \n",
    "                                                                  random_state=RANDOM_STATE)"
   ]
  },
  {
   "cell_type": "markdown",
   "metadata": {},
   "source": [
    "# Setup Model"
   ]
  },
  {
   "cell_type": "code",
   "execution_count": 25,
   "metadata": {
    "ExecuteTime": {
     "end_time": "2020-09-14T16:57:45.724540Z",
     "start_time": "2020-09-14T16:57:45.720649Z"
    }
   },
   "outputs": [],
   "source": [
    "emb_model = models.Sequential()"
   ]
  },
  {
   "cell_type": "code",
   "execution_count": 26,
   "metadata": {
    "ExecuteTime": {
     "end_time": "2020-09-14T16:57:45.799470Z",
     "start_time": "2020-09-14T16:57:45.726844Z"
    }
   },
   "outputs": [],
   "source": [
    "emb_model.add(layers.Embedding(input_dim=NUM_WORDS, output_dim=8, input_length=MAX_TOKENS))"
   ]
  },
  {
   "cell_type": "code",
   "execution_count": 27,
   "metadata": {
    "ExecuteTime": {
     "end_time": "2020-09-14T16:57:45.814472Z",
     "start_time": "2020-09-14T16:57:45.801814Z"
    }
   },
   "outputs": [],
   "source": [
    "emb_model.add(layers.Flatten())"
   ]
  },
  {
   "cell_type": "code",
   "execution_count": 28,
   "metadata": {
    "ExecuteTime": {
     "end_time": "2020-09-14T16:57:45.834805Z",
     "start_time": "2020-09-14T16:57:45.816930Z"
    }
   },
   "outputs": [],
   "source": [
    "emb_model.add(layers.Dense(3, activation='softmax'))"
   ]
  },
  {
   "cell_type": "code",
   "execution_count": 29,
   "metadata": {
    "ExecuteTime": {
     "end_time": "2020-09-14T16:57:45.841281Z",
     "start_time": "2020-09-14T16:57:45.837389Z"
    }
   },
   "outputs": [],
   "source": [
    "early_stopping = EarlyStopping(monitor='val_loss', mode='min', verbose=1, patience=5)"
   ]
  },
  {
   "cell_type": "code",
   "execution_count": 30,
   "metadata": {
    "ExecuteTime": {
     "end_time": "2020-09-14T16:57:45.848181Z",
     "start_time": "2020-09-14T16:57:45.843758Z"
    }
   },
   "outputs": [],
   "source": [
    "save_best = ModelCheckpoint(os.path.join(MODEL_FILE_PATH,MODEL_FILE_NAME), \n",
    "                     monitor='val_categorical_accuracy', \n",
    "                     mode='max', \n",
    "                     verbose=1, \n",
    "                     save_best_only=True)"
   ]
  },
  {
   "cell_type": "code",
   "execution_count": 31,
   "metadata": {
    "ExecuteTime": {
     "end_time": "2020-09-14T16:57:45.895435Z",
     "start_time": "2020-09-14T16:57:45.850846Z"
    }
   },
   "outputs": [],
   "source": [
    "emb_model.compile(loss='categorical_crossentropy', \n",
    "                  optimizer='nadam', \n",
    "                  metrics=[metrics.categorical_accuracy])"
   ]
  },
  {
   "cell_type": "code",
   "execution_count": 32,
   "metadata": {
    "ExecuteTime": {
     "end_time": "2020-09-02T18:17:35.493947Z",
     "start_time": "2020-09-02T18:17:32.368777Z"
    }
   },
   "outputs": [
    {
     "name": "stdout",
     "output_type": "stream",
     "text": [
      "Train on 6169 samples, validate on 686 samples\n",
      "Epoch 1/20\n",
      "6169/6169 [==============================] - 0s 81us/step - loss: 0.8580 - categorical_accuracy: 0.6033 - val_loss: 0.8548 - val_categorical_accuracy: 0.5714\n",
      "\n",
      "Epoch 00001: val_categorical_accuracy improved from -inf to 0.57143, saving model to models/emb_model_01_best_model.h5\n",
      "Epoch 2/20\n",
      "6169/6169 [==============================] - 0s 57us/step - loss: 0.7237 - categorical_accuracy: 0.6751 - val_loss: 0.8181 - val_categorical_accuracy: 0.5977\n",
      "\n",
      "Epoch 00002: val_categorical_accuracy improved from 0.57143 to 0.59767, saving model to models/emb_model_01_best_model.h5\n",
      "Epoch 3/20\n",
      "6169/6169 [==============================] - 0s 57us/step - loss: 0.5660 - categorical_accuracy: 0.7833 - val_loss: 0.8219 - val_categorical_accuracy: 0.5933\n",
      "\n",
      "Epoch 00003: val_categorical_accuracy did not improve from 0.59767\n",
      "Epoch 4/20\n",
      "6169/6169 [==============================] - 0s 57us/step - loss: 0.4318 - categorical_accuracy: 0.8400 - val_loss: 0.8547 - val_categorical_accuracy: 0.6020\n",
      "\n",
      "Epoch 00004: val_categorical_accuracy improved from 0.59767 to 0.60204, saving model to models/emb_model_01_best_model.h5\n",
      "Epoch 5/20\n",
      "6169/6169 [==============================] - 0s 57us/step - loss: 0.3379 - categorical_accuracy: 0.8820 - val_loss: 0.9062 - val_categorical_accuracy: 0.5962\n",
      "\n",
      "Epoch 00005: val_categorical_accuracy did not improve from 0.60204\n",
      "Epoch 6/20\n",
      "6169/6169 [==============================] - 0s 58us/step - loss: 0.2736 - categorical_accuracy: 0.9040 - val_loss: 0.9661 - val_categorical_accuracy: 0.5991\n",
      "\n",
      "Epoch 00006: val_categorical_accuracy did not improve from 0.60204\n",
      "Epoch 7/20\n",
      "6169/6169 [==============================] - 0s 58us/step - loss: 0.2279 - categorical_accuracy: 0.9211 - val_loss: 1.0334 - val_categorical_accuracy: 0.6079\n",
      "\n",
      "Epoch 00007: val_categorical_accuracy improved from 0.60204 to 0.60787, saving model to models/emb_model_01_best_model.h5\n",
      "Epoch 00007: early stopping\n"
     ]
    }
   ],
   "source": [
    "if RUN_MODEL = True\n",
    "    emb_model_results = emb_model.fit(X_train_emb, \n",
    "                                      y_train_emb, \n",
    "                                      validation_data=(X_val_emb, y_val_emb), \n",
    "                                      epochs=20,\n",
    "                                      callbacks=[early_stopping, save_best])"
   ]
  },
  {
   "cell_type": "code",
   "execution_count": 33,
   "metadata": {
    "ExecuteTime": {
     "end_time": "2020-09-02T18:17:35.505130Z",
     "start_time": "2020-09-02T18:17:35.496616Z"
    }
   },
   "outputs": [],
   "source": [
    "def visualize_training_results(results):\n",
    "    history = results.history\n",
    "    plt.figure()\n",
    "    plt.plot(history['val_loss'])\n",
    "    plt.plot(history['loss'])\n",
    "    plt.legend(['val_loss', 'loss'])\n",
    "    plt.title('Loss')\n",
    "    plt.xlabel('Epochs')\n",
    "    plt.ylabel('Loss')\n",
    "    plt.show()\n",
    "    \n",
    "    plt.figure()\n",
    "    plt.plot(history['val_categorical_accuracy'])\n",
    "    plt.plot(history['categorical_accuracy'])\n",
    "    plt.legend(['val_categorical_accuracy', 'categorical_accuracy'])\n",
    "    plt.title('Accuracy')\n",
    "    plt.xlabel('Epochs')\n",
    "    plt.ylabel('Accuracy')\n",
    "    plt.show()"
   ]
  },
  {
   "cell_type": "code",
   "execution_count": 34,
   "metadata": {
    "ExecuteTime": {
     "end_time": "2020-09-02T18:17:36.027092Z",
     "start_time": "2020-09-02T18:17:35.507597Z"
    }
   },
   "outputs": [
    {
     "data": {
      "image/png": "[encoded data removed]",
      "text/plain": [
       "<Figure size 432x288 with 1 Axes>"
      ]
     },
     "metadata": {
      "needs_background": "light"
     },
     "output_type": "display_data"
    },
    {
     "data": {
      "image/png": "[encoded data removed]",
      "text/plain": [
       "<Figure size 432x288 with 1 Axes>"
      ]
     },
     "metadata": {
      "needs_background": "light"
     },
     "output_type": "display_data"
    }
   ],
   "source": [
    "visualize_training_results(emb_model_results)"
   ]
  },
  {
   "cell_type": "markdown",
   "metadata": {},
   "source": [
    "# Load Saved Model"
   ]
  },
  {
   "cell_type": "code",
   "execution_count": 35,
   "metadata": {
    "ExecuteTime": {
     "end_time": "2020-09-02T18:17:36.532683Z",
     "start_time": "2020-09-02T18:17:36.029327Z"
    }
   },
   "outputs": [],
   "source": [
    "saved_model = load_model(MODEL_FILE_PATH+MODEL_FILE_NAME)"
   ]
  },
  {
   "cell_type": "markdown",
   "metadata": {},
   "source": [
    "# Evaluate Model on Test Data"
   ]
  },
  {
   "cell_type": "code",
   "execution_count": 36,
   "metadata": {
    "ExecuteTime": {
     "end_time": "2020-09-02T18:17:36.594470Z",
     "start_time": "2020-09-02T18:17:36.534784Z"
    }
   },
   "outputs": [],
   "source": [
    "y_hat = saved_model.predict(X_test_seq_pad)"
   ]
  },
  {
   "cell_type": "code",
   "execution_count": 37,
   "metadata": {
    "ExecuteTime": {
     "end_time": "2020-09-02T18:17:36.676827Z",
     "start_time": "2020-09-02T18:17:36.596540Z"
    }
   },
   "outputs": [
    {
     "name": "stdout",
     "output_type": "stream",
     "text": [
      "1714/1714 [==============================] - 0s 44us/step\n"
     ]
    }
   ],
   "source": [
    "results = saved_model.evaluate(X_test_seq_pad, y_test_oh)"
   ]
  },
  {
   "cell_type": "code",
   "execution_count": 38,
   "metadata": {
    "ExecuteTime": {
     "end_time": "2020-09-02T18:17:36.684174Z",
     "start_time": "2020-09-02T18:17:36.679060Z"
    }
   },
   "outputs": [
    {
     "data": {
      "text/plain": [
       "[0.9000771771790406, 0.6610268380149521]"
      ]
     },
     "execution_count": 38,
     "metadata": {},
     "output_type": "execute_result"
    }
   ],
   "source": [
    "results"
   ]
  },
  {
   "cell_type": "code",
   "execution_count": 39,
   "metadata": {
    "ExecuteTime": {
     "end_time": "2020-09-02T18:17:36.690563Z",
     "start_time": "2020-09-02T18:17:36.686425Z"
    }
   },
   "outputs": [
    {
     "name": "stdout",
     "output_type": "stream",
     "text": [
      "Test Accuracy = 0.661\n"
     ]
    }
   ],
   "source": [
    "print(f'Test Accuracy = {round(results[1], 4)}')"
   ]
  },
  {
   "cell_type": "code",
   "execution_count": 40,
   "metadata": {
    "ExecuteTime": {
     "end_time": "2020-09-02T18:17:36.707069Z",
     "start_time": "2020-09-02T18:17:36.692842Z"
    }
   },
   "outputs": [
    {
     "name": "stdout",
     "output_type": "stream",
     "text": [
      "                                    precision    recall  f1-score   support\n",
      "\n",
      "                  Negative emotion       0.52      0.25      0.34       109\n",
      "No emotion toward brand or product       0.71      0.79      0.75      1031\n",
      "                  Positive emotion       0.57      0.51      0.54       574\n",
      "\n",
      "                          accuracy                           0.66      1714\n",
      "                         macro avg       0.60      0.52      0.54      1714\n",
      "                      weighted avg       0.65      0.66      0.65      1714\n",
      "\n"
     ]
    }
   ],
   "source": [
    "print(classification_report(y_test_enc, np.argmax(y_hat, axis=1), target_names=le.classes_))"
   ]
  },
  {
   "cell_type": "code",
   "execution_count": 41,
   "metadata": {
    "ExecuteTime": {
     "end_time": "2020-09-02T18:17:36.716836Z",
     "start_time": "2020-09-02T18:17:36.709467Z"
    }
   },
   "outputs": [],
   "source": [
    "cm = confusion_matrix(y_test_enc, np.argmax(y_hat, axis=1))"
   ]
  },
  {
   "cell_type": "code",
   "execution_count": 42,
   "metadata": {
    "ExecuteTime": {
     "end_time": "2020-09-02T18:17:37.016917Z",
     "start_time": "2020-09-02T18:17:36.719078Z"
    }
   },
   "outputs": [
    {
     "data": {
      "image/png": "[encoded data removed]",
      "text/plain": [
       "<Figure size 648x432 with 2 Axes>"
      ]
     },
     "metadata": {
      "needs_background": "light"
     },
     "output_type": "display_data"
    }
   ],
   "source": [
    "f, ax = plt.subplots(figsize=(9, 6))\n",
    "sns.heatmap(cm, \n",
    "            annot=True, \n",
    "            xticklabels=le.classes_, \n",
    "            yticklabels=le.classes_,\n",
    "            fmt='d',\n",
    "            ax=ax)\n",
    "# fix for mpl bug that cuts off top/bottom of seaborn viz\n",
    "b, t = plt.ylim() # discover the values for bottom and top\n",
    "b += 0.5 # Add 0.5 to the bottom\n",
    "t -= 0.5 # Subtract 0.5 from the top\n",
    "plt.ylim(b, t) # update the ylim(bottom, top) values\n",
    "plt.show()"
   ]
  },
  {
   "cell_type": "markdown",
   "metadata": {},
   "source": [
    "# Summary"
   ]
  },
  {
   "cell_type": "markdown",
   "metadata": {},
   "source": [
    "\n"
   ]
  },
  {
   "cell_type": "markdown",
   "metadata": {},
   "source": [
    "The model does a poor job identifying the minority classes of negative and positive which have recall scores of 0.25 and 0.51 respectively.  It still have a high accuracy of 0.66 because it does such a good job correctly identifying the majority class of neutral which has a recall score of 0.79."
   ]
  },
  {
   "cell_type": "code",
   "execution_count": null,
   "metadata": {},
   "outputs": [],
   "source": []
  }
 ],
 "metadata": {
  "kernelspec": {
   "display_name": "learn-env",
   "language": "python",
   "name": "learn-env"
  },
  "language_info": {
   "codemirror_mode": {
    "name": "ipython",
    "version": 3
   },
   "file_extension": ".py",
   "mimetype": "text/x-python",
   "name": "python",
   "nbconvert_exporter": "python",
   "pygments_lexer": "ipython3",
   "version": "3.6.9"
  },
  "toc": {
   "base_numbering": 1,
   "nav_menu": {},
   "number_sections": true,
   "sideBar": true,
   "skip_h1_title": false,
   "title_cell": "Table of Contents",
   "title_sidebar": "Contents",
   "toc_cell": false,
   "toc_position": {},
   "toc_section_display": true,
   "toc_window_display": true
  },
  "varInspector": {
   "cols": {
    "lenName": 16,
    "lenType": 16,
    "lenVar": 40
   },
   "kernels_config": {
    "python": {
     "delete_cmd_postfix": "",
     "delete_cmd_prefix": "del ",
     "library": "var_list.py",
     "varRefreshCmd": "print(var_dic_list())"
    },
    "r": {
     "delete_cmd_postfix": ") ",
     "delete_cmd_prefix": "rm(",
     "library": "var_list.r",
     "varRefreshCmd": "cat(var_dic_list()) "
    }
   },
   "types_to_exclude": [
    "module",
    "function",
    "builtin_function_or_method",
    "instance",
    "_Feature"
   ],
   "window_display": false
  }
 },
 "nbformat": 4,
 "nbformat_minor": 2
}
