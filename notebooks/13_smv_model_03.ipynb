{
  "nbformat": 4,
  "nbformat_minor": 0,
  "metadata": {
    "kernelspec": {
      "display_name": "learn-env",
      "language": "python",
      "name": "learn-env"
    },
    "language_info": {
      "codemirror_mode": {
        "name": "ipython",
        "version": 3
      },
      "file_extension": ".py",
      "mimetype": "text/x-python",
      "name": "python",
      "nbconvert_exporter": "python",
      "pygments_lexer": "ipython3",
      "version": "3.6.9"
    },
    "toc": {
      "base_numbering": 1,
      "nav_menu": {},
      "number_sections": true,
      "sideBar": true,
      "skip_h1_title": false,
      "title_cell": "Table of Contents",
      "title_sidebar": "Contents",
      "toc_cell": false,
      "toc_position": {},
      "toc_section_display": true,
      "toc_window_display": false
    },
    "varInspector": {
      "cols": {
        "lenName": 16,
        "lenType": 16,
        "lenVar": 40
      },
      "kernels_config": {
        "python": {
          "delete_cmd_postfix": "",
          "delete_cmd_prefix": "del ",
          "library": "var_list.py",
          "varRefreshCmd": "print(var_dic_list())"
        },
        "r": {
          "delete_cmd_postfix": ") ",
          "delete_cmd_prefix": "rm(",
          "library": "var_list.r",
          "varRefreshCmd": "cat(var_dic_list()) "
        }
      },
      "types_to_exclude": [
        "module",
        "function",
        "builtin_function_or_method",
        "instance",
        "_Feature"
      ],
      "window_display": false
    },
    "colab": {
      "name": "13_smv_model_03.ipynb",
      "provenance": [],
      "include_colab_link": true
    }
  },
  "cells": [
    {
      "cell_type": "markdown",
      "metadata": {
        "id": "view-in-github",
        "colab_type": "text"
      },
      "source": [
        "<a href=\"https://colab.research.google.com/github/ShesterG/Twitter-Sentiment-Analysis/blob/master/notebooks/13_smv_model_03.ipynb\" target=\"_parent\"><img src=\"https://colab.research.google.com/assets/colab-badge.svg\" alt=\"Open In Colab\"/></a>"
      ]
    },
    {
      "cell_type": "markdown",
      "metadata": {
        "id": "hKnvms5-Wada"
      },
      "source": [
        "# SVM with Smote Model for Twitter Sentiment Analysis"
      ]
    },
    {
      "cell_type": "markdown",
      "metadata": {
        "id": "eeTvwxlJWadc"
      },
      "source": [
        "This model will use SVM with tf/idf to classify the tweets.\n",
        "\n",
        "It will reduce the dimensionality of the feature set by adjusting the minimum document frequency of words, in an attempt to get better results.\n",
        "\n",
        "It will use SMOTE to synthesize some data to balance the classes.\n",
        "\n",
        "It will use Lemmatization to reduce dimensionality"
      ]
    },
    {
      "cell_type": "markdown",
      "metadata": {
        "id": "q_667zc_Wadd"
      },
      "source": [
        "# Imports and Constants"
      ]
    },
    {
      "cell_type": "code",
      "metadata": {
        "id": "fu7eIfH5W-jb",
        "colab": {
          "base_uri": "https://localhost:8080/"
        },
        "outputId": "b81b7ac6-411a-47af-e843-6c4afeef546f"
      },
      "source": [
        "from google.colab import drive\n",
        "drive.mount(\"/content/drive\", force_remount=True)"
      ],
      "execution_count": 46,
      "outputs": [
        {
          "output_type": "stream",
          "text": [
            "Mounted at /content/drive\n"
          ],
          "name": "stdout"
        }
      ]
    },
    {
      "cell_type": "code",
      "metadata": {
        "ExecuteTime": {
          "end_time": "2020-09-02T20:15:44.720344Z",
          "start_time": "2020-09-02T20:15:43.612689Z"
        },
        "id": "e_PK2CC0Wadd"
      },
      "source": [
        "import pandas as pd\n",
        "import numpy as np\n",
        "from sklearn.naive_bayes import MultinomialNB\n",
        "from sklearn.svm import SVC\n",
        "\n",
        "from sklearn.model_selection import train_test_split\n",
        "from sklearn.feature_extraction.text import CountVectorizer\n",
        "\n",
        "from sklearn.preprocessing import LabelEncoder\n",
        "from sklearn.metrics import classification_report, plot_confusion_matrix\n",
        "import matplotlib.pyplot as plt\n",
        "%matplotlib inline\n",
        "from sklearn.metrics import precision_recall_curve, auc\n",
        "from sklearn.metrics import accuracy_score, f1_score, recall_score\n",
        "from sklearn.preprocessing import LabelBinarizer\n",
        "#import evaluation_functions\n",
        "from sklearn.metrics import confusion_matrix\n",
        "from sklearn.metrics import classification_report\n",
        "from sklearn.feature_extraction.text import TfidfTransformer\n",
        "from sklearn.linear_model import SGDClassifier\n",
        "from imblearn.over_sampling import SMOTE\n",
        "from imblearn.pipeline import Pipeline\n",
        "import ast"
      ],
      "execution_count": 47,
      "outputs": []
    },
    {
      "cell_type": "code",
      "metadata": {
        "ExecuteTime": {
          "end_time": "2020-09-02T20:15:44.727016Z",
          "start_time": "2020-09-02T20:15:44.723131Z"
        },
        "id": "n5c1vf6RWadf"
      },
      "source": [
        "DATA_FILE_PATH = '/content/drive/MyDrive/NLPGh/'\n",
        "CLEAN_DATA_FILE_NAME = 'DataSet2Clean.csv'\n",
        "TOKENIZED_DATA_FILE_NAME = 'DataSet2Tokenized.csv'\n",
        "pd.set_option('display.max_colwidth', None)\n",
        "RANDOM_STATE = 13"
      ],
      "execution_count": 48,
      "outputs": []
    },
    {
      "cell_type": "markdown",
      "metadata": {
        "id": "37Lm3XuqWadg"
      },
      "source": [
        "# Load Data"
      ]
    },
    {
      "cell_type": "code",
      "metadata": {
        "ExecuteTime": {
          "end_time": "2020-09-02T20:15:44.780822Z",
          "start_time": "2020-09-02T20:15:44.730154Z"
        },
        "id": "da-T5YeJWadh"
      },
      "source": [
        "df = pd.read_csv(DATA_FILE_PATH + TOKENIZED_DATA_FILE_NAME)"
      ],
      "execution_count": 49,
      "outputs": []
    },
    {
      "cell_type": "code",
      "metadata": {
        "ExecuteTime": {
          "end_time": "2020-09-02T20:15:44.804270Z",
          "start_time": "2020-09-02T20:15:44.783641Z"
        },
        "id": "_4HnJrOjWadh",
        "colab": {
          "base_uri": "https://localhost:8080/",
          "height": 289
        },
        "outputId": "c74507f5-bea8-456f-ca16-6aeedd5eb181"
      },
      "source": [
        "df.head()"
      ],
      "execution_count": 50,
      "outputs": [
        {
          "output_type": "execute_result",
          "data": {
            "text/html": [
              "<div>\n",
              "<style scoped>\n",
              "    .dataframe tbody tr th:only-of-type {\n",
              "        vertical-align: middle;\n",
              "    }\n",
              "\n",
              "    .dataframe tbody tr th {\n",
              "        vertical-align: top;\n",
              "    }\n",
              "\n",
              "    .dataframe thead th {\n",
              "        text-align: right;\n",
              "    }\n",
              "</style>\n",
              "<table border=\"1\" class=\"dataframe\">\n",
              "  <thead>\n",
              "    <tr style=\"text-align: right;\">\n",
              "      <th></th>\n",
              "      <th>Unnamed</th>\n",
              "      <th>tweet</th>\n",
              "      <th>location</th>\n",
              "      <th>pretweet</th>\n",
              "      <th>Sentiment</th>\n",
              "      <th>tokens</th>\n",
              "    </tr>\n",
              "  </thead>\n",
              "  <tbody>\n",
              "    <tr>\n",
              "      <th>0</th>\n",
              "      <td>65780</td>\n",
              "      <td>Pls add us some momo to make data  0246964913 ðŸ˜‚ðŸ˜‚ðŸ˜‚ https://t.co/w5ozYUF59x</td>\n",
              "      <td>NaN</td>\n",
              "      <td>pl add some momo make data</td>\n",
              "      <td>0.0</td>\n",
              "      <td>['pl', 'add', 'some', 'momo', 'make', 'data']</td>\n",
              "    </tr>\n",
              "    <tr>\n",
              "      <th>1</th>\n",
              "      <td>65781</td>\n",
              "      <td>@McVan_1 @AnnanPerry @blac4rina We will descend on @NAkufoAddo soon</td>\n",
              "      <td>Ghana</td>\n",
              "      <td>will descend soon</td>\n",
              "      <td>0.0</td>\n",
              "      <td>['will', 'descend', 'soon']</td>\n",
              "    </tr>\n",
              "    <tr>\n",
              "      <th>2</th>\n",
              "      <td>65782</td>\n",
              "      <td>*Forgery allegations by EC is not enough to disqualify the five presidential candidates*\\n\\nhttps://t.co/GAkYghEbQHâ€¦ https://t.co/o0pCodbuWj</td>\n",
              "      <td>NaN</td>\n",
              "      <td>forgeri alleg not enough disqualifi the five presidenti candid</td>\n",
              "      <td>0.0</td>\n",
              "      <td>['forgeri', 'alleg', 'not', 'enough', 'disqualifi', 'the', 'five', 'presidenti', 'candid']</td>\n",
              "    </tr>\n",
              "    <tr>\n",
              "      <th>3</th>\n",
              "      <td>65783</td>\n",
              "      <td>@NiiWills @bosompemny I donâ€™t know how dem dey see @NAkufoAddo oo</td>\n",
              "      <td>dansoman accra</td>\n",
              "      <td>dont know how dem dey see</td>\n",
              "      <td>0.0</td>\n",
              "      <td>['dont', 'know', 'how', 'dem', 'dey', 'see']</td>\n",
              "    </tr>\n",
              "    <tr>\n",
              "      <th>4</th>\n",
              "      <td>65784</td>\n",
              "      <td>Do we have online renewal what what ka kwano?? https://t.co/3CdekJYMgr</td>\n",
              "      <td>Botswana</td>\n",
              "      <td>have onlin renew what what kwano</td>\n",
              "      <td>0.0</td>\n",
              "      <td>['have', 'onlin', 'renew', 'what', 'what', 'kwano']</td>\n",
              "    </tr>\n",
              "  </tbody>\n",
              "</table>\n",
              "</div>"
            ],
            "text/plain": [
              "   Unnamed  ...                                                                                      tokens\n",
              "0    65780  ...                                               ['pl', 'add', 'some', 'momo', 'make', 'data']\n",
              "1    65781  ...                                                                 ['will', 'descend', 'soon']\n",
              "2    65782  ...  ['forgeri', 'alleg', 'not', 'enough', 'disqualifi', 'the', 'five', 'presidenti', 'candid']\n",
              "3    65783  ...                                                ['dont', 'know', 'how', 'dem', 'dey', 'see']\n",
              "4    65784  ...                                         ['have', 'onlin', 'renew', 'what', 'what', 'kwano']\n",
              "\n",
              "[5 rows x 6 columns]"
            ]
          },
          "metadata": {
            "tags": []
          },
          "execution_count": 50
        }
      ]
    },
    {
      "cell_type": "code",
      "metadata": {
        "ExecuteTime": {
          "end_time": "2020-09-02T20:15:45.246341Z",
          "start_time": "2020-09-02T20:15:44.806688Z"
        },
        "id": "v91v1iYkWadi"
      },
      "source": [
        "# convert list of strings represented as a string to a list of strings\n",
        "df.tokens = df.tokens.map(ast.literal_eval)"
      ],
      "execution_count": 51,
      "outputs": []
    },
    {
      "cell_type": "code",
      "metadata": {
        "ExecuteTime": {
          "end_time": "2020-09-02T20:15:45.253921Z",
          "start_time": "2020-09-02T20:15:45.248351Z"
        },
        "id": "T2zDNN-wWadj"
      },
      "source": [
        "data = df[['tokens', 'Sentiment']]"
      ],
      "execution_count": 52,
      "outputs": []
    },
    {
      "cell_type": "code",
      "metadata": {
        "ExecuteTime": {
          "end_time": "2020-09-02T20:15:45.270310Z",
          "start_time": "2020-09-02T20:15:45.256724Z"
        },
        "id": "0ad-9kPUWadj",
        "colab": {
          "base_uri": "https://localhost:8080/",
          "height": 204
        },
        "outputId": "799eea8f-454e-46c7-8d36-93eeee80fad5"
      },
      "source": [
        "data.head()"
      ],
      "execution_count": 53,
      "outputs": [
        {
          "output_type": "execute_result",
          "data": {
            "text/html": [
              "<div>\n",
              "<style scoped>\n",
              "    .dataframe tbody tr th:only-of-type {\n",
              "        vertical-align: middle;\n",
              "    }\n",
              "\n",
              "    .dataframe tbody tr th {\n",
              "        vertical-align: top;\n",
              "    }\n",
              "\n",
              "    .dataframe thead th {\n",
              "        text-align: right;\n",
              "    }\n",
              "</style>\n",
              "<table border=\"1\" class=\"dataframe\">\n",
              "  <thead>\n",
              "    <tr style=\"text-align: right;\">\n",
              "      <th></th>\n",
              "      <th>tokens</th>\n",
              "      <th>Sentiment</th>\n",
              "    </tr>\n",
              "  </thead>\n",
              "  <tbody>\n",
              "    <tr>\n",
              "      <th>0</th>\n",
              "      <td>[pl, add, some, momo, make, data]</td>\n",
              "      <td>0.0</td>\n",
              "    </tr>\n",
              "    <tr>\n",
              "      <th>1</th>\n",
              "      <td>[will, descend, soon]</td>\n",
              "      <td>0.0</td>\n",
              "    </tr>\n",
              "    <tr>\n",
              "      <th>2</th>\n",
              "      <td>[forgeri, alleg, not, enough, disqualifi, the, five, presidenti, candid]</td>\n",
              "      <td>0.0</td>\n",
              "    </tr>\n",
              "    <tr>\n",
              "      <th>3</th>\n",
              "      <td>[dont, know, how, dem, dey, see]</td>\n",
              "      <td>0.0</td>\n",
              "    </tr>\n",
              "    <tr>\n",
              "      <th>4</th>\n",
              "      <td>[have, onlin, renew, what, what, kwano]</td>\n",
              "      <td>0.0</td>\n",
              "    </tr>\n",
              "  </tbody>\n",
              "</table>\n",
              "</div>"
            ],
            "text/plain": [
              "                                                                     tokens  Sentiment\n",
              "0                                         [pl, add, some, momo, make, data]        0.0\n",
              "1                                                     [will, descend, soon]        0.0\n",
              "2  [forgeri, alleg, not, enough, disqualifi, the, five, presidenti, candid]        0.0\n",
              "3                                          [dont, know, how, dem, dey, see]        0.0\n",
              "4                                   [have, onlin, renew, what, what, kwano]        0.0"
            ]
          },
          "metadata": {
            "tags": []
          },
          "execution_count": 53
        }
      ]
    },
    {
      "cell_type": "markdown",
      "metadata": {
        "id": "B3cLWAkjWadj"
      },
      "source": [
        "# Split Data"
      ]
    },
    {
      "cell_type": "code",
      "metadata": {
        "ExecuteTime": {
          "end_time": "2020-09-02T20:15:45.294088Z",
          "start_time": "2020-09-02T20:15:45.275027Z"
        },
        "id": "-hzyBieGWadk"
      },
      "source": [
        "X_train, X_test, y_train, y_test = train_test_split(data['tokens'], \n",
        "                                                    data['Sentiment'],\n",
        "                                                   test_size = 0.2,\n",
        "                                                   random_state = RANDOM_STATE,\n",
        "                                                   stratify = data['Sentiment'])"
      ],
      "execution_count": 54,
      "outputs": []
    },
    {
      "cell_type": "code",
      "metadata": {
        "ExecuteTime": {
          "end_time": "2020-09-02T20:15:45.302460Z",
          "start_time": "2020-09-02T20:15:45.297208Z"
        },
        "id": "_ebuLhUcWadk",
        "colab": {
          "base_uri": "https://localhost:8080/"
        },
        "outputId": "603a01e0-bbbc-49e8-fbd5-f77734de1c46"
      },
      "source": [
        "X_train.shape"
      ],
      "execution_count": 55,
      "outputs": [
        {
          "output_type": "execute_result",
          "data": {
            "text/plain": [
              "(1637,)"
            ]
          },
          "metadata": {
            "tags": []
          },
          "execution_count": 55
        }
      ]
    },
    {
      "cell_type": "code",
      "metadata": {
        "ExecuteTime": {
          "end_time": "2020-09-02T20:15:45.310073Z",
          "start_time": "2020-09-02T20:15:45.304703Z"
        },
        "id": "Z5agfAlJWadk",
        "colab": {
          "base_uri": "https://localhost:8080/"
        },
        "outputId": "02c93908-6d3e-42a3-8307-70495291201c"
      },
      "source": [
        "X_test.shape"
      ],
      "execution_count": 56,
      "outputs": [
        {
          "output_type": "execute_result",
          "data": {
            "text/plain": [
              "(410,)"
            ]
          },
          "metadata": {
            "tags": []
          },
          "execution_count": 56
        }
      ]
    },
    {
      "cell_type": "markdown",
      "metadata": {
        "id": "MKEX_vqQWadl"
      },
      "source": [
        "# Encode Labels"
      ]
    },
    {
      "cell_type": "code",
      "metadata": {
        "ExecuteTime": {
          "end_time": "2020-09-02T20:15:45.315921Z",
          "start_time": "2020-09-02T20:15:45.312323Z"
        },
        "id": "LZIzje0DWadm"
      },
      "source": [
        "le = LabelEncoder()"
      ],
      "execution_count": 57,
      "outputs": []
    },
    {
      "cell_type": "code",
      "metadata": {
        "ExecuteTime": {
          "end_time": "2020-09-02T20:15:45.326941Z",
          "start_time": "2020-09-02T20:15:45.320988Z"
        },
        "id": "PTC3ZHkaWadm"
      },
      "source": [
        "y_train_enc = le.fit_transform(y_train)"
      ],
      "execution_count": 58,
      "outputs": []
    },
    {
      "cell_type": "code",
      "metadata": {
        "ExecuteTime": {
          "end_time": "2020-09-02T20:15:45.333071Z",
          "start_time": "2020-09-02T20:15:45.329295Z"
        },
        "id": "Vm1_5uWXWadm"
      },
      "source": [
        "y_test_enc = le.transform(y_test)"
      ],
      "execution_count": 59,
      "outputs": []
    },
    {
      "cell_type": "markdown",
      "metadata": {
        "id": "Eo-bVU7WWadn"
      },
      "source": [
        "# Evaluate Adjustments to Minimum Document Frequency"
      ]
    },
    {
      "cell_type": "code",
      "metadata": {
        "ExecuteTime": {
          "end_time": "2020-09-02T20:15:45.646854Z",
          "start_time": "2020-09-02T20:15:45.335277Z"
        },
        "id": "TQ_3S7_kWadn"
      },
      "source": [
        "from nltk import word_tokenize          \n",
        "from nltk.stem import WordNetLemmatizer \n",
        "class LemmaTokenizer:\n",
        "    def __init__(self):\n",
        "         self.wnl = WordNetLemmatizer()\n",
        "    def __call__(self, doc):\n",
        "        return [self.wnl.lemmatize(t) for t in doc]"
      ],
      "execution_count": 60,
      "outputs": []
    },
    {
      "cell_type": "code",
      "metadata": {
        "ExecuteTime": {
          "end_time": "2020-09-02T20:15:45.663397Z",
          "start_time": "2020-09-02T20:15:45.648999Z"
        },
        "id": "xDSKel0pWado"
      },
      "source": [
        "def passthrough(doc):\n",
        "    \"\"\"passthrough function for use in the pipeline because the text is already tokenized\"\"\"\n",
        "    return doc"
      ],
      "execution_count": 61,
      "outputs": []
    },
    {
      "cell_type": "code",
      "metadata": {
        "ExecuteTime": {
          "end_time": "2020-09-02T20:15:45.677351Z",
          "start_time": "2020-09-02T20:15:45.665784Z"
        },
        "id": "om73hYmdWado"
      },
      "source": [
        "def train_and_eval_model(min_df):\n",
        "    \"\"\"\n",
        "    Train and Evaluate and Bag of Words Representation with a SVM\n",
        "    classifier with a specified minimum document frequency.\n",
        "    \"\"\"\n",
        "    \n",
        "    pipeline = Pipeline([('bow',CountVectorizer(min_df=min_df, \n",
        "                                                preprocessor=passthrough, \n",
        "                                                tokenizer=LemmaTokenizer())),\n",
        "                         ('tfidf', TfidfTransformer()),\n",
        "                         ('smote', SMOTE(random_state=RANDOM_STATE, \n",
        "                                         n_jobs=-1)),\n",
        "                         ('SVM', SVC(kernel = 'linear', probability = True, random_state = RANDOM_STATE))])\n",
        "    \n",
        "    pipeline.fit(X_train,y_train_enc)\n",
        "    \n",
        "    print(f'MINIMUM DOCUMENT FREQUENCY = {min_df}')\n",
        "    print('')\n",
        "    \n",
        "\n",
        "    y_pred = pipeline.predict(X_test)\n",
        "\n",
        "\n",
        "\n",
        "    conf_matrix = confusion_matrix(y_true=y_test_enc, y_pred=y_pred)\n",
        "    #confusion_matrix(y_true=y_train_enc, y_pred=pipeline.predict(X_train),labels='Training')\n",
        "\n",
        "    \n",
        "    classi_report = classification_report(y_true=y_test_enc, y_pred=y_pred, target_names=['Negative', 'Neutral', 'Postive'])\n",
        "    print(classi_report)\n",
        "\n",
        "\n",
        "    \n",
        "    train_accuracy = accuracy_score(y_train_enc, pipeline.predict(X_train))\n",
        "    \n",
        "    test_accuracy = accuracy_score(y_test_enc, pipeline.predict(X_test))\n",
        "    \n",
        "    ave_macro_recall = recall_score(y_test_enc, pipeline.predict(X_test), average='macro')\n",
        "    recall_scores = recall_score(y_test_enc, pipeline.predict(X_test), average=None)\n",
        "    \n",
        "    test_results = np.append(np.array([min_df, train_accuracy, test_accuracy, ave_macro_recall]),\n",
        "                             recall_scores)\n",
        "   \n",
        "    return test_results, conf_matrix, y_pred\n",
        "    "
      ],
      "execution_count": 62,
      "outputs": []
    },
    {
      "cell_type": "code",
      "metadata": {
        "ExecuteTime": {
          "end_time": "2020-09-02T20:20:23.421957Z",
          "start_time": "2020-09-02T20:15:45.679641Z"
        },
        "scrolled": true,
        "id": "7L6JYcEqWadp",
        "colab": {
          "base_uri": "https://localhost:8080/"
        },
        "outputId": "c4484979-28b2-4ce3-dfbf-91898e73a210"
      },
      "source": [
        "metrics_summary = []\n",
        "\n",
        "for min_df in range(1,11):\n",
        "    test_scores,conf_matrix, y_pred= train_and_eval_model(min_df)\n",
        "    metrics_summary.append(test_scores)"
      ],
      "execution_count": 63,
      "outputs": [
        {
          "output_type": "stream",
          "text": [
            "/usr/local/lib/python3.7/dist-packages/sklearn/utils/deprecation.py:87: FutureWarning: Function safe_indexing is deprecated; safe_indexing is deprecated in version 0.22 and will be removed in version 0.24.\n",
            "  warnings.warn(msg, category=FutureWarning)\n"
          ],
          "name": "stderr"
        },
        {
          "output_type": "stream",
          "text": [
            "MINIMUM DOCUMENT FREQUENCY = 1\n",
            "\n",
            "              precision    recall  f1-score   support\n",
            "\n",
            "    Negative       0.25      0.18      0.21        11\n",
            "     Neutral       0.94      0.96      0.95       356\n",
            "     Postive       0.79      0.70      0.74        43\n",
            "\n",
            "    accuracy                           0.91       410\n",
            "   macro avg       0.66      0.61      0.63       410\n",
            "weighted avg       0.91      0.91      0.91       410\n",
            "\n"
          ],
          "name": "stdout"
        },
        {
          "output_type": "stream",
          "text": [
            "/usr/local/lib/python3.7/dist-packages/sklearn/utils/deprecation.py:87: FutureWarning: Function safe_indexing is deprecated; safe_indexing is deprecated in version 0.22 and will be removed in version 0.24.\n",
            "  warnings.warn(msg, category=FutureWarning)\n"
          ],
          "name": "stderr"
        },
        {
          "output_type": "stream",
          "text": [
            "MINIMUM DOCUMENT FREQUENCY = 2\n",
            "\n",
            "              precision    recall  f1-score   support\n",
            "\n",
            "    Negative       0.16      0.27      0.20        11\n",
            "     Neutral       0.94      0.88      0.91       356\n",
            "     Postive       0.52      0.70      0.59        43\n",
            "\n",
            "    accuracy                           0.85       410\n",
            "   macro avg       0.54      0.62      0.57       410\n",
            "weighted avg       0.88      0.85      0.86       410\n",
            "\n"
          ],
          "name": "stdout"
        },
        {
          "output_type": "stream",
          "text": [
            "/usr/local/lib/python3.7/dist-packages/sklearn/utils/deprecation.py:87: FutureWarning: Function safe_indexing is deprecated; safe_indexing is deprecated in version 0.22 and will be removed in version 0.24.\n",
            "  warnings.warn(msg, category=FutureWarning)\n"
          ],
          "name": "stderr"
        },
        {
          "output_type": "stream",
          "text": [
            "MINIMUM DOCUMENT FREQUENCY = 3\n",
            "\n",
            "              precision    recall  f1-score   support\n",
            "\n",
            "    Negative       0.11      0.27      0.15        11\n",
            "     Neutral       0.94      0.84      0.89       356\n",
            "     Postive       0.47      0.72      0.57        43\n",
            "\n",
            "    accuracy                           0.81       410\n",
            "   macro avg       0.51      0.61      0.54       410\n",
            "weighted avg       0.87      0.81      0.83       410\n",
            "\n"
          ],
          "name": "stdout"
        },
        {
          "output_type": "stream",
          "text": [
            "/usr/local/lib/python3.7/dist-packages/sklearn/utils/deprecation.py:87: FutureWarning: Function safe_indexing is deprecated; safe_indexing is deprecated in version 0.22 and will be removed in version 0.24.\n",
            "  warnings.warn(msg, category=FutureWarning)\n"
          ],
          "name": "stderr"
        },
        {
          "output_type": "stream",
          "text": [
            "MINIMUM DOCUMENT FREQUENCY = 4\n",
            "\n",
            "              precision    recall  f1-score   support\n",
            "\n",
            "    Negative       0.11      0.27      0.15        11\n",
            "     Neutral       0.95      0.84      0.89       356\n",
            "     Postive       0.48      0.74      0.58        43\n",
            "\n",
            "    accuracy                           0.81       410\n",
            "   macro avg       0.51      0.62      0.54       410\n",
            "weighted avg       0.87      0.81      0.84       410\n",
            "\n"
          ],
          "name": "stdout"
        },
        {
          "output_type": "stream",
          "text": [
            "/usr/local/lib/python3.7/dist-packages/sklearn/utils/deprecation.py:87: FutureWarning: Function safe_indexing is deprecated; safe_indexing is deprecated in version 0.22 and will be removed in version 0.24.\n",
            "  warnings.warn(msg, category=FutureWarning)\n"
          ],
          "name": "stderr"
        },
        {
          "output_type": "stream",
          "text": [
            "MINIMUM DOCUMENT FREQUENCY = 5\n",
            "\n",
            "              precision    recall  f1-score   support\n",
            "\n",
            "    Negative       0.07      0.18      0.10        11\n",
            "     Neutral       0.95      0.82      0.88       356\n",
            "     Postive       0.47      0.77      0.58        43\n",
            "\n",
            "    accuracy                           0.80       410\n",
            "   macro avg       0.49      0.59      0.52       410\n",
            "weighted avg       0.87      0.80      0.83       410\n",
            "\n"
          ],
          "name": "stdout"
        },
        {
          "output_type": "stream",
          "text": [
            "/usr/local/lib/python3.7/dist-packages/sklearn/utils/deprecation.py:87: FutureWarning: Function safe_indexing is deprecated; safe_indexing is deprecated in version 0.22 and will be removed in version 0.24.\n",
            "  warnings.warn(msg, category=FutureWarning)\n"
          ],
          "name": "stderr"
        },
        {
          "output_type": "stream",
          "text": [
            "MINIMUM DOCUMENT FREQUENCY = 6\n",
            "\n",
            "              precision    recall  f1-score   support\n",
            "\n",
            "    Negative       0.05      0.18      0.08        11\n",
            "     Neutral       0.94      0.80      0.87       356\n",
            "     Postive       0.46      0.74      0.57        43\n",
            "\n",
            "    accuracy                           0.78       410\n",
            "   macro avg       0.49      0.58      0.51       410\n",
            "weighted avg       0.87      0.78      0.82       410\n",
            "\n"
          ],
          "name": "stdout"
        },
        {
          "output_type": "stream",
          "text": [
            "/usr/local/lib/python3.7/dist-packages/sklearn/utils/deprecation.py:87: FutureWarning: Function safe_indexing is deprecated; safe_indexing is deprecated in version 0.22 and will be removed in version 0.24.\n",
            "  warnings.warn(msg, category=FutureWarning)\n"
          ],
          "name": "stderr"
        },
        {
          "output_type": "stream",
          "text": [
            "MINIMUM DOCUMENT FREQUENCY = 7\n",
            "\n",
            "              precision    recall  f1-score   support\n",
            "\n",
            "    Negative       0.02      0.09      0.04        11\n",
            "     Neutral       0.94      0.77      0.84       356\n",
            "     Postive       0.42      0.74      0.54        43\n",
            "\n",
            "    accuracy                           0.75       410\n",
            "   macro avg       0.46      0.53      0.47       410\n",
            "weighted avg       0.86      0.75      0.79       410\n",
            "\n"
          ],
          "name": "stdout"
        },
        {
          "output_type": "stream",
          "text": [
            "/usr/local/lib/python3.7/dist-packages/sklearn/utils/deprecation.py:87: FutureWarning: Function safe_indexing is deprecated; safe_indexing is deprecated in version 0.22 and will be removed in version 0.24.\n",
            "  warnings.warn(msg, category=FutureWarning)\n"
          ],
          "name": "stderr"
        },
        {
          "output_type": "stream",
          "text": [
            "MINIMUM DOCUMENT FREQUENCY = 8\n",
            "\n",
            "              precision    recall  f1-score   support\n",
            "\n",
            "    Negative       0.03      0.09      0.04        11\n",
            "     Neutral       0.94      0.75      0.83       356\n",
            "     Postive       0.39      0.79      0.52        43\n",
            "\n",
            "    accuracy                           0.73       410\n",
            "   macro avg       0.45      0.54      0.46       410\n",
            "weighted avg       0.86      0.73      0.78       410\n",
            "\n"
          ],
          "name": "stdout"
        },
        {
          "output_type": "stream",
          "text": [
            "/usr/local/lib/python3.7/dist-packages/sklearn/utils/deprecation.py:87: FutureWarning: Function safe_indexing is deprecated; safe_indexing is deprecated in version 0.22 and will be removed in version 0.24.\n",
            "  warnings.warn(msg, category=FutureWarning)\n"
          ],
          "name": "stderr"
        },
        {
          "output_type": "stream",
          "text": [
            "MINIMUM DOCUMENT FREQUENCY = 9\n",
            "\n",
            "              precision    recall  f1-score   support\n",
            "\n",
            "    Negative       0.02      0.09      0.04        11\n",
            "     Neutral       0.93      0.74      0.82       356\n",
            "     Postive       0.39      0.74      0.51        43\n",
            "\n",
            "    accuracy                           0.72       410\n",
            "   macro avg       0.45      0.52      0.46       410\n",
            "weighted avg       0.85      0.72      0.77       410\n",
            "\n"
          ],
          "name": "stdout"
        },
        {
          "output_type": "stream",
          "text": [
            "/usr/local/lib/python3.7/dist-packages/sklearn/utils/deprecation.py:87: FutureWarning: Function safe_indexing is deprecated; safe_indexing is deprecated in version 0.22 and will be removed in version 0.24.\n",
            "  warnings.warn(msg, category=FutureWarning)\n"
          ],
          "name": "stderr"
        },
        {
          "output_type": "stream",
          "text": [
            "MINIMUM DOCUMENT FREQUENCY = 10\n",
            "\n",
            "              precision    recall  f1-score   support\n",
            "\n",
            "    Negative       0.02      0.09      0.04        11\n",
            "     Neutral       0.94      0.72      0.81       356\n",
            "     Postive       0.37      0.79      0.50        43\n",
            "\n",
            "    accuracy                           0.71       410\n",
            "   macro avg       0.44      0.53      0.45       410\n",
            "weighted avg       0.85      0.71      0.76       410\n",
            "\n"
          ],
          "name": "stdout"
        }
      ]
    },
    {
      "cell_type": "code",
      "metadata": {
        "ExecuteTime": {
          "end_time": "2020-09-02T20:20:23.447661Z",
          "start_time": "2020-09-02T20:20:23.424234Z"
        },
        "id": "JjF7AkLaWadq",
        "colab": {
          "base_uri": "https://localhost:8080/",
          "height": 359
        },
        "outputId": "7143bb99-5e6c-4f6a-f3b8-2343cc065bc7"
      },
      "source": [
        "metrics_summary_df = pd.DataFrame(metrics_summary, \n",
        "                                  columns=['min doc freq',\n",
        "                                           'train accuracy',\n",
        "                                           'test accuracy',\n",
        "                                           'macro recall',\n",
        "                                          'neg recall',\n",
        "                                          'neutral recall',\n",
        "                                          'pos recall'])\n",
        "\n",
        "metrics_summary_df"
      ],
      "execution_count": 64,
      "outputs": [
        {
          "output_type": "execute_result",
          "data": {
            "text/html": [
              "<div>\n",
              "<style scoped>\n",
              "    .dataframe tbody tr th:only-of-type {\n",
              "        vertical-align: middle;\n",
              "    }\n",
              "\n",
              "    .dataframe tbody tr th {\n",
              "        vertical-align: top;\n",
              "    }\n",
              "\n",
              "    .dataframe thead th {\n",
              "        text-align: right;\n",
              "    }\n",
              "</style>\n",
              "<table border=\"1\" class=\"dataframe\">\n",
              "  <thead>\n",
              "    <tr style=\"text-align: right;\">\n",
              "      <th></th>\n",
              "      <th>min doc freq</th>\n",
              "      <th>train accuracy</th>\n",
              "      <th>test accuracy</th>\n",
              "      <th>macro recall</th>\n",
              "      <th>neg recall</th>\n",
              "      <th>neutral recall</th>\n",
              "      <th>pos recall</th>\n",
              "    </tr>\n",
              "  </thead>\n",
              "  <tbody>\n",
              "    <tr>\n",
              "      <th>0</th>\n",
              "      <td>1.0</td>\n",
              "      <td>0.988393</td>\n",
              "      <td>0.914634</td>\n",
              "      <td>0.614325</td>\n",
              "      <td>0.181818</td>\n",
              "      <td>0.963483</td>\n",
              "      <td>0.697674</td>\n",
              "    </tr>\n",
              "    <tr>\n",
              "      <th>1</th>\n",
              "      <td>2.0</td>\n",
              "      <td>0.955406</td>\n",
              "      <td>0.846341</td>\n",
              "      <td>0.617475</td>\n",
              "      <td>0.272727</td>\n",
              "      <td>0.882022</td>\n",
              "      <td>0.697674</td>\n",
              "    </tr>\n",
              "    <tr>\n",
              "      <th>2</th>\n",
              "      <td>3.0</td>\n",
              "      <td>0.936469</td>\n",
              "      <td>0.809756</td>\n",
              "      <td>0.610245</td>\n",
              "      <td>0.272727</td>\n",
              "      <td>0.837079</td>\n",
              "      <td>0.720930</td>\n",
              "    </tr>\n",
              "    <tr>\n",
              "      <th>3</th>\n",
              "      <td>4.0</td>\n",
              "      <td>0.919365</td>\n",
              "      <td>0.812195</td>\n",
              "      <td>0.617997</td>\n",
              "      <td>0.272727</td>\n",
              "      <td>0.837079</td>\n",
              "      <td>0.744186</td>\n",
              "    </tr>\n",
              "    <tr>\n",
              "      <th>4</th>\n",
              "      <td>5.0</td>\n",
              "      <td>0.904093</td>\n",
              "      <td>0.800000</td>\n",
              "      <td>0.590765</td>\n",
              "      <td>0.181818</td>\n",
              "      <td>0.823034</td>\n",
              "      <td>0.767442</td>\n",
              "    </tr>\n",
              "    <tr>\n",
              "      <th>5</th>\n",
              "      <td>6.0</td>\n",
              "      <td>0.886988</td>\n",
              "      <td>0.780488</td>\n",
              "      <td>0.576458</td>\n",
              "      <td>0.181818</td>\n",
              "      <td>0.803371</td>\n",
              "      <td>0.744186</td>\n",
              "    </tr>\n",
              "    <tr>\n",
              "      <th>6</th>\n",
              "      <td>7.0</td>\n",
              "      <td>0.864997</td>\n",
              "      <td>0.746341</td>\n",
              "      <td>0.533983</td>\n",
              "      <td>0.090909</td>\n",
              "      <td>0.766854</td>\n",
              "      <td>0.744186</td>\n",
              "    </tr>\n",
              "    <tr>\n",
              "      <th>7</th>\n",
              "      <td>8.0</td>\n",
              "      <td>0.839951</td>\n",
              "      <td>0.734146</td>\n",
              "      <td>0.542933</td>\n",
              "      <td>0.090909</td>\n",
              "      <td>0.747191</td>\n",
              "      <td>0.790698</td>\n",
              "    </tr>\n",
              "    <tr>\n",
              "      <th>8</th>\n",
              "      <td>9.0</td>\n",
              "      <td>0.828955</td>\n",
              "      <td>0.719512</td>\n",
              "      <td>0.523683</td>\n",
              "      <td>0.090909</td>\n",
              "      <td>0.735955</td>\n",
              "      <td>0.744186</td>\n",
              "    </tr>\n",
              "    <tr>\n",
              "      <th>9</th>\n",
              "      <td>10.0</td>\n",
              "      <td>0.821625</td>\n",
              "      <td>0.709756</td>\n",
              "      <td>0.533569</td>\n",
              "      <td>0.090909</td>\n",
              "      <td>0.719101</td>\n",
              "      <td>0.790698</td>\n",
              "    </tr>\n",
              "  </tbody>\n",
              "</table>\n",
              "</div>"
            ],
            "text/plain": [
              "   min doc freq  train accuracy  ...  neutral recall  pos recall\n",
              "0           1.0        0.988393  ...        0.963483    0.697674\n",
              "1           2.0        0.955406  ...        0.882022    0.697674\n",
              "2           3.0        0.936469  ...        0.837079    0.720930\n",
              "3           4.0        0.919365  ...        0.837079    0.744186\n",
              "4           5.0        0.904093  ...        0.823034    0.767442\n",
              "5           6.0        0.886988  ...        0.803371    0.744186\n",
              "6           7.0        0.864997  ...        0.766854    0.744186\n",
              "7           8.0        0.839951  ...        0.747191    0.790698\n",
              "8           9.0        0.828955  ...        0.735955    0.744186\n",
              "9          10.0        0.821625  ...        0.719101    0.790698\n",
              "\n",
              "[10 rows x 7 columns]"
            ]
          },
          "metadata": {
            "tags": []
          },
          "execution_count": 64
        }
      ]
    },
    {
      "cell_type": "code",
      "metadata": {
        "ExecuteTime": {
          "end_time": "2020-09-02T22:33:54.670832Z",
          "start_time": "2020-09-02T22:33:40.513379Z"
        },
        "scrolled": false,
        "id": "QydNBZOrWadq",
        "colab": {
          "base_uri": "https://localhost:8080/",
          "height": 759
        },
        "outputId": "626a8548-b5c9-4937-9820-3a2a5b800cc2"
      },
      "source": [
        "test_scores,conf_matrix, y_pred = train_and_eval_model(min_df=2)\n",
        "labels = ['Negative', 'Neutral', 'Postive']\n",
        "\n",
        "fig, ax = plt.subplots(figsize=(7.5, 7.5))\n",
        "ax.matshow(conf_matrix, cmap=plt.cm.Blues, alpha=0.3)\n",
        "for i in range(conf_matrix.shape[0]):\n",
        "    for j in range(conf_matrix.shape[1]):\n",
        "        ax.text(x=j, y=i,s=conf_matrix[i, j], va='center', ha='center', size='xx-large')\n",
        " \n",
        "plt.xlabel('Predictions', fontsize=18)\n",
        "plt.ylabel('Actuals', fontsize=18)\n",
        "ax.set_xticklabels([''] + labels)\n",
        "ax.set_yticklabels([''] + labels)\n",
        "plt.title('Confusion Matrix', fontsize=18)\n",
        "plt.show()"
      ],
      "execution_count": 65,
      "outputs": [
        {
          "output_type": "stream",
          "text": [
            "/usr/local/lib/python3.7/dist-packages/sklearn/utils/deprecation.py:87: FutureWarning: Function safe_indexing is deprecated; safe_indexing is deprecated in version 0.22 and will be removed in version 0.24.\n",
            "  warnings.warn(msg, category=FutureWarning)\n"
          ],
          "name": "stderr"
        },
        {
          "output_type": "stream",
          "text": [
            "MINIMUM DOCUMENT FREQUENCY = 2\n",
            "\n",
            "              precision    recall  f1-score   support\n",
            "\n",
            "    Negative       0.16      0.27      0.20        11\n",
            "     Neutral       0.94      0.88      0.91       356\n",
            "     Postive       0.52      0.70      0.59        43\n",
            "\n",
            "    accuracy                           0.85       410\n",
            "   macro avg       0.54      0.62      0.57       410\n",
            "weighted avg       0.88      0.85      0.86       410\n",
            "\n"
          ],
          "name": "stdout"
        },
        {
          "output_type": "display_data",
          "data": {
            "image/png": "[encoded data removed]",
            "text/plain": [
              "<Figure size 540x540 with 1 Axes>"
            ]
          },
          "metadata": {
            "tags": [],
            "needs_background": "light"
          }
        }
      ]
    },
    {
      "cell_type": "code",
      "metadata": {
        "id": "eQOfkvJy0ijb",
        "outputId": "fb47fb59-05fb-4421-9915-6cc220a29716",
        "colab": {
          "base_uri": "https://localhost:8080/",
          "height": 759
        }
      },
      "source": [
        "test_scores,conf_matrix, y_pred = train_and_eval_model(min_df=1)\n",
        "labels = ['Negative', 'Neutral', 'Postive']\n",
        "\n",
        "fig, ax = plt.subplots(figsize=(7.5, 7.5))\n",
        "ax.matshow(conf_matrix, cmap=plt.cm.Blues, alpha=0.3)\n",
        "for i in range(conf_matrix.shape[0]):\n",
        "    for j in range(conf_matrix.shape[1]):\n",
        "        ax.text(x=j, y=i,s=conf_matrix[i, j], va='center', ha='center', size='xx-large')\n",
        " \n",
        "plt.xlabel('Predictions', fontsize=18)\n",
        "plt.ylabel('Actuals', fontsize=18)\n",
        "ax.set_xticklabels([''] + labels)\n",
        "ax.set_yticklabels([''] + labels)\n",
        "plt.title('Confusion Matrix', fontsize=18)\n",
        "plt.show()"
      ],
      "execution_count": 66,
      "outputs": [
        {
          "output_type": "stream",
          "text": [
            "/usr/local/lib/python3.7/dist-packages/sklearn/utils/deprecation.py:87: FutureWarning: Function safe_indexing is deprecated; safe_indexing is deprecated in version 0.22 and will be removed in version 0.24.\n",
            "  warnings.warn(msg, category=FutureWarning)\n"
          ],
          "name": "stderr"
        },
        {
          "output_type": "stream",
          "text": [
            "MINIMUM DOCUMENT FREQUENCY = 1\n",
            "\n",
            "              precision    recall  f1-score   support\n",
            "\n",
            "    Negative       0.25      0.18      0.21        11\n",
            "     Neutral       0.94      0.96      0.95       356\n",
            "     Postive       0.79      0.70      0.74        43\n",
            "\n",
            "    accuracy                           0.91       410\n",
            "   macro avg       0.66      0.61      0.63       410\n",
            "weighted avg       0.91      0.91      0.91       410\n",
            "\n"
          ],
          "name": "stdout"
        },
        {
          "output_type": "display_data",
          "data": {
            "image/png": "[encoded data removed]",
            "text/plain": [
              "<Figure size 540x540 with 1 Axes>"
            ]
          },
          "metadata": {
            "tags": [],
            "needs_background": "light"
          }
        }
      ]
    },
    {
      "cell_type": "markdown",
      "metadata": {
        "id": "uCr3jxaum190"
      },
      "source": [
        "List of Tweets which were wrongly predicted"
      ]
    },
    {
      "cell_type": "code",
      "metadata": {
        "id": "nCvYWRfSZzAp",
        "outputId": "b2056f6d-8d72-4961-8003-67408016e443",
        "colab": {
          "base_uri": "https://localhost:8080/",
          "height": 1000
        }
      },
      "source": [
        "df2 = pd.DataFrame()\n",
        "\n",
        "df2['X_test'] =  X_test\n",
        "df2['y_test_enc'] =  y_test\n",
        "df2['y_pred'] =  y_pred-1\n",
        "\n",
        "df2[df2[\"y_test_enc\"] != df2[\"y_pred\"]]"
      ],
      "execution_count": 79,
      "outputs": [
        {
          "output_type": "execute_result",
          "data": {
            "text/html": [
              "<div>\n",
              "<style scoped>\n",
              "    .dataframe tbody tr th:only-of-type {\n",
              "        vertical-align: middle;\n",
              "    }\n",
              "\n",
              "    .dataframe tbody tr th {\n",
              "        vertical-align: top;\n",
              "    }\n",
              "\n",
              "    .dataframe thead th {\n",
              "        text-align: right;\n",
              "    }\n",
              "</style>\n",
              "<table border=\"1\" class=\"dataframe\">\n",
              "  <thead>\n",
              "    <tr style=\"text-align: right;\">\n",
              "      <th></th>\n",
              "      <th>X_test</th>\n",
              "      <th>y_test_enc</th>\n",
              "      <th>y_pred</th>\n",
              "    </tr>\n",
              "  </thead>\n",
              "  <tbody>\n",
              "    <tr>\n",
              "      <th>143</th>\n",
              "      <td>[the, custodian, npp, launch, show, your, parti, colour, campaign, fulfil, more, promis, jasikan, chief]</td>\n",
              "      <td>1.0</td>\n",
              "      <td>0</td>\n",
              "    </tr>\n",
              "    <tr>\n",
              "      <th>1470</th>\n",
              "      <td>[believ, npp, govern, god, bless, you, nana, addo]</td>\n",
              "      <td>0.0</td>\n",
              "      <td>1</td>\n",
              "    </tr>\n",
              "    <tr>\n",
              "      <th>132</th>\n",
              "      <td>[thak, you, veri, much, for, the, good, work, you, are, do, for, the, peopl, ghana, im, die, hard, ndc, support]</td>\n",
              "      <td>1.0</td>\n",
              "      <td>0</td>\n",
              "    </tr>\n",
              "    <tr>\n",
              "      <th>1301</th>\n",
              "      <td>[ekumfi, lie, dont, get, you]</td>\n",
              "      <td>0.0</td>\n",
              "      <td>-1</td>\n",
              "    </tr>\n",
              "    <tr>\n",
              "      <th>12</th>\n",
              "      <td>[god, richli, him]</td>\n",
              "      <td>1.0</td>\n",
              "      <td>0</td>\n",
              "    </tr>\n",
              "    <tr>\n",
              "      <th>1681</th>\n",
              "      <td>[god, will, punish, them, petti, for, them]</td>\n",
              "      <td>0.0</td>\n",
              "      <td>-1</td>\n",
              "    </tr>\n",
              "    <tr>\n",
              "      <th>750</th>\n",
              "      <td>[tweeeaaa, more, rob, you, more]</td>\n",
              "      <td>-1.0</td>\n",
              "      <td>1</td>\n",
              "    </tr>\n",
              "    <tr>\n",
              "      <th>1405</th>\n",
              "      <td>[whi, must, belong, ndc, npp, like, gyiminii, what]</td>\n",
              "      <td>0.0</td>\n",
              "      <td>1</td>\n",
              "    </tr>\n",
              "    <tr>\n",
              "      <th>440</th>\n",
              "      <td>[put, eleph, the, car, er, have, endors, the, umbrella, akatamanso, reign, suprem, presid, and, you, know, it]</td>\n",
              "      <td>-1.0</td>\n",
              "      <td>0</td>\n",
              "    </tr>\n",
              "    <tr>\n",
              "      <th>13</th>\n",
              "      <td>[asem, ooo, but, some, peopl, still, ha, veri, good, intent, for, hi, countri]</td>\n",
              "      <td>1.0</td>\n",
              "      <td>0</td>\n",
              "    </tr>\n",
              "    <tr>\n",
              "      <th>1233</th>\n",
              "      <td>[the, interpret, can, help, now, npp, govern, simpli, curs, mother, ghana, kicknanaout]</td>\n",
              "      <td>-1.0</td>\n",
              "      <td>0</td>\n",
              "    </tr>\n",
              "    <tr>\n",
              "      <th>78</th>\n",
              "      <td>[nice, cosss, thi, thing, dey, stress, passit, w]</td>\n",
              "      <td>1.0</td>\n",
              "      <td>0</td>\n",
              "    </tr>\n",
              "    <tr>\n",
              "      <th>1361</th>\n",
              "      <td>[you, can, never, win, until, you, respect, nigerian]</td>\n",
              "      <td>-1.0</td>\n",
              "      <td>0</td>\n",
              "    </tr>\n",
              "    <tr>\n",
              "      <th>716</th>\n",
              "      <td>[lie, ghanaian]</td>\n",
              "      <td>0.0</td>\n",
              "      <td>-1</td>\n",
              "    </tr>\n",
              "    <tr>\n",
              "      <th>57</th>\n",
              "      <td>[will, deal, with, the, same, manner, which, dealt, with]</td>\n",
              "      <td>-1.0</td>\n",
              "      <td>0</td>\n",
              "    </tr>\n",
              "    <tr>\n",
              "      <th>1034</th>\n",
              "      <td>[should, clap, for, you, hmm, nana, someth, dey, you, for, dey, talk, sef]</td>\n",
              "      <td>0.0</td>\n",
              "      <td>1</td>\n",
              "    </tr>\n",
              "    <tr>\n",
              "      <th>442</th>\n",
              "      <td>[pray, for, god, bless, and, guidanc, for, he, and, the, entir, npp, govern, sure]</td>\n",
              "      <td>0.0</td>\n",
              "      <td>1</td>\n",
              "    </tr>\n",
              "    <tr>\n",
              "      <th>1283</th>\n",
              "      <td>[senior, lier, pleas, stop, tell, lie, were, look, you]</td>\n",
              "      <td>0.0</td>\n",
              "      <td>-1</td>\n",
              "    </tr>\n",
              "    <tr>\n",
              "      <th>1844</th>\n",
              "      <td>[good, even, mr, presid, im, teacher, and, satisfi, with, your, work, now, and, would, wish, you, continu, sir]</td>\n",
              "      <td>1.0</td>\n",
              "      <td>0</td>\n",
              "    </tr>\n",
              "    <tr>\n",
              "      <th>1601</th>\n",
              "      <td>[know, how, good, you, are, presid, will, give, anoth, year, but, pleas, lo]</td>\n",
              "      <td>1.0</td>\n",
              "      <td>0</td>\n",
              "    </tr>\n",
              "    <tr>\n",
              "      <th>1936</th>\n",
              "      <td>[more, for, more, and, more, plu, more, mmmm]</td>\n",
              "      <td>0.0</td>\n",
              "      <td>1</td>\n",
              "    </tr>\n",
              "    <tr>\n",
              "      <th>785</th>\n",
              "      <td>[realli, sad, how, collaps, and, yet, they, shout, morenana, steal]</td>\n",
              "      <td>-1.0</td>\n",
              "      <td>0</td>\n",
              "    </tr>\n",
              "    <tr>\n",
              "      <th>360</th>\n",
              "      <td>[impress, turnout]</td>\n",
              "      <td>1.0</td>\n",
              "      <td>0</td>\n",
              "    </tr>\n",
              "    <tr>\n",
              "      <th>37</th>\n",
              "      <td>[ghana, have, stabl, electricityenjoy, free, water, without, ani, billgrantsour, children]</td>\n",
              "      <td>1.0</td>\n",
              "      <td>0</td>\n",
              "    </tr>\n",
              "    <tr>\n",
              "      <th>165</th>\n",
              "      <td>[thi, wisdom]</td>\n",
              "      <td>1.0</td>\n",
              "      <td>0</td>\n",
              "    </tr>\n",
              "    <tr>\n",
              "      <th>244</th>\n",
              "      <td>[good, morn, pl, when, you, loos, the, elect, submit, god, for, ghana, have, peac, dont, use, yo]</td>\n",
              "      <td>-1.0</td>\n",
              "      <td>0</td>\n",
              "    </tr>\n",
              "    <tr>\n",
              "      <th>765</th>\n",
              "      <td>[account, the, peopl, morenana]</td>\n",
              "      <td>1.0</td>\n",
              "      <td>0</td>\n",
              "    </tr>\n",
              "    <tr>\n",
              "      <th>1105</th>\n",
              "      <td>[couldnt, agre, more, but, until, then, the, best, for, the]</td>\n",
              "      <td>0.0</td>\n",
              "      <td>1</td>\n",
              "    </tr>\n",
              "    <tr>\n",
              "      <th>1235</th>\n",
              "      <td>[are, you, ghanaian]</td>\n",
              "      <td>0.0</td>\n",
              "      <td>-1</td>\n",
              "    </tr>\n",
              "    <tr>\n",
              "      <th>225</th>\n",
              "      <td>[whi, dont, you, look, for, narco, construct, compani, plant, for, food, and, hookup, for, while, bro]</td>\n",
              "      <td>-1.0</td>\n",
              "      <td>0</td>\n",
              "    </tr>\n",
              "    <tr>\n",
              "      <th>966</th>\n",
              "      <td>[let, maintain, leader, that, care, for, our, gener, and, that, our, futur, leader, that, ha, decid]</td>\n",
              "      <td>1.0</td>\n",
              "      <td>0</td>\n",
              "    </tr>\n",
              "    <tr>\n",
              "      <th>275</th>\n",
              "      <td>[let, vote, for, nana, addo, danquah, akufoaddo, amp, the, npp, govern, come, decemb, vote, vote]</td>\n",
              "      <td>1.0</td>\n",
              "      <td>0</td>\n",
              "    </tr>\n",
              "    <tr>\n",
              "      <th>367</th>\n",
              "      <td>[fake, lawyer, not, worth, anyon, vote, lawyer, who]</td>\n",
              "      <td>-1.0</td>\n",
              "      <td>0</td>\n",
              "    </tr>\n",
              "    <tr>\n",
              "      <th>1878</th>\n",
              "      <td>[may, god, put, right, win, the, upcom, elect, henc, you, have, put, place, about]</td>\n",
              "      <td>0.0</td>\n",
              "      <td>1</td>\n",
              "    </tr>\n",
              "    <tr>\n",
              "      <th>441</th>\n",
              "      <td>[all, your, presid, use, come, nigeria, after, your, presidenti, elect, god, will, punish, all, them]</td>\n",
              "      <td>0.0</td>\n",
              "      <td>-1</td>\n",
              "    </tr>\n",
              "  </tbody>\n",
              "</table>\n",
              "</div>"
            ],
            "text/plain": [
              "                                                                                                                X_test  ...  y_pred\n",
              "143           [the, custodian, npp, launch, show, your, parti, colour, campaign, fulfil, more, promis, jasikan, chief]  ...       0\n",
              "1470                                                                [believ, npp, govern, god, bless, you, nana, addo]  ...       1\n",
              "132   [thak, you, veri, much, for, the, good, work, you, are, do, for, the, peopl, ghana, im, die, hard, ndc, support]  ...       0\n",
              "1301                                                                                     [ekumfi, lie, dont, get, you]  ...      -1\n",
              "12                                                                                                  [god, richli, him]  ...       0\n",
              "1681                                                                       [god, will, punish, them, petti, for, them]  ...      -1\n",
              "750                                                                                   [tweeeaaa, more, rob, you, more]  ...       1\n",
              "1405                                                               [whi, must, belong, ndc, npp, like, gyiminii, what]  ...       1\n",
              "440     [put, eleph, the, car, er, have, endors, the, umbrella, akatamanso, reign, suprem, presid, and, you, know, it]  ...       0\n",
              "13                                      [asem, ooo, but, some, peopl, still, ha, veri, good, intent, for, hi, countri]  ...       0\n",
              "1233                           [the, interpret, can, help, now, npp, govern, simpli, curs, mother, ghana, kicknanaout]  ...       0\n",
              "78                                                                   [nice, cosss, thi, thing, dey, stress, passit, w]  ...       0\n",
              "1361                                                             [you, can, never, win, until, you, respect, nigerian]  ...       0\n",
              "716                                                                                                    [lie, ghanaian]  ...      -1\n",
              "57                                                           [will, deal, with, the, same, manner, which, dealt, with]  ...       0\n",
              "1034                                        [should, clap, for, you, hmm, nana, someth, dey, you, for, dey, talk, sef]  ...       1\n",
              "442                                 [pray, for, god, bless, and, guidanc, for, he, and, the, entir, npp, govern, sure]  ...       1\n",
              "1283                                                           [senior, lier, pleas, stop, tell, lie, were, look, you]  ...      -1\n",
              "1844   [good, even, mr, presid, im, teacher, and, satisfi, with, your, work, now, and, would, wish, you, continu, sir]  ...       0\n",
              "1601                                      [know, how, good, you, are, presid, will, give, anoth, year, but, pleas, lo]  ...       0\n",
              "1936                                                                     [more, for, more, and, more, plu, more, mmmm]  ...       1\n",
              "785                                                [realli, sad, how, collaps, and, yet, they, shout, morenana, steal]  ...       0\n",
              "360                                                                                                 [impress, turnout]  ...       0\n",
              "37                          [ghana, have, stabl, electricityenjoy, free, water, without, ani, billgrantsour, children]  ...       0\n",
              "165                                                                                                      [thi, wisdom]  ...       0\n",
              "244                  [good, morn, pl, when, you, loos, the, elect, submit, god, for, ghana, have, peac, dont, use, yo]  ...       0\n",
              "765                                                                                    [account, the, peopl, morenana]  ...       0\n",
              "1105                                                      [couldnt, agre, more, but, until, then, the, best, for, the]  ...       1\n",
              "1235                                                                                              [are, you, ghanaian]  ...      -1\n",
              "225             [whi, dont, you, look, for, narco, construct, compani, plant, for, food, and, hookup, for, while, bro]  ...       0\n",
              "966               [let, maintain, leader, that, care, for, our, gener, and, that, our, futur, leader, that, ha, decid]  ...       0\n",
              "275                  [let, vote, for, nana, addo, danquah, akufoaddo, amp, the, npp, govern, come, decemb, vote, vote]  ...       0\n",
              "367                                                               [fake, lawyer, not, worth, anyon, vote, lawyer, who]  ...       0\n",
              "1878                                [may, god, put, right, win, the, upcom, elect, henc, you, have, put, place, about]  ...       1\n",
              "441              [all, your, presid, use, come, nigeria, after, your, presidenti, elect, god, will, punish, all, them]  ...      -1\n",
              "\n",
              "[35 rows x 3 columns]"
            ]
          },
          "metadata": {
            "tags": []
          },
          "execution_count": 79
        }
      ]
    },
    {
      "cell_type": "markdown",
      "metadata": {
        "id": "8qp3enNYWadr"
      },
      "source": [
        "# Summary"
      ]
    },
    {
      "cell_type": "markdown",
      "metadata": {
        "id": "3E-ldSzKWadr"
      },
      "source": [
        "The addition of lemmatization resulted in not a very different performance compared to the SVM model with just SMOTE oversampling."
      ]
    }
  ]
}