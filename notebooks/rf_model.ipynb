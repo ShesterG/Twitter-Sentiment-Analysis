{
  "nbformat": 4,
  "nbformat_minor": 0,
  "metadata": {
    "kernelspec": {
      "display_name": "learn-env",
      "language": "python",
      "name": "learn-env"
    },
    "language_info": {
      "codemirror_mode": {
        "name": "ipython",
        "version": 3
      },
      "file_extension": ".py",
      "mimetype": "text/x-python",
      "name": "python",
      "nbconvert_exporter": "python",
      "pygments_lexer": "ipython3",
      "version": "3.6.9"
    },
    "toc": {
      "base_numbering": 1,
      "nav_menu": {},
      "number_sections": true,
      "sideBar": true,
      "skip_h1_title": false,
      "title_cell": "Table of Contents",
      "title_sidebar": "Contents",
      "toc_cell": false,
      "toc_position": {},
      "toc_section_display": true,
      "toc_window_display": false
    },
    "varInspector": {
      "cols": {
        "lenName": 16,
        "lenType": 16,
        "lenVar": 40
      },
      "kernels_config": {
        "python": {
          "delete_cmd_postfix": "",
          "delete_cmd_prefix": "del ",
          "library": "var_list.py",
          "varRefreshCmd": "print(var_dic_list())"
        },
        "r": {
          "delete_cmd_postfix": ") ",
          "delete_cmd_prefix": "rm(",
          "library": "var_list.r",
          "varRefreshCmd": "cat(var_dic_list()) "
        }
      },
      "types_to_exclude": [
        "module",
        "function",
        "builtin_function_or_method",
        "instance",
        "_Feature"
      ],
      "window_display": false
    },
    "colab": {
      "name": "10_nb_model_07.ipynb",
      "provenance": [],
      "include_colab_link": true
    }
  },
  "cells": [
    {
      "cell_type": "markdown",
      "metadata": {
        "id": "view-in-github",
        "colab_type": "text"
      },
      "source": [
        "<a href=\"https://colab.research.google.com/github/ShesterG/Twitter-Sentiment-Analysis/blob/master/notebooks/rf_model.ipynb\" target=\"_parent\"><img src=\"https://colab.research.google.com/assets/colab-badge.svg\" alt=\"Open In Colab\"/></a>"
      ]
    },
    {
      "cell_type": "markdown",
      "metadata": {
        "id": "YrwKcxuLlB0I"
      },
      "source": [
        "# Naive Bayes Model for Twitter Sentiment Analysis"
      ]
    },
    {
      "cell_type": "markdown",
      "metadata": {
        "id": "yeYrZpl_lB0L"
      },
      "source": [
        "This model will use Multinomial Naive Bayes with tf/idf to classify the tweets.\n",
        "\n",
        "It will reduce the dimensionality of the feature set by adjusting the minimum document frequency of words, in an attempt to get better results.\n",
        "\n",
        "Lemmatization will be applied to the dataset.\n",
        "\n",
        "With SMOTE oversampling\n",
        "\n",
        "With Bi-Grams, removing some common stop words that do not have a polarity associated with them."
      ]
    },
    {
      "cell_type": "markdown",
      "metadata": {
        "id": "2WBLvxOIlB0M"
      },
      "source": [
        "# Imports and Constants"
      ]
    },
    {
      "cell_type": "code",
      "metadata": {
        "id": "IDkhRzp8mYLZ",
        "colab": {
          "base_uri": "https://localhost:8080/"
        },
        "outputId": "40135f2c-1d4f-4873-94d9-5fe728613ada"
      },
      "source": [
        "from google.colab import drive\n",
        "drive.mount(\"/content/drive\", force_remount=True)"
      ],
      "execution_count": 1,
      "outputs": [
        {
          "output_type": "stream",
          "name": "stdout",
          "text": [
            "Mounted at /content/drive\n"
          ]
        }
      ]
    },
    {
      "cell_type": "code",
      "metadata": {
        "ExecuteTime": {
          "end_time": "2020-09-03T17:16:02.032719Z",
          "start_time": "2020-09-03T17:16:00.625927Z"
        },
        "id": "vzIoGAGJlB0M",
        "colab": {
          "base_uri": "https://localhost:8080/"
        },
        "outputId": "e9d06226-3c3f-4e47-aebf-1c83ec029eff"
      },
      "source": [
        "import pandas as pd\n",
        "import numpy as np\n",
        "from sklearn.linear_model import LogisticRegression\n",
        "from sklearn.naive_bayes import MultinomialNB\n",
        "from sklearn.ensemble import RandomForestClassifier\n",
        "from sklearn.model_selection import train_test_split\n",
        "from sklearn.feature_extraction.text import CountVectorizer\n",
        "from imblearn.pipeline import Pipeline\n",
        "from sklearn.preprocessing import LabelEncoder\n",
        "from sklearn.metrics import classification_report, plot_confusion_matrix\n",
        "import matplotlib.pyplot as plt\n",
        "%matplotlib inline\n",
        "from sklearn.metrics import precision_recall_curve, auc\n",
        "from sklearn.metrics import accuracy_score, f1_score, recall_score, precision_score\n",
        "from sklearn.preprocessing import LabelBinarizer\n",
        "#import evaluation_functions\n",
        "from sklearn.metrics import confusion_matrix\n",
        "from sklearn.metrics import classification_report\n",
        "from sklearn.feature_extraction.text import TfidfTransformer \n",
        "from imblearn.over_sampling import SMOTE\n",
        "import ast\n",
        "\n",
        "\n",
        "\n",
        "from sklearn.model_selection import cross_val_score\n",
        "from sklearn.model_selection import cross_validate\n",
        "from sklearn.model_selection import cross_val_predict\n",
        "\n",
        "from sklearn.model_selection import StratifiedKFold\n",
        "\n",
        "\n",
        "from sklearn.metrics import make_scorer"
      ],
      "execution_count": 2,
      "outputs": [
        {
          "output_type": "stream",
          "name": "stderr",
          "text": [
            "/usr/local/lib/python3.7/dist-packages/sklearn/externals/six.py:31: FutureWarning: The module is deprecated in version 0.21 and will be removed in version 0.23 since we've dropped support for Python 2.7. Please rely on the official version of six (https://pypi.org/project/six/).\n",
            "  \"(https://pypi.org/project/six/).\", FutureWarning)\n",
            "/usr/local/lib/python3.7/dist-packages/sklearn/utils/deprecation.py:144: FutureWarning: The sklearn.neighbors.base module is  deprecated in version 0.22 and will be removed in version 0.24. The corresponding classes / functions should instead be imported from sklearn.neighbors. Anything that cannot be imported from sklearn.neighbors is now part of the private API.\n",
            "  warnings.warn(message, FutureWarning)\n"
          ]
        }
      ]
    },
    {
      "cell_type": "code",
      "metadata": {
        "id": "DJjGXcMxoD4T",
        "colab": {
          "base_uri": "https://localhost:8080/"
        },
        "outputId": "433fae1c-a9fd-4c29-df0b-a4cca21ff63b"
      },
      "source": [
        "import nltk\n",
        "nltk.download('wordnet')"
      ],
      "execution_count": 3,
      "outputs": [
        {
          "output_type": "stream",
          "name": "stdout",
          "text": [
            "[nltk_data] Downloading package wordnet to /root/nltk_data...\n",
            "[nltk_data]   Unzipping corpora/wordnet.zip.\n"
          ]
        },
        {
          "output_type": "execute_result",
          "data": {
            "text/plain": [
              "True"
            ]
          },
          "metadata": {},
          "execution_count": 3
        }
      ]
    },
    {
      "cell_type": "code",
      "metadata": {
        "ExecuteTime": {
          "end_time": "2020-09-03T17:16:02.041305Z",
          "start_time": "2020-09-03T17:16:02.035575Z"
        },
        "id": "eThQ6F_GlB0O"
      },
      "source": [
        "DATA_FILE_PATH = '/content/drive/MyDrive/NLPGh/'\n",
        "CLEAN_DATA_FILE_NAME = 'Book10Clean.csv'\n",
        "TOKENIZED_DATA_FILE_NAME = 'Book10Tokenized.csv'\n",
        "pd.set_option('display.max_colwidth', None)\n",
        "RANDOM_STATE = 42"
      ],
      "execution_count": 4,
      "outputs": []
    },
    {
      "cell_type": "markdown",
      "metadata": {
        "id": "VHp27KjYlB0O"
      },
      "source": [
        "# Load Data"
      ]
    },
    {
      "cell_type": "code",
      "metadata": {
        "ExecuteTime": {
          "end_time": "2020-09-03T17:16:02.095819Z",
          "start_time": "2020-09-03T17:16:02.044919Z"
        },
        "id": "zDbeITEDlB0P"
      },
      "source": [
        "df = pd.read_csv(DATA_FILE_PATH + TOKENIZED_DATA_FILE_NAME)"
      ],
      "execution_count": 5,
      "outputs": []
    },
    {
      "cell_type": "code",
      "metadata": {
        "ExecuteTime": {
          "end_time": "2020-09-03T17:16:02.121217Z",
          "start_time": "2020-09-03T17:16:02.098927Z"
        },
        "id": "10w_mXfylB0P",
        "colab": {
          "base_uri": "https://localhost:8080/",
          "height": 310
        },
        "outputId": "7b0c31bb-5b6d-4942-c749-a1040ec5f8a0"
      },
      "source": [
        "df.head()"
      ],
      "execution_count": 6,
      "outputs": [
        {
          "output_type": "execute_result",
          "data": {
            "text/html": [
              "<div>\n",
              "<style scoped>\n",
              "    .dataframe tbody tr th:only-of-type {\n",
              "        vertical-align: middle;\n",
              "    }\n",
              "\n",
              "    .dataframe tbody tr th {\n",
              "        vertical-align: top;\n",
              "    }\n",
              "\n",
              "    .dataframe thead th {\n",
              "        text-align: right;\n",
              "    }\n",
              "</style>\n",
              "<table border=\"1\" class=\"dataframe\">\n",
              "  <thead>\n",
              "    <tr style=\"text-align: right;\">\n",
              "      <th></th>\n",
              "      <th>Unnamed: 0</th>\n",
              "      <th>tweet</th>\n",
              "      <th>location_x</th>\n",
              "      <th>pretweet</th>\n",
              "      <th>candidate</th>\n",
              "      <th>LRPredScore</th>\n",
              "      <th>LRConfi</th>\n",
              "      <th>Sentiment</th>\n",
              "      <th>Unnamed: 8</th>\n",
              "      <th>tokens</th>\n",
              "    </tr>\n",
              "  </thead>\n",
              "  <tbody>\n",
              "    <tr>\n",
              "      <th>0</th>\n",
              "      <td>2</td>\n",
              "      <td>@NAkufoAddo  H. E Nana please follow up on this FAKE NEWS, LIES and sue BBC for peddling false information. Hold alÃ¢â¬Â¦ https://t.co/SdwnMsxeUV</td>\n",
              "      <td>NaN</td>\n",
              "      <td>nana pleas follow thi fake new lie and sue bbc for peddl fals inform hold al</td>\n",
              "      <td>Nana</td>\n",
              "      <td>-3.0</td>\n",
              "      <td>1.0</td>\n",
              "      <td>0</td>\n",
              "      <td>NaN</td>\n",
              "      <td>['nana', 'pleas', 'follow', 'thi', 'fake', 'new', 'lie', 'and', 'sue', 'bbc', 'for', 'peddl', 'fals', 'inform', 'hold', 'al']</td>\n",
              "    </tr>\n",
              "    <tr>\n",
              "      <th>1</th>\n",
              "      <td>6</td>\n",
              "      <td>@ChipsJhay @TruthFreema @AOuattara_PRCI @NAkufoAddo No, you haven't. He's using his freedom of speech as it is. He's covered.</td>\n",
              "      <td>Afamase Akotom, Ghana</td>\n",
              "      <td>no you havent he use hi freedom speech is he cover</td>\n",
              "      <td>Nana</td>\n",
              "      <td>NaN</td>\n",
              "      <td>NaN</td>\n",
              "      <td>0</td>\n",
              "      <td>NaN</td>\n",
              "      <td>['no', 'you', 'havent', 'he', 'use', 'hi', 'freedom', 'speech', 'is', 'he', 'cover']</td>\n",
              "    </tr>\n",
              "    <tr>\n",
              "      <th>2</th>\n",
              "      <td>7</td>\n",
              "      <td>@IssahGerard @HEgyiri @NAkufoAddo Please who is this and how is he your in law??</td>\n",
              "      <td>NaN</td>\n",
              "      <td>pleas who thi and how your law</td>\n",
              "      <td>Nana</td>\n",
              "      <td>-1.0</td>\n",
              "      <td>1.0</td>\n",
              "      <td>0</td>\n",
              "      <td>NaN</td>\n",
              "      <td>['pleas', 'who', 'thi', 'and', 'how', 'your', 'law']</td>\n",
              "    </tr>\n",
              "    <tr>\n",
              "      <th>3</th>\n",
              "      <td>17</td>\n",
              "      <td>@Kwame34580189 @bukolasaraki @NAkufoAddo Whatever.... Thought you had something there....</td>\n",
              "      <td>Nigeria</td>\n",
              "      <td>whatev thought you had someth there</td>\n",
              "      <td>Nana</td>\n",
              "      <td>NaN</td>\n",
              "      <td>NaN</td>\n",
              "      <td>0</td>\n",
              "      <td>NaN</td>\n",
              "      <td>['whatev', 'thought', 'you', 'had', 'someth', 'there']</td>\n",
              "    </tr>\n",
              "    <tr>\n",
              "      <th>4</th>\n",
              "      <td>18</td>\n",
              "      <td>@NAkufoAddo Remember that the good people of Gh have spoken therefore Soo be it</td>\n",
              "      <td>NaN</td>\n",
              "      <td>rememb that the good peopl have spoken therefor soo</td>\n",
              "      <td>Nana</td>\n",
              "      <td>1.0</td>\n",
              "      <td>1.0</td>\n",
              "      <td>0</td>\n",
              "      <td>NaN</td>\n",
              "      <td>['rememb', 'that', 'the', 'good', 'peopl', 'have', 'spoken', 'therefor', 'soo']</td>\n",
              "    </tr>\n",
              "  </tbody>\n",
              "</table>\n",
              "</div>"
            ],
            "text/plain": [
              "   Unnamed: 0  ...                                                                                                                         tokens\n",
              "0           2  ...  ['nana', 'pleas', 'follow', 'thi', 'fake', 'new', 'lie', 'and', 'sue', 'bbc', 'for', 'peddl', 'fals', 'inform', 'hold', 'al']\n",
              "1           6  ...                                           ['no', 'you', 'havent', 'he', 'use', 'hi', 'freedom', 'speech', 'is', 'he', 'cover']\n",
              "2           7  ...                                                                           ['pleas', 'who', 'thi', 'and', 'how', 'your', 'law']\n",
              "3          17  ...                                                                         ['whatev', 'thought', 'you', 'had', 'someth', 'there']\n",
              "4          18  ...                                                ['rememb', 'that', 'the', 'good', 'peopl', 'have', 'spoken', 'therefor', 'soo']\n",
              "\n",
              "[5 rows x 10 columns]"
            ]
          },
          "metadata": {},
          "execution_count": 6
        }
      ]
    },
    {
      "cell_type": "code",
      "metadata": {
        "id": "kjVU9EBaTjR_"
      },
      "source": [
        "df = df[df.Sentiment != 0]"
      ],
      "execution_count": 7,
      "outputs": []
    },
    {
      "cell_type": "code",
      "metadata": {
        "ExecuteTime": {
          "end_time": "2020-09-03T17:16:02.657186Z",
          "start_time": "2020-09-03T17:16:02.123742Z"
        },
        "id": "Mrv9uejolB0Q"
      },
      "source": [
        "df.tokens = df.tokens.map(ast.literal_eval)"
      ],
      "execution_count": 8,
      "outputs": []
    },
    {
      "cell_type": "code",
      "metadata": {
        "ExecuteTime": {
          "end_time": "2020-09-03T17:16:02.667070Z",
          "start_time": "2020-09-03T17:16:02.659444Z"
        },
        "id": "h4P53kCwlB0Q"
      },
      "source": [
        "data = df[['tokens', 'Sentiment']]"
      ],
      "execution_count": 9,
      "outputs": []
    },
    {
      "cell_type": "code",
      "metadata": {
        "colab": {
          "base_uri": "https://localhost:8080/"
        },
        "id": "q52zsaaRZoHt",
        "outputId": "117a7e60-1370-400e-e881-98882325f1d1"
      },
      "source": [
        "df.value_counts([\"candidate\", \"Sentiment\"])"
      ],
      "execution_count": 10,
      "outputs": [
        {
          "output_type": "execute_result",
          "data": {
            "text/plain": [
              "candidate  Sentiment\n",
              "Nana        1           500\n",
              "           -1           500\n",
              "John        1           500\n",
              "           -1           500\n",
              "dtype: int64"
            ]
          },
          "metadata": {},
          "execution_count": 10
        }
      ]
    },
    {
      "cell_type": "code",
      "metadata": {
        "colab": {
          "base_uri": "https://localhost:8080/"
        },
        "id": "BSibz1ahTrbe",
        "outputId": "6ebebce9-cd85-4c39-cb10-e57cf4ee3716"
      },
      "source": [
        "\n",
        "data.Sentiment.value_counts()"
      ],
      "execution_count": 11,
      "outputs": [
        {
          "output_type": "execute_result",
          "data": {
            "text/plain": [
              " 1    1000\n",
              "-1    1000\n",
              "Name: Sentiment, dtype: int64"
            ]
          },
          "metadata": {},
          "execution_count": 11
        }
      ]
    },
    {
      "cell_type": "code",
      "metadata": {
        "ExecuteTime": {
          "end_time": "2020-09-03T17:16:02.686384Z",
          "start_time": "2020-09-03T17:16:02.669773Z"
        },
        "id": "c5pF75gClB0R",
        "colab": {
          "base_uri": "https://localhost:8080/",
          "height": 206
        },
        "outputId": "307df23e-a155-4a8f-d8b6-ccc3fc9ffb88"
      },
      "source": [
        "data.head()"
      ],
      "execution_count": 12,
      "outputs": [
        {
          "output_type": "execute_result",
          "data": {
            "text/html": [
              "<div>\n",
              "<style scoped>\n",
              "    .dataframe tbody tr th:only-of-type {\n",
              "        vertical-align: middle;\n",
              "    }\n",
              "\n",
              "    .dataframe tbody tr th {\n",
              "        vertical-align: top;\n",
              "    }\n",
              "\n",
              "    .dataframe thead th {\n",
              "        text-align: right;\n",
              "    }\n",
              "</style>\n",
              "<table border=\"1\" class=\"dataframe\">\n",
              "  <thead>\n",
              "    <tr style=\"text-align: right;\">\n",
              "      <th></th>\n",
              "      <th>tokens</th>\n",
              "      <th>Sentiment</th>\n",
              "    </tr>\n",
              "  </thead>\n",
              "  <tbody>\n",
              "    <tr>\n",
              "      <th>1000</th>\n",
              "      <td>[they, dont, know, anyth, about, peac]</td>\n",
              "      <td>-1</td>\n",
              "    </tr>\n",
              "    <tr>\n",
              "      <th>1001</th>\n",
              "      <td>[good, may, god, bless, protect, you]</td>\n",
              "      <td>1</td>\n",
              "    </tr>\n",
              "    <tr>\n",
              "      <th>1002</th>\n",
              "      <td>[presid, receiv, the, grace, god, almighti, what, ha, ordain, you, for, jesu, mighti, name]</td>\n",
              "      <td>1</td>\n",
              "    </tr>\n",
              "    <tr>\n",
              "      <th>1003</th>\n",
              "      <td>[gad, cant, believ, itu, are, congratul, dem, npp, parti, are, corrupt]</td>\n",
              "      <td>-1</td>\n",
              "    </tr>\n",
              "    <tr>\n",
              "      <th>1004</th>\n",
              "      <td>[pleas, may, god, continu, strengthen, you, more, pleas]</td>\n",
              "      <td>1</td>\n",
              "    </tr>\n",
              "  </tbody>\n",
              "</table>\n",
              "</div>"
            ],
            "text/plain": [
              "                                                                                           tokens  Sentiment\n",
              "1000                                                       [they, dont, know, anyth, about, peac]         -1\n",
              "1001                                                        [good, may, god, bless, protect, you]          1\n",
              "1002  [presid, receiv, the, grace, god, almighti, what, ha, ordain, you, for, jesu, mighti, name]          1\n",
              "1003                      [gad, cant, believ, itu, are, congratul, dem, npp, parti, are, corrupt]         -1\n",
              "1004                                     [pleas, may, god, continu, strengthen, you, more, pleas]          1"
            ]
          },
          "metadata": {},
          "execution_count": 12
        }
      ]
    },
    {
      "cell_type": "markdown",
      "metadata": {
        "id": "hW-n-vgjlB0R"
      },
      "source": [
        "# Split Data"
      ]
    },
    {
      "cell_type": "code",
      "metadata": {
        "ExecuteTime": {
          "end_time": "2020-09-03T17:16:02.710972Z",
          "start_time": "2020-09-03T17:16:02.690629Z"
        },
        "id": "V20AZVcllB0R"
      },
      "source": [
        "\"\"\"\n",
        "X_train, X_test, y_train, y_test = train_test_split(data['tokens'], \n",
        "                                                    data['Sentiment'],\n",
        "                                                   test_size = 0.2,\n",
        "                                                   random_state = RANDOM_STATE,\n",
        "                                                   stratify = data['Sentiment'])\n",
        "\"\"\"\n",
        "\n",
        "X = data['tokens']\n",
        "y = data['Sentiment']"
      ],
      "execution_count": 13,
      "outputs": []
    },
    {
      "cell_type": "markdown",
      "metadata": {
        "id": "rU_DxqMRlB0S"
      },
      "source": [
        "# Encode Labels"
      ]
    },
    {
      "cell_type": "code",
      "metadata": {
        "ExecuteTime": {
          "end_time": "2020-09-03T17:16:02.736519Z",
          "start_time": "2020-09-03T17:16:02.733107Z"
        },
        "id": "8Y15iD7SlB0T"
      },
      "source": [
        "le = LabelEncoder()"
      ],
      "execution_count": 14,
      "outputs": []
    },
    {
      "cell_type": "code",
      "metadata": {
        "ExecuteTime": {
          "end_time": "2020-09-03T17:16:02.754233Z",
          "start_time": "2020-09-03T17:16:02.750132Z"
        },
        "id": "-KgLeTxKlB0U"
      },
      "source": [
        "y_enc = le.fit_transform(y)"
      ],
      "execution_count": 15,
      "outputs": []
    },
    {
      "cell_type": "markdown",
      "metadata": {
        "id": "Wl_PLytzlB0U"
      },
      "source": [
        "# Evaluate Adjustments to Minimum Document Frequency"
      ]
    },
    {
      "cell_type": "code",
      "metadata": {
        "ExecuteTime": {
          "end_time": "2020-09-03T17:16:03.090745Z",
          "start_time": "2020-09-03T17:16:02.756711Z"
        },
        "id": "0VT4Vd9elB0U"
      },
      "source": [
        "from nltk import word_tokenize          \n",
        "from nltk.stem import WordNetLemmatizer \n",
        "class LemmaTokenizer:\n",
        "    def __init__(self):\n",
        "         self.wnl = WordNetLemmatizer()\n",
        "    def __call__(self, doc):\n",
        "        return [self.wnl.lemmatize(t) for t in doc]"
      ],
      "execution_count": 16,
      "outputs": []
    },
    {
      "cell_type": "code",
      "metadata": {
        "ExecuteTime": {
          "end_time": "2020-09-03T17:16:03.110361Z",
          "start_time": "2020-09-03T17:16:03.093086Z"
        },
        "id": "yzQD_3GTlB0V"
      },
      "source": [
        "class stop_word_remover:\n",
        "    def __init__(self):\n",
        "         self.stop_words = frozenset(['the', 'to', 'at', 'rt', 'for', 'a', \n",
        "                                      'in', 'is', 'of', 'and', 'on', 'i', \n",
        "                                      'you', 'an', 'with', 'it', 'this'])\n",
        "    def __call__(self, doc):\n",
        "        return [t for t in doc if t not in self.stop_words]"
      ],
      "execution_count": 17,
      "outputs": []
    },
    {
      "cell_type": "code",
      "metadata": {
        "ExecuteTime": {
          "end_time": "2020-09-03T17:16:03.118224Z",
          "start_time": "2020-09-03T17:16:03.113169Z"
        },
        "id": "SXHEdJnOlB0V"
      },
      "source": [
        "def passthrough(doc):\n",
        "    \"\"\"passthrough function for use in the pipeline because the text is already tokenized\"\"\"\n",
        "    return doc"
      ],
      "execution_count": 18,
      "outputs": []
    },
    {
      "cell_type": "code",
      "metadata": {
        "ExecuteTime": {
          "end_time": "2020-09-03T17:16:03.135991Z",
          "start_time": "2020-09-03T17:16:03.120657Z"
        },
        "id": "bCKq-PyelB0V"
      },
      "source": [
        "def train_and_eval_model(min_df, ngram_range):\n",
        "    \"\"\"\n",
        "    Train and Evaluate and Bag of Words Representation with a Naive Bayes\n",
        "    classifier with a specified minimum document frequency.\n",
        "    \"\"\"\n",
        "    \n",
        "    pipeline = Pipeline([\n",
        "                        ('bow',CountVectorizer(min_df=min_df,\n",
        "                                               ngram_range=ngram_range,\n",
        "                                               max_features=10000,\n",
        "                                               analyzer='word',\n",
        "                                               preprocessor=stop_word_remover(),\n",
        "                                               tokenizer=LemmaTokenizer(), \n",
        "                                               lowercase=False)),  \n",
        "                        ('tfidf', TfidfTransformer()),\n",
        "                        ('smote', SMOTE(random_state=RANDOM_STATE, n_jobs=-1)),\n",
        "                        ('rf_classifier', RandomForestClassifier(random_state=RANDOM_STATE))])\n",
        "    \n",
        "     \n",
        "\n",
        "\n",
        "    \"\"\"\n",
        "    pipeline_lr = Pipeline([('Scaler1', StandardScaler()),\n",
        "                       ('lr_classifier', LogisticRegression(random_state=0))])\n",
        "\n",
        "\n",
        "\n",
        "    pipeline.fit(X_train,y_train_enc)\n",
        "    \n",
        "    print(f'MINIMUM DOCUMENT FREQUENCY = {min_df}')\n",
        "    print('')\n",
        "    \n",
        "    y_pred = pipeline.predict(X_test)\n",
        "\n",
        "\n",
        "\n",
        "    conf_matrix = confusion_matrix(y_true=y_test_enc, y_pred=y_pred)\n",
        "    #confusion_matrix(y_true=y_train_enc, y_pred=pipeline.predict(X_train),labels='Training')\n",
        "\n",
        "    \n",
        "    classi_report = classification_report(y_true=y_test_enc, y_pred=y_pred, target_names=['Negative', 'Neutral', 'Postive'])\n",
        "    print(classi_report)\n",
        "\n",
        "    \n",
        "    lb = LabelBinarizer()\n",
        "    lb.fit(y_test_enc)\n",
        "    y_test_multi = lb.transform(y_test_enc)\n",
        "    y_hat_test_multi = pipeline.predict_proba(X_test)\n",
        "    \n",
        "    #evaluation_functions.pr_curves(y_test_multi, y_hat_test_multi, le.classes_)\n",
        "    \n",
        "    train_accuracy = accuracy_score(y_train_enc, pipeline.predict(X_train))\n",
        "    \n",
        "    test_accuracy = accuracy_score(y_test_enc, pipeline.predict(X_test))\n",
        "        \n",
        "    recall_scores = recall_score(y_test_enc, pipeline.predict(X_test), average=None)\n",
        "    \n",
        "    test_results = np.append(np.array([min_df, train_accuracy, test_accuracy]),\n",
        "                             recall_scores)\n",
        "   \n",
        "    return test_results, conf_matrix\n",
        "    \"\"\"\n",
        "\n",
        "    scoring = {'accuracy' : make_scorer(accuracy_score),\n",
        "               'f1_score' : make_scorer(f1_score, average = 'micro'), \n",
        "               'precision' : make_scorer(precision_score, average = 'micro'),\n",
        "               'recall' : make_scorer(recall_score, average = 'micro') \n",
        "              }\n",
        "    \n",
        "    scores = cross_validate(pipeline, X, y_enc, cv=10, scoring=scoring)\n",
        "    sorted(scores.keys())\n",
        "\n",
        "    y_pred = cross_val_predict(pipeline, X, y_enc, cv=10)\n",
        "\n",
        "    \n",
        "    print(f'MINIMUM DOCUMENT FREQUENCY = {min_df}')\n",
        "    print('')\n",
        "    \n",
        "    conf_matrix = confusion_matrix(y_true=y_enc, y_pred=y_pred)\n",
        "\n",
        "    classi_report = classification_report(y_true=y_enc, y_pred=y_pred, digits=4, target_names=['Negative','Postive'])\n",
        "    print(classi_report)\n",
        "\n",
        "    \"\"\"\n",
        "    #y_pred = cross_val_predict(Pipeline, X, Y, cv=10)\n",
        "    \n",
        "    \n",
        "    #y_pred = pipeline.predict(X_test)\n",
        "\n",
        "\n",
        "\n",
        "    #conf_matrix = confusion_matrix(y_true=y_test_enc, y_pred=y_pred)\n",
        "    #confusion_matrix(y_true=y_train_enc, y_pred=pipeline.predict(X_train),labels='Training')\n",
        "\n",
        "    \n",
        "    #classi_report = classification_report(y_true=y_test_enc, y_pred=y_pred, target_names=['Negative', 'Postive'])\n",
        "    #print(classi_report)\n",
        "    ['fit_time', 'score_time', 'test_prec_macro', 'test_rec_macro',\n",
        " 'train_prec_macro', 'train_rec_macro']\n",
        "\n",
        "    \n",
        "    #train_accuracy = accuracy_score(y_train_enc, pipeline.predict(X_train))\n",
        "    \n",
        "    test_accuracy = accuracy_score(y_test_enc, pipeline.predict(X_test))\n",
        "    \n",
        "    ave_macro_recall = recall_score(y_test_enc, pipeline.predict(X_test), average='macro')\n",
        "    recall_scores = recall_score(y_test_enc, pipeline.predict(X_test), average=None)\n",
        "    \n",
        "    test_results = np.append(np.array([min_df, train_accuracy, test_accuracy, ave_macro_recall]),\n",
        "                             recall_scores, score_mean)\n",
        "    \"\"\"\n",
        "    a = scores['test_accuracy'].mean()\n",
        "    f = scores['test_f1_score'].mean()\n",
        "    p = scores['test_precision'].mean()\n",
        "    r = scores['test_recall'].mean()\n",
        "    test_results = np.append(np.array([min_df, a, f, p]),r)\n",
        "    \n",
        "    \n",
        "   \n",
        "    return test_results, conf_matrix, y_pred \n",
        "    "
      ],
      "execution_count": 19,
      "outputs": []
    },
    {
      "cell_type": "code",
      "metadata": {
        "ExecuteTime": {
          "end_time": "2020-09-03T17:18:42.906766Z",
          "start_time": "2020-09-03T17:16:03.138290Z"
        },
        "scrolled": true,
        "id": "IkIHHKpElB0W",
        "colab": {
          "base_uri": "https://localhost:8080/"
        },
        "outputId": "7a0eb40e-a38d-4d71-ce5c-59dad12103fd"
      },
      "source": [
        "metrics_summary = []\n",
        "\n",
        "for min_df in range(1,11):\n",
        "    test_scores, conf_matrix, y_pred = train_and_eval_model(min_df, (1,2))\n",
        "    metrics_summary.append(test_scores)"
      ],
      "execution_count": 20,
      "outputs": [
        {
          "output_type": "stream",
          "name": "stdout",
          "text": [
            "MINIMUM DOCUMENT FREQUENCY = 1\n",
            "\n",
            "              precision    recall  f1-score   support\n",
            "\n",
            "    Negative     0.8567    0.7950    0.8247      1000\n",
            "     Postive     0.8088    0.8670    0.8369      1000\n",
            "\n",
            "    accuracy                         0.8310      2000\n",
            "   macro avg     0.8327    0.8310    0.8308      2000\n",
            "weighted avg     0.8327    0.8310    0.8308      2000\n",
            "\n",
            "MINIMUM DOCUMENT FREQUENCY = 2\n",
            "\n",
            "              precision    recall  f1-score   support\n",
            "\n",
            "    Negative     0.8380    0.8380    0.8380      1000\n",
            "     Postive     0.8380    0.8380    0.8380      1000\n",
            "\n",
            "    accuracy                         0.8380      2000\n",
            "   macro avg     0.8380    0.8380    0.8380      2000\n",
            "weighted avg     0.8380    0.8380    0.8380      2000\n",
            "\n",
            "MINIMUM DOCUMENT FREQUENCY = 3\n",
            "\n",
            "              precision    recall  f1-score   support\n",
            "\n",
            "    Negative     0.8357    0.8340    0.8348      1000\n",
            "     Postive     0.8343    0.8360    0.8352      1000\n",
            "\n",
            "    accuracy                         0.8350      2000\n",
            "   macro avg     0.8350    0.8350    0.8350      2000\n",
            "weighted avg     0.8350    0.8350    0.8350      2000\n",
            "\n",
            "MINIMUM DOCUMENT FREQUENCY = 4\n",
            "\n",
            "              precision    recall  f1-score   support\n",
            "\n",
            "    Negative     0.8338    0.8280    0.8309      1000\n",
            "     Postive     0.8292    0.8350    0.8321      1000\n",
            "\n",
            "    accuracy                         0.8315      2000\n",
            "   macro avg     0.8315    0.8315    0.8315      2000\n",
            "weighted avg     0.8315    0.8315    0.8315      2000\n",
            "\n",
            "MINIMUM DOCUMENT FREQUENCY = 5\n",
            "\n",
            "              precision    recall  f1-score   support\n",
            "\n",
            "    Negative     0.8323    0.8240    0.8281      1000\n",
            "     Postive     0.8257    0.8340    0.8299      1000\n",
            "\n",
            "    accuracy                         0.8290      2000\n",
            "   macro avg     0.8290    0.8290    0.8290      2000\n",
            "weighted avg     0.8290    0.8290    0.8290      2000\n",
            "\n",
            "MINIMUM DOCUMENT FREQUENCY = 6\n",
            "\n",
            "              precision    recall  f1-score   support\n",
            "\n",
            "    Negative     0.8252    0.8260    0.8256      1000\n",
            "     Postive     0.8258    0.8250    0.8254      1000\n",
            "\n",
            "    accuracy                         0.8255      2000\n",
            "   macro avg     0.8255    0.8255    0.8255      2000\n",
            "weighted avg     0.8255    0.8255    0.8255      2000\n",
            "\n",
            "MINIMUM DOCUMENT FREQUENCY = 7\n",
            "\n",
            "              precision    recall  f1-score   support\n",
            "\n",
            "    Negative     0.8332    0.8090    0.8209      1000\n",
            "     Postive     0.8144    0.8380    0.8260      1000\n",
            "\n",
            "    accuracy                         0.8235      2000\n",
            "   macro avg     0.8238    0.8235    0.8235      2000\n",
            "weighted avg     0.8238    0.8235    0.8235      2000\n",
            "\n",
            "MINIMUM DOCUMENT FREQUENCY = 8\n",
            "\n",
            "              precision    recall  f1-score   support\n",
            "\n",
            "    Negative     0.8308    0.8100    0.8203      1000\n",
            "     Postive     0.8146    0.8350    0.8247      1000\n",
            "\n",
            "    accuracy                         0.8225      2000\n",
            "   macro avg     0.8227    0.8225    0.8225      2000\n",
            "weighted avg     0.8227    0.8225    0.8225      2000\n",
            "\n",
            "MINIMUM DOCUMENT FREQUENCY = 9\n",
            "\n",
            "              precision    recall  f1-score   support\n",
            "\n",
            "    Negative     0.8236    0.8220    0.8228      1000\n",
            "     Postive     0.8224    0.8240    0.8232      1000\n",
            "\n",
            "    accuracy                         0.8230      2000\n",
            "   macro avg     0.8230    0.8230    0.8230      2000\n",
            "weighted avg     0.8230    0.8230    0.8230      2000\n",
            "\n",
            "MINIMUM DOCUMENT FREQUENCY = 10\n",
            "\n",
            "              precision    recall  f1-score   support\n",
            "\n",
            "    Negative     0.8116    0.8230    0.8173      1000\n",
            "     Postive     0.8205    0.8090    0.8147      1000\n",
            "\n",
            "    accuracy                         0.8160      2000\n",
            "   macro avg     0.8161    0.8160    0.8160      2000\n",
            "weighted avg     0.8161    0.8160    0.8160      2000\n",
            "\n"
          ]
        }
      ]
    },
    {
      "cell_type": "code",
      "metadata": {
        "ExecuteTime": {
          "end_time": "2020-09-03T17:18:42.930765Z",
          "start_time": "2020-09-03T17:18:42.909046Z"
        },
        "id": "rwglKyWplB0X",
        "colab": {
          "base_uri": "https://localhost:8080/",
          "height": 363
        },
        "outputId": "9888bdbf-0f90-4880-eac2-f96a021c61b6"
      },
      "source": [
        "metrics_summary_df = pd.DataFrame(metrics_summary, \n",
        "                                  columns=['min doc freq',\n",
        "                                           'accuracy',\n",
        "                                           'f1_score',\n",
        "                                           'precision',\n",
        "                                          'recall'\n",
        "                                          ])\n",
        "\n",
        "metrics_summary_df"
      ],
      "execution_count": 21,
      "outputs": [
        {
          "output_type": "execute_result",
          "data": {
            "text/html": [
              "<div>\n",
              "<style scoped>\n",
              "    .dataframe tbody tr th:only-of-type {\n",
              "        vertical-align: middle;\n",
              "    }\n",
              "\n",
              "    .dataframe tbody tr th {\n",
              "        vertical-align: top;\n",
              "    }\n",
              "\n",
              "    .dataframe thead th {\n",
              "        text-align: right;\n",
              "    }\n",
              "</style>\n",
              "<table border=\"1\" class=\"dataframe\">\n",
              "  <thead>\n",
              "    <tr style=\"text-align: right;\">\n",
              "      <th></th>\n",
              "      <th>min doc freq</th>\n",
              "      <th>accuracy</th>\n",
              "      <th>f1_score</th>\n",
              "      <th>precision</th>\n",
              "      <th>recall</th>\n",
              "    </tr>\n",
              "  </thead>\n",
              "  <tbody>\n",
              "    <tr>\n",
              "      <th>0</th>\n",
              "      <td>1.0</td>\n",
              "      <td>0.8310</td>\n",
              "      <td>0.8310</td>\n",
              "      <td>0.8310</td>\n",
              "      <td>0.8310</td>\n",
              "    </tr>\n",
              "    <tr>\n",
              "      <th>1</th>\n",
              "      <td>2.0</td>\n",
              "      <td>0.8380</td>\n",
              "      <td>0.8380</td>\n",
              "      <td>0.8380</td>\n",
              "      <td>0.8380</td>\n",
              "    </tr>\n",
              "    <tr>\n",
              "      <th>2</th>\n",
              "      <td>3.0</td>\n",
              "      <td>0.8350</td>\n",
              "      <td>0.8350</td>\n",
              "      <td>0.8350</td>\n",
              "      <td>0.8350</td>\n",
              "    </tr>\n",
              "    <tr>\n",
              "      <th>3</th>\n",
              "      <td>4.0</td>\n",
              "      <td>0.8315</td>\n",
              "      <td>0.8315</td>\n",
              "      <td>0.8315</td>\n",
              "      <td>0.8315</td>\n",
              "    </tr>\n",
              "    <tr>\n",
              "      <th>4</th>\n",
              "      <td>5.0</td>\n",
              "      <td>0.8290</td>\n",
              "      <td>0.8290</td>\n",
              "      <td>0.8290</td>\n",
              "      <td>0.8290</td>\n",
              "    </tr>\n",
              "    <tr>\n",
              "      <th>5</th>\n",
              "      <td>6.0</td>\n",
              "      <td>0.8255</td>\n",
              "      <td>0.8255</td>\n",
              "      <td>0.8255</td>\n",
              "      <td>0.8255</td>\n",
              "    </tr>\n",
              "    <tr>\n",
              "      <th>6</th>\n",
              "      <td>7.0</td>\n",
              "      <td>0.8235</td>\n",
              "      <td>0.8235</td>\n",
              "      <td>0.8235</td>\n",
              "      <td>0.8235</td>\n",
              "    </tr>\n",
              "    <tr>\n",
              "      <th>7</th>\n",
              "      <td>8.0</td>\n",
              "      <td>0.8225</td>\n",
              "      <td>0.8225</td>\n",
              "      <td>0.8225</td>\n",
              "      <td>0.8225</td>\n",
              "    </tr>\n",
              "    <tr>\n",
              "      <th>8</th>\n",
              "      <td>9.0</td>\n",
              "      <td>0.8230</td>\n",
              "      <td>0.8230</td>\n",
              "      <td>0.8230</td>\n",
              "      <td>0.8230</td>\n",
              "    </tr>\n",
              "    <tr>\n",
              "      <th>9</th>\n",
              "      <td>10.0</td>\n",
              "      <td>0.8160</td>\n",
              "      <td>0.8160</td>\n",
              "      <td>0.8160</td>\n",
              "      <td>0.8160</td>\n",
              "    </tr>\n",
              "  </tbody>\n",
              "</table>\n",
              "</div>"
            ],
            "text/plain": [
              "   min doc freq  accuracy  f1_score  precision  recall\n",
              "0           1.0    0.8310    0.8310     0.8310  0.8310\n",
              "1           2.0    0.8380    0.8380     0.8380  0.8380\n",
              "2           3.0    0.8350    0.8350     0.8350  0.8350\n",
              "3           4.0    0.8315    0.8315     0.8315  0.8315\n",
              "4           5.0    0.8290    0.8290     0.8290  0.8290\n",
              "5           6.0    0.8255    0.8255     0.8255  0.8255\n",
              "6           7.0    0.8235    0.8235     0.8235  0.8235\n",
              "7           8.0    0.8225    0.8225     0.8225  0.8225\n",
              "8           9.0    0.8230    0.8230     0.8230  0.8230\n",
              "9          10.0    0.8160    0.8160     0.8160  0.8160"
            ]
          },
          "metadata": {},
          "execution_count": 21
        }
      ]
    },
    {
      "cell_type": "code",
      "metadata": {
        "ExecuteTime": {
          "end_time": "2020-09-03T17:24:47.161130Z",
          "start_time": "2020-09-03T17:24:32.243518Z"
        },
        "scrolled": false,
        "id": "Lw56Eol3lB0Y",
        "colab": {
          "base_uri": "https://localhost:8080/",
          "height": 692
        },
        "outputId": "bec31673-727a-4ff5-84b1-a09c00cca936"
      },
      "source": [
        "#metrics = train_and_eval_model(min_df=7, ngram_range=(1,2))\n",
        "\n",
        "test_results, conf_matrix, y_pred = train_and_eval_model(min_df=2, ngram_range=(1,2))\n",
        "labels = ['Negative', 'Postive']\n",
        "\n",
        "fig, ax = plt.subplots(figsize=(7.5, 7.5))\n",
        "ax.matshow(conf_matrix, cmap=plt.cm.Blues, alpha=0.3)\n",
        "for i in range(conf_matrix.shape[0]):\n",
        "    for j in range(conf_matrix.shape[1]):\n",
        "        ax.text(x=j, y=i,s=conf_matrix[i, j], va='center', ha='center', size='xx-large')\n",
        " \n",
        "plt.xlabel('Predictions', fontsize=18)\n",
        "plt.ylabel('Actuals', fontsize=18)\n",
        "ax.set_xticklabels([''] + labels)\n",
        "ax.set_yticklabels([''] + labels)\n",
        "plt.title('Confusion Matrix', fontsize=18)\n",
        "plt.show()"
      ],
      "execution_count": 22,
      "outputs": [
        {
          "output_type": "stream",
          "name": "stdout",
          "text": [
            "MINIMUM DOCUMENT FREQUENCY = 2\n",
            "\n",
            "              precision    recall  f1-score   support\n",
            "\n",
            "    Negative     0.8380    0.8380    0.8380      1000\n",
            "     Postive     0.8380    0.8380    0.8380      1000\n",
            "\n",
            "    accuracy                         0.8380      2000\n",
            "   macro avg     0.8380    0.8380    0.8380      2000\n",
            "weighted avg     0.8380    0.8380    0.8380      2000\n",
            "\n"
          ]
        },
        {
          "output_type": "display_data",
          "data": {
            "image/png": "[encoded data removed]",
            "text/plain": [
              "<Figure size 540x540 with 1 Axes>"
            ]
          },
          "metadata": {
            "needs_background": "light"
          }
        }
      ]
    },
    {
      "cell_type": "markdown",
      "metadata": {
        "id": "bKpYWE4-lB0Y"
      },
      "source": [
        "# Summary"
      ]
    },
    {
      "cell_type": "markdown",
      "metadata": {
        "id": "S_z7N97elB0Z"
      },
      "source": [
        "SVM looks better\n"
      ]
    }
  ]
}