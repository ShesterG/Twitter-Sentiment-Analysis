{
  "nbformat": 4,
  "nbformat_minor": 0,
  "metadata": {
    "kernelspec": {
      "display_name": "learn-env",
      "language": "python",
      "name": "learn-env"
    },
    "language_info": {
      "codemirror_mode": {
        "name": "ipython",
        "version": 3
      },
      "file_extension": ".py",
      "mimetype": "text/x-python",
      "name": "python",
      "nbconvert_exporter": "python",
      "pygments_lexer": "ipython3",
      "version": "3.6.9"
    },
    "toc": {
      "base_numbering": 1,
      "nav_menu": {},
      "number_sections": true,
      "sideBar": true,
      "skip_h1_title": false,
      "title_cell": "Table of Contents",
      "title_sidebar": "Contents",
      "toc_cell": false,
      "toc_position": {},
      "toc_section_display": true,
      "toc_window_display": true
    },
    "varInspector": {
      "cols": {
        "lenName": 16,
        "lenType": 16,
        "lenVar": 40
      },
      "kernels_config": {
        "python": {
          "delete_cmd_postfix": "",
          "delete_cmd_prefix": "del ",
          "library": "var_list.py",
          "varRefreshCmd": "print(var_dic_list())"
        },
        "r": {
          "delete_cmd_postfix": ") ",
          "delete_cmd_prefix": "rm(",
          "library": "var_list.r",
          "varRefreshCmd": "cat(var_dic_list()) "
        }
      },
      "types_to_exclude": [
        "module",
        "function",
        "builtin_function_or_method",
        "instance",
        "_Feature"
      ],
      "window_display": false
    },
    "colab": {
      "name": "01_eda.ipynb",
      "provenance": [],
      "include_colab_link": true
    }
  },
  "cells": [
    {
      "cell_type": "markdown",
      "metadata": {
        "id": "view-in-github",
        "colab_type": "text"
      },
      "source": [
        "<a href=\"https://colab.research.google.com/github/ShesterG/Twitter-Sentiment-Analysis/blob/master/notebooks/01_eda.ipynb\" target=\"_parent\"><img src=\"https://colab.research.google.com/assets/colab-badge.svg\" alt=\"Open In Colab\"/></a>"
      ]
    },
    {
      "cell_type": "markdown",
      "metadata": {
        "id": "CqYhg2PijBgd"
      },
      "source": [
        "# EDA for Twitter Sentiment Analysis"
      ]
    },
    {
      "cell_type": "code",
      "metadata": {
        "id": "nuToZd6Ncwow",
        "outputId": "3d46e1b9-35dd-45bb-f7f3-db6ff1d67528",
        "colab": {
          "base_uri": "https://localhost:8080/"
        }
      },
      "source": [
        "from google.colab import drive\n",
        "drive.mount(\"/content/drive\", force_remount=True)"
      ],
      "execution_count": 1,
      "outputs": [
        {
          "output_type": "stream",
          "text": [
            "Mounted at /content/drive\n"
          ],
          "name": "stdout"
        }
      ]
    },
    {
      "cell_type": "markdown",
      "metadata": {
        "id": "fXPKfl80jBgh"
      },
      "source": [
        "# Imports & Constants"
      ]
    },
    {
      "cell_type": "code",
      "metadata": {
        "ExecuteTime": {
          "end_time": "2020-09-15T19:09:37.749559Z",
          "start_time": "2020-09-15T19:09:35.912714Z"
        },
        "id": "k6qEEWPxjBgj"
      },
      "source": [
        "import pandas as pd\n",
        "import matplotlib.pyplot as plt\n",
        "%matplotlib inline\n",
        "import re"
      ],
      "execution_count": 2,
      "outputs": []
    },
    {
      "cell_type": "code",
      "metadata": {
        "ExecuteTime": {
          "end_time": "2020-09-15T19:09:37.755879Z",
          "start_time": "2020-09-15T19:09:37.751837Z"
        },
        "id": "DU3EQXXWjBgk"
      },
      "source": [
        "DATA_FILE_PATH = '/content/drive/MyDrive/NLPGh/'\n",
        "DATA_FILE_NAME = 'DataSet2Original.csv'\n",
        "SAVE_FILE = True\n"
      ],
      "execution_count": 27,
      "outputs": []
    },
    {
      "cell_type": "markdown",
      "metadata": {
        "id": "8rsFgBPejBgk"
      },
      "source": [
        "# Read Data File"
      ]
    },
    {
      "cell_type": "code",
      "metadata": {
        "ExecuteTime": {
          "end_time": "2020-09-15T19:09:37.897911Z",
          "start_time": "2020-09-15T19:09:37.758814Z"
        },
        "id": "ZQkAYtQfjBgl"
      },
      "source": [
        "df = pd.read_csv(DATA_FILE_PATH + DATA_FILE_NAME)"
      ],
      "execution_count": 5,
      "outputs": []
    },
    {
      "cell_type": "markdown",
      "metadata": {
        "id": "6pHm25OvjBgl"
      },
      "source": [
        "# Initial Review of Data"
      ]
    },
    {
      "cell_type": "code",
      "metadata": {
        "ExecuteTime": {
          "end_time": "2020-09-15T19:09:37.921278Z",
          "start_time": "2020-09-15T19:09:37.900473Z"
        },
        "id": "3mFuHp2zjBgm",
        "outputId": "d1395328-0c83-40be-fbcc-f16841baf368",
        "colab": {
          "base_uri": "https://localhost:8080/",
          "height": 289
        }
      },
      "source": [
        "df.head()"
      ],
      "execution_count": 6,
      "outputs": [
        {
          "output_type": "execute_result",
          "data": {
            "text/html": [
              "<div>\n",
              "<style scoped>\n",
              "    .dataframe tbody tr th:only-of-type {\n",
              "        vertical-align: middle;\n",
              "    }\n",
              "\n",
              "    .dataframe tbody tr th {\n",
              "        vertical-align: top;\n",
              "    }\n",
              "\n",
              "    .dataframe thead th {\n",
              "        text-align: right;\n",
              "    }\n",
              "</style>\n",
              "<table border=\"1\" class=\"dataframe\">\n",
              "  <thead>\n",
              "    <tr style=\"text-align: right;\">\n",
              "      <th></th>\n",
              "      <th>Unnamed</th>\n",
              "      <th>tweet</th>\n",
              "      <th>location</th>\n",
              "      <th>pretweet</th>\n",
              "      <th>Sentiment</th>\n",
              "    </tr>\n",
              "  </thead>\n",
              "  <tbody>\n",
              "    <tr>\n",
              "      <th>0</th>\n",
              "      <td>65780</td>\n",
              "      <td>Pls add us some momo to make data  0246964913 ...</td>\n",
              "      <td>NaN</td>\n",
              "      <td>pl add some momo make data 0246964913</td>\n",
              "      <td>0.0</td>\n",
              "    </tr>\n",
              "    <tr>\n",
              "      <th>1</th>\n",
              "      <td>65781</td>\n",
              "      <td>@McVan_1 @AnnanPerry @blac4rina We will descen...</td>\n",
              "      <td>Ghana</td>\n",
              "      <td>will descend soon</td>\n",
              "      <td>0.0</td>\n",
              "    </tr>\n",
              "    <tr>\n",
              "      <th>2</th>\n",
              "      <td>65782</td>\n",
              "      <td>*Forgery allegations by EC is not enough to di...</td>\n",
              "      <td>NaN</td>\n",
              "      <td>forgeri alleg not enough disqualifi the five p...</td>\n",
              "      <td>0.0</td>\n",
              "    </tr>\n",
              "    <tr>\n",
              "      <th>3</th>\n",
              "      <td>65783</td>\n",
              "      <td>@NiiWills @bosompemny I donâ€™t know how dem d...</td>\n",
              "      <td>dansoman accra</td>\n",
              "      <td>dont know how dem dey see</td>\n",
              "      <td>0.0</td>\n",
              "    </tr>\n",
              "    <tr>\n",
              "      <th>4</th>\n",
              "      <td>65784</td>\n",
              "      <td>Do we have online renewal what what ka kwano??...</td>\n",
              "      <td>Botswana</td>\n",
              "      <td>have onlin renew what what kwano</td>\n",
              "      <td>0.0</td>\n",
              "    </tr>\n",
              "  </tbody>\n",
              "</table>\n",
              "</div>"
            ],
            "text/plain": [
              "   Unnamed  ... Sentiment\n",
              "0    65780  ...       0.0\n",
              "1    65781  ...       0.0\n",
              "2    65782  ...       0.0\n",
              "3    65783  ...       0.0\n",
              "4    65784  ...       0.0\n",
              "\n",
              "[5 rows x 5 columns]"
            ]
          },
          "metadata": {
            "tags": []
          },
          "execution_count": 6
        }
      ]
    },
    {
      "cell_type": "markdown",
      "metadata": {
        "id": "YQfuhk3ujBgo"
      },
      "source": [
        "## What are the categorical values?"
      ]
    },
    {
      "cell_type": "code",
      "metadata": {
        "ExecuteTime": {
          "end_time": "2020-09-15T19:09:37.951884Z",
          "start_time": "2020-09-15T19:09:37.923508Z"
        },
        "id": "qqooqvFGjBgp",
        "outputId": "a692cf1b-8629-4c10-84aa-d9fba9bfbf29"
      },
      "source": [
        "#df.emotion_in_tweet_is_directed_at.value_counts(dropna=False)"
      ],
      "execution_count": null,
      "outputs": [
        {
          "output_type": "execute_result",
          "data": {
            "text/plain": [
              "NaN                                5552\n",
              "iPad                                910\n",
              "Apple                               640\n",
              "iPad or iPhone App                  451\n",
              "Google                              412\n",
              "iPhone                              288\n",
              "Other Google product or service     282\n",
              "Android App                          78\n",
              "Android                              74\n",
              "Other Apple product or service       34\n",
              "Name: emotion_in_tweet_is_directed_at, dtype: int64"
            ]
          },
          "metadata": {
            "tags": []
          },
          "execution_count": 5
        }
      ]
    },
    {
      "cell_type": "code",
      "metadata": {
        "ExecuteTime": {
          "end_time": "2020-09-15T19:09:37.992380Z",
          "start_time": "2020-09-15T19:09:37.955213Z"
        },
        "id": "XposysOQjBgq",
        "outputId": "72855951-1ee8-46b8-8d91-db644cc88425",
        "colab": {
          "base_uri": "https://localhost:8080/"
        }
      },
      "source": [
        "df.Sentiment.value_counts()"
      ],
      "execution_count": 7,
      "outputs": [
        {
          "output_type": "execute_result",
          "data": {
            "text/plain": [
              " 0.0    1778\n",
              " 1.0     213\n",
              "-1.0      56\n",
              "Name: Sentiment, dtype: int64"
            ]
          },
          "metadata": {
            "tags": []
          },
          "execution_count": 7
        }
      ]
    },
    {
      "cell_type": "markdown",
      "metadata": {
        "id": "IJuixpKTjBgr"
      },
      "source": [
        "## Check for missing data"
      ]
    },
    {
      "cell_type": "code",
      "metadata": {
        "ExecuteTime": {
          "end_time": "2020-09-15T19:09:38.009322Z",
          "start_time": "2020-09-15T19:09:37.994514Z"
        },
        "id": "7n8DNg20jBgs",
        "outputId": "c1f65446-2035-4541-b52c-d202a5e55e70",
        "colab": {
          "base_uri": "https://localhost:8080/"
        }
      },
      "source": [
        "df.info()"
      ],
      "execution_count": 8,
      "outputs": [
        {
          "output_type": "stream",
          "text": [
            "<class 'pandas.core.frame.DataFrame'>\n",
            "RangeIndex: 2049 entries, 0 to 2048\n",
            "Data columns (total 5 columns):\n",
            " #   Column     Non-Null Count  Dtype  \n",
            "---  ------     --------------  -----  \n",
            " 0   Unnamed    2049 non-null   int64  \n",
            " 1   tweet      2049 non-null   object \n",
            " 2   location   1314 non-null   object \n",
            " 3   pretweet   2049 non-null   object \n",
            " 4   Sentiment  2047 non-null   float64\n",
            "dtypes: float64(1), int64(1), object(3)\n",
            "memory usage: 80.2+ KB\n"
          ],
          "name": "stdout"
        }
      ]
    },
    {
      "cell_type": "code",
      "metadata": {
        "ExecuteTime": {
          "end_time": "2020-09-15T19:09:38.023932Z",
          "start_time": "2020-09-15T19:09:38.013324Z"
        },
        "id": "L7Ewq2WfjBgt",
        "outputId": "90fa05c9-1ff3-40f2-80b3-d0ed28e8601b",
        "colab": {
          "base_uri": "https://localhost:8080/"
        }
      },
      "source": [
        "print('Number of missing values per feature')\n",
        "df.isna().sum()"
      ],
      "execution_count": 9,
      "outputs": [
        {
          "output_type": "stream",
          "text": [
            "Number of missing values per feature\n"
          ],
          "name": "stdout"
        },
        {
          "output_type": "execute_result",
          "data": {
            "text/plain": [
              "Unnamed        0\n",
              "tweet          0\n",
              "location     735\n",
              "pretweet       0\n",
              "Sentiment      2\n",
              "dtype: int64"
            ]
          },
          "metadata": {
            "tags": []
          },
          "execution_count": 9
        }
      ]
    },
    {
      "cell_type": "code",
      "metadata": {
        "ExecuteTime": {
          "end_time": "2020-09-15T19:09:38.093148Z",
          "start_time": "2020-09-15T19:09:38.027309Z"
        },
        "id": "Z1Wph6S4jBgt",
        "outputId": "3a236b48-5176-4b0a-aee6-c5146fe1ba86",
        "colab": {
          "base_uri": "https://localhost:8080/"
        }
      },
      "source": [
        "print('Percentage of missing values per feature')\n",
        "round(df.isna().sum() * 100 / len(df), 2)"
      ],
      "execution_count": 10,
      "outputs": [
        {
          "output_type": "stream",
          "text": [
            "Percentage of missing values per feature\n"
          ],
          "name": "stdout"
        },
        {
          "output_type": "execute_result",
          "data": {
            "text/plain": [
              "Unnamed       0.00\n",
              "tweet         0.00\n",
              "location     35.87\n",
              "pretweet      0.00\n",
              "Sentiment     0.10\n",
              "dtype: float64"
            ]
          },
          "metadata": {
            "tags": []
          },
          "execution_count": 10
        }
      ]
    },
    {
      "cell_type": "markdown",
      "metadata": {
        "id": "_02wNCcTjBgu"
      },
      "source": [
        "What are all the rows with missing data?"
      ]
    },
    {
      "cell_type": "code",
      "metadata": {
        "ExecuteTime": {
          "end_time": "2020-09-15T19:09:38.102592Z",
          "start_time": "2020-09-15T19:09:38.095608Z"
        },
        "id": "4tchXP4ijBgu"
      },
      "source": [
        "df_missing_target = df[df.Sentiment.isna()]"
      ],
      "execution_count": 12,
      "outputs": []
    },
    {
      "cell_type": "code",
      "metadata": {
        "ExecuteTime": {
          "end_time": "2020-09-15T19:09:38.122864Z",
          "start_time": "2020-09-15T19:09:38.104854Z"
        },
        "id": "enCNzo9xjBgv",
        "outputId": "fa4bec02-f32d-4843-d327-0584bed1c092",
        "colab": {
          "base_uri": "https://localhost:8080/",
          "height": 145
        }
      },
      "source": [
        "df_missing_target"
      ],
      "execution_count": 13,
      "outputs": [
        {
          "output_type": "execute_result",
          "data": {
            "text/html": [
              "<div>\n",
              "<style scoped>\n",
              "    .dataframe tbody tr th:only-of-type {\n",
              "        vertical-align: middle;\n",
              "    }\n",
              "\n",
              "    .dataframe tbody tr th {\n",
              "        vertical-align: top;\n",
              "    }\n",
              "\n",
              "    .dataframe thead th {\n",
              "        text-align: right;\n",
              "    }\n",
              "</style>\n",
              "<table border=\"1\" class=\"dataframe\">\n",
              "  <thead>\n",
              "    <tr style=\"text-align: right;\">\n",
              "      <th></th>\n",
              "      <th>Unnamed</th>\n",
              "      <th>tweet</th>\n",
              "      <th>location</th>\n",
              "      <th>pretweet</th>\n",
              "      <th>Sentiment</th>\n",
              "    </tr>\n",
              "  </thead>\n",
              "  <tbody>\n",
              "    <tr>\n",
              "      <th>1478</th>\n",
              "      <td>67804</td>\n",
              "      <td>@NAkufoAddo The radical left wonâ€™t understan...</td>\n",
              "      <td>Kumasi, Ghana</td>\n",
              "      <td>the radic left wont understand what your do fo...</td>\n",
              "      <td>NaN</td>\n",
              "    </tr>\n",
              "    <tr>\n",
              "      <th>2039</th>\n",
              "      <td>68762</td>\n",
              "      <td>@NAkufoAddo What do you want to do again?\\nBy ...</td>\n",
              "      <td>WA GHANA</td>\n",
              "      <td>what you want again the way which school did y...</td>\n",
              "      <td>NaN</td>\n",
              "    </tr>\n",
              "  </tbody>\n",
              "</table>\n",
              "</div>"
            ],
            "text/plain": [
              "      Unnamed  ... Sentiment\n",
              "1478    67804  ...       NaN\n",
              "2039    68762  ...       NaN\n",
              "\n",
              "[2 rows x 5 columns]"
            ]
          },
          "metadata": {
            "tags": []
          },
          "execution_count": 13
        }
      ]
    },
    {
      "cell_type": "code",
      "metadata": {
        "ExecuteTime": {
          "end_time": "2020-09-15T19:09:38.134182Z",
          "start_time": "2020-09-15T19:09:38.125370Z"
        },
        "id": "pmMve5ZVjBgv"
      },
      "source": [
        "#df_missing_target.is_there_an_emotion_directed_at_a_brand_or_product.value_counts()"
      ],
      "execution_count": null,
      "outputs": []
    },
    {
      "cell_type": "code",
      "metadata": {
        "ExecuteTime": {
          "end_time": "2020-09-15T19:09:38.148278Z",
          "start_time": "2020-09-15T19:09:38.136636Z"
        },
        "id": "_JdJ0lsGjBgw"
      },
      "source": [
        "#df_missing_target.is_there_an_emotion_directed_at_a_brand_or_product.value_counts(normalize=True)"
      ],
      "execution_count": null,
      "outputs": []
    },
    {
      "cell_type": "markdown",
      "metadata": {
        "id": "jkV2jNXfjBgx"
      },
      "source": [
        "## Clean Data"
      ]
    },
    {
      "cell_type": "markdown",
      "metadata": {
        "id": "_m-saMkzjBgx"
      },
      "source": [
        "* Delete the line with no Sentiment"
      ]
    },
    {
      "cell_type": "code",
      "metadata": {
        "ExecuteTime": {
          "end_time": "2020-09-15T19:09:38.159704Z",
          "start_time": "2020-09-15T19:09:38.150837Z"
        },
        "id": "m_LGLdLMjBgy"
      },
      "source": [
        "df_clean = df.dropna(subset=['Sentiment'])"
      ],
      "execution_count": 14,
      "outputs": []
    },
    {
      "cell_type": "code",
      "metadata": {
        "ExecuteTime": {
          "end_time": "2020-09-15T19:09:38.184594Z",
          "start_time": "2020-09-15T19:09:38.161920Z"
        },
        "id": "KAF_iJ16jBgy"
      },
      "source": [
        "#df_clean = df_clean[df_clean.is_there_an_emotion_directed_at_a_brand_or_product != \"I can't tell\"]"
      ],
      "execution_count": null,
      "outputs": []
    },
    {
      "cell_type": "code",
      "metadata": {
        "ExecuteTime": {
          "end_time": "2020-09-15T19:09:38.195770Z",
          "start_time": "2020-09-15T19:09:38.186903Z"
        },
        "id": "Ll_jZ5PZjBgy",
        "outputId": "9036bc96-ca5f-41d1-b1df-e09f2844d3e3"
      },
      "source": [
        "#df_clean.is_there_an_emotion_directed_at_a_brand_or_product.value_counts()"
      ],
      "execution_count": null,
      "outputs": [
        {
          "output_type": "execute_result",
          "data": {
            "text/plain": [
              "No emotion toward brand or product    5155\n",
              "Positive emotion                      2869\n",
              "Negative emotion                       545\n",
              "Name: is_there_an_emotion_directed_at_a_brand_or_product, dtype: int64"
            ]
          },
          "metadata": {
            "tags": []
          },
          "execution_count": 16
        }
      ]
    },
    {
      "cell_type": "code",
      "metadata": {
        "ExecuteTime": {
          "end_time": "2020-09-15T19:09:38.226848Z",
          "start_time": "2020-09-15T19:09:38.197914Z"
        },
        "id": "_RJ8eeeNjBgz"
      },
      "source": [
        "# change all mentions to @mention (some were already switched but not all)\n",
        "\n",
        "#df_clean.tweet_text = df_clean.tweet_text.apply(lambda x: re.sub(\"@[A-Za-z0-9]+\", \"@mention\", x))"
      ],
      "execution_count": null,
      "outputs": []
    },
    {
      "cell_type": "markdown",
      "metadata": {
        "id": "4UnpfLJRjBgz"
      },
      "source": [
        "## Save Cleaned Data File"
      ]
    },
    {
      "cell_type": "code",
      "metadata": {
        "id": "uv7t8DUXk1-3"
      },
      "source": [
        "CLEAN_DATA_FILE_NAME = 'DataSet2Clean.csv'"
      ],
      "execution_count": 15,
      "outputs": []
    },
    {
      "cell_type": "code",
      "metadata": {
        "ExecuteTime": {
          "end_time": "2020-09-15T19:09:38.232879Z",
          "start_time": "2020-09-15T19:09:38.229153Z"
        },
        "id": "mjxI0GULjBg0"
      },
      "source": [
        "if SAVE_FILE:\n",
        "    df_clean.to_csv(DATA_FILE_PATH + CLEAN_DATA_FILE_NAME, index=False)"
      ],
      "execution_count": 28,
      "outputs": []
    },
    {
      "cell_type": "markdown",
      "metadata": {
        "id": "aaMKIsnOjBg0"
      },
      "source": [
        "## Visualize Data"
      ]
    },
    {
      "cell_type": "markdown",
      "metadata": {
        "id": "pEvLvdlvjBg0"
      },
      "source": [
        "## Distribution of Classes"
      ]
    },
    {
      "cell_type": "code",
      "metadata": {
        "ExecuteTime": {
          "end_time": "2020-09-15T19:13:03.652276Z",
          "start_time": "2020-09-15T19:13:03.426513Z"
        },
        "id": "g8-QyhzWjBg0",
        "outputId": "1fde6bfe-5d33-47f0-ec3c-c454e7deb3b2",
        "colab": {
          "base_uri": "https://localhost:8080/",
          "height": 399
        }
      },
      "source": [
        "plt.figure(figsize=(8,6))\n",
        "df_clean.Sentiment.hist(xlabelsize=14)\n",
        "plt.title('Sentiment', fontsize=20)\n",
        "plt.ylabel('# of tweets', fontsize=16)\n",
        "plt.show()"
      ],
      "execution_count": 17,
      "outputs": [
        {
          "output_type": "display_data",
          "data": {
            "image/png": "[encoded data removed]",
            "text/plain": [
              "<Figure size 576x432 with 1 Axes>"
            ]
          },
          "metadata": {
            "tags": [],
            "needs_background": "light"
          }
        }
      ]
    },
    {
      "cell_type": "markdown",
      "metadata": {
        "id": "9Jpm3-8RjBg1"
      },
      "source": [
        "The labels are highly imbalanced whether the data is taken as a binary classification problem with Positive vs. Negative emotions or taken as a multiclass classification problem with all three labels."
      ]
    },
    {
      "cell_type": "markdown",
      "metadata": {
        "id": "Cf4Pj_aDjBg3"
      },
      "source": [
        "## How long are the tweets?"
      ]
    },
    {
      "cell_type": "code",
      "metadata": {
        "ExecuteTime": {
          "end_time": "2020-09-15T19:09:39.207027Z",
          "start_time": "2020-09-15T19:09:39.197145Z"
        },
        "id": "gVnop7k3jBg3",
        "outputId": "aeb89a54-3e2b-4a2d-c562-23dabfc95927",
        "colab": {
          "base_uri": "https://localhost:8080/"
        }
      },
      "source": [
        "df_clean['tweet_len'] = df_clean.pretweet.apply(len)"
      ],
      "execution_count": 19,
      "outputs": [
        {
          "output_type": "stream",
          "text": [
            "/usr/local/lib/python3.7/dist-packages/ipykernel_launcher.py:1: SettingWithCopyWarning: \n",
            "A value is trying to be set on a copy of a slice from a DataFrame.\n",
            "Try using .loc[row_indexer,col_indexer] = value instead\n",
            "\n",
            "See the caveats in the documentation: https://pandas.pydata.org/pandas-docs/stable/user_guide/indexing.html#returning-a-view-versus-a-copy\n",
            "  \"\"\"Entry point for launching an IPython kernel.\n"
          ],
          "name": "stderr"
        }
      ]
    },
    {
      "cell_type": "code",
      "metadata": {
        "ExecuteTime": {
          "end_time": "2020-09-15T19:09:39.498221Z",
          "start_time": "2020-09-15T19:09:39.209364Z"
        },
        "id": "h9V8QyN6jBg3",
        "outputId": "603884f1-bcc5-426a-c760-1cb16a8600c8",
        "colab": {
          "base_uri": "https://localhost:8080/",
          "height": 295
        }
      },
      "source": [
        "df_clean.tweet_len.hist()\n",
        "plt.title('Tweet Length for All Tweets')\n",
        "plt.xlabel('Tweet Lengh')\n",
        "plt.ylabel('# of Tweets')\n",
        "plt.show()"
      ],
      "execution_count": 20,
      "outputs": [
        {
          "output_type": "display_data",
          "data": {
            "image/png": "[encoded data removed]",
            "text/plain": [
              "<Figure size 432x288 with 1 Axes>"
            ]
          },
          "metadata": {
            "tags": [],
            "needs_background": "light"
          }
        }
      ]
    },
    {
      "cell_type": "code",
      "metadata": {
        "ExecuteTime": {
          "end_time": "2020-09-15T19:09:39.778580Z",
          "start_time": "2020-09-15T19:09:39.505648Z"
        },
        "id": "aSQeeLBSjBg4",
        "outputId": "384191f9-8767-4f88-ba5e-31c9b8a05413",
        "colab": {
          "base_uri": "https://localhost:8080/",
          "height": 295
        }
      },
      "source": [
        "df_clean[df_clean.Sentiment != 0].tweet_len.hist()\n",
        "plt.title('Tweet Length for Tweets Showing Either Positive or Negative Emotion')\n",
        "plt.xlabel('Tweet Lengh')\n",
        "plt.ylabel('# of Tweets')\n",
        "plt.show()"
      ],
      "execution_count": 21,
      "outputs": [
        {
          "output_type": "display_data",
          "data": {
            "image/png": "[encoded data removed]",
            "text/plain": [
              "<Figure size 432x288 with 1 Axes>"
            ]
          },
          "metadata": {
            "tags": [],
            "needs_background": "light"
          }
        }
      ]
    },
    {
      "cell_type": "code",
      "metadata": {
        "ExecuteTime": {
          "end_time": "2020-09-15T19:09:39.788728Z",
          "start_time": "2020-09-15T19:09:39.783067Z"
        },
        "id": "ZEuOMlZKjBg4",
        "outputId": "d7872028-655a-4109-b72b-ac4b74d52545",
        "colab": {
          "base_uri": "https://localhost:8080/"
        }
      },
      "source": [
        "df_clean.tweet_len.max()"
      ],
      "execution_count": 22,
      "outputs": [
        {
          "output_type": "execute_result",
          "data": {
            "text/plain": [
              "108"
            ]
          },
          "metadata": {
            "tags": []
          },
          "execution_count": 22
        }
      ]
    },
    {
      "cell_type": "code",
      "metadata": {
        "ExecuteTime": {
          "end_time": "2020-09-15T19:09:39.794409Z",
          "start_time": "2020-09-15T19:09:39.790990Z"
        },
        "id": "QESref-VjBg5"
      },
      "source": [
        "pd.set_option('display.max_colwidth', None)"
      ],
      "execution_count": 23,
      "outputs": []
    },
    {
      "cell_type": "code",
      "metadata": {
        "ExecuteTime": {
          "end_time": "2020-09-15T19:09:39.832772Z",
          "start_time": "2020-09-15T19:09:39.800808Z"
        },
        "id": "n6oOdsSEjBg5",
        "outputId": "82ab50f2-78f9-4716-ce96-d626429279fd",
        "colab": {
          "base_uri": "https://localhost:8080/",
          "height": 493
        }
      },
      "source": [
        "df_clean[df_clean.tweet_len > 100].head()"
      ],
      "execution_count": 24,
      "outputs": [
        {
          "output_type": "execute_result",
          "data": {
            "text/html": [
              "<div>\n",
              "<style scoped>\n",
              "    .dataframe tbody tr th:only-of-type {\n",
              "        vertical-align: middle;\n",
              "    }\n",
              "\n",
              "    .dataframe tbody tr th {\n",
              "        vertical-align: top;\n",
              "    }\n",
              "\n",
              "    .dataframe thead th {\n",
              "        text-align: right;\n",
              "    }\n",
              "</style>\n",
              "<table border=\"1\" class=\"dataframe\">\n",
              "  <thead>\n",
              "    <tr style=\"text-align: right;\">\n",
              "      <th></th>\n",
              "      <th>Unnamed</th>\n",
              "      <th>tweet</th>\n",
              "      <th>location</th>\n",
              "      <th>pretweet</th>\n",
              "      <th>Sentiment</th>\n",
              "      <th>tweet_len</th>\n",
              "    </tr>\n",
              "  </thead>\n",
              "  <tbody>\n",
              "    <tr>\n",
              "      <th>38</th>\n",
              "      <td>65823</td>\n",
              "      <td>@NAkufoAddo The only old man in our political scene who thinks about this stomach, families and friends. U r the Nebucatnezzeh of our time</td>\n",
              "      <td>Kumasi, Ghana</td>\n",
              "      <td>the onli old man our polit scene who think about thi stomach famili and friend the nebucatnezzeh our time</td>\n",
              "      <td>0.0</td>\n",
              "      <td>105</td>\n",
              "    </tr>\n",
              "    <tr>\n",
              "      <th>121</th>\n",
              "      <td>65921</td>\n",
              "      <td>@NAkufoAddo We extend our deepest condolences to those who lost their loved ones and pray a speedy recovery for the wounded persons.</td>\n",
              "      <td>NaN</td>\n",
              "      <td>extend our deepest condol those who lost their love one and pray speedi recoveri for the wound person</td>\n",
              "      <td>0.0</td>\n",
              "      <td>101</td>\n",
              "    </tr>\n",
              "    <tr>\n",
              "      <th>374</th>\n",
              "      <td>66217</td>\n",
              "      <td>My Ghanass Chemistry teacher and current headmaster speaks passionately about free shs, you could feel and see whatâ€¦ https://t.co/ElmBJ8Mir9</td>\n",
              "      <td>Universe</td>\n",
              "      <td>ghanass chemistri teacher and current headmast speak passion about free sh you could feel and see what</td>\n",
              "      <td>0.0</td>\n",
              "      <td>102</td>\n",
              "    </tr>\n",
              "    <tr>\n",
              "      <th>379</th>\n",
              "      <td>66222</td>\n",
              "      <td>WOW. Black West Africa Is Not a Priority!!! Did the African leaders &amp;amp; people hear that. Black West Africa wake up.â€¦ https://t.co/Oe1NvSz5Aw</td>\n",
              "      <td>NaN</td>\n",
              "      <td>wow black west africa not prioriti did the african leader amp peopl hear that black west africa wake up</td>\n",
              "      <td>0.0</td>\n",
              "      <td>103</td>\n",
              "    </tr>\n",
              "    <tr>\n",
              "      <th>435</th>\n",
              "      <td>66284</td>\n",
              "      <td>For protection, vote for the umbrella party which will truly cover us not an elephantiasis gov't like NPP, Nana Addâ€¦ https://t.co/eUD6jNxEer</td>\n",
              "      <td>NaN</td>\n",
              "      <td>for protect vote for the umbrella parti which will truli cover not elephantiasi govt like npp nana add</td>\n",
              "      <td>0.0</td>\n",
              "      <td>102</td>\n",
              "    </tr>\n",
              "  </tbody>\n",
              "</table>\n",
              "</div>"
            ],
            "text/plain": [
              "     Unnamed  ... tweet_len\n",
              "38     65823  ...       105\n",
              "121    65921  ...       101\n",
              "374    66217  ...       102\n",
              "379    66222  ...       103\n",
              "435    66284  ...       102\n",
              "\n",
              "[5 rows x 6 columns]"
            ]
          },
          "metadata": {
            "tags": []
          },
          "execution_count": 24
        }
      ]
    },
    {
      "cell_type": "code",
      "metadata": {
        "id": "0TWUjgiuv8Hw"
      },
      "source": [
        "git commit -"
      ],
      "execution_count": null,
      "outputs": []
    }
  ]
}