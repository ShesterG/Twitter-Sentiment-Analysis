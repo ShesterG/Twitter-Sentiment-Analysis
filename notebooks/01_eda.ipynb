{
  "nbformat": 4,
  "nbformat_minor": 0,
  "metadata": {
    "kernelspec": {
      "display_name": "learn-env",
      "language": "python",
      "name": "learn-env"
    },
    "language_info": {
      "codemirror_mode": {
        "name": "ipython",
        "version": 3
      },
      "file_extension": ".py",
      "mimetype": "text/x-python",
      "name": "python",
      "nbconvert_exporter": "python",
      "pygments_lexer": "ipython3",
      "version": "3.6.9"
    },
    "toc": {
      "base_numbering": 1,
      "nav_menu": {},
      "number_sections": true,
      "sideBar": true,
      "skip_h1_title": false,
      "title_cell": "Table of Contents",
      "title_sidebar": "Contents",
      "toc_cell": false,
      "toc_position": {},
      "toc_section_display": true,
      "toc_window_display": true
    },
    "varInspector": {
      "cols": {
        "lenName": 16,
        "lenType": 16,
        "lenVar": 40
      },
      "kernels_config": {
        "python": {
          "delete_cmd_postfix": "",
          "delete_cmd_prefix": "del ",
          "library": "var_list.py",
          "varRefreshCmd": "print(var_dic_list())"
        },
        "r": {
          "delete_cmd_postfix": ") ",
          "delete_cmd_prefix": "rm(",
          "library": "var_list.r",
          "varRefreshCmd": "cat(var_dic_list()) "
        }
      },
      "types_to_exclude": [
        "module",
        "function",
        "builtin_function_or_method",
        "instance",
        "_Feature"
      ],
      "window_display": false
    },
    "colab": {
      "name": "01_eda.ipynb",
      "provenance": [],
      "include_colab_link": true
    }
  },
  "cells": [
    {
      "cell_type": "markdown",
      "metadata": {
        "id": "view-in-github",
        "colab_type": "text"
      },
      "source": [
        "<a href=\"https://colab.research.google.com/github/ShesterG/Twitter-Sentiment-Analysis/blob/master/notebooks/01_eda.ipynb\" target=\"_parent\"><img src=\"https://colab.research.google.com/assets/colab-badge.svg\" alt=\"Open In Colab\"/></a>"
      ]
    },
    {
      "cell_type": "markdown",
      "metadata": {
        "id": "CqYhg2PijBgd"
      },
      "source": [
        "# EDA for Twitter Sentiment Analysis"
      ]
    },
    {
      "cell_type": "code",
      "metadata": {
        "colab": {
          "base_uri": "https://localhost:8080/"
        },
        "id": "nuToZd6Ncwow",
        "outputId": "febfcc36-0ab4-40fd-9074-98b4d0deb2d1"
      },
      "source": [
        "from google.colab import drive\n",
        "drive.mount(\"/content/drive\", force_remount=True)"
      ],
      "execution_count": 1,
      "outputs": [
        {
          "output_type": "stream",
          "text": [
            "Mounted at /content/drive\n"
          ],
          "name": "stdout"
        }
      ]
    },
    {
      "cell_type": "markdown",
      "metadata": {
        "id": "fXPKfl80jBgh"
      },
      "source": [
        "# Imports & Constants"
      ]
    },
    {
      "cell_type": "code",
      "metadata": {
        "ExecuteTime": {
          "end_time": "2020-09-15T19:09:37.749559Z",
          "start_time": "2020-09-15T19:09:35.912714Z"
        },
        "id": "k6qEEWPxjBgj"
      },
      "source": [
        "import pandas as pd\n",
        "import matplotlib.pyplot as plt\n",
        "%matplotlib inline\n",
        "import re"
      ],
      "execution_count": 2,
      "outputs": []
    },
    {
      "cell_type": "code",
      "metadata": {
        "ExecuteTime": {
          "end_time": "2020-09-15T19:09:37.755879Z",
          "start_time": "2020-09-15T19:09:37.751837Z"
        },
        "id": "DU3EQXXWjBgk"
      },
      "source": [
        "DATA_FILE_PATH = '/content/drive/MyDrive/NLPGh/'\n",
        "DATA_FILE_NAME = 'Book10Original.csv'\n",
        "SAVE_FILE = True\n"
      ],
      "execution_count": 3,
      "outputs": []
    },
    {
      "cell_type": "markdown",
      "metadata": {
        "id": "8rsFgBPejBgk"
      },
      "source": [
        "# Read Data File"
      ]
    },
    {
      "cell_type": "code",
      "metadata": {
        "ExecuteTime": {
          "end_time": "2020-09-15T19:09:37.897911Z",
          "start_time": "2020-09-15T19:09:37.758814Z"
        },
        "id": "ZQkAYtQfjBgl"
      },
      "source": [
        "df = pd.read_csv(DATA_FILE_PATH + DATA_FILE_NAME, encoding = \"ISO-8859-1\")"
      ],
      "execution_count": 4,
      "outputs": []
    },
    {
      "cell_type": "code",
      "metadata": {
        "id": "PztHwCRgmV_q"
      },
      "source": [
        "df.rename(columns={'prep_tweet': 'pretweet'}, inplace=True)"
      ],
      "execution_count": 5,
      "outputs": []
    },
    {
      "cell_type": "markdown",
      "metadata": {
        "id": "6pHm25OvjBgl"
      },
      "source": [
        "# Initial Review of Data"
      ]
    },
    {
      "cell_type": "code",
      "metadata": {
        "ExecuteTime": {
          "end_time": "2020-09-15T19:09:37.921278Z",
          "start_time": "2020-09-15T19:09:37.900473Z"
        },
        "colab": {
          "base_uri": "https://localhost:8080/",
          "height": 408
        },
        "id": "3mFuHp2zjBgm",
        "outputId": "e062080b-b4f2-4caa-ec7d-9eaf140bfdb2"
      },
      "source": [
        "df.head()"
      ],
      "execution_count": 6,
      "outputs": [
        {
          "output_type": "execute_result",
          "data": {
            "text/html": [
              "<div>\n",
              "<style scoped>\n",
              "    .dataframe tbody tr th:only-of-type {\n",
              "        vertical-align: middle;\n",
              "    }\n",
              "\n",
              "    .dataframe tbody tr th {\n",
              "        vertical-align: top;\n",
              "    }\n",
              "\n",
              "    .dataframe thead th {\n",
              "        text-align: right;\n",
              "    }\n",
              "</style>\n",
              "<table border=\"1\" class=\"dataframe\">\n",
              "  <thead>\n",
              "    <tr style=\"text-align: right;\">\n",
              "      <th></th>\n",
              "      <th>Unnamed: 0</th>\n",
              "      <th>tweet</th>\n",
              "      <th>location_x</th>\n",
              "      <th>pretweet</th>\n",
              "      <th>candidate</th>\n",
              "      <th>LRPredScore</th>\n",
              "      <th>LRConfi</th>\n",
              "      <th>Sentiment</th>\n",
              "      <th>Unnamed: 8</th>\n",
              "    </tr>\n",
              "  </thead>\n",
              "  <tbody>\n",
              "    <tr>\n",
              "      <th>0</th>\n",
              "      <td>0</td>\n",
              "      <td>@NsiaAvena @NAkufoAddo They don't know anythin...</td>\n",
              "      <td>NaN</td>\n",
              "      <td>they dont know anyth about peac</td>\n",
              "      <td>Nana</td>\n",
              "      <td>NaN</td>\n",
              "      <td>NaN</td>\n",
              "      <td>-1</td>\n",
              "      <td>NaN</td>\n",
              "    </tr>\n",
              "    <tr>\n",
              "      <th>1</th>\n",
              "      <td>2</td>\n",
              "      <td>@NAkufoAddo  H. E Nana please follow up on thi...</td>\n",
              "      <td>NaN</td>\n",
              "      <td>nana pleas follow thi fake new lie and sue bbc...</td>\n",
              "      <td>Nana</td>\n",
              "      <td>-3.0</td>\n",
              "      <td>1.0</td>\n",
              "      <td>0</td>\n",
              "      <td>NaN</td>\n",
              "    </tr>\n",
              "    <tr>\n",
              "      <th>2</th>\n",
              "      <td>4</td>\n",
              "      <td>@BarrowPresident @NAkufoAddo good to go may Go...</td>\n",
              "      <td>NaN</td>\n",
              "      <td>good may god bless protect you</td>\n",
              "      <td>Nana</td>\n",
              "      <td>NaN</td>\n",
              "      <td>NaN</td>\n",
              "      <td>1</td>\n",
              "      <td>NaN</td>\n",
              "    </tr>\n",
              "    <tr>\n",
              "      <th>3</th>\n",
              "      <td>6</td>\n",
              "      <td>@ChipsJhay @TruthFreema @AOuattara_PRCI @NAkuf...</td>\n",
              "      <td>Afamase Akotom, Ghana</td>\n",
              "      <td>No you havent he use hi freedom speech is he c...</td>\n",
              "      <td>Nana</td>\n",
              "      <td>NaN</td>\n",
              "      <td>NaN</td>\n",
              "      <td>0</td>\n",
              "      <td>NaN</td>\n",
              "    </tr>\n",
              "    <tr>\n",
              "      <th>4</th>\n",
              "      <td>7</td>\n",
              "      <td>@IssahGerard @HEgyiri @NAkufoAddo Please who i...</td>\n",
              "      <td>NaN</td>\n",
              "      <td>pleas who thi and how your law</td>\n",
              "      <td>Nana</td>\n",
              "      <td>-1.0</td>\n",
              "      <td>1.0</td>\n",
              "      <td>0</td>\n",
              "      <td>NaN</td>\n",
              "    </tr>\n",
              "  </tbody>\n",
              "</table>\n",
              "</div>"
            ],
            "text/plain": [
              "   Unnamed: 0  ... Unnamed: 8\n",
              "0           0  ...        NaN\n",
              "1           2  ...        NaN\n",
              "2           4  ...        NaN\n",
              "3           6  ...        NaN\n",
              "4           7  ...        NaN\n",
              "\n",
              "[5 rows x 9 columns]"
            ]
          },
          "metadata": {
            "tags": []
          },
          "execution_count": 6
        }
      ]
    },
    {
      "cell_type": "code",
      "metadata": {
        "id": "albIt5z6sUTe"
      },
      "source": [
        "dfJohn = df[df['candidate']=='John']\n",
        "dfJohn = dfJohn[dfJohn['Sentiment']==0]\n",
        "dfJohn = dfJohn.groupby('Sentiment').head(147)"
      ],
      "execution_count": 7,
      "outputs": []
    },
    {
      "cell_type": "code",
      "metadata": {
        "id": "MUpaoPr_akM-"
      },
      "source": [
        "dfNana = df[df['candidate']=='Nana']\n",
        "dfNana = dfNana[dfNana['Sentiment']==0]\n",
        "dfNana = dfNana.groupby('Sentiment').head(853)"
      ],
      "execution_count": 8,
      "outputs": []
    },
    {
      "cell_type": "code",
      "metadata": {
        "id": "e3lPu_hCaq2b"
      },
      "source": [
        "frames = [dfNana,dfJohn]\n",
        "df = pd.concat(frames)"
      ],
      "execution_count": 9,
      "outputs": []
    },
    {
      "cell_type": "code",
      "metadata": {
        "id": "SzIObL6QBfgc",
        "colab": {
          "base_uri": "https://localhost:8080/",
          "height": 408
        },
        "outputId": "d6fe2875-c958-41c8-af28-739218edc19a"
      },
      "source": [
        "df.head()"
      ],
      "execution_count": 10,
      "outputs": [
        {
          "output_type": "execute_result",
          "data": {
            "text/html": [
              "<div>\n",
              "<style scoped>\n",
              "    .dataframe tbody tr th:only-of-type {\n",
              "        vertical-align: middle;\n",
              "    }\n",
              "\n",
              "    .dataframe tbody tr th {\n",
              "        vertical-align: top;\n",
              "    }\n",
              "\n",
              "    .dataframe thead th {\n",
              "        text-align: right;\n",
              "    }\n",
              "</style>\n",
              "<table border=\"1\" class=\"dataframe\">\n",
              "  <thead>\n",
              "    <tr style=\"text-align: right;\">\n",
              "      <th></th>\n",
              "      <th>Unnamed: 0</th>\n",
              "      <th>tweet</th>\n",
              "      <th>location_x</th>\n",
              "      <th>pretweet</th>\n",
              "      <th>candidate</th>\n",
              "      <th>LRPredScore</th>\n",
              "      <th>LRConfi</th>\n",
              "      <th>Sentiment</th>\n",
              "      <th>Unnamed: 8</th>\n",
              "    </tr>\n",
              "  </thead>\n",
              "  <tbody>\n",
              "    <tr>\n",
              "      <th>1</th>\n",
              "      <td>2</td>\n",
              "      <td>@NAkufoAddo  H. E Nana please follow up on thi...</td>\n",
              "      <td>NaN</td>\n",
              "      <td>nana pleas follow thi fake new lie and sue bbc...</td>\n",
              "      <td>Nana</td>\n",
              "      <td>-3.0</td>\n",
              "      <td>1.0</td>\n",
              "      <td>0</td>\n",
              "      <td>NaN</td>\n",
              "    </tr>\n",
              "    <tr>\n",
              "      <th>3</th>\n",
              "      <td>6</td>\n",
              "      <td>@ChipsJhay @TruthFreema @AOuattara_PRCI @NAkuf...</td>\n",
              "      <td>Afamase Akotom, Ghana</td>\n",
              "      <td>No you havent he use hi freedom speech is he c...</td>\n",
              "      <td>Nana</td>\n",
              "      <td>NaN</td>\n",
              "      <td>NaN</td>\n",
              "      <td>0</td>\n",
              "      <td>NaN</td>\n",
              "    </tr>\n",
              "    <tr>\n",
              "      <th>4</th>\n",
              "      <td>7</td>\n",
              "      <td>@IssahGerard @HEgyiri @NAkufoAddo Please who i...</td>\n",
              "      <td>NaN</td>\n",
              "      <td>pleas who thi and how your law</td>\n",
              "      <td>Nana</td>\n",
              "      <td>-1.0</td>\n",
              "      <td>1.0</td>\n",
              "      <td>0</td>\n",
              "      <td>NaN</td>\n",
              "    </tr>\n",
              "    <tr>\n",
              "      <th>9</th>\n",
              "      <td>17</td>\n",
              "      <td>@Kwame34580189 @bukolasaraki @NAkufoAddo Whate...</td>\n",
              "      <td>Nigeria</td>\n",
              "      <td>whatev thought you had someth there</td>\n",
              "      <td>Nana</td>\n",
              "      <td>NaN</td>\n",
              "      <td>NaN</td>\n",
              "      <td>0</td>\n",
              "      <td>NaN</td>\n",
              "    </tr>\n",
              "    <tr>\n",
              "      <th>10</th>\n",
              "      <td>18</td>\n",
              "      <td>@NAkufoAddo Remember that the good people of G...</td>\n",
              "      <td>NaN</td>\n",
              "      <td>rememb that the good peopl have spoken therefo...</td>\n",
              "      <td>Nana</td>\n",
              "      <td>1.0</td>\n",
              "      <td>1.0</td>\n",
              "      <td>0</td>\n",
              "      <td>NaN</td>\n",
              "    </tr>\n",
              "  </tbody>\n",
              "</table>\n",
              "</div>"
            ],
            "text/plain": [
              "    Unnamed: 0  ... Unnamed: 8\n",
              "1            2  ...        NaN\n",
              "3            6  ...        NaN\n",
              "4            7  ...        NaN\n",
              "9           17  ...        NaN\n",
              "10          18  ...        NaN\n",
              "\n",
              "[5 rows x 9 columns]"
            ]
          },
          "metadata": {
            "tags": []
          },
          "execution_count": 10
        }
      ]
    },
    {
      "cell_type": "code",
      "metadata": {
        "id": "jC3FLRbjBLRQ"
      },
      "source": [
        "#df = df.groupby('Sentiment').head(500)"
      ],
      "execution_count": null,
      "outputs": []
    },
    {
      "cell_type": "markdown",
      "metadata": {
        "id": "YQfuhk3ujBgo"
      },
      "source": [
        "## What are the categorical values?"
      ]
    },
    {
      "cell_type": "code",
      "metadata": {
        "ExecuteTime": {
          "end_time": "2020-09-15T19:09:37.951884Z",
          "start_time": "2020-09-15T19:09:37.923508Z"
        },
        "id": "qqooqvFGjBgp"
      },
      "source": [
        "#df.emotion_in_tweet_is_directed_at.value_counts(dropna=False)"
      ],
      "execution_count": null,
      "outputs": []
    },
    {
      "cell_type": "code",
      "metadata": {
        "ExecuteTime": {
          "end_time": "2020-09-15T19:09:37.992380Z",
          "start_time": "2020-09-15T19:09:37.955213Z"
        },
        "colab": {
          "base_uri": "https://localhost:8080/"
        },
        "id": "XposysOQjBgq",
        "outputId": "41ca37c5-8c63-486b-8891-f1a1db882d4d"
      },
      "source": [
        "df.Sentiment.value_counts()"
      ],
      "execution_count": 15,
      "outputs": [
        {
          "output_type": "execute_result",
          "data": {
            "text/plain": [
              " 1    1000\n",
              "-1    1000\n",
              " 0    1000\n",
              "Name: Sentiment, dtype: int64"
            ]
          },
          "metadata": {
            "tags": []
          },
          "execution_count": 15
        }
      ]
    },
    {
      "cell_type": "code",
      "metadata": {
        "id": "gGOYRarOaQ26",
        "colab": {
          "base_uri": "https://localhost:8080/"
        },
        "outputId": "1a07a00a-18d2-46d2-e9c1-97a747850b4b"
      },
      "source": [
        "df.candidate.value_counts()"
      ],
      "execution_count": 16,
      "outputs": [
        {
          "output_type": "execute_result",
          "data": {
            "text/plain": [
              "Nana    1853\n",
              "John    1147\n",
              "Name: candidate, dtype: int64"
            ]
          },
          "metadata": {
            "tags": []
          },
          "execution_count": 16
        }
      ]
    },
    {
      "cell_type": "code",
      "metadata": {
        "id": "dBar6PnOlt2L"
      },
      "source": [
        "dfBalanced = pd.read_csv(\"/content/drive/MyDrive/NLPGh/Book8Clean.csv\", encoding = \"ISO-8859-1\")"
      ],
      "execution_count": 13,
      "outputs": []
    },
    {
      "cell_type": "code",
      "metadata": {
        "id": "9skebsZylZm1"
      },
      "source": [
        "frames = [df,dfBalanced]\n",
        "df = pd.concat(frames)"
      ],
      "execution_count": 14,
      "outputs": []
    },
    {
      "cell_type": "markdown",
      "metadata": {
        "id": "IJuixpKTjBgr"
      },
      "source": [
        "## Check for missing data"
      ]
    },
    {
      "cell_type": "code",
      "metadata": {
        "ExecuteTime": {
          "end_time": "2020-09-15T19:09:38.009322Z",
          "start_time": "2020-09-15T19:09:37.994514Z"
        },
        "colab": {
          "base_uri": "https://localhost:8080/"
        },
        "id": "7n8DNg20jBgs",
        "outputId": "ff8d965d-3b04-4c95-ada7-f895e451e9aa"
      },
      "source": [
        "df.info()"
      ],
      "execution_count": 19,
      "outputs": [
        {
          "output_type": "stream",
          "text": [
            "<class 'pandas.core.frame.DataFrame'>\n",
            "Int64Index: 3000 entries, 1 to 1999\n",
            "Data columns (total 9 columns):\n",
            " #   Column       Non-Null Count  Dtype  \n",
            "---  ------       --------------  -----  \n",
            " 0   Unnamed: 0   3000 non-null   int64  \n",
            " 1   tweet        3000 non-null   object \n",
            " 2   location_x   1909 non-null   object \n",
            " 3   pretweet     3000 non-null   object \n",
            " 4   candidate    3000 non-null   object \n",
            " 5   LRPredScore  1973 non-null   float64\n",
            " 6   LRConfi      1973 non-null   float64\n",
            " 7   Sentiment    3000 non-null   int64  \n",
            " 8   Unnamed: 8   1 non-null      float64\n",
            "dtypes: float64(3), int64(2), object(4)\n",
            "memory usage: 234.4+ KB\n"
          ],
          "name": "stdout"
        }
      ]
    },
    {
      "cell_type": "code",
      "metadata": {
        "ExecuteTime": {
          "end_time": "2020-09-15T19:09:38.023932Z",
          "start_time": "2020-09-15T19:09:38.013324Z"
        },
        "colab": {
          "base_uri": "https://localhost:8080/"
        },
        "id": "L7Ewq2WfjBgt",
        "outputId": "2fb2a13b-a070-4258-97b7-fd86038ffdb6"
      },
      "source": [
        "print('Number of missing values per feature')\n",
        "df.isna().sum()"
      ],
      "execution_count": 20,
      "outputs": [
        {
          "output_type": "stream",
          "text": [
            "Number of missing values per feature\n"
          ],
          "name": "stdout"
        },
        {
          "output_type": "execute_result",
          "data": {
            "text/plain": [
              "Unnamed: 0        0\n",
              "tweet             0\n",
              "location_x     1091\n",
              "pretweet          0\n",
              "candidate         0\n",
              "LRPredScore    1027\n",
              "LRConfi        1027\n",
              "Sentiment         0\n",
              "Unnamed: 8     2999\n",
              "dtype: int64"
            ]
          },
          "metadata": {
            "tags": []
          },
          "execution_count": 20
        }
      ]
    },
    {
      "cell_type": "code",
      "metadata": {
        "ExecuteTime": {
          "end_time": "2020-09-15T19:09:38.093148Z",
          "start_time": "2020-09-15T19:09:38.027309Z"
        },
        "colab": {
          "base_uri": "https://localhost:8080/"
        },
        "id": "Z1Wph6S4jBgt",
        "outputId": "fdb7ff04-4a1d-405b-f31d-46031964a8dc"
      },
      "source": [
        "print('Percentage of missing values per feature')\n",
        "round(df.isna().sum() * 100 / len(df), 2)"
      ],
      "execution_count": 21,
      "outputs": [
        {
          "output_type": "stream",
          "text": [
            "Percentage of missing values per feature\n"
          ],
          "name": "stdout"
        },
        {
          "output_type": "execute_result",
          "data": {
            "text/plain": [
              "Unnamed: 0      0.00\n",
              "tweet           0.00\n",
              "location_x     36.37\n",
              "pretweet        0.00\n",
              "candidate       0.00\n",
              "LRPredScore    34.23\n",
              "LRConfi        34.23\n",
              "Sentiment       0.00\n",
              "Unnamed: 8     99.97\n",
              "dtype: float64"
            ]
          },
          "metadata": {
            "tags": []
          },
          "execution_count": 21
        }
      ]
    },
    {
      "cell_type": "markdown",
      "metadata": {
        "id": "_02wNCcTjBgu"
      },
      "source": [
        "What are all the rows with missing data?"
      ]
    },
    {
      "cell_type": "code",
      "metadata": {
        "ExecuteTime": {
          "end_time": "2020-09-15T19:09:38.102592Z",
          "start_time": "2020-09-15T19:09:38.095608Z"
        },
        "id": "4tchXP4ijBgu"
      },
      "source": [
        "df_missing_target = df[df.Sentiment.isna()]"
      ],
      "execution_count": 22,
      "outputs": []
    },
    {
      "cell_type": "code",
      "metadata": {
        "ExecuteTime": {
          "end_time": "2020-09-15T19:09:38.122864Z",
          "start_time": "2020-09-15T19:09:38.104854Z"
        },
        "colab": {
          "base_uri": "https://localhost:8080/",
          "height": 49
        },
        "id": "enCNzo9xjBgv",
        "outputId": "48d62029-ef15-48fa-a8e5-7e2bc56eb7c9"
      },
      "source": [
        "df_missing_target"
      ],
      "execution_count": 23,
      "outputs": [
        {
          "output_type": "execute_result",
          "data": {
            "text/html": [
              "<div>\n",
              "<style scoped>\n",
              "    .dataframe tbody tr th:only-of-type {\n",
              "        vertical-align: middle;\n",
              "    }\n",
              "\n",
              "    .dataframe tbody tr th {\n",
              "        vertical-align: top;\n",
              "    }\n",
              "\n",
              "    .dataframe thead th {\n",
              "        text-align: right;\n",
              "    }\n",
              "</style>\n",
              "<table border=\"1\" class=\"dataframe\">\n",
              "  <thead>\n",
              "    <tr style=\"text-align: right;\">\n",
              "      <th></th>\n",
              "      <th>Unnamed: 0</th>\n",
              "      <th>tweet</th>\n",
              "      <th>location_x</th>\n",
              "      <th>pretweet</th>\n",
              "      <th>candidate</th>\n",
              "      <th>LRPredScore</th>\n",
              "      <th>LRConfi</th>\n",
              "      <th>Sentiment</th>\n",
              "      <th>Unnamed: 8</th>\n",
              "    </tr>\n",
              "  </thead>\n",
              "  <tbody>\n",
              "  </tbody>\n",
              "</table>\n",
              "</div>"
            ],
            "text/plain": [
              "Empty DataFrame\n",
              "Columns: [Unnamed: 0, tweet, location_x, pretweet, candidate, LRPredScore, LRConfi, Sentiment, Unnamed: 8]\n",
              "Index: []"
            ]
          },
          "metadata": {
            "tags": []
          },
          "execution_count": 23
        }
      ]
    },
    {
      "cell_type": "code",
      "metadata": {
        "ExecuteTime": {
          "end_time": "2020-09-15T19:09:38.134182Z",
          "start_time": "2020-09-15T19:09:38.125370Z"
        },
        "id": "pmMve5ZVjBgv"
      },
      "source": [
        "#df_missing_target.is_there_an_emotion_directed_at_a_brand_or_product.value_counts()"
      ],
      "execution_count": null,
      "outputs": []
    },
    {
      "cell_type": "code",
      "metadata": {
        "ExecuteTime": {
          "end_time": "2020-09-15T19:09:38.148278Z",
          "start_time": "2020-09-15T19:09:38.136636Z"
        },
        "id": "_JdJ0lsGjBgw"
      },
      "source": [
        "#df_missing_target.is_there_an_emotion_directed_at_a_brand_or_product.value_counts(normalize=True)"
      ],
      "execution_count": null,
      "outputs": []
    },
    {
      "cell_type": "markdown",
      "metadata": {
        "id": "jkV2jNXfjBgx"
      },
      "source": [
        "## Clean Data"
      ]
    },
    {
      "cell_type": "markdown",
      "metadata": {
        "id": "_m-saMkzjBgx"
      },
      "source": [
        "* Delete the line with no Sentiment"
      ]
    },
    {
      "cell_type": "code",
      "metadata": {
        "ExecuteTime": {
          "end_time": "2020-09-15T19:09:38.159704Z",
          "start_time": "2020-09-15T19:09:38.150837Z"
        },
        "id": "m_LGLdLMjBgy"
      },
      "source": [
        "df_clean = df.dropna(subset=['Sentiment'])"
      ],
      "execution_count": 24,
      "outputs": []
    },
    {
      "cell_type": "code",
      "metadata": {
        "ExecuteTime": {
          "end_time": "2020-09-15T19:09:38.184594Z",
          "start_time": "2020-09-15T19:09:38.161920Z"
        },
        "id": "KAF_iJ16jBgy"
      },
      "source": [
        "#df_clean = df_clean[df_clean.is_there_an_emotion_directed_at_a_brand_or_product != \"I can't tell\"]"
      ],
      "execution_count": null,
      "outputs": []
    },
    {
      "cell_type": "code",
      "metadata": {
        "ExecuteTime": {
          "end_time": "2020-09-15T19:09:38.195770Z",
          "start_time": "2020-09-15T19:09:38.186903Z"
        },
        "id": "Ll_jZ5PZjBgy"
      },
      "source": [
        "#df_clean.is_there_an_emotion_directed_at_a_brand_or_product.value_counts()"
      ],
      "execution_count": null,
      "outputs": []
    },
    {
      "cell_type": "code",
      "metadata": {
        "ExecuteTime": {
          "end_time": "2020-09-15T19:09:38.226848Z",
          "start_time": "2020-09-15T19:09:38.197914Z"
        },
        "id": "_RJ8eeeNjBgz"
      },
      "source": [
        "# change all mentions to @mention (some were already switched but not all)\n",
        "\n",
        "#df_clean.tweet_text = df_clean.tweet_text.apply(lambda x: re.sub(\"@[A-Za-z0-9]+\", \"@mention\", x))"
      ],
      "execution_count": null,
      "outputs": []
    },
    {
      "cell_type": "markdown",
      "metadata": {
        "id": "4UnpfLJRjBgz"
      },
      "source": [
        "## Save Cleaned Data File"
      ]
    },
    {
      "cell_type": "code",
      "metadata": {
        "id": "uv7t8DUXk1-3"
      },
      "source": [
        "CLEAN_DATA_FILE_NAME = 'Book10Clean.csv'"
      ],
      "execution_count": 25,
      "outputs": []
    },
    {
      "cell_type": "code",
      "metadata": {
        "ExecuteTime": {
          "end_time": "2020-09-15T19:09:38.232879Z",
          "start_time": "2020-09-15T19:09:38.229153Z"
        },
        "id": "mjxI0GULjBg0"
      },
      "source": [
        "if SAVE_FILE:\n",
        "    df_clean.to_csv(DATA_FILE_PATH + CLEAN_DATA_FILE_NAME, index=False)"
      ],
      "execution_count": 26,
      "outputs": []
    },
    {
      "cell_type": "markdown",
      "metadata": {
        "id": "aaMKIsnOjBg0"
      },
      "source": [
        "## Visualize Data"
      ]
    },
    {
      "cell_type": "markdown",
      "metadata": {
        "id": "pEvLvdlvjBg0"
      },
      "source": [
        "## Distribution of Classes"
      ]
    },
    {
      "cell_type": "code",
      "metadata": {
        "ExecuteTime": {
          "end_time": "2020-09-15T19:13:03.652276Z",
          "start_time": "2020-09-15T19:13:03.426513Z"
        },
        "colab": {
          "base_uri": "https://localhost:8080/",
          "height": 399
        },
        "id": "g8-QyhzWjBg0",
        "outputId": "ff7b16ea-3629-4dc5-cf45-44a397729902"
      },
      "source": [
        "plt.figure(figsize=(8,6))\n",
        "df_clean.Sentiment.hist(xlabelsize=14)\n",
        "plt.title('Sentiment', fontsize=20)\n",
        "plt.ylabel('# of tweets', fontsize=16)\n",
        "plt.show()"
      ],
      "execution_count": 21,
      "outputs": [
        {
          "output_type": "display_data",
          "data": {
            "image/png": "[encoded data removed]",
            "text/plain": [
              "<Figure size 576x432 with 1 Axes>"
            ]
          },
          "metadata": {
            "tags": [],
            "needs_background": "light"
          }
        }
      ]
    },
    {
      "cell_type": "markdown",
      "metadata": {
        "id": "9Jpm3-8RjBg1"
      },
      "source": [
        "The labels are perfectly balanced as a binary classification problem with Positive vs. Negative emotions."
      ]
    },
    {
      "cell_type": "markdown",
      "metadata": {
        "id": "Cf4Pj_aDjBg3"
      },
      "source": [
        "## How long are the tweets?"
      ]
    },
    {
      "cell_type": "code",
      "metadata": {
        "ExecuteTime": {
          "end_time": "2020-09-15T19:09:39.207027Z",
          "start_time": "2020-09-15T19:09:39.197145Z"
        },
        "id": "gVnop7k3jBg3"
      },
      "source": [
        "df_clean['tweet_len'] = df_clean.pretweet.apply(len)"
      ],
      "execution_count": 28,
      "outputs": []
    },
    {
      "cell_type": "code",
      "metadata": {
        "ExecuteTime": {
          "end_time": "2020-09-15T19:09:39.498221Z",
          "start_time": "2020-09-15T19:09:39.209364Z"
        },
        "colab": {
          "base_uri": "https://localhost:8080/",
          "height": 295
        },
        "id": "h9V8QyN6jBg3",
        "outputId": "a0c009cb-972b-44f3-c66c-c99c3c0919f0"
      },
      "source": [
        "df_clean.tweet_len.hist()\n",
        "plt.title('Tweet Length for All Tweets')\n",
        "plt.xlabel('Tweet Lengh')\n",
        "plt.ylabel('# of Tweets')\n",
        "plt.show()"
      ],
      "execution_count": 23,
      "outputs": [
        {
          "output_type": "display_data",
          "data": {
            "image/png": "[encoded data removed]",
            "text/plain": [
              "<Figure size 432x288 with 1 Axes>"
            ]
          },
          "metadata": {
            "tags": [],
            "needs_background": "light"
          }
        }
      ]
    },
    {
      "cell_type": "code",
      "metadata": {
        "ExecuteTime": {
          "end_time": "2020-09-15T19:09:39.778580Z",
          "start_time": "2020-09-15T19:09:39.505648Z"
        },
        "colab": {
          "base_uri": "https://localhost:8080/",
          "height": 295
        },
        "id": "aSQeeLBSjBg4",
        "outputId": "5cdbced8-39d5-4a03-ff6a-4d565689338b"
      },
      "source": [
        "df_clean[df_clean.Sentiment != 0].tweet_len.hist()\n",
        "plt.title('Tweet Length for Tweets Showing Either Positive or Negative Emotion')\n",
        "plt.xlabel('Tweet Lengh')\n",
        "plt.ylabel('# of Tweets')\n",
        "plt.show()"
      ],
      "execution_count": 24,
      "outputs": [
        {
          "output_type": "display_data",
          "data": {
            "image/png": "[encoded data removed]",
            "text/plain": [
              "<Figure size 432x288 with 1 Axes>"
            ]
          },
          "metadata": {
            "tags": [],
            "needs_background": "light"
          }
        }
      ]
    },
    {
      "cell_type": "code",
      "metadata": {
        "ExecuteTime": {
          "end_time": "2020-09-15T19:09:39.788728Z",
          "start_time": "2020-09-15T19:09:39.783067Z"
        },
        "colab": {
          "base_uri": "https://localhost:8080/"
        },
        "id": "ZEuOMlZKjBg4",
        "outputId": "80678d20-e2aa-479c-e698-9fee9b7502a7"
      },
      "source": [
        "df_clean.tweet_len.max()"
      ],
      "execution_count": 25,
      "outputs": [
        {
          "output_type": "execute_result",
          "data": {
            "text/plain": [
              "113"
            ]
          },
          "metadata": {
            "tags": []
          },
          "execution_count": 25
        }
      ]
    },
    {
      "cell_type": "code",
      "metadata": {
        "ExecuteTime": {
          "end_time": "2020-09-15T19:09:39.794409Z",
          "start_time": "2020-09-15T19:09:39.790990Z"
        },
        "id": "QESref-VjBg5"
      },
      "source": [
        "pd.set_option('display.max_colwidth', None)"
      ],
      "execution_count": 26,
      "outputs": []
    },
    {
      "cell_type": "code",
      "metadata": {
        "ExecuteTime": {
          "end_time": "2020-09-15T19:09:39.832772Z",
          "start_time": "2020-09-15T19:09:39.800808Z"
        },
        "colab": {
          "base_uri": "https://localhost:8080/",
          "height": 819
        },
        "id": "n6oOdsSEjBg5",
        "outputId": "b998caa8-27c2-468c-aff4-b9c0e02c75b6"
      },
      "source": [
        "df_clean[df_clean.tweet_len > 100].head()"
      ],
      "execution_count": 27,
      "outputs": [
        {
          "output_type": "execute_result",
          "data": {
            "text/html": [
              "<div>\n",
              "<style scoped>\n",
              "    .dataframe tbody tr th:only-of-type {\n",
              "        vertical-align: middle;\n",
              "    }\n",
              "\n",
              "    .dataframe tbody tr th {\n",
              "        vertical-align: top;\n",
              "    }\n",
              "\n",
              "    .dataframe thead th {\n",
              "        text-align: right;\n",
              "    }\n",
              "</style>\n",
              "<table border=\"1\" class=\"dataframe\">\n",
              "  <thead>\n",
              "    <tr style=\"text-align: right;\">\n",
              "      <th></th>\n",
              "      <th>Unnamed: 0</th>\n",
              "      <th>tweet</th>\n",
              "      <th>location_x</th>\n",
              "      <th>pretweet</th>\n",
              "      <th>candidate</th>\n",
              "      <th>LRPredScore</th>\n",
              "      <th>LRConfi</th>\n",
              "      <th>Sentiment</th>\n",
              "      <th>Unnamed: 8</th>\n",
              "      <th>tweet_len</th>\n",
              "    </tr>\n",
              "  </thead>\n",
              "  <tbody>\n",
              "    <tr>\n",
              "      <th>439</th>\n",
              "      <td>999</td>\n",
              "      <td>@NAkufoAddo His Excellence please kindly work with hard working Ministers not those who just talk without action. Still \\n#4moretodomore</td>\n",
              "      <td>Accra, Ghana</td>\n",
              "      <td>hi excel pleas kindli work with hard work minist not those who just talk without action still 4moretodomor</td>\n",
              "      <td>Nana</td>\n",
              "      <td>NaN</td>\n",
              "      <td>NaN</td>\n",
              "      <td>0</td>\n",
              "      <td>NaN</td>\n",
              "      <td>106</td>\n",
              "    </tr>\n",
              "    <tr>\n",
              "      <th>1065</th>\n",
              "      <td>2517</td>\n",
              "      <td>Nana Addo, please for one of your first projects, kindly come and complete the Tanoso-Abuakwa dual carriageway for us we begÃ°Å¸ËÂ­Ã°Å¸â¢ï¿½Ã°Å¸ï¿½Â¾ @NAkufoAddo</td>\n",
              "      <td>NaN</td>\n",
              "      <td>nana addo pleas for one your first project kindli come and complet the tanosoabuakwa dual carriageway for beg</td>\n",
              "      <td>Nana</td>\n",
              "      <td>-2.0</td>\n",
              "      <td>1.0</td>\n",
              "      <td>-1</td>\n",
              "      <td>NaN</td>\n",
              "      <td>109</td>\n",
              "    </tr>\n",
              "    <tr>\n",
              "      <th>1111</th>\n",
              "      <td>2637</td>\n",
              "      <td>@NAkufoAddo To God be all the glory. May God grant you Supernatural understanding to lead the Nation alright. Congratulations your Excelleny</td>\n",
              "      <td>NaN</td>\n",
              "      <td>god all the glori may god grant you supernatur understand lead the nation alright congratul your excelleni</td>\n",
              "      <td>Nana</td>\n",
              "      <td>1.0</td>\n",
              "      <td>1.0</td>\n",
              "      <td>1</td>\n",
              "      <td>NaN</td>\n",
              "      <td>106</td>\n",
              "    </tr>\n",
              "    <tr>\n",
              "      <th>1384</th>\n",
              "      <td>6681</td>\n",
              "      <td>Good Woman, #Vote Campaign Compares #FreeSHS - The 8.8 million women campaign supports the Free SHS policy of PresiÃ¢â¬Â¦ https://t.co/unN54sbh0j</td>\n",
              "      <td>Accra ,Ghana</td>\n",
              "      <td>good woman vote campaign compar freesh the 88 million women campaign support the free sh polici presi</td>\n",
              "      <td>Nana</td>\n",
              "      <td>3.0</td>\n",
              "      <td>1.0</td>\n",
              "      <td>1</td>\n",
              "      <td>NaN</td>\n",
              "      <td>101</td>\n",
              "    </tr>\n",
              "    <tr>\n",
              "      <th>1400</th>\n",
              "      <td>7010</td>\n",
              "      <td>#JohnMahama2020 \\n\\nPlease lets all come together to rescue Ghana from #dishonest and #corrupt family and friends govÃ¢â¬Â¦ https://t.co/JEtk17qbF3</td>\n",
              "      <td>Ghana</td>\n",
              "      <td>johnmahama2020 pleas let all come togeth rescu ghana from dishonest and corrupt famili and friend gov</td>\n",
              "      <td>Nana</td>\n",
              "      <td>-3.0</td>\n",
              "      <td>1.0</td>\n",
              "      <td>-1</td>\n",
              "      <td>NaN</td>\n",
              "      <td>101</td>\n",
              "    </tr>\n",
              "  </tbody>\n",
              "</table>\n",
              "</div>"
            ],
            "text/plain": [
              "      Unnamed: 0  ... tweet_len\n",
              "439          999  ...       106\n",
              "1065        2517  ...       109\n",
              "1111        2637  ...       106\n",
              "1384        6681  ...       101\n",
              "1400        7010  ...       101\n",
              "\n",
              "[5 rows x 10 columns]"
            ]
          },
          "metadata": {
            "tags": []
          },
          "execution_count": 27
        }
      ]
    },
    {
      "cell_type": "code",
      "metadata": {
        "id": "0TWUjgiuv8Hw"
      },
      "source": [
        ""
      ],
      "execution_count": 27,
      "outputs": []
    }
  ]
}