{
  "nbformat": 4,
  "nbformat_minor": 0,
  "metadata": {
    "kernelspec": {
      "display_name": "learn-env",
      "language": "python",
      "name": "learn-env"
    },
    "language_info": {
      "codemirror_mode": {
        "name": "ipython",
        "version": 3
      },
      "file_extension": ".py",
      "mimetype": "text/x-python",
      "name": "python",
      "nbconvert_exporter": "python",
      "pygments_lexer": "ipython3",
      "version": "3.6.9"
    },
    "toc": {
      "base_numbering": 1,
      "nav_menu": {},
      "number_sections": true,
      "sideBar": true,
      "skip_h1_title": false,
      "title_cell": "Table of Contents",
      "title_sidebar": "Contents",
      "toc_cell": false,
      "toc_position": {},
      "toc_section_display": true,
      "toc_window_display": true
    },
    "varInspector": {
      "cols": {
        "lenName": 16,
        "lenType": 16,
        "lenVar": 40
      },
      "kernels_config": {
        "python": {
          "delete_cmd_postfix": "",
          "delete_cmd_prefix": "del ",
          "library": "var_list.py",
          "varRefreshCmd": "print(var_dic_list())"
        },
        "r": {
          "delete_cmd_postfix": ") ",
          "delete_cmd_prefix": "rm(",
          "library": "var_list.r",
          "varRefreshCmd": "cat(var_dic_list()) "
        }
      },
      "types_to_exclude": [
        "module",
        "function",
        "builtin_function_or_method",
        "instance",
        "_Feature"
      ],
      "window_display": false
    },
    "colab": {
      "name": "01_eda.ipynb",
      "provenance": [],
      "include_colab_link": true
    }
  },
  "cells": [
    {
      "cell_type": "markdown",
      "metadata": {
        "id": "view-in-github",
        "colab_type": "text"
      },
      "source": [
        "<a href=\"https://colab.research.google.com/github/ShesterG/Twitter-Sentiment-Analysis/blob/master/notebooks/01_eda.ipynb\" target=\"_parent\"><img src=\"https://colab.research.google.com/assets/colab-badge.svg\" alt=\"Open In Colab\"/></a>"
      ]
    },
    {
      "cell_type": "markdown",
      "metadata": {
        "id": "CqYhg2PijBgd"
      },
      "source": [
        "# EDA for Twitter Sentiment Analysis"
      ]
    },
    {
      "cell_type": "code",
      "metadata": {
        "colab": {
          "base_uri": "https://localhost:8080/"
        },
        "id": "nuToZd6Ncwow",
        "outputId": "191e86e3-4d7f-4ff8-bafa-1777fff54a39"
      },
      "source": [
        "from google.colab import drive\n",
        "drive.mount(\"/content/drive\", force_remount=True)"
      ],
      "execution_count": 1,
      "outputs": [
        {
          "output_type": "stream",
          "text": [
            "Mounted at /content/drive\n"
          ],
          "name": "stdout"
        }
      ]
    },
    {
      "cell_type": "markdown",
      "metadata": {
        "id": "fXPKfl80jBgh"
      },
      "source": [
        "# Imports & Constants"
      ]
    },
    {
      "cell_type": "code",
      "metadata": {
        "ExecuteTime": {
          "end_time": "2020-09-15T19:09:37.749559Z",
          "start_time": "2020-09-15T19:09:35.912714Z"
        },
        "id": "k6qEEWPxjBgj"
      },
      "source": [
        "import pandas as pd\n",
        "import matplotlib.pyplot as plt\n",
        "%matplotlib inline\n",
        "import re"
      ],
      "execution_count": 2,
      "outputs": []
    },
    {
      "cell_type": "code",
      "metadata": {
        "ExecuteTime": {
          "end_time": "2020-09-15T19:09:37.755879Z",
          "start_time": "2020-09-15T19:09:37.751837Z"
        },
        "id": "DU3EQXXWjBgk"
      },
      "source": [
        "DATA_FILE_PATH = '/content/drive/MyDrive/NLPGh/'\n",
        "DATA_FILE_NAME = 'NALS1Original.csv'\n",
        "SAVE_FILE = True\n"
      ],
      "execution_count": 5,
      "outputs": []
    },
    {
      "cell_type": "markdown",
      "metadata": {
        "id": "8rsFgBPejBgk"
      },
      "source": [
        "# Read Data File"
      ]
    },
    {
      "cell_type": "code",
      "metadata": {
        "ExecuteTime": {
          "end_time": "2020-09-15T19:09:37.897911Z",
          "start_time": "2020-09-15T19:09:37.758814Z"
        },
        "id": "ZQkAYtQfjBgl"
      },
      "source": [
        "df = pd.read_csv(DATA_FILE_PATH + DATA_FILE_NAME, encoding = \"ISO-8859-1\")"
      ],
      "execution_count": 8,
      "outputs": []
    },
    {
      "cell_type": "markdown",
      "metadata": {
        "id": "6pHm25OvjBgl"
      },
      "source": [
        "# Initial Review of Data"
      ]
    },
    {
      "cell_type": "code",
      "metadata": {
        "ExecuteTime": {
          "end_time": "2020-09-15T19:09:37.921278Z",
          "start_time": "2020-09-15T19:09:37.900473Z"
        },
        "colab": {
          "base_uri": "https://localhost:8080/",
          "height": 204
        },
        "id": "3mFuHp2zjBgm",
        "outputId": "d08e5b85-1115-4225-88aa-0ebfef0c4951"
      },
      "source": [
        "df.head()"
      ],
      "execution_count": 9,
      "outputs": [
        {
          "output_type": "execute_result",
          "data": {
            "text/html": [
              "<div>\n",
              "<style scoped>\n",
              "    .dataframe tbody tr th:only-of-type {\n",
              "        vertical-align: middle;\n",
              "    }\n",
              "\n",
              "    .dataframe tbody tr th {\n",
              "        vertical-align: top;\n",
              "    }\n",
              "\n",
              "    .dataframe thead th {\n",
              "        text-align: right;\n",
              "    }\n",
              "</style>\n",
              "<table border=\"1\" class=\"dataframe\">\n",
              "  <thead>\n",
              "    <tr style=\"text-align: right;\">\n",
              "      <th></th>\n",
              "      <th>tweet</th>\n",
              "      <th>location</th>\n",
              "      <th>pretweet</th>\n",
              "      <th>Sentiment</th>\n",
              "    </tr>\n",
              "  </thead>\n",
              "  <tbody>\n",
              "    <tr>\n",
              "      <th>0</th>\n",
              "      <td>Pls add us some momo to make data  0246964913 ...</td>\n",
              "      <td>NaN</td>\n",
              "      <td>pl add some momo make data 0246964913</td>\n",
              "      <td>0.0</td>\n",
              "    </tr>\n",
              "    <tr>\n",
              "      <th>1</th>\n",
              "      <td>@McVan_1 @AnnanPerry @blac4rina We will descen...</td>\n",
              "      <td>Ghana</td>\n",
              "      <td>will descend soon</td>\n",
              "      <td>0.0</td>\n",
              "    </tr>\n",
              "    <tr>\n",
              "      <th>2</th>\n",
              "      <td>*Forgery allegations by EC is not enough to di...</td>\n",
              "      <td>NaN</td>\n",
              "      <td>forgeri alleg not enough disqualifi the five p...</td>\n",
              "      <td>0.0</td>\n",
              "    </tr>\n",
              "    <tr>\n",
              "      <th>3</th>\n",
              "      <td>@NiiWills @bosompemny I donÃ¢â¬â¢t know how ...</td>\n",
              "      <td>dansoman accra</td>\n",
              "      <td>dont know how dem dey see</td>\n",
              "      <td>0.0</td>\n",
              "    </tr>\n",
              "    <tr>\n",
              "      <th>4</th>\n",
              "      <td>Do we have online renewal what what ka kwano??...</td>\n",
              "      <td>Botswana</td>\n",
              "      <td>have onlin renew what what kwano</td>\n",
              "      <td>0.0</td>\n",
              "    </tr>\n",
              "  </tbody>\n",
              "</table>\n",
              "</div>"
            ],
            "text/plain": [
              "                                               tweet  ... Sentiment\n",
              "0  Pls add us some momo to make data  0246964913 ...  ...       0.0\n",
              "1  @McVan_1 @AnnanPerry @blac4rina We will descen...  ...       0.0\n",
              "2  *Forgery allegations by EC is not enough to di...  ...       0.0\n",
              "3  @NiiWills @bosompemny I donÃ¢â¬â¢t know how ...  ...       0.0\n",
              "4  Do we have online renewal what what ka kwano??...  ...       0.0\n",
              "\n",
              "[5 rows x 4 columns]"
            ]
          },
          "metadata": {
            "tags": []
          },
          "execution_count": 9
        }
      ]
    },
    {
      "cell_type": "markdown",
      "metadata": {
        "id": "YQfuhk3ujBgo"
      },
      "source": [
        "## What are the categorical values?"
      ]
    },
    {
      "cell_type": "code",
      "metadata": {
        "ExecuteTime": {
          "end_time": "2020-09-15T19:09:37.951884Z",
          "start_time": "2020-09-15T19:09:37.923508Z"
        },
        "id": "qqooqvFGjBgp"
      },
      "source": [
        "#df.emotion_in_tweet_is_directed_at.value_counts(dropna=False)"
      ],
      "execution_count": null,
      "outputs": []
    },
    {
      "cell_type": "code",
      "metadata": {
        "ExecuteTime": {
          "end_time": "2020-09-15T19:09:37.992380Z",
          "start_time": "2020-09-15T19:09:37.955213Z"
        },
        "colab": {
          "base_uri": "https://localhost:8080/"
        },
        "id": "XposysOQjBgq",
        "outputId": "3304fcb0-3858-4f10-d219-c79d5db876af"
      },
      "source": [
        "df.Sentiment.value_counts()"
      ],
      "execution_count": 10,
      "outputs": [
        {
          "output_type": "execute_result",
          "data": {
            "text/plain": [
              " 0.0    4228\n",
              " 1.0     574\n",
              "-1.0     248\n",
              "Name: Sentiment, dtype: int64"
            ]
          },
          "metadata": {
            "tags": []
          },
          "execution_count": 10
        }
      ]
    },
    {
      "cell_type": "markdown",
      "metadata": {
        "id": "IJuixpKTjBgr"
      },
      "source": [
        "## Check for missing data"
      ]
    },
    {
      "cell_type": "code",
      "metadata": {
        "ExecuteTime": {
          "end_time": "2020-09-15T19:09:38.009322Z",
          "start_time": "2020-09-15T19:09:37.994514Z"
        },
        "colab": {
          "base_uri": "https://localhost:8080/"
        },
        "id": "7n8DNg20jBgs",
        "outputId": "ce703fe6-44c6-47dc-a70e-66e00533bde9"
      },
      "source": [
        "df.info()"
      ],
      "execution_count": 11,
      "outputs": [
        {
          "output_type": "stream",
          "text": [
            "<class 'pandas.core.frame.DataFrame'>\n",
            "RangeIndex: 5051 entries, 0 to 5050\n",
            "Data columns (total 4 columns):\n",
            " #   Column     Non-Null Count  Dtype  \n",
            "---  ------     --------------  -----  \n",
            " 0   tweet      5051 non-null   object \n",
            " 1   location   3293 non-null   object \n",
            " 2   pretweet   5051 non-null   object \n",
            " 3   Sentiment  5050 non-null   float64\n",
            "dtypes: float64(1), object(3)\n",
            "memory usage: 158.0+ KB\n"
          ],
          "name": "stdout"
        }
      ]
    },
    {
      "cell_type": "code",
      "metadata": {
        "ExecuteTime": {
          "end_time": "2020-09-15T19:09:38.023932Z",
          "start_time": "2020-09-15T19:09:38.013324Z"
        },
        "colab": {
          "base_uri": "https://localhost:8080/"
        },
        "id": "L7Ewq2WfjBgt",
        "outputId": "7e82b2a1-a8d1-4024-e77c-a977e1767e7e"
      },
      "source": [
        "print('Number of missing values per feature')\n",
        "df.isna().sum()"
      ],
      "execution_count": 12,
      "outputs": [
        {
          "output_type": "stream",
          "text": [
            "Number of missing values per feature\n"
          ],
          "name": "stdout"
        },
        {
          "output_type": "execute_result",
          "data": {
            "text/plain": [
              "tweet           0\n",
              "location     1758\n",
              "pretweet        0\n",
              "Sentiment       1\n",
              "dtype: int64"
            ]
          },
          "metadata": {
            "tags": []
          },
          "execution_count": 12
        }
      ]
    },
    {
      "cell_type": "code",
      "metadata": {
        "ExecuteTime": {
          "end_time": "2020-09-15T19:09:38.093148Z",
          "start_time": "2020-09-15T19:09:38.027309Z"
        },
        "colab": {
          "base_uri": "https://localhost:8080/"
        },
        "id": "Z1Wph6S4jBgt",
        "outputId": "2794b17d-370f-4291-9cc7-ba936be5ca4d"
      },
      "source": [
        "print('Percentage of missing values per feature')\n",
        "round(df.isna().sum() * 100 / len(df), 2)"
      ],
      "execution_count": 13,
      "outputs": [
        {
          "output_type": "stream",
          "text": [
            "Percentage of missing values per feature\n"
          ],
          "name": "stdout"
        },
        {
          "output_type": "execute_result",
          "data": {
            "text/plain": [
              "tweet         0.00\n",
              "location     34.80\n",
              "pretweet      0.00\n",
              "Sentiment     0.02\n",
              "dtype: float64"
            ]
          },
          "metadata": {
            "tags": []
          },
          "execution_count": 13
        }
      ]
    },
    {
      "cell_type": "markdown",
      "metadata": {
        "id": "_02wNCcTjBgu"
      },
      "source": [
        "What are all the rows with missing data?"
      ]
    },
    {
      "cell_type": "code",
      "metadata": {
        "ExecuteTime": {
          "end_time": "2020-09-15T19:09:38.102592Z",
          "start_time": "2020-09-15T19:09:38.095608Z"
        },
        "id": "4tchXP4ijBgu"
      },
      "source": [
        "df_missing_target = df[df.Sentiment.isna()]"
      ],
      "execution_count": 14,
      "outputs": []
    },
    {
      "cell_type": "code",
      "metadata": {
        "ExecuteTime": {
          "end_time": "2020-09-15T19:09:38.122864Z",
          "start_time": "2020-09-15T19:09:38.104854Z"
        },
        "colab": {
          "base_uri": "https://localhost:8080/",
          "height": 80
        },
        "id": "enCNzo9xjBgv",
        "outputId": "e4f48f15-bff8-4fcc-be85-c5256d50e7d0"
      },
      "source": [
        "df_missing_target"
      ],
      "execution_count": 15,
      "outputs": [
        {
          "output_type": "execute_result",
          "data": {
            "text/html": [
              "<div>\n",
              "<style scoped>\n",
              "    .dataframe tbody tr th:only-of-type {\n",
              "        vertical-align: middle;\n",
              "    }\n",
              "\n",
              "    .dataframe tbody tr th {\n",
              "        vertical-align: top;\n",
              "    }\n",
              "\n",
              "    .dataframe thead th {\n",
              "        text-align: right;\n",
              "    }\n",
              "</style>\n",
              "<table border=\"1\" class=\"dataframe\">\n",
              "  <thead>\n",
              "    <tr style=\"text-align: right;\">\n",
              "      <th></th>\n",
              "      <th>tweet</th>\n",
              "      <th>location</th>\n",
              "      <th>pretweet</th>\n",
              "      <th>Sentiment</th>\n",
              "    </tr>\n",
              "  </thead>\n",
              "  <tbody>\n",
              "    <tr>\n",
              "      <th>4085</th>\n",
              "      <td>Ghanaian Youth believe in you , Please a lot o...</td>\n",
              "      <td>Tamale, Ghana</td>\n",
              "      <td>ghanaian youth believ you pleas lot them need ...</td>\n",
              "      <td>NaN</td>\n",
              "    </tr>\n",
              "  </tbody>\n",
              "</table>\n",
              "</div>"
            ],
            "text/plain": [
              "                                                  tweet  ... Sentiment\n",
              "4085  Ghanaian Youth believe in you , Please a lot o...  ...       NaN\n",
              "\n",
              "[1 rows x 4 columns]"
            ]
          },
          "metadata": {
            "tags": []
          },
          "execution_count": 15
        }
      ]
    },
    {
      "cell_type": "code",
      "metadata": {
        "ExecuteTime": {
          "end_time": "2020-09-15T19:09:38.134182Z",
          "start_time": "2020-09-15T19:09:38.125370Z"
        },
        "id": "pmMve5ZVjBgv"
      },
      "source": [
        "#df_missing_target.is_there_an_emotion_directed_at_a_brand_or_product.value_counts()"
      ],
      "execution_count": null,
      "outputs": []
    },
    {
      "cell_type": "code",
      "metadata": {
        "ExecuteTime": {
          "end_time": "2020-09-15T19:09:38.148278Z",
          "start_time": "2020-09-15T19:09:38.136636Z"
        },
        "id": "_JdJ0lsGjBgw"
      },
      "source": [
        "#df_missing_target.is_there_an_emotion_directed_at_a_brand_or_product.value_counts(normalize=True)"
      ],
      "execution_count": null,
      "outputs": []
    },
    {
      "cell_type": "markdown",
      "metadata": {
        "id": "jkV2jNXfjBgx"
      },
      "source": [
        "## Clean Data"
      ]
    },
    {
      "cell_type": "markdown",
      "metadata": {
        "id": "_m-saMkzjBgx"
      },
      "source": [
        "* Delete the line with no Sentiment"
      ]
    },
    {
      "cell_type": "code",
      "metadata": {
        "ExecuteTime": {
          "end_time": "2020-09-15T19:09:38.159704Z",
          "start_time": "2020-09-15T19:09:38.150837Z"
        },
        "id": "m_LGLdLMjBgy"
      },
      "source": [
        "df_clean = df.dropna(subset=['Sentiment'])"
      ],
      "execution_count": 16,
      "outputs": []
    },
    {
      "cell_type": "code",
      "metadata": {
        "ExecuteTime": {
          "end_time": "2020-09-15T19:09:38.184594Z",
          "start_time": "2020-09-15T19:09:38.161920Z"
        },
        "id": "KAF_iJ16jBgy"
      },
      "source": [
        "#df_clean = df_clean[df_clean.is_there_an_emotion_directed_at_a_brand_or_product != \"I can't tell\"]"
      ],
      "execution_count": null,
      "outputs": []
    },
    {
      "cell_type": "code",
      "metadata": {
        "ExecuteTime": {
          "end_time": "2020-09-15T19:09:38.195770Z",
          "start_time": "2020-09-15T19:09:38.186903Z"
        },
        "id": "Ll_jZ5PZjBgy"
      },
      "source": [
        "#df_clean.is_there_an_emotion_directed_at_a_brand_or_product.value_counts()"
      ],
      "execution_count": null,
      "outputs": []
    },
    {
      "cell_type": "code",
      "metadata": {
        "ExecuteTime": {
          "end_time": "2020-09-15T19:09:38.226848Z",
          "start_time": "2020-09-15T19:09:38.197914Z"
        },
        "id": "_RJ8eeeNjBgz"
      },
      "source": [
        "# change all mentions to @mention (some were already switched but not all)\n",
        "\n",
        "#df_clean.tweet_text = df_clean.tweet_text.apply(lambda x: re.sub(\"@[A-Za-z0-9]+\", \"@mention\", x))"
      ],
      "execution_count": null,
      "outputs": []
    },
    {
      "cell_type": "markdown",
      "metadata": {
        "id": "4UnpfLJRjBgz"
      },
      "source": [
        "## Save Cleaned Data File"
      ]
    },
    {
      "cell_type": "code",
      "metadata": {
        "id": "uv7t8DUXk1-3"
      },
      "source": [
        "CLEAN_DATA_FILE_NAME = 'NALS1Clean.csv'"
      ],
      "execution_count": 17,
      "outputs": []
    },
    {
      "cell_type": "code",
      "metadata": {
        "ExecuteTime": {
          "end_time": "2020-09-15T19:09:38.232879Z",
          "start_time": "2020-09-15T19:09:38.229153Z"
        },
        "id": "mjxI0GULjBg0"
      },
      "source": [
        "if SAVE_FILE:\n",
        "    df_clean.to_csv(DATA_FILE_PATH + CLEAN_DATA_FILE_NAME, index=False)"
      ],
      "execution_count": 18,
      "outputs": []
    },
    {
      "cell_type": "markdown",
      "metadata": {
        "id": "aaMKIsnOjBg0"
      },
      "source": [
        "## Visualize Data"
      ]
    },
    {
      "cell_type": "markdown",
      "metadata": {
        "id": "pEvLvdlvjBg0"
      },
      "source": [
        "## Distribution of Classes"
      ]
    },
    {
      "cell_type": "code",
      "metadata": {
        "ExecuteTime": {
          "end_time": "2020-09-15T19:13:03.652276Z",
          "start_time": "2020-09-15T19:13:03.426513Z"
        },
        "colab": {
          "base_uri": "https://localhost:8080/",
          "height": 399
        },
        "id": "g8-QyhzWjBg0",
        "outputId": "e699e802-f278-4fd8-e9dc-0bde10453b6e"
      },
      "source": [
        "plt.figure(figsize=(8,6))\n",
        "df_clean.Sentiment.hist(xlabelsize=14)\n",
        "plt.title('Sentiment', fontsize=20)\n",
        "plt.ylabel('# of tweets', fontsize=16)\n",
        "plt.show()"
      ],
      "execution_count": 19,
      "outputs": [
        {
          "output_type": "display_data",
          "data": {
            "image/png": "[encoded data removed]",
            "text/plain": [
              "<Figure size 576x432 with 1 Axes>"
            ]
          },
          "metadata": {
            "tags": [],
            "needs_background": "light"
          }
        }
      ]
    },
    {
      "cell_type": "markdown",
      "metadata": {
        "id": "9Jpm3-8RjBg1"
      },
      "source": [
        "The labels are highly imbalanced whether the data is taken as a binary classification problem with Positive vs. Negative emotions or taken as a multiclass classification problem with all three labels."
      ]
    },
    {
      "cell_type": "markdown",
      "metadata": {
        "id": "Cf4Pj_aDjBg3"
      },
      "source": [
        "## How long are the tweets?"
      ]
    },
    {
      "cell_type": "code",
      "metadata": {
        "ExecuteTime": {
          "end_time": "2020-09-15T19:09:39.207027Z",
          "start_time": "2020-09-15T19:09:39.197145Z"
        },
        "colab": {
          "base_uri": "https://localhost:8080/"
        },
        "id": "gVnop7k3jBg3",
        "outputId": "99db8071-891c-45d5-d075-6b3515209c0f"
      },
      "source": [
        "df_clean['tweet_len'] = df_clean.pretweet.apply(len)"
      ],
      "execution_count": 20,
      "outputs": [
        {
          "output_type": "stream",
          "text": [
            "/usr/local/lib/python3.7/dist-packages/ipykernel_launcher.py:1: SettingWithCopyWarning: \n",
            "A value is trying to be set on a copy of a slice from a DataFrame.\n",
            "Try using .loc[row_indexer,col_indexer] = value instead\n",
            "\n",
            "See the caveats in the documentation: https://pandas.pydata.org/pandas-docs/stable/user_guide/indexing.html#returning-a-view-versus-a-copy\n",
            "  \"\"\"Entry point for launching an IPython kernel.\n"
          ],
          "name": "stderr"
        }
      ]
    },
    {
      "cell_type": "code",
      "metadata": {
        "ExecuteTime": {
          "end_time": "2020-09-15T19:09:39.498221Z",
          "start_time": "2020-09-15T19:09:39.209364Z"
        },
        "colab": {
          "base_uri": "https://localhost:8080/",
          "height": 295
        },
        "id": "h9V8QyN6jBg3",
        "outputId": "515254c1-b28d-439c-8350-5a693bb38b47"
      },
      "source": [
        "df_clean.tweet_len.hist()\n",
        "plt.title('Tweet Length for All Tweets')\n",
        "plt.xlabel('Tweet Lengh')\n",
        "plt.ylabel('# of Tweets')\n",
        "plt.show()"
      ],
      "execution_count": 21,
      "outputs": [
        {
          "output_type": "display_data",
          "data": {
            "image/png": "[encoded data removed]",
            "text/plain": [
              "<Figure size 432x288 with 1 Axes>"
            ]
          },
          "metadata": {
            "tags": [],
            "needs_background": "light"
          }
        }
      ]
    },
    {
      "cell_type": "code",
      "metadata": {
        "ExecuteTime": {
          "end_time": "2020-09-15T19:09:39.778580Z",
          "start_time": "2020-09-15T19:09:39.505648Z"
        },
        "colab": {
          "base_uri": "https://localhost:8080/",
          "height": 295
        },
        "id": "aSQeeLBSjBg4",
        "outputId": "e24d7322-1dc7-4e27-8734-2ea65ad49844"
      },
      "source": [
        "df_clean[df_clean.Sentiment != 0].tweet_len.hist()\n",
        "plt.title('Tweet Length for Tweets Showing Either Positive or Negative Emotion')\n",
        "plt.xlabel('Tweet Lengh')\n",
        "plt.ylabel('# of Tweets')\n",
        "plt.show()"
      ],
      "execution_count": 22,
      "outputs": [
        {
          "output_type": "display_data",
          "data": {
            "image/png": "[encoded data removed]",
            "text/plain": [
              "<Figure size 432x288 with 1 Axes>"
            ]
          },
          "metadata": {
            "tags": [],
            "needs_background": "light"
          }
        }
      ]
    },
    {
      "cell_type": "code",
      "metadata": {
        "ExecuteTime": {
          "end_time": "2020-09-15T19:09:39.788728Z",
          "start_time": "2020-09-15T19:09:39.783067Z"
        },
        "colab": {
          "base_uri": "https://localhost:8080/"
        },
        "id": "ZEuOMlZKjBg4",
        "outputId": "062d27f6-f7a9-4480-b44a-c1d4e7e8900d"
      },
      "source": [
        "df_clean.tweet_len.max()"
      ],
      "execution_count": 23,
      "outputs": [
        {
          "output_type": "execute_result",
          "data": {
            "text/plain": [
              "112"
            ]
          },
          "metadata": {
            "tags": []
          },
          "execution_count": 23
        }
      ]
    },
    {
      "cell_type": "code",
      "metadata": {
        "ExecuteTime": {
          "end_time": "2020-09-15T19:09:39.794409Z",
          "start_time": "2020-09-15T19:09:39.790990Z"
        },
        "id": "QESref-VjBg5"
      },
      "source": [
        "pd.set_option('display.max_colwidth', None)"
      ],
      "execution_count": 24,
      "outputs": []
    },
    {
      "cell_type": "code",
      "metadata": {
        "ExecuteTime": {
          "end_time": "2020-09-15T19:09:39.832772Z",
          "start_time": "2020-09-15T19:09:39.800808Z"
        },
        "colab": {
          "base_uri": "https://localhost:8080/",
          "height": 374
        },
        "id": "n6oOdsSEjBg5",
        "outputId": "41fab3b1-6573-4983-a1b8-5d988e8a67d0"
      },
      "source": [
        "df_clean[df_clean.tweet_len > 100].head()"
      ],
      "execution_count": 25,
      "outputs": [
        {
          "output_type": "execute_result",
          "data": {
            "text/html": [
              "<div>\n",
              "<style scoped>\n",
              "    .dataframe tbody tr th:only-of-type {\n",
              "        vertical-align: middle;\n",
              "    }\n",
              "\n",
              "    .dataframe tbody tr th {\n",
              "        vertical-align: top;\n",
              "    }\n",
              "\n",
              "    .dataframe thead th {\n",
              "        text-align: right;\n",
              "    }\n",
              "</style>\n",
              "<table border=\"1\" class=\"dataframe\">\n",
              "  <thead>\n",
              "    <tr style=\"text-align: right;\">\n",
              "      <th></th>\n",
              "      <th>tweet</th>\n",
              "      <th>location</th>\n",
              "      <th>pretweet</th>\n",
              "      <th>Sentiment</th>\n",
              "      <th>tweet_len</th>\n",
              "    </tr>\n",
              "  </thead>\n",
              "  <tbody>\n",
              "    <tr>\n",
              "      <th>38</th>\n",
              "      <td>@NAkufoAddo The only old man in our political scene who thinks about this stomach, families and friends. U r the Nebucatnezzeh of our time</td>\n",
              "      <td>Kumasi, Ghana</td>\n",
              "      <td>the onli old man our polit scene who think about thi stomach famili and friend the nebucatnezzeh our time</td>\n",
              "      <td>0.0</td>\n",
              "      <td>105</td>\n",
              "    </tr>\n",
              "    <tr>\n",
              "      <th>121</th>\n",
              "      <td>@NAkufoAddo We extend our deepest condolences to those who lost their loved ones and pray a speedy recovery for the wounded persons.</td>\n",
              "      <td>NaN</td>\n",
              "      <td>extend our deepest condol those who lost their love one and pray speedi recoveri for the wound person</td>\n",
              "      <td>0.0</td>\n",
              "      <td>101</td>\n",
              "    </tr>\n",
              "    <tr>\n",
              "      <th>374</th>\n",
              "      <td>My Ghanass Chemistry teacher and current headmaster speaks passionately about free shs, you could feel and see whatÃ¢â¬Â¦ https://t.co/ElmBJ8Mir9</td>\n",
              "      <td>Universe</td>\n",
              "      <td>ghanass chemistri teacher and current headmast speak passion about free sh you could feel and see what</td>\n",
              "      <td>0.0</td>\n",
              "      <td>102</td>\n",
              "    </tr>\n",
              "    <tr>\n",
              "      <th>379</th>\n",
              "      <td>WOW. Black West Africa Is Not a Priority!!! Did the African leaders &amp;amp; people hear that. Black West Africa wake up.Ã¢â¬Â¦ https://t.co/Oe1NvSz5Aw</td>\n",
              "      <td>NaN</td>\n",
              "      <td>wow black west africa not prioriti did the african leader amp peopl hear that black west africa wake up</td>\n",
              "      <td>0.0</td>\n",
              "      <td>103</td>\n",
              "    </tr>\n",
              "    <tr>\n",
              "      <th>435</th>\n",
              "      <td>For protection, vote for the umbrella party which will truly cover us not an elephantiasis gov't like NPP, Nana AddÃ¢â¬Â¦ https://t.co/eUD6jNxEer</td>\n",
              "      <td>NaN</td>\n",
              "      <td>for protect vote for the umbrella parti which will truli cover not elephantiasi govt like npp nana add</td>\n",
              "      <td>0.0</td>\n",
              "      <td>102</td>\n",
              "    </tr>\n",
              "  </tbody>\n",
              "</table>\n",
              "</div>"
            ],
            "text/plain": [
              "                                                                                                                                                     tweet  ... tweet_len\n",
              "38              @NAkufoAddo The only old man in our political scene who thinks about this stomach, families and friends. U r the Nebucatnezzeh of our time  ...       105\n",
              "121                   @NAkufoAddo We extend our deepest condolences to those who lost their loved ones and pray a speedy recovery for the wounded persons.  ...       101\n",
              "374     My Ghanass Chemistry teacher and current headmaster speaks passionately about free shs, you could feel and see whatÃ¢â¬Â¦ https://t.co/ElmBJ8Mir9  ...       102\n",
              "379  WOW. Black West Africa Is Not a Priority!!! Did the African leaders &amp; people hear that. Black West Africa wake up.Ã¢â¬Â¦ https://t.co/Oe1NvSz5Aw  ...       103\n",
              "435     For protection, vote for the umbrella party which will truly cover us not an elephantiasis gov't like NPP, Nana AddÃ¢â¬Â¦ https://t.co/eUD6jNxEer  ...       102\n",
              "\n",
              "[5 rows x 5 columns]"
            ]
          },
          "metadata": {
            "tags": []
          },
          "execution_count": 25
        }
      ]
    },
    {
      "cell_type": "code",
      "metadata": {
        "id": "0TWUjgiuv8Hw"
      },
      "source": [
        ""
      ],
      "execution_count": null,
      "outputs": []
    }
  ]
}