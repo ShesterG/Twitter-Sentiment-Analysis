{
  "nbformat": 4,
  "nbformat_minor": 0,
  "metadata": {
    "kernelspec": {
      "display_name": "learn-env",
      "language": "python",
      "name": "learn-env"
    },
    "language_info": {
      "codemirror_mode": {
        "name": "ipython",
        "version": 3
      },
      "file_extension": ".py",
      "mimetype": "text/x-python",
      "name": "python",
      "nbconvert_exporter": "python",
      "pygments_lexer": "ipython3",
      "version": "3.6.9"
    },
    "toc": {
      "base_numbering": 1,
      "nav_menu": {},
      "number_sections": true,
      "sideBar": true,
      "skip_h1_title": false,
      "title_cell": "Table of Contents",
      "title_sidebar": "Contents",
      "toc_cell": false,
      "toc_position": {},
      "toc_section_display": true,
      "toc_window_display": false
    },
    "varInspector": {
      "cols": {
        "lenName": 16,
        "lenType": 16,
        "lenVar": 40
      },
      "kernels_config": {
        "python": {
          "delete_cmd_postfix": "",
          "delete_cmd_prefix": "del ",
          "library": "var_list.py",
          "varRefreshCmd": "print(var_dic_list())"
        },
        "r": {
          "delete_cmd_postfix": ") ",
          "delete_cmd_prefix": "rm(",
          "library": "var_list.r",
          "varRefreshCmd": "cat(var_dic_list()) "
        }
      },
      "types_to_exclude": [
        "module",
        "function",
        "builtin_function_or_method",
        "instance",
        "_Feature"
      ],
      "window_display": false
    },
    "colab": {
      "name": "10_nb_model_07.ipynb",
      "provenance": [],
      "include_colab_link": true
    }
  },
  "cells": [
    {
      "cell_type": "markdown",
      "metadata": {
        "id": "view-in-github",
        "colab_type": "text"
      },
      "source": [
        "<a href=\"https://colab.research.google.com/github/ShesterG/Twitter-Sentiment-Analysis/blob/master/notebooks/10_nb_model_07.ipynb\" target=\"_parent\"><img src=\"https://colab.research.google.com/assets/colab-badge.svg\" alt=\"Open In Colab\"/></a>"
      ]
    },
    {
      "cell_type": "markdown",
      "metadata": {
        "id": "YrwKcxuLlB0I"
      },
      "source": [
        "# Naive Bayes Model for Twitter Sentiment Analysis"
      ]
    },
    {
      "cell_type": "markdown",
      "metadata": {
        "id": "yeYrZpl_lB0L"
      },
      "source": [
        "This model will use Multinomial Naive Bayes with tf/idf to classify the tweets.\n",
        "\n",
        "It will reduce the dimensionality of the feature set by adjusting the minimum document frequency of words, in an attempt to get better results.\n",
        "\n",
        "Lemmatization will be applied to the dataset.\n",
        "\n",
        "With SMOTE oversampling\n",
        "\n",
        "With Bi-Grams, removing some common stop words that do not have a polarity associated with them."
      ]
    },
    {
      "cell_type": "markdown",
      "metadata": {
        "id": "2WBLvxOIlB0M"
      },
      "source": [
        "# Imports and Constants"
      ]
    },
    {
      "cell_type": "code",
      "metadata": {
        "id": "IDkhRzp8mYLZ",
        "outputId": "53db0c19-73de-4b36-cb62-a5a751abf40b",
        "colab": {
          "base_uri": "https://localhost:8080/"
        }
      },
      "source": [
        "from google.colab import drive\n",
        "drive.mount(\"/content/drive\", force_remount=True)"
      ],
      "execution_count": 1,
      "outputs": [
        {
          "output_type": "stream",
          "text": [
            "Mounted at /content/drive\n"
          ],
          "name": "stdout"
        }
      ]
    },
    {
      "cell_type": "code",
      "metadata": {
        "ExecuteTime": {
          "end_time": "2020-09-03T17:16:02.032719Z",
          "start_time": "2020-09-03T17:16:00.625927Z"
        },
        "id": "vzIoGAGJlB0M",
        "outputId": "7805998c-4233-42ce-a9a4-ed96289ebad9",
        "colab": {
          "base_uri": "https://localhost:8080/"
        }
      },
      "source": [
        "import pandas as pd\n",
        "import numpy as np\n",
        "from sklearn.naive_bayes import MultinomialNB\n",
        "from sklearn.model_selection import train_test_split\n",
        "from sklearn.feature_extraction.text import CountVectorizer\n",
        "from imblearn.pipeline import Pipeline\n",
        "from sklearn.preprocessing import LabelEncoder\n",
        "from sklearn.metrics import classification_report, plot_confusion_matrix\n",
        "import matplotlib.pyplot as plt\n",
        "%matplotlib inline\n",
        "from sklearn.metrics import precision_recall_curve, auc\n",
        "from sklearn.metrics import accuracy_score, f1_score, recall_score\n",
        "from sklearn.preprocessing import LabelBinarizer\n",
        "#import evaluation_functions\n",
        "from sklearn.metrics import confusion_matrix\n",
        "from sklearn.metrics import classification_report\n",
        "from sklearn.feature_extraction.text import TfidfTransformer \n",
        "from imblearn.over_sampling import SMOTE\n",
        "import ast"
      ],
      "execution_count": 2,
      "outputs": [
        {
          "output_type": "stream",
          "text": [
            "/usr/local/lib/python3.7/dist-packages/sklearn/externals/six.py:31: FutureWarning: The module is deprecated in version 0.21 and will be removed in version 0.23 since we've dropped support for Python 2.7. Please rely on the official version of six (https://pypi.org/project/six/).\n",
            "  \"(https://pypi.org/project/six/).\", FutureWarning)\n",
            "/usr/local/lib/python3.7/dist-packages/sklearn/utils/deprecation.py:144: FutureWarning: The sklearn.neighbors.base module is  deprecated in version 0.22 and will be removed in version 0.24. The corresponding classes / functions should instead be imported from sklearn.neighbors. Anything that cannot be imported from sklearn.neighbors is now part of the private API.\n",
            "  warnings.warn(message, FutureWarning)\n"
          ],
          "name": "stderr"
        }
      ]
    },
    {
      "cell_type": "code",
      "metadata": {
        "id": "DJjGXcMxoD4T",
        "outputId": "2a3b5042-517c-4010-88b8-7fdd3dedc01d",
        "colab": {
          "base_uri": "https://localhost:8080/"
        }
      },
      "source": [
        "import nltk\n",
        "nltk.download('wordnet')"
      ],
      "execution_count": 21,
      "outputs": [
        {
          "output_type": "stream",
          "text": [
            "[nltk_data] Downloading package wordnet to /root/nltk_data...\n",
            "[nltk_data]   Unzipping corpora/wordnet.zip.\n"
          ],
          "name": "stdout"
        },
        {
          "output_type": "execute_result",
          "data": {
            "text/plain": [
              "True"
            ]
          },
          "metadata": {
            "tags": []
          },
          "execution_count": 21
        }
      ]
    },
    {
      "cell_type": "code",
      "metadata": {
        "ExecuteTime": {
          "end_time": "2020-09-03T17:16:02.041305Z",
          "start_time": "2020-09-03T17:16:02.035575Z"
        },
        "id": "eThQ6F_GlB0O"
      },
      "source": [
        "DATA_FILE_PATH = '/content/drive/MyDrive/NLPGh/'\n",
        "CLEAN_DATA_FILE_NAME = 'DataSet2Clean.csv'\n",
        "TOKENIZED_DATA_FILE_NAME = 'DataSet2Tokenized.csv'\n",
        "pd.set_option('display.max_colwidth', None)\n",
        "RANDOM_STATE = 42"
      ],
      "execution_count": 3,
      "outputs": []
    },
    {
      "cell_type": "markdown",
      "metadata": {
        "id": "VHp27KjYlB0O"
      },
      "source": [
        "# Load Data"
      ]
    },
    {
      "cell_type": "code",
      "metadata": {
        "ExecuteTime": {
          "end_time": "2020-09-03T17:16:02.095819Z",
          "start_time": "2020-09-03T17:16:02.044919Z"
        },
        "id": "zDbeITEDlB0P"
      },
      "source": [
        "df = pd.read_csv(DATA_FILE_PATH + TOKENIZED_DATA_FILE_NAME)"
      ],
      "execution_count": 4,
      "outputs": []
    },
    {
      "cell_type": "code",
      "metadata": {
        "ExecuteTime": {
          "end_time": "2020-09-03T17:16:02.121217Z",
          "start_time": "2020-09-03T17:16:02.098927Z"
        },
        "id": "10w_mXfylB0P",
        "outputId": "81980fc6-4346-468d-85cd-646a9cb25446",
        "colab": {
          "base_uri": "https://localhost:8080/",
          "height": 323
        }
      },
      "source": [
        "df.head()"
      ],
      "execution_count": 5,
      "outputs": [
        {
          "output_type": "execute_result",
          "data": {
            "text/html": [
              "<div>\n",
              "<style scoped>\n",
              "    .dataframe tbody tr th:only-of-type {\n",
              "        vertical-align: middle;\n",
              "    }\n",
              "\n",
              "    .dataframe tbody tr th {\n",
              "        vertical-align: top;\n",
              "    }\n",
              "\n",
              "    .dataframe thead th {\n",
              "        text-align: right;\n",
              "    }\n",
              "</style>\n",
              "<table border=\"1\" class=\"dataframe\">\n",
              "  <thead>\n",
              "    <tr style=\"text-align: right;\">\n",
              "      <th></th>\n",
              "      <th>Unnamed</th>\n",
              "      <th>tweet</th>\n",
              "      <th>location</th>\n",
              "      <th>pretweet</th>\n",
              "      <th>Sentiment</th>\n",
              "      <th>tokens</th>\n",
              "    </tr>\n",
              "  </thead>\n",
              "  <tbody>\n",
              "    <tr>\n",
              "      <th>0</th>\n",
              "      <td>65780</td>\n",
              "      <td>Pls add us some momo to make data  0246964913 ðŸ˜‚ðŸ˜‚ðŸ˜‚ https://t.co/w5ozYUF59x</td>\n",
              "      <td>NaN</td>\n",
              "      <td>pl add some momo make data</td>\n",
              "      <td>0.0</td>\n",
              "      <td>['pl', 'add', 'some', 'momo', 'make', 'data']</td>\n",
              "    </tr>\n",
              "    <tr>\n",
              "      <th>1</th>\n",
              "      <td>65781</td>\n",
              "      <td>@McVan_1 @AnnanPerry @blac4rina We will descend on @NAkufoAddo soon</td>\n",
              "      <td>Ghana</td>\n",
              "      <td>will descend soon</td>\n",
              "      <td>0.0</td>\n",
              "      <td>['will', 'descend', 'soon']</td>\n",
              "    </tr>\n",
              "    <tr>\n",
              "      <th>2</th>\n",
              "      <td>65782</td>\n",
              "      <td>*Forgery allegations by EC is not enough to disqualify the five presidential candidates*\\n\\nhttps://t.co/GAkYghEbQHâ€¦ https://t.co/o0pCodbuWj</td>\n",
              "      <td>NaN</td>\n",
              "      <td>forgeri alleg not enough disqualifi the five presidenti candid</td>\n",
              "      <td>0.0</td>\n",
              "      <td>['forgeri', 'alleg', 'not', 'enough', 'disqualifi', 'the', 'five', 'presidenti', 'candid']</td>\n",
              "    </tr>\n",
              "    <tr>\n",
              "      <th>3</th>\n",
              "      <td>65783</td>\n",
              "      <td>@NiiWills @bosompemny I donâ€™t know how dem dey see @NAkufoAddo oo</td>\n",
              "      <td>dansoman accra</td>\n",
              "      <td>dont know how dem dey see</td>\n",
              "      <td>0.0</td>\n",
              "      <td>['dont', 'know', 'how', 'dem', 'dey', 'see']</td>\n",
              "    </tr>\n",
              "    <tr>\n",
              "      <th>4</th>\n",
              "      <td>65784</td>\n",
              "      <td>Do we have online renewal what what ka kwano?? https://t.co/3CdekJYMgr</td>\n",
              "      <td>Botswana</td>\n",
              "      <td>have onlin renew what what kwano</td>\n",
              "      <td>0.0</td>\n",
              "      <td>['have', 'onlin', 'renew', 'what', 'what', 'kwano']</td>\n",
              "    </tr>\n",
              "  </tbody>\n",
              "</table>\n",
              "</div>"
            ],
            "text/plain": [
              "   Unnamed  ...                                                                                      tokens\n",
              "0    65780  ...                                               ['pl', 'add', 'some', 'momo', 'make', 'data']\n",
              "1    65781  ...                                                                 ['will', 'descend', 'soon']\n",
              "2    65782  ...  ['forgeri', 'alleg', 'not', 'enough', 'disqualifi', 'the', 'five', 'presidenti', 'candid']\n",
              "3    65783  ...                                                ['dont', 'know', 'how', 'dem', 'dey', 'see']\n",
              "4    65784  ...                                         ['have', 'onlin', 'renew', 'what', 'what', 'kwano']\n",
              "\n",
              "[5 rows x 6 columns]"
            ]
          },
          "metadata": {
            "tags": []
          },
          "execution_count": 5
        }
      ]
    },
    {
      "cell_type": "code",
      "metadata": {
        "ExecuteTime": {
          "end_time": "2020-09-03T17:16:02.657186Z",
          "start_time": "2020-09-03T17:16:02.123742Z"
        },
        "id": "Mrv9uejolB0Q"
      },
      "source": [
        "df.tokens = df.tokens.map(ast.literal_eval)"
      ],
      "execution_count": null,
      "outputs": []
    },
    {
      "cell_type": "code",
      "metadata": {
        "ExecuteTime": {
          "end_time": "2020-09-03T17:16:02.667070Z",
          "start_time": "2020-09-03T17:16:02.659444Z"
        },
        "id": "h4P53kCwlB0Q"
      },
      "source": [
        "data = df[['tokens', 'Sentiment']]"
      ],
      "execution_count": 6,
      "outputs": []
    },
    {
      "cell_type": "code",
      "metadata": {
        "ExecuteTime": {
          "end_time": "2020-09-03T17:16:02.686384Z",
          "start_time": "2020-09-03T17:16:02.669773Z"
        },
        "id": "c5pF75gClB0R",
        "outputId": "9d676b04-f885-45a8-ed17-63e8c6741d2d",
        "colab": {
          "base_uri": "https://localhost:8080/",
          "height": 204
        }
      },
      "source": [
        "data.head()"
      ],
      "execution_count": 7,
      "outputs": [
        {
          "output_type": "execute_result",
          "data": {
            "text/html": [
              "<div>\n",
              "<style scoped>\n",
              "    .dataframe tbody tr th:only-of-type {\n",
              "        vertical-align: middle;\n",
              "    }\n",
              "\n",
              "    .dataframe tbody tr th {\n",
              "        vertical-align: top;\n",
              "    }\n",
              "\n",
              "    .dataframe thead th {\n",
              "        text-align: right;\n",
              "    }\n",
              "</style>\n",
              "<table border=\"1\" class=\"dataframe\">\n",
              "  <thead>\n",
              "    <tr style=\"text-align: right;\">\n",
              "      <th></th>\n",
              "      <th>tokens</th>\n",
              "      <th>Sentiment</th>\n",
              "    </tr>\n",
              "  </thead>\n",
              "  <tbody>\n",
              "    <tr>\n",
              "      <th>0</th>\n",
              "      <td>['pl', 'add', 'some', 'momo', 'make', 'data']</td>\n",
              "      <td>0.0</td>\n",
              "    </tr>\n",
              "    <tr>\n",
              "      <th>1</th>\n",
              "      <td>['will', 'descend', 'soon']</td>\n",
              "      <td>0.0</td>\n",
              "    </tr>\n",
              "    <tr>\n",
              "      <th>2</th>\n",
              "      <td>['forgeri', 'alleg', 'not', 'enough', 'disqualifi', 'the', 'five', 'presidenti', 'candid']</td>\n",
              "      <td>0.0</td>\n",
              "    </tr>\n",
              "    <tr>\n",
              "      <th>3</th>\n",
              "      <td>['dont', 'know', 'how', 'dem', 'dey', 'see']</td>\n",
              "      <td>0.0</td>\n",
              "    </tr>\n",
              "    <tr>\n",
              "      <th>4</th>\n",
              "      <td>['have', 'onlin', 'renew', 'what', 'what', 'kwano']</td>\n",
              "      <td>0.0</td>\n",
              "    </tr>\n",
              "  </tbody>\n",
              "</table>\n",
              "</div>"
            ],
            "text/plain": [
              "                                                                                       tokens  Sentiment\n",
              "0                                               ['pl', 'add', 'some', 'momo', 'make', 'data']        0.0\n",
              "1                                                                 ['will', 'descend', 'soon']        0.0\n",
              "2  ['forgeri', 'alleg', 'not', 'enough', 'disqualifi', 'the', 'five', 'presidenti', 'candid']        0.0\n",
              "3                                                ['dont', 'know', 'how', 'dem', 'dey', 'see']        0.0\n",
              "4                                         ['have', 'onlin', 'renew', 'what', 'what', 'kwano']        0.0"
            ]
          },
          "metadata": {
            "tags": []
          },
          "execution_count": 7
        }
      ]
    },
    {
      "cell_type": "markdown",
      "metadata": {
        "id": "hW-n-vgjlB0R"
      },
      "source": [
        "# Split Data"
      ]
    },
    {
      "cell_type": "code",
      "metadata": {
        "ExecuteTime": {
          "end_time": "2020-09-03T17:16:02.710972Z",
          "start_time": "2020-09-03T17:16:02.690629Z"
        },
        "id": "V20AZVcllB0R"
      },
      "source": [
        "X_train, X_test, y_train, y_test = train_test_split(data['tokens'], \n",
        "                                                    data['Sentiment'],\n",
        "                                                   test_size = 0.2,\n",
        "                                                   random_state = RANDOM_STATE,\n",
        "                                                   stratify = data['Sentiment'])"
      ],
      "execution_count": 8,
      "outputs": []
    },
    {
      "cell_type": "code",
      "metadata": {
        "ExecuteTime": {
          "end_time": "2020-09-03T17:16:02.721299Z",
          "start_time": "2020-09-03T17:16:02.715747Z"
        },
        "id": "QDexKBCqlB0S",
        "outputId": "fc62bab2-f400-4d2d-98c1-87f0c25a6097",
        "colab": {
          "base_uri": "https://localhost:8080/"
        }
      },
      "source": [
        "X_train.shape"
      ],
      "execution_count": 9,
      "outputs": [
        {
          "output_type": "execute_result",
          "data": {
            "text/plain": [
              "(1637,)"
            ]
          },
          "metadata": {
            "tags": []
          },
          "execution_count": 9
        }
      ]
    },
    {
      "cell_type": "code",
      "metadata": {
        "ExecuteTime": {
          "end_time": "2020-09-03T17:16:02.730711Z",
          "start_time": "2020-09-03T17:16:02.723970Z"
        },
        "id": "kAq9__85lB0S",
        "outputId": "a6ce5671-081b-44aa-99e7-52b91051efbc",
        "colab": {
          "base_uri": "https://localhost:8080/"
        }
      },
      "source": [
        "X_test.shape"
      ],
      "execution_count": 10,
      "outputs": [
        {
          "output_type": "execute_result",
          "data": {
            "text/plain": [
              "(410,)"
            ]
          },
          "metadata": {
            "tags": []
          },
          "execution_count": 10
        }
      ]
    },
    {
      "cell_type": "markdown",
      "metadata": {
        "id": "rU_DxqMRlB0S"
      },
      "source": [
        "# Encode Labels"
      ]
    },
    {
      "cell_type": "code",
      "metadata": {
        "ExecuteTime": {
          "end_time": "2020-09-03T17:16:02.736519Z",
          "start_time": "2020-09-03T17:16:02.733107Z"
        },
        "id": "8Y15iD7SlB0T"
      },
      "source": [
        "le = LabelEncoder()"
      ],
      "execution_count": 11,
      "outputs": []
    },
    {
      "cell_type": "code",
      "metadata": {
        "ExecuteTime": {
          "end_time": "2020-09-03T17:16:02.746503Z",
          "start_time": "2020-09-03T17:16:02.738917Z"
        },
        "id": "lMtmkX3elB0T"
      },
      "source": [
        "y_train_enc = le.fit_transform(y_train)"
      ],
      "execution_count": 12,
      "outputs": []
    },
    {
      "cell_type": "code",
      "metadata": {
        "ExecuteTime": {
          "end_time": "2020-09-03T17:16:02.754233Z",
          "start_time": "2020-09-03T17:16:02.750132Z"
        },
        "id": "-KgLeTxKlB0U"
      },
      "source": [
        "y_test_enc = le.transform(y_test)"
      ],
      "execution_count": 13,
      "outputs": []
    },
    {
      "cell_type": "markdown",
      "metadata": {
        "id": "Wl_PLytzlB0U"
      },
      "source": [
        "# Evaluate Adjustments to Minimum Document Frequency"
      ]
    },
    {
      "cell_type": "code",
      "metadata": {
        "ExecuteTime": {
          "end_time": "2020-09-03T17:16:03.090745Z",
          "start_time": "2020-09-03T17:16:02.756711Z"
        },
        "id": "0VT4Vd9elB0U"
      },
      "source": [
        "from nltk import word_tokenize          \n",
        "from nltk.stem import WordNetLemmatizer \n",
        "class LemmaTokenizer:\n",
        "    def __init__(self):\n",
        "         self.wnl = WordNetLemmatizer()\n",
        "    def __call__(self, doc):\n",
        "        return [self.wnl.lemmatize(t) for t in doc]"
      ],
      "execution_count": 14,
      "outputs": []
    },
    {
      "cell_type": "code",
      "metadata": {
        "ExecuteTime": {
          "end_time": "2020-09-03T17:16:03.110361Z",
          "start_time": "2020-09-03T17:16:03.093086Z"
        },
        "id": "yzQD_3GTlB0V"
      },
      "source": [
        "class stop_word_remover:\n",
        "    def __init__(self):\n",
        "         self.stop_words = frozenset(['the', 'to', 'at', 'rt', 'for', 'a', \n",
        "                                      'in', 'is', 'of', 'and', 'on', 'i', \n",
        "                                      'you', 'an', 'with', 'it', 'this'])\n",
        "    def __call__(self, doc):\n",
        "        return [t for t in doc if t not in self.stop_words]"
      ],
      "execution_count": 15,
      "outputs": []
    },
    {
      "cell_type": "code",
      "metadata": {
        "ExecuteTime": {
          "end_time": "2020-09-03T17:16:03.118224Z",
          "start_time": "2020-09-03T17:16:03.113169Z"
        },
        "id": "SXHEdJnOlB0V"
      },
      "source": [
        "def passthrough(doc):\n",
        "    \"\"\"passthrough function for use in the pipeline because the text is already tokenized\"\"\"\n",
        "    return doc"
      ],
      "execution_count": 16,
      "outputs": []
    },
    {
      "cell_type": "code",
      "metadata": {
        "ExecuteTime": {
          "end_time": "2020-09-03T17:16:03.135991Z",
          "start_time": "2020-09-03T17:16:03.120657Z"
        },
        "id": "bCKq-PyelB0V"
      },
      "source": [
        "def train_and_eval_model(min_df, ngram_range):\n",
        "    \"\"\"\n",
        "    Train and Evaluate and Bag of Words Representation with a Naive Bayes\n",
        "    classifier with a specified minimum document frequency.\n",
        "    \"\"\"\n",
        "    \n",
        "    pipeline = Pipeline([\n",
        "                        ('bow',CountVectorizer(min_df=min_df,\n",
        "                                               ngram_range=ngram_range,\n",
        "                                               max_features=10000,\n",
        "                                               analyzer='word',\n",
        "                                               preprocessor=stop_word_remover(),\n",
        "                                               tokenizer=LemmaTokenizer(), \n",
        "                                               lowercase=False)),  \n",
        "                        ('tfidf', TfidfTransformer()),\n",
        "                        ('smote', SMOTE(random_state=RANDOM_STATE, n_jobs=-1)),\n",
        "                        ('classifier', MultinomialNB())])\n",
        "    \n",
        "    pipeline.fit(X_train,y_train_enc)\n",
        "    \n",
        "    print(f'MINIMUM DOCUMENT FREQUENCY = {min_df}')\n",
        "    print('')\n",
        "    \n",
        "    y_pred = pipeline.predict(X_test)\n",
        "\n",
        "\n",
        "\n",
        "    conf_matrix = confusion_matrix(y_true=y_test_enc, y_pred=y_pred)\n",
        "    #confusion_matrix(y_true=y_train_enc, y_pred=pipeline.predict(X_train),labels='Training')\n",
        "\n",
        "    \n",
        "    classi_report = classification_report(y_true=y_test_enc, y_pred=y_pred, target_names=['Negative', 'Neutral', 'Postive'])\n",
        "    print(classi_report)\n",
        "\n",
        "    \n",
        "    lb = LabelBinarizer()\n",
        "    lb.fit(y_test_enc)\n",
        "    y_test_multi = lb.transform(y_test_enc)\n",
        "    y_hat_test_multi = pipeline.predict_proba(X_test)\n",
        "    \n",
        "    #evaluation_functions.pr_curves(y_test_multi, y_hat_test_multi, le.classes_)\n",
        "    \n",
        "    train_accuracy = accuracy_score(y_train_enc, pipeline.predict(X_train))\n",
        "    \n",
        "    test_accuracy = accuracy_score(y_test_enc, pipeline.predict(X_test))\n",
        "        \n",
        "    recall_scores = recall_score(y_test_enc, pipeline.predict(X_test), average=None)\n",
        "    \n",
        "    test_results = np.append(np.array([min_df, train_accuracy, test_accuracy]),\n",
        "                             recall_scores)\n",
        "   \n",
        "    return test_results, conf_matrix\n",
        "    "
      ],
      "execution_count": 23,
      "outputs": []
    },
    {
      "cell_type": "code",
      "metadata": {
        "ExecuteTime": {
          "end_time": "2020-09-03T17:18:42.906766Z",
          "start_time": "2020-09-03T17:16:03.138290Z"
        },
        "scrolled": true,
        "id": "IkIHHKpElB0W",
        "outputId": "e07631ec-cc8d-49b9-c9e5-5c9e83fee0b4",
        "colab": {
          "base_uri": "https://localhost:8080/"
        }
      },
      "source": [
        "metrics_summary = []\n",
        "\n",
        "for min_df in range(1,11):\n",
        "    test_scores,_ = train_and_eval_model(min_df, (1,2))\n",
        "    metrics_summary.append(test_scores)"
      ],
      "execution_count": 25,
      "outputs": [
        {
          "output_type": "stream",
          "text": [
            "/usr/local/lib/python3.7/dist-packages/sklearn/utils/deprecation.py:87: FutureWarning: Function safe_indexing is deprecated; safe_indexing is deprecated in version 0.22 and will be removed in version 0.24.\n",
            "  warnings.warn(msg, category=FutureWarning)\n"
          ],
          "name": "stderr"
        },
        {
          "output_type": "stream",
          "text": [
            "MINIMUM DOCUMENT FREQUENCY = 1\n",
            "\n",
            "              precision    recall  f1-score   support\n",
            "\n",
            "    Negative       0.06      0.36      0.10        11\n",
            "     Neutral       0.95      0.75      0.84       356\n",
            "     Postive       0.55      0.77      0.64        43\n",
            "\n",
            "    accuracy                           0.74       410\n",
            "   macro avg       0.52      0.63      0.53       410\n",
            "weighted avg       0.88      0.74      0.80       410\n",
            "\n"
          ],
          "name": "stdout"
        },
        {
          "output_type": "stream",
          "text": [
            "/usr/local/lib/python3.7/dist-packages/sklearn/utils/deprecation.py:87: FutureWarning: Function safe_indexing is deprecated; safe_indexing is deprecated in version 0.22 and will be removed in version 0.24.\n",
            "  warnings.warn(msg, category=FutureWarning)\n"
          ],
          "name": "stderr"
        },
        {
          "output_type": "stream",
          "text": [
            "MINIMUM DOCUMENT FREQUENCY = 2\n",
            "\n",
            "              precision    recall  f1-score   support\n",
            "\n",
            "    Negative       0.06      0.36      0.10        11\n",
            "     Neutral       0.95      0.75      0.84       356\n",
            "     Postive       0.55      0.77      0.64        43\n",
            "\n",
            "    accuracy                           0.74       410\n",
            "   macro avg       0.52      0.63      0.53       410\n",
            "weighted avg       0.88      0.74      0.80       410\n",
            "\n"
          ],
          "name": "stdout"
        },
        {
          "output_type": "stream",
          "text": [
            "/usr/local/lib/python3.7/dist-packages/sklearn/utils/deprecation.py:87: FutureWarning: Function safe_indexing is deprecated; safe_indexing is deprecated in version 0.22 and will be removed in version 0.24.\n",
            "  warnings.warn(msg, category=FutureWarning)\n"
          ],
          "name": "stderr"
        },
        {
          "output_type": "stream",
          "text": [
            "MINIMUM DOCUMENT FREQUENCY = 3\n",
            "\n",
            "              precision    recall  f1-score   support\n",
            "\n",
            "    Negative       0.06      0.36      0.10        11\n",
            "     Neutral       0.95      0.76      0.84       356\n",
            "     Postive       0.55      0.77      0.64        43\n",
            "\n",
            "    accuracy                           0.75       410\n",
            "   macro avg       0.52      0.63      0.53       410\n",
            "weighted avg       0.88      0.75      0.80       410\n",
            "\n"
          ],
          "name": "stdout"
        },
        {
          "output_type": "stream",
          "text": [
            "/usr/local/lib/python3.7/dist-packages/sklearn/utils/deprecation.py:87: FutureWarning: Function safe_indexing is deprecated; safe_indexing is deprecated in version 0.22 and will be removed in version 0.24.\n",
            "  warnings.warn(msg, category=FutureWarning)\n"
          ],
          "name": "stderr"
        },
        {
          "output_type": "stream",
          "text": [
            "MINIMUM DOCUMENT FREQUENCY = 4\n",
            "\n",
            "              precision    recall  f1-score   support\n",
            "\n",
            "    Negative       0.06      0.36      0.10        11\n",
            "     Neutral       0.95      0.75      0.84       356\n",
            "     Postive       0.55      0.77      0.64        43\n",
            "\n",
            "    accuracy                           0.74       410\n",
            "   macro avg       0.52      0.63      0.53       410\n",
            "weighted avg       0.88      0.74      0.80       410\n",
            "\n"
          ],
          "name": "stdout"
        },
        {
          "output_type": "stream",
          "text": [
            "/usr/local/lib/python3.7/dist-packages/sklearn/utils/deprecation.py:87: FutureWarning: Function safe_indexing is deprecated; safe_indexing is deprecated in version 0.22 and will be removed in version 0.24.\n",
            "  warnings.warn(msg, category=FutureWarning)\n"
          ],
          "name": "stderr"
        },
        {
          "output_type": "stream",
          "text": [
            "MINIMUM DOCUMENT FREQUENCY = 5\n",
            "\n",
            "              precision    recall  f1-score   support\n",
            "\n",
            "    Negative       0.06      0.36      0.10        11\n",
            "     Neutral       0.95      0.75      0.84       356\n",
            "     Postive       0.55      0.77      0.64        43\n",
            "\n",
            "    accuracy                           0.74       410\n",
            "   macro avg       0.52      0.63      0.53       410\n",
            "weighted avg       0.88      0.74      0.80       410\n",
            "\n"
          ],
          "name": "stdout"
        },
        {
          "output_type": "stream",
          "text": [
            "/usr/local/lib/python3.7/dist-packages/sklearn/utils/deprecation.py:87: FutureWarning: Function safe_indexing is deprecated; safe_indexing is deprecated in version 0.22 and will be removed in version 0.24.\n",
            "  warnings.warn(msg, category=FutureWarning)\n"
          ],
          "name": "stderr"
        },
        {
          "output_type": "stream",
          "text": [
            "MINIMUM DOCUMENT FREQUENCY = 6\n",
            "\n",
            "              precision    recall  f1-score   support\n",
            "\n",
            "    Negative       0.06      0.36      0.10        11\n",
            "     Neutral       0.95      0.75      0.84       356\n",
            "     Postive       0.55      0.77      0.64        43\n",
            "\n",
            "    accuracy                           0.74       410\n",
            "   macro avg       0.52      0.63      0.53       410\n",
            "weighted avg       0.88      0.74      0.80       410\n",
            "\n"
          ],
          "name": "stdout"
        },
        {
          "output_type": "stream",
          "text": [
            "/usr/local/lib/python3.7/dist-packages/sklearn/utils/deprecation.py:87: FutureWarning: Function safe_indexing is deprecated; safe_indexing is deprecated in version 0.22 and will be removed in version 0.24.\n",
            "  warnings.warn(msg, category=FutureWarning)\n"
          ],
          "name": "stderr"
        },
        {
          "output_type": "stream",
          "text": [
            "MINIMUM DOCUMENT FREQUENCY = 7\n",
            "\n",
            "              precision    recall  f1-score   support\n",
            "\n",
            "    Negative       0.06      0.36      0.10        11\n",
            "     Neutral       0.95      0.76      0.84       356\n",
            "     Postive       0.55      0.77      0.64        43\n",
            "\n",
            "    accuracy                           0.75       410\n",
            "   macro avg       0.52      0.63      0.53       410\n",
            "weighted avg       0.88      0.75      0.80       410\n",
            "\n"
          ],
          "name": "stdout"
        },
        {
          "output_type": "stream",
          "text": [
            "/usr/local/lib/python3.7/dist-packages/sklearn/utils/deprecation.py:87: FutureWarning: Function safe_indexing is deprecated; safe_indexing is deprecated in version 0.22 and will be removed in version 0.24.\n",
            "  warnings.warn(msg, category=FutureWarning)\n"
          ],
          "name": "stderr"
        },
        {
          "output_type": "stream",
          "text": [
            "MINIMUM DOCUMENT FREQUENCY = 8\n",
            "\n",
            "              precision    recall  f1-score   support\n",
            "\n",
            "    Negative       0.06      0.36      0.10        11\n",
            "     Neutral       0.95      0.75      0.84       356\n",
            "     Postive       0.55      0.77      0.64        43\n",
            "\n",
            "    accuracy                           0.74       410\n",
            "   macro avg       0.52      0.63      0.53       410\n",
            "weighted avg       0.88      0.74      0.80       410\n",
            "\n"
          ],
          "name": "stdout"
        },
        {
          "output_type": "stream",
          "text": [
            "/usr/local/lib/python3.7/dist-packages/sklearn/utils/deprecation.py:87: FutureWarning: Function safe_indexing is deprecated; safe_indexing is deprecated in version 0.22 and will be removed in version 0.24.\n",
            "  warnings.warn(msg, category=FutureWarning)\n"
          ],
          "name": "stderr"
        },
        {
          "output_type": "stream",
          "text": [
            "MINIMUM DOCUMENT FREQUENCY = 9\n",
            "\n",
            "              precision    recall  f1-score   support\n",
            "\n",
            "    Negative       0.06      0.36      0.10        11\n",
            "     Neutral       0.95      0.75      0.84       356\n",
            "     Postive       0.55      0.77      0.64        43\n",
            "\n",
            "    accuracy                           0.74       410\n",
            "   macro avg       0.52      0.63      0.53       410\n",
            "weighted avg       0.88      0.74      0.80       410\n",
            "\n"
          ],
          "name": "stdout"
        },
        {
          "output_type": "stream",
          "text": [
            "/usr/local/lib/python3.7/dist-packages/sklearn/utils/deprecation.py:87: FutureWarning: Function safe_indexing is deprecated; safe_indexing is deprecated in version 0.22 and will be removed in version 0.24.\n",
            "  warnings.warn(msg, category=FutureWarning)\n"
          ],
          "name": "stderr"
        },
        {
          "output_type": "stream",
          "text": [
            "MINIMUM DOCUMENT FREQUENCY = 10\n",
            "\n",
            "              precision    recall  f1-score   support\n",
            "\n",
            "    Negative       0.06      0.36      0.10        11\n",
            "     Neutral       0.95      0.76      0.84       356\n",
            "     Postive       0.57      0.77      0.65        43\n",
            "\n",
            "    accuracy                           0.75       410\n",
            "   macro avg       0.53      0.63      0.53       410\n",
            "weighted avg       0.89      0.75      0.80       410\n",
            "\n"
          ],
          "name": "stdout"
        }
      ]
    },
    {
      "cell_type": "code",
      "metadata": {
        "ExecuteTime": {
          "end_time": "2020-09-03T17:18:42.930765Z",
          "start_time": "2020-09-03T17:18:42.909046Z"
        },
        "id": "rwglKyWplB0X",
        "outputId": "8247e24d-4602-4f7c-d890-c1650e8366f9",
        "colab": {
          "base_uri": "https://localhost:8080/",
          "height": 359
        }
      },
      "source": [
        "metrics_summary_df = pd.DataFrame(metrics_summary, \n",
        "                                  columns=['min doc freq',\n",
        "                                           'train accuracy',\n",
        "                                           'test accuracy',\n",
        "                                          'neg recall',\n",
        "                                          'neutral recall',\n",
        "                                          'pos recall'])\n",
        "\n",
        "metrics_summary_df"
      ],
      "execution_count": 26,
      "outputs": [
        {
          "output_type": "execute_result",
          "data": {
            "text/html": [
              "<div>\n",
              "<style scoped>\n",
              "    .dataframe tbody tr th:only-of-type {\n",
              "        vertical-align: middle;\n",
              "    }\n",
              "\n",
              "    .dataframe tbody tr th {\n",
              "        vertical-align: top;\n",
              "    }\n",
              "\n",
              "    .dataframe thead th {\n",
              "        text-align: right;\n",
              "    }\n",
              "</style>\n",
              "<table border=\"1\" class=\"dataframe\">\n",
              "  <thead>\n",
              "    <tr style=\"text-align: right;\">\n",
              "      <th></th>\n",
              "      <th>min doc freq</th>\n",
              "      <th>train accuracy</th>\n",
              "      <th>test accuracy</th>\n",
              "      <th>neg recall</th>\n",
              "      <th>neutral recall</th>\n",
              "      <th>pos recall</th>\n",
              "    </tr>\n",
              "  </thead>\n",
              "  <tbody>\n",
              "    <tr>\n",
              "      <th>0</th>\n",
              "      <td>1.0</td>\n",
              "      <td>0.771533</td>\n",
              "      <td>0.741463</td>\n",
              "      <td>0.363636</td>\n",
              "      <td>0.750000</td>\n",
              "      <td>0.767442</td>\n",
              "    </tr>\n",
              "    <tr>\n",
              "      <th>1</th>\n",
              "      <td>2.0</td>\n",
              "      <td>0.773366</td>\n",
              "      <td>0.743902</td>\n",
              "      <td>0.363636</td>\n",
              "      <td>0.752809</td>\n",
              "      <td>0.767442</td>\n",
              "    </tr>\n",
              "    <tr>\n",
              "      <th>2</th>\n",
              "      <td>3.0</td>\n",
              "      <td>0.775199</td>\n",
              "      <td>0.746341</td>\n",
              "      <td>0.363636</td>\n",
              "      <td>0.755618</td>\n",
              "      <td>0.767442</td>\n",
              "    </tr>\n",
              "    <tr>\n",
              "      <th>3</th>\n",
              "      <td>4.0</td>\n",
              "      <td>0.772144</td>\n",
              "      <td>0.743902</td>\n",
              "      <td>0.363636</td>\n",
              "      <td>0.752809</td>\n",
              "      <td>0.767442</td>\n",
              "    </tr>\n",
              "    <tr>\n",
              "      <th>4</th>\n",
              "      <td>5.0</td>\n",
              "      <td>0.775199</td>\n",
              "      <td>0.743902</td>\n",
              "      <td>0.363636</td>\n",
              "      <td>0.752809</td>\n",
              "      <td>0.767442</td>\n",
              "    </tr>\n",
              "    <tr>\n",
              "      <th>5</th>\n",
              "      <td>6.0</td>\n",
              "      <td>0.777642</td>\n",
              "      <td>0.743902</td>\n",
              "      <td>0.363636</td>\n",
              "      <td>0.752809</td>\n",
              "      <td>0.767442</td>\n",
              "    </tr>\n",
              "    <tr>\n",
              "      <th>6</th>\n",
              "      <td>7.0</td>\n",
              "      <td>0.779475</td>\n",
              "      <td>0.748780</td>\n",
              "      <td>0.363636</td>\n",
              "      <td>0.758427</td>\n",
              "      <td>0.767442</td>\n",
              "    </tr>\n",
              "    <tr>\n",
              "      <th>7</th>\n",
              "      <td>8.0</td>\n",
              "      <td>0.780086</td>\n",
              "      <td>0.741463</td>\n",
              "      <td>0.363636</td>\n",
              "      <td>0.750000</td>\n",
              "      <td>0.767442</td>\n",
              "    </tr>\n",
              "    <tr>\n",
              "      <th>8</th>\n",
              "      <td>9.0</td>\n",
              "      <td>0.776420</td>\n",
              "      <td>0.741463</td>\n",
              "      <td>0.363636</td>\n",
              "      <td>0.750000</td>\n",
              "      <td>0.767442</td>\n",
              "    </tr>\n",
              "    <tr>\n",
              "      <th>9</th>\n",
              "      <td>10.0</td>\n",
              "      <td>0.777031</td>\n",
              "      <td>0.748780</td>\n",
              "      <td>0.363636</td>\n",
              "      <td>0.758427</td>\n",
              "      <td>0.767442</td>\n",
              "    </tr>\n",
              "  </tbody>\n",
              "</table>\n",
              "</div>"
            ],
            "text/plain": [
              "   min doc freq  train accuracy  ...  neutral recall  pos recall\n",
              "0           1.0        0.771533  ...        0.750000    0.767442\n",
              "1           2.0        0.773366  ...        0.752809    0.767442\n",
              "2           3.0        0.775199  ...        0.755618    0.767442\n",
              "3           4.0        0.772144  ...        0.752809    0.767442\n",
              "4           5.0        0.775199  ...        0.752809    0.767442\n",
              "5           6.0        0.777642  ...        0.752809    0.767442\n",
              "6           7.0        0.779475  ...        0.758427    0.767442\n",
              "7           8.0        0.780086  ...        0.750000    0.767442\n",
              "8           9.0        0.776420  ...        0.750000    0.767442\n",
              "9          10.0        0.777031  ...        0.758427    0.767442\n",
              "\n",
              "[10 rows x 6 columns]"
            ]
          },
          "metadata": {
            "tags": []
          },
          "execution_count": 26
        }
      ]
    },
    {
      "cell_type": "code",
      "metadata": {
        "ExecuteTime": {
          "end_time": "2020-09-03T17:24:47.161130Z",
          "start_time": "2020-09-03T17:24:32.243518Z"
        },
        "scrolled": false,
        "id": "Lw56Eol3lB0Y",
        "outputId": "c45444f9-7b36-4b18-ea24-a8fb70e8ed1b",
        "colab": {
          "base_uri": "https://localhost:8080/",
          "height": 759
        }
      },
      "source": [
        "#metrics = train_and_eval_model(min_df=7, ngram_range=(1,2))\n",
        "\n",
        "_,conf_matrix = train_and_eval_model(min_df=7, ngram_range=(1,2))\n",
        "labels = ['Negative', 'Neutral', 'Postive']\n",
        "\n",
        "fig, ax = plt.subplots(figsize=(7.5, 7.5))\n",
        "ax.matshow(conf_matrix, cmap=plt.cm.Blues, alpha=0.3)\n",
        "for i in range(conf_matrix.shape[0]):\n",
        "    for j in range(conf_matrix.shape[1]):\n",
        "        ax.text(x=j, y=i,s=conf_matrix[i, j], va='center', ha='center', size='xx-large')\n",
        " \n",
        "plt.xlabel('Predictions', fontsize=18)\n",
        "plt.ylabel('Actuals', fontsize=18)\n",
        "ax.set_xticklabels([''] + labels)\n",
        "ax.set_yticklabels([''] + labels)\n",
        "plt.title('Confusion Matrix', fontsize=18)\n",
        "plt.show()"
      ],
      "execution_count": 28,
      "outputs": [
        {
          "output_type": "stream",
          "text": [
            "/usr/local/lib/python3.7/dist-packages/sklearn/utils/deprecation.py:87: FutureWarning: Function safe_indexing is deprecated; safe_indexing is deprecated in version 0.22 and will be removed in version 0.24.\n",
            "  warnings.warn(msg, category=FutureWarning)\n"
          ],
          "name": "stderr"
        },
        {
          "output_type": "stream",
          "text": [
            "MINIMUM DOCUMENT FREQUENCY = 7\n",
            "\n",
            "              precision    recall  f1-score   support\n",
            "\n",
            "    Negative       0.06      0.36      0.10        11\n",
            "     Neutral       0.95      0.76      0.84       356\n",
            "     Postive       0.55      0.77      0.64        43\n",
            "\n",
            "    accuracy                           0.75       410\n",
            "   macro avg       0.52      0.63      0.53       410\n",
            "weighted avg       0.88      0.75      0.80       410\n",
            "\n"
          ],
          "name": "stdout"
        },
        {
          "output_type": "display_data",
          "data": {
            "image/png": "[encoded data removed]",
            "text/plain": [
              "<Figure size 540x540 with 1 Axes>"
            ]
          },
          "metadata": {
            "tags": [],
            "needs_background": "light"
          }
        }
      ]
    },
    {
      "cell_type": "markdown",
      "metadata": {
        "id": "bKpYWE4-lB0Y"
      },
      "source": [
        "# Summary"
      ]
    },
    {
      "cell_type": "markdown",
      "metadata": {
        "id": "S_z7N97elB0Z"
      },
      "source": [
        "SVM looks better\n"
      ]
    }
  ]
}