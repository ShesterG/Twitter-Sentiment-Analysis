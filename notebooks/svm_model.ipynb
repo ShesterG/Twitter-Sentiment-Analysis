{
  "nbformat": 4,
  "nbformat_minor": 0,
  "metadata": {
    "kernelspec": {
      "display_name": "learn-env",
      "language": "python",
      "name": "learn-env"
    },
    "language_info": {
      "codemirror_mode": {
        "name": "ipython",
        "version": 3
      },
      "file_extension": ".py",
      "mimetype": "text/x-python",
      "name": "python",
      "nbconvert_exporter": "python",
      "pygments_lexer": "ipython3",
      "version": "3.6.9"
    },
    "toc": {
      "base_numbering": 1,
      "nav_menu": {},
      "number_sections": true,
      "sideBar": true,
      "skip_h1_title": false,
      "title_cell": "Table of Contents",
      "title_sidebar": "Contents",
      "toc_cell": false,
      "toc_position": {},
      "toc_section_display": true,
      "toc_window_display": false
    },
    "varInspector": {
      "cols": {
        "lenName": 16,
        "lenType": 16,
        "lenVar": 40
      },
      "kernels_config": {
        "python": {
          "delete_cmd_postfix": "",
          "delete_cmd_prefix": "del ",
          "library": "var_list.py",
          "varRefreshCmd": "print(var_dic_list())"
        },
        "r": {
          "delete_cmd_postfix": ") ",
          "delete_cmd_prefix": "rm(",
          "library": "var_list.r",
          "varRefreshCmd": "cat(var_dic_list()) "
        }
      },
      "types_to_exclude": [
        "module",
        "function",
        "builtin_function_or_method",
        "instance",
        "_Feature"
      ],
      "window_display": false
    },
    "colab": {
      "name": "12_smv_model_02.ipynb",
      "provenance": [],
      "include_colab_link": true
    }
  },
  "cells": [
    {
      "cell_type": "markdown",
      "metadata": {
        "id": "view-in-github",
        "colab_type": "text"
      },
      "source": [
        "<a href=\"https://colab.research.google.com/github/ShesterG/Twitter-Sentiment-Analysis/blob/master/notebooks/svm_model.ipynb\" target=\"_parent\"><img src=\"https://colab.research.google.com/assets/colab-badge.svg\" alt=\"Open In Colab\"/></a>"
      ]
    },
    {
      "cell_type": "markdown",
      "metadata": {
        "id": "pOr84TwcKomO"
      },
      "source": [
        "# SVM with Smote Model for Twitter Sentiment Analysis"
      ]
    },
    {
      "cell_type": "markdown",
      "metadata": {
        "id": "KGZkKVLpKomi"
      },
      "source": [
        "This model will use SVM with tf/idf to classify the tweets.\n",
        "\n",
        "It will reduce the dimensionality of the feature set by adjusting the minimum document frequency of words, in an attempt to get better results.\n",
        "\n",
        "It will use SMOTE to synthesize some data to balance the classes."
      ]
    },
    {
      "cell_type": "code",
      "metadata": {
        "id": "6MftFUf1Ltx-",
        "colab": {
          "base_uri": "https://localhost:8080/"
        },
        "outputId": "7459a0d1-ba1d-40db-bfb5-d059c0badc19"
      },
      "source": [
        "from google.colab import drive\n",
        "drive.mount(\"/content/drive\", force_remount=True)"
      ],
      "execution_count": 1,
      "outputs": [
        {
          "output_type": "stream",
          "name": "stdout",
          "text": [
            "Mounted at /content/drive\n"
          ]
        }
      ]
    },
    {
      "cell_type": "markdown",
      "metadata": {
        "id": "A-q54ki6Komk"
      },
      "source": [
        "# Imports and Constants"
      ]
    },
    {
      "cell_type": "code",
      "metadata": {
        "ExecuteTime": {
          "end_time": "2020-09-10T17:33:58.632607Z",
          "start_time": "2020-09-10T17:33:57.317553Z"
        },
        "id": "XOkxSJpcKomk",
        "outputId": "69b42be8-9e04-4432-ac69-1746154c41c9",
        "colab": {
          "base_uri": "https://localhost:8080/"
        }
      },
      "source": [
        "import pandas as pd\n",
        "import numpy as np\n",
        "from sklearn.naive_bayes import MultinomialNB\n",
        "from sklearn.svm import SVC\n",
        "from sklearn.model_selection import train_test_split\n",
        "from sklearn.feature_extraction.text import CountVectorizer\n",
        "\n",
        "from sklearn.preprocessing import LabelEncoder\n",
        "from sklearn.metrics import classification_report, plot_confusion_matrix\n",
        "import matplotlib.pyplot as plt\n",
        "%matplotlib inline\n",
        "from sklearn.metrics import precision_recall_curve, auc\n",
        "from sklearn.metrics import accuracy_score, f1_score, recall_score, precision_score\n",
        "from sklearn.preprocessing import LabelBinarizer\n",
        "#import evaluation_functions\n",
        "from sklearn.metrics import confusion_matrix\n",
        "from sklearn.metrics import classification_report\n",
        "from sklearn.feature_extraction.text import TfidfTransformer\n",
        "from sklearn.linear_model import SGDClassifier\n",
        "from imblearn.over_sampling import SMOTE\n",
        "from imblearn.pipeline import Pipeline\n",
        "import ast\n",
        "\n",
        "\n",
        "from sklearn.model_selection import cross_val_score\n",
        "from sklearn.model_selection import cross_validate\n",
        "from sklearn.model_selection import cross_val_predict\n",
        "\n",
        "from sklearn.model_selection import StratifiedKFold\n",
        "\n",
        "\n",
        "from sklearn.metrics import make_scorer\n",
        "\n"
      ],
      "execution_count": 2,
      "outputs": [
        {
          "output_type": "stream",
          "name": "stderr",
          "text": [
            "/usr/local/lib/python3.7/dist-packages/sklearn/externals/six.py:31: FutureWarning: The module is deprecated in version 0.21 and will be removed in version 0.23 since we've dropped support for Python 2.7. Please rely on the official version of six (https://pypi.org/project/six/).\n",
            "  \"(https://pypi.org/project/six/).\", FutureWarning)\n",
            "/usr/local/lib/python3.7/dist-packages/sklearn/utils/deprecation.py:144: FutureWarning: The sklearn.neighbors.base module is  deprecated in version 0.22 and will be removed in version 0.24. The corresponding classes / functions should instead be imported from sklearn.neighbors. Anything that cannot be imported from sklearn.neighbors is now part of the private API.\n",
            "  warnings.warn(message, FutureWarning)\n"
          ]
        }
      ]
    },
    {
      "cell_type": "code",
      "metadata": {
        "ExecuteTime": {
          "end_time": "2020-09-10T17:33:58.639394Z",
          "start_time": "2020-09-10T17:33:58.635233Z"
        },
        "id": "XjDfZZQvKomm"
      },
      "source": [
        "DATA_FILE_PATH = '/content/drive/MyDrive/NLPGh/'\n",
        "CLEAN_DATA_FILE_NAME = 'Book10Clean.csv'\n",
        "TOKENIZED_DATA_FILE_NAME = 'Book10Tokenized.csv'\n",
        "pd.set_option('display.max_colwidth', None)\n",
        "RANDOM_STATE = 42"
      ],
      "execution_count": 3,
      "outputs": []
    },
    {
      "cell_type": "markdown",
      "metadata": {
        "id": "8p6TU0dHKomn"
      },
      "source": [
        "# Load Data"
      ]
    },
    {
      "cell_type": "code",
      "metadata": {
        "ExecuteTime": {
          "end_time": "2020-09-10T17:33:58.693585Z",
          "start_time": "2020-09-10T17:33:58.642232Z"
        },
        "id": "e7HwLTwRKomn"
      },
      "source": [
        "df = pd.read_csv(DATA_FILE_PATH + TOKENIZED_DATA_FILE_NAME)"
      ],
      "execution_count": 4,
      "outputs": []
    },
    {
      "cell_type": "code",
      "metadata": {
        "ExecuteTime": {
          "end_time": "2020-09-10T17:33:58.716944Z",
          "start_time": "2020-09-10T17:33:58.696032Z"
        },
        "id": "D8GqKiY1Komn",
        "colab": {
          "base_uri": "https://localhost:8080/",
          "height": 310
        },
        "outputId": "b0f5011e-de31-404f-af2f-4b1ac1adbb15"
      },
      "source": [
        "df.head()"
      ],
      "execution_count": 5,
      "outputs": [
        {
          "output_type": "execute_result",
          "data": {
            "text/html": [
              "<div>\n",
              "<style scoped>\n",
              "    .dataframe tbody tr th:only-of-type {\n",
              "        vertical-align: middle;\n",
              "    }\n",
              "\n",
              "    .dataframe tbody tr th {\n",
              "        vertical-align: top;\n",
              "    }\n",
              "\n",
              "    .dataframe thead th {\n",
              "        text-align: right;\n",
              "    }\n",
              "</style>\n",
              "<table border=\"1\" class=\"dataframe\">\n",
              "  <thead>\n",
              "    <tr style=\"text-align: right;\">\n",
              "      <th></th>\n",
              "      <th>Unnamed: 0</th>\n",
              "      <th>tweet</th>\n",
              "      <th>location_x</th>\n",
              "      <th>pretweet</th>\n",
              "      <th>candidate</th>\n",
              "      <th>LRPredScore</th>\n",
              "      <th>LRConfi</th>\n",
              "      <th>Sentiment</th>\n",
              "      <th>Unnamed: 8</th>\n",
              "      <th>tokens</th>\n",
              "    </tr>\n",
              "  </thead>\n",
              "  <tbody>\n",
              "    <tr>\n",
              "      <th>0</th>\n",
              "      <td>2</td>\n",
              "      <td>@NAkufoAddo  H. E Nana please follow up on this FAKE NEWS, LIES and sue BBC for peddling false information. Hold alÃ¢â¬Â¦ https://t.co/SdwnMsxeUV</td>\n",
              "      <td>NaN</td>\n",
              "      <td>nana pleas follow thi fake new lie and sue bbc for peddl fals inform hold al</td>\n",
              "      <td>Nana</td>\n",
              "      <td>-3.0</td>\n",
              "      <td>1.0</td>\n",
              "      <td>0</td>\n",
              "      <td>NaN</td>\n",
              "      <td>['nana', 'pleas', 'follow', 'thi', 'fake', 'new', 'lie', 'and', 'sue', 'bbc', 'for', 'peddl', 'fals', 'inform', 'hold', 'al']</td>\n",
              "    </tr>\n",
              "    <tr>\n",
              "      <th>1</th>\n",
              "      <td>6</td>\n",
              "      <td>@ChipsJhay @TruthFreema @AOuattara_PRCI @NAkufoAddo No, you haven't. He's using his freedom of speech as it is. He's covered.</td>\n",
              "      <td>Afamase Akotom, Ghana</td>\n",
              "      <td>no you havent he use hi freedom speech is he cover</td>\n",
              "      <td>Nana</td>\n",
              "      <td>NaN</td>\n",
              "      <td>NaN</td>\n",
              "      <td>0</td>\n",
              "      <td>NaN</td>\n",
              "      <td>['no', 'you', 'havent', 'he', 'use', 'hi', 'freedom', 'speech', 'is', 'he', 'cover']</td>\n",
              "    </tr>\n",
              "    <tr>\n",
              "      <th>2</th>\n",
              "      <td>7</td>\n",
              "      <td>@IssahGerard @HEgyiri @NAkufoAddo Please who is this and how is he your in law??</td>\n",
              "      <td>NaN</td>\n",
              "      <td>pleas who thi and how your law</td>\n",
              "      <td>Nana</td>\n",
              "      <td>-1.0</td>\n",
              "      <td>1.0</td>\n",
              "      <td>0</td>\n",
              "      <td>NaN</td>\n",
              "      <td>['pleas', 'who', 'thi', 'and', 'how', 'your', 'law']</td>\n",
              "    </tr>\n",
              "    <tr>\n",
              "      <th>3</th>\n",
              "      <td>17</td>\n",
              "      <td>@Kwame34580189 @bukolasaraki @NAkufoAddo Whatever.... Thought you had something there....</td>\n",
              "      <td>Nigeria</td>\n",
              "      <td>whatev thought you had someth there</td>\n",
              "      <td>Nana</td>\n",
              "      <td>NaN</td>\n",
              "      <td>NaN</td>\n",
              "      <td>0</td>\n",
              "      <td>NaN</td>\n",
              "      <td>['whatev', 'thought', 'you', 'had', 'someth', 'there']</td>\n",
              "    </tr>\n",
              "    <tr>\n",
              "      <th>4</th>\n",
              "      <td>18</td>\n",
              "      <td>@NAkufoAddo Remember that the good people of Gh have spoken therefore Soo be it</td>\n",
              "      <td>NaN</td>\n",
              "      <td>rememb that the good peopl have spoken therefor soo</td>\n",
              "      <td>Nana</td>\n",
              "      <td>1.0</td>\n",
              "      <td>1.0</td>\n",
              "      <td>0</td>\n",
              "      <td>NaN</td>\n",
              "      <td>['rememb', 'that', 'the', 'good', 'peopl', 'have', 'spoken', 'therefor', 'soo']</td>\n",
              "    </tr>\n",
              "  </tbody>\n",
              "</table>\n",
              "</div>"
            ],
            "text/plain": [
              "   Unnamed: 0  ...                                                                                                                         tokens\n",
              "0           2  ...  ['nana', 'pleas', 'follow', 'thi', 'fake', 'new', 'lie', 'and', 'sue', 'bbc', 'for', 'peddl', 'fals', 'inform', 'hold', 'al']\n",
              "1           6  ...                                           ['no', 'you', 'havent', 'he', 'use', 'hi', 'freedom', 'speech', 'is', 'he', 'cover']\n",
              "2           7  ...                                                                           ['pleas', 'who', 'thi', 'and', 'how', 'your', 'law']\n",
              "3          17  ...                                                                         ['whatev', 'thought', 'you', 'had', 'someth', 'there']\n",
              "4          18  ...                                                ['rememb', 'that', 'the', 'good', 'peopl', 'have', 'spoken', 'therefor', 'soo']\n",
              "\n",
              "[5 rows x 10 columns]"
            ]
          },
          "metadata": {},
          "execution_count": 5
        }
      ]
    },
    {
      "cell_type": "code",
      "metadata": {
        "id": "ZUM_HOPy79c9"
      },
      "source": [
        "#df = df[df.Sentiment != 0]"
      ],
      "execution_count": 6,
      "outputs": []
    },
    {
      "cell_type": "code",
      "metadata": {
        "ExecuteTime": {
          "end_time": "2020-09-10T17:33:59.158553Z",
          "start_time": "2020-09-10T17:33:58.719183Z"
        },
        "id": "OLfKOp0DKomo"
      },
      "source": [
        "# convert list of strings represented as a string to a list of strings\n",
        "df.tokens = df.tokens.map(ast.literal_eval)"
      ],
      "execution_count": 7,
      "outputs": []
    },
    {
      "cell_type": "code",
      "metadata": {
        "ExecuteTime": {
          "end_time": "2020-09-10T17:33:59.166031Z",
          "start_time": "2020-09-10T17:33:59.160668Z"
        },
        "id": "2-IVZp-qKomp"
      },
      "source": [
        "data = df[['tokens', 'Sentiment']]"
      ],
      "execution_count": 8,
      "outputs": []
    },
    {
      "cell_type": "code",
      "metadata": {
        "id": "p4iW_3ydD0-Z",
        "colab": {
          "base_uri": "https://localhost:8080/"
        },
        "outputId": "6759eecc-135f-4308-e55a-11b563d4c6bc"
      },
      "source": [
        "data.Sentiment.value_counts()"
      ],
      "execution_count": 9,
      "outputs": [
        {
          "output_type": "execute_result",
          "data": {
            "text/plain": [
              " 1    1000\n",
              "-1    1000\n",
              " 0    1000\n",
              "Name: Sentiment, dtype: int64"
            ]
          },
          "metadata": {},
          "execution_count": 9
        }
      ]
    },
    {
      "cell_type": "code",
      "metadata": {
        "ExecuteTime": {
          "end_time": "2020-09-10T17:33:59.181978Z",
          "start_time": "2020-09-10T17:33:59.168323Z"
        },
        "id": "9ot3qehDKomp",
        "colab": {
          "base_uri": "https://localhost:8080/",
          "height": 206
        },
        "outputId": "bc7a96d0-cff7-4355-9b0e-a47c91ed8c56"
      },
      "source": [
        "data.head()"
      ],
      "execution_count": 10,
      "outputs": [
        {
          "output_type": "execute_result",
          "data": {
            "text/html": [
              "<div>\n",
              "<style scoped>\n",
              "    .dataframe tbody tr th:only-of-type {\n",
              "        vertical-align: middle;\n",
              "    }\n",
              "\n",
              "    .dataframe tbody tr th {\n",
              "        vertical-align: top;\n",
              "    }\n",
              "\n",
              "    .dataframe thead th {\n",
              "        text-align: right;\n",
              "    }\n",
              "</style>\n",
              "<table border=\"1\" class=\"dataframe\">\n",
              "  <thead>\n",
              "    <tr style=\"text-align: right;\">\n",
              "      <th></th>\n",
              "      <th>tokens</th>\n",
              "      <th>Sentiment</th>\n",
              "    </tr>\n",
              "  </thead>\n",
              "  <tbody>\n",
              "    <tr>\n",
              "      <th>0</th>\n",
              "      <td>[nana, pleas, follow, thi, fake, new, lie, and, sue, bbc, for, peddl, fals, inform, hold, al]</td>\n",
              "      <td>0</td>\n",
              "    </tr>\n",
              "    <tr>\n",
              "      <th>1</th>\n",
              "      <td>[no, you, havent, he, use, hi, freedom, speech, is, he, cover]</td>\n",
              "      <td>0</td>\n",
              "    </tr>\n",
              "    <tr>\n",
              "      <th>2</th>\n",
              "      <td>[pleas, who, thi, and, how, your, law]</td>\n",
              "      <td>0</td>\n",
              "    </tr>\n",
              "    <tr>\n",
              "      <th>3</th>\n",
              "      <td>[whatev, thought, you, had, someth, there]</td>\n",
              "      <td>0</td>\n",
              "    </tr>\n",
              "    <tr>\n",
              "      <th>4</th>\n",
              "      <td>[rememb, that, the, good, peopl, have, spoken, therefor, soo]</td>\n",
              "      <td>0</td>\n",
              "    </tr>\n",
              "  </tbody>\n",
              "</table>\n",
              "</div>"
            ],
            "text/plain": [
              "                                                                                          tokens  Sentiment\n",
              "0  [nana, pleas, follow, thi, fake, new, lie, and, sue, bbc, for, peddl, fals, inform, hold, al]          0\n",
              "1                                 [no, you, havent, he, use, hi, freedom, speech, is, he, cover]          0\n",
              "2                                                         [pleas, who, thi, and, how, your, law]          0\n",
              "3                                                     [whatev, thought, you, had, someth, there]          0\n",
              "4                                  [rememb, that, the, good, peopl, have, spoken, therefor, soo]          0"
            ]
          },
          "metadata": {},
          "execution_count": 10
        }
      ]
    },
    {
      "cell_type": "markdown",
      "metadata": {
        "id": "8XQ1lJ--Komp"
      },
      "source": [
        "# Split Data"
      ]
    },
    {
      "cell_type": "code",
      "metadata": {
        "ExecuteTime": {
          "end_time": "2020-09-10T17:33:59.208403Z",
          "start_time": "2020-09-10T17:33:59.186404Z"
        },
        "id": "LsE-CjGQKomq"
      },
      "source": [
        "\"\"\"\n",
        "X_train, X_test, y_train, y_test = train_test_split(data['tokens'], \n",
        "                                                    data['Sentiment'],\n",
        "                                                   test_size = 0.2,\n",
        "                                                   random_state = RANDOM_STATE,\n",
        "                                                   stratify = data['Sentiment'])\n",
        "\"\"\"  \n",
        "\n",
        "X = data['tokens']\n",
        "y = data['Sentiment']"
      ],
      "execution_count": 11,
      "outputs": []
    },
    {
      "cell_type": "code",
      "metadata": {
        "ExecuteTime": {
          "end_time": "2020-09-10T17:33:59.217856Z",
          "start_time": "2020-09-10T17:33:59.211816Z"
        },
        "id": "e6ZbJhDpKomq"
      },
      "source": [
        "#X_train.shape"
      ],
      "execution_count": 12,
      "outputs": []
    },
    {
      "cell_type": "code",
      "metadata": {
        "ExecuteTime": {
          "end_time": "2020-09-10T17:33:59.225303Z",
          "start_time": "2020-09-10T17:33:59.220214Z"
        },
        "id": "LhuTx3bAKomr"
      },
      "source": [
        "#X_test.shape"
      ],
      "execution_count": 13,
      "outputs": []
    },
    {
      "cell_type": "markdown",
      "metadata": {
        "id": "vIYUAWJXKomr"
      },
      "source": [
        "# Encode Labels"
      ]
    },
    {
      "cell_type": "code",
      "metadata": {
        "ExecuteTime": {
          "end_time": "2020-09-10T17:33:59.231548Z",
          "start_time": "2020-09-10T17:33:59.228153Z"
        },
        "id": "b9h7GJtyKomr"
      },
      "source": [
        "le = LabelEncoder()"
      ],
      "execution_count": 14,
      "outputs": []
    },
    {
      "cell_type": "code",
      "metadata": {
        "ExecuteTime": {
          "end_time": "2020-09-10T17:33:59.239063Z",
          "start_time": "2020-09-10T17:33:59.233579Z"
        },
        "id": "YmS4TDmSKomr"
      },
      "source": [
        "#y_train_enc = le.fit_transform(y_train)"
      ],
      "execution_count": 15,
      "outputs": []
    },
    {
      "cell_type": "code",
      "metadata": {
        "ExecuteTime": {
          "end_time": "2020-09-10T17:33:59.255359Z",
          "start_time": "2020-09-10T17:33:59.241210Z"
        },
        "id": "HORAhV0PKoms"
      },
      "source": [
        "#y_test_enc = le.transform(y_test)"
      ],
      "execution_count": 16,
      "outputs": []
    },
    {
      "cell_type": "code",
      "metadata": {
        "id": "C3ZgICYbkMpH"
      },
      "source": [
        "y_enc = le.fit_transform(y)"
      ],
      "execution_count": 17,
      "outputs": []
    },
    {
      "cell_type": "code",
      "metadata": {
        "id": "Bb7VFeaOa8pn"
      },
      "source": [
        ""
      ],
      "execution_count": 17,
      "outputs": []
    },
    {
      "cell_type": "markdown",
      "metadata": {
        "id": "ep11COZQKoms"
      },
      "source": [
        "# Evaluate Adjustments to Minimum Document Frequency"
      ]
    },
    {
      "cell_type": "code",
      "metadata": {
        "ExecuteTime": {
          "end_time": "2020-09-10T17:33:59.261759Z",
          "start_time": "2020-09-10T17:33:59.257741Z"
        },
        "id": "xgFhcb5OKoms"
      },
      "source": [
        "def passthrough(doc):\n",
        "    \"\"\"passthrough function for use in the pipeline because the text is already tokenized\"\"\"\n",
        "    return doc"
      ],
      "execution_count": 18,
      "outputs": []
    },
    {
      "cell_type": "code",
      "metadata": {
        "ExecuteTime": {
          "end_time": "2020-09-10T17:33:59.276479Z",
          "start_time": "2020-09-10T17:33:59.264034Z"
        },
        "id": "FAQzIQvpKoms"
      },
      "source": [
        "def train_and_eval_model(min_df):\n",
        "    \"\"\"\n",
        "    Train and Evaluate and Bag of Words Representation with a SVM\n",
        "    classifier with a specified minimum document frequency.\n",
        "    \"\"\"\n",
        "    \n",
        "    pipeline = Pipeline([('bow',CountVectorizer(min_df=min_df, \n",
        "                                                preprocessor=passthrough, \n",
        "                                                tokenizer=passthrough)),\n",
        "                         ('tfidf', TfidfTransformer()),\n",
        "                         ('smote', SMOTE(random_state=RANDOM_STATE, \n",
        "                                         n_jobs=-1)),\n",
        "                         ('SVM', SVC(kernel = 'linear', probability = True, random_state = RANDOM_STATE))\n",
        "                         ])\n",
        "    \n",
        "\n",
        "    #scores = cross_validation.cross_val_score(Pipeline, X_train,y_train_enc, cv=10)\n",
        "    #pipeline.score\n",
        "    #scoring = ['accuracy','f1','precision','recall']\n",
        "    \n",
        "    scoring = {'accuracy' : make_scorer(accuracy_score),\n",
        "               'f1_score' : make_scorer(f1_score, average = 'micro'), \n",
        "               'precision' : make_scorer(precision_score, average = 'micro'),\n",
        "               'recall' : make_scorer(recall_score, average = 'micro') \n",
        "              }\n",
        "    \n",
        "    scores = cross_validate(pipeline, X, y_enc, cv=10, scoring=scoring)\n",
        "    sorted(scores.keys())\n",
        "\n",
        "    y_pred = cross_val_predict(pipeline, X, y_enc, cv=10)\n",
        "\n",
        "    \n",
        "    print(f'MINIMUM DOCUMENT FREQUENCY = {min_df}')\n",
        "    print('')\n",
        "    \n",
        "    conf_matrix = confusion_matrix(y_true=y_enc, y_pred=y_pred)\n",
        "\n",
        "    classi_report = classification_report(y_true=y_enc, y_pred=y_pred, digits=4, target_names=['Negative','Neutral','Postive'])\n",
        "    print(classi_report)\n",
        "\n",
        "    \"\"\"\n",
        "    #y_pred = cross_val_predict(Pipeline, X, Y, cv=10)\n",
        "    \n",
        "    \n",
        "    #y_pred = pipeline.predict(X_test)\n",
        "\n",
        "\n",
        "\n",
        "    #conf_matrix = confusion_matrix(y_true=y_test_enc, y_pred=y_pred)\n",
        "    #confusion_matrix(y_true=y_train_enc, y_pred=pipeline.predict(X_train),labels='Training')\n",
        "\n",
        "    \n",
        "    #classi_report = classification_report(y_true=y_test_enc, y_pred=y_pred, target_names=['Negative', 'Postive'])\n",
        "    #print(classi_report)\n",
        "    ['fit_time', 'score_time', 'test_prec_macro', 'test_rec_macro',\n",
        " 'train_prec_macro', 'train_rec_macro']\n",
        "\n",
        "    \n",
        "    #train_accuracy = accuracy_score(y_train_enc, pipeline.predict(X_train))\n",
        "    \n",
        "    test_accuracy = accuracy_score(y_test_enc, pipeline.predict(X_test))\n",
        "    \n",
        "    ave_macro_recall = recall_score(y_test_enc, pipeline.predict(X_test), average='macro')\n",
        "    recall_scores = recall_score(y_test_enc, pipeline.predict(X_test), average=None)\n",
        "    \n",
        "    test_results = np.append(np.array([min_df, train_accuracy, test_accuracy, ave_macro_recall]),\n",
        "                             recall_scores, score_mean)\n",
        "    \"\"\"\n",
        "    a = scores['test_accuracy'].mean()\n",
        "    f = scores['test_f1_score'].mean()\n",
        "    p = scores['test_precision'].mean()\n",
        "    r = scores['test_recall'].mean()\n",
        "    test_results = np.append(np.array([min_df, a, f, p]),r)\n",
        "    \n",
        "    \n",
        "   \n",
        "    return test_results, conf_matrix, y_pred \n",
        "    "
      ],
      "execution_count": 19,
      "outputs": []
    },
    {
      "cell_type": "code",
      "metadata": {
        "ExecuteTime": {
          "end_time": "2020-09-10T17:35:26.888718Z",
          "start_time": "2020-09-10T17:33:59.278764Z"
        },
        "scrolled": true,
        "id": "qVbFOtXQKomt",
        "colab": {
          "base_uri": "https://localhost:8080/"
        },
        "outputId": "eed0d8a4-9738-4032-852b-cb344ef110d3"
      },
      "source": [
        "metrics_summary = []\n",
        "\n",
        "for min_df in range(1,11):\n",
        "    test_scores, conf_matrix, y_pred = train_and_eval_model(min_df)\n",
        "    metrics_summary.append(test_scores)"
      ],
      "execution_count": 20,
      "outputs": [
        {
          "output_type": "stream",
          "name": "stdout",
          "text": [
            "MINIMUM DOCUMENT FREQUENCY = 1\n",
            "\n",
            "              precision    recall  f1-score   support\n",
            "\n",
            "    Negative     0.6576    0.6740    0.6657      1000\n",
            "     Neutral     0.6000    0.6000    0.6000      1000\n",
            "     Postive     0.7682    0.7490    0.7585      1000\n",
            "\n",
            "    accuracy                         0.6743      3000\n",
            "   macro avg     0.6753    0.6743    0.6747      3000\n",
            "weighted avg     0.6753    0.6743    0.6747      3000\n",
            "\n",
            "MINIMUM DOCUMENT FREQUENCY = 2\n",
            "\n",
            "              precision    recall  f1-score   support\n",
            "\n",
            "    Negative     0.6670    0.6590    0.6630      1000\n",
            "     Neutral     0.5910    0.6200    0.6052      1000\n",
            "     Postive     0.7664    0.7380    0.7519      1000\n",
            "\n",
            "    accuracy                         0.6723      3000\n",
            "   macro avg     0.6748    0.6723    0.6734      3000\n",
            "weighted avg     0.6748    0.6723    0.6734      3000\n",
            "\n",
            "MINIMUM DOCUMENT FREQUENCY = 3\n",
            "\n",
            "              precision    recall  f1-score   support\n",
            "\n",
            "    Negative     0.6646    0.6500    0.6572      1000\n",
            "     Neutral     0.5852    0.6250    0.6044      1000\n",
            "     Postive     0.7579    0.7230    0.7400      1000\n",
            "\n",
            "    accuracy                         0.6660      3000\n",
            "   macro avg     0.6692    0.6660    0.6672      3000\n",
            "weighted avg     0.6692    0.6660    0.6672      3000\n",
            "\n",
            "MINIMUM DOCUMENT FREQUENCY = 4\n",
            "\n",
            "              precision    recall  f1-score   support\n",
            "\n",
            "    Negative     0.6599    0.6460    0.6529      1000\n",
            "     Neutral     0.5858    0.6250    0.6047      1000\n",
            "     Postive     0.7579    0.7230    0.7400      1000\n",
            "\n",
            "    accuracy                         0.6647      3000\n",
            "   macro avg     0.6678    0.6647    0.6659      3000\n",
            "weighted avg     0.6678    0.6647    0.6659      3000\n",
            "\n",
            "MINIMUM DOCUMENT FREQUENCY = 5\n",
            "\n",
            "              precision    recall  f1-score   support\n",
            "\n",
            "    Negative     0.6572    0.6480    0.6526      1000\n",
            "     Neutral     0.5861    0.6260    0.6054      1000\n",
            "     Postive     0.7611    0.7200    0.7400      1000\n",
            "\n",
            "    accuracy                         0.6647      3000\n",
            "   macro avg     0.6681    0.6647    0.6660      3000\n",
            "weighted avg     0.6681    0.6647    0.6660      3000\n",
            "\n",
            "MINIMUM DOCUMENT FREQUENCY = 6\n",
            "\n",
            "              precision    recall  f1-score   support\n",
            "\n",
            "    Negative     0.6588    0.6450    0.6518      1000\n",
            "     Neutral     0.5877    0.6330    0.6095      1000\n",
            "     Postive     0.7542    0.7120    0.7325      1000\n",
            "\n",
            "    accuracy                         0.6633      3000\n",
            "   macro avg     0.6669    0.6633    0.6646      3000\n",
            "weighted avg     0.6669    0.6633    0.6646      3000\n",
            "\n",
            "MINIMUM DOCUMENT FREQUENCY = 7\n",
            "\n",
            "              precision    recall  f1-score   support\n",
            "\n",
            "    Negative     0.6613    0.6520    0.6566      1000\n",
            "     Neutral     0.5916    0.6360    0.6130      1000\n",
            "     Postive     0.7540    0.7080    0.7303      1000\n",
            "\n",
            "    accuracy                         0.6653      3000\n",
            "   macro avg     0.6690    0.6653    0.6666      3000\n",
            "weighted avg     0.6690    0.6653    0.6666      3000\n",
            "\n",
            "MINIMUM DOCUMENT FREQUENCY = 8\n",
            "\n",
            "              precision    recall  f1-score   support\n",
            "\n",
            "    Negative     0.6684    0.6450    0.6565      1000\n",
            "     Neutral     0.5980    0.6470    0.6215      1000\n",
            "     Postive     0.7587    0.7230    0.7404      1000\n",
            "\n",
            "    accuracy                         0.6717      3000\n",
            "   macro avg     0.6750    0.6717    0.6728      3000\n",
            "weighted avg     0.6750    0.6717    0.6728      3000\n",
            "\n",
            "MINIMUM DOCUMENT FREQUENCY = 9\n",
            "\n",
            "              precision    recall  f1-score   support\n",
            "\n",
            "    Negative     0.6752    0.6590    0.6670      1000\n",
            "     Neutral     0.6046    0.6530    0.6279      1000\n",
            "     Postive     0.7574    0.7150    0.7356      1000\n",
            "\n",
            "    accuracy                         0.6757      3000\n",
            "   macro avg     0.6791    0.6757    0.6768      3000\n",
            "weighted avg     0.6791    0.6757    0.6768      3000\n",
            "\n",
            "MINIMUM DOCUMENT FREQUENCY = 10\n",
            "\n",
            "              precision    recall  f1-score   support\n",
            "\n",
            "    Negative     0.6653    0.6500    0.6576      1000\n",
            "     Neutral     0.6009    0.6490    0.6240      1000\n",
            "     Postive     0.7603    0.7170    0.7380      1000\n",
            "\n",
            "    accuracy                         0.6720      3000\n",
            "   macro avg     0.6755    0.6720    0.6732      3000\n",
            "weighted avg     0.6755    0.6720    0.6732      3000\n",
            "\n"
          ]
        }
      ]
    },
    {
      "cell_type": "code",
      "metadata": {
        "ExecuteTime": {
          "end_time": "2020-09-10T17:35:26.913147Z",
          "start_time": "2020-09-10T17:35:26.890840Z"
        },
        "id": "MAlgX9MYKomu",
        "colab": {
          "base_uri": "https://localhost:8080/",
          "height": 363
        },
        "outputId": "4293d0f0-7e55-4626-90ad-584e9c91eb81"
      },
      "source": [
        "metrics_summary_df = pd.DataFrame(metrics_summary, \n",
        "                                  columns=['min doc freq',\n",
        "                                           'accuracy',\n",
        "                                           'f1_score',\n",
        "                                           'precision',\n",
        "                                          'recall'\n",
        "                                          ])\n",
        "\n",
        "metrics_summary_df"
      ],
      "execution_count": 21,
      "outputs": [
        {
          "output_type": "execute_result",
          "data": {
            "text/html": [
              "<div>\n",
              "<style scoped>\n",
              "    .dataframe tbody tr th:only-of-type {\n",
              "        vertical-align: middle;\n",
              "    }\n",
              "\n",
              "    .dataframe tbody tr th {\n",
              "        vertical-align: top;\n",
              "    }\n",
              "\n",
              "    .dataframe thead th {\n",
              "        text-align: right;\n",
              "    }\n",
              "</style>\n",
              "<table border=\"1\" class=\"dataframe\">\n",
              "  <thead>\n",
              "    <tr style=\"text-align: right;\">\n",
              "      <th></th>\n",
              "      <th>min doc freq</th>\n",
              "      <th>accuracy</th>\n",
              "      <th>f1_score</th>\n",
              "      <th>precision</th>\n",
              "      <th>recall</th>\n",
              "    </tr>\n",
              "  </thead>\n",
              "  <tbody>\n",
              "    <tr>\n",
              "      <th>0</th>\n",
              "      <td>1.0</td>\n",
              "      <td>0.674333</td>\n",
              "      <td>0.674333</td>\n",
              "      <td>0.674333</td>\n",
              "      <td>0.674333</td>\n",
              "    </tr>\n",
              "    <tr>\n",
              "      <th>1</th>\n",
              "      <td>2.0</td>\n",
              "      <td>0.672333</td>\n",
              "      <td>0.672333</td>\n",
              "      <td>0.672333</td>\n",
              "      <td>0.672333</td>\n",
              "    </tr>\n",
              "    <tr>\n",
              "      <th>2</th>\n",
              "      <td>3.0</td>\n",
              "      <td>0.666000</td>\n",
              "      <td>0.666000</td>\n",
              "      <td>0.666000</td>\n",
              "      <td>0.666000</td>\n",
              "    </tr>\n",
              "    <tr>\n",
              "      <th>3</th>\n",
              "      <td>4.0</td>\n",
              "      <td>0.664667</td>\n",
              "      <td>0.664667</td>\n",
              "      <td>0.664667</td>\n",
              "      <td>0.664667</td>\n",
              "    </tr>\n",
              "    <tr>\n",
              "      <th>4</th>\n",
              "      <td>5.0</td>\n",
              "      <td>0.664667</td>\n",
              "      <td>0.664667</td>\n",
              "      <td>0.664667</td>\n",
              "      <td>0.664667</td>\n",
              "    </tr>\n",
              "    <tr>\n",
              "      <th>5</th>\n",
              "      <td>6.0</td>\n",
              "      <td>0.663333</td>\n",
              "      <td>0.663333</td>\n",
              "      <td>0.663333</td>\n",
              "      <td>0.663333</td>\n",
              "    </tr>\n",
              "    <tr>\n",
              "      <th>6</th>\n",
              "      <td>7.0</td>\n",
              "      <td>0.665333</td>\n",
              "      <td>0.665333</td>\n",
              "      <td>0.665333</td>\n",
              "      <td>0.665333</td>\n",
              "    </tr>\n",
              "    <tr>\n",
              "      <th>7</th>\n",
              "      <td>8.0</td>\n",
              "      <td>0.671667</td>\n",
              "      <td>0.671667</td>\n",
              "      <td>0.671667</td>\n",
              "      <td>0.671667</td>\n",
              "    </tr>\n",
              "    <tr>\n",
              "      <th>8</th>\n",
              "      <td>9.0</td>\n",
              "      <td>0.675667</td>\n",
              "      <td>0.675667</td>\n",
              "      <td>0.675667</td>\n",
              "      <td>0.675667</td>\n",
              "    </tr>\n",
              "    <tr>\n",
              "      <th>9</th>\n",
              "      <td>10.0</td>\n",
              "      <td>0.672000</td>\n",
              "      <td>0.672000</td>\n",
              "      <td>0.672000</td>\n",
              "      <td>0.672000</td>\n",
              "    </tr>\n",
              "  </tbody>\n",
              "</table>\n",
              "</div>"
            ],
            "text/plain": [
              "   min doc freq  accuracy  f1_score  precision    recall\n",
              "0           1.0  0.674333  0.674333   0.674333  0.674333\n",
              "1           2.0  0.672333  0.672333   0.672333  0.672333\n",
              "2           3.0  0.666000  0.666000   0.666000  0.666000\n",
              "3           4.0  0.664667  0.664667   0.664667  0.664667\n",
              "4           5.0  0.664667  0.664667   0.664667  0.664667\n",
              "5           6.0  0.663333  0.663333   0.663333  0.663333\n",
              "6           7.0  0.665333  0.665333   0.665333  0.665333\n",
              "7           8.0  0.671667  0.671667   0.671667  0.671667\n",
              "8           9.0  0.675667  0.675667   0.675667  0.675667\n",
              "9          10.0  0.672000  0.672000   0.672000  0.672000"
            ]
          },
          "metadata": {},
          "execution_count": 21
        }
      ]
    },
    {
      "cell_type": "code",
      "metadata": {
        "id": "x6YLHsPfDxcL"
      },
      "source": [
        ""
      ],
      "execution_count": 21,
      "outputs": []
    },
    {
      "cell_type": "code",
      "metadata": {
        "ExecuteTime": {
          "end_time": "2020-09-10T17:35:35.781715Z",
          "start_time": "2020-09-10T17:35:26.915324Z"
        },
        "scrolled": false,
        "id": "Rdb6Iq5IKomw",
        "colab": {
          "base_uri": "https://localhost:8080/",
          "height": 709
        },
        "outputId": "a7a4051d-cb8b-4eb4-cc7c-bea5dfc5b446"
      },
      "source": [
        "_,conf_matrix, y_pred = train_and_eval_model(min_df=1)\n",
        "labels = ['Negative','Neutral', 'Postive']\n",
        "\n",
        "fig, ax = plt.subplots(figsize=(7.5, 7.5))\n",
        "ax.matshow(conf_matrix, cmap=plt.cm.Blues, alpha=0.3)\n",
        "for i in range(conf_matrix.shape[0]):\n",
        "    for j in range(conf_matrix.shape[1]):\n",
        "        ax.text(x=j, y=i,s=conf_matrix[i, j], va='center', ha='center', size='xx-large')\n",
        " \n",
        "plt.xlabel('Predictions', fontsize=18)\n",
        "plt.ylabel('Actuals', fontsize=18)\n",
        "ax.set_xticklabels([''] + labels)\n",
        "ax.set_yticklabels([''] + labels)\n",
        "plt.title('Confusion Matrix', fontsize=18)\n",
        "plt.show()"
      ],
      "execution_count": 22,
      "outputs": [
        {
          "output_type": "stream",
          "name": "stdout",
          "text": [
            "MINIMUM DOCUMENT FREQUENCY = 1\n",
            "\n",
            "              precision    recall  f1-score   support\n",
            "\n",
            "    Negative     0.6576    0.6740    0.6657      1000\n",
            "     Neutral     0.6000    0.6000    0.6000      1000\n",
            "     Postive     0.7682    0.7490    0.7585      1000\n",
            "\n",
            "    accuracy                         0.6743      3000\n",
            "   macro avg     0.6753    0.6743    0.6747      3000\n",
            "weighted avg     0.6753    0.6743    0.6747      3000\n",
            "\n"
          ]
        },
        {
          "output_type": "display_data",
          "data": {
            "image/png": "[encoded data removed]",
            "text/plain": [
              "<Figure size 540x540 with 1 Axes>"
            ]
          },
          "metadata": {
            "needs_background": "light"
          }
        }
      ]
    },
    {
      "cell_type": "code",
      "metadata": {
        "id": "_WR19SdGrryS"
      },
      "source": [
        ""
      ],
      "execution_count": 22,
      "outputs": []
    },
    {
      "cell_type": "code",
      "metadata": {
        "id": "yYFBURyTRIb8",
        "outputId": "8d7e538c-4caf-43fc-9cb4-ceb812eafff0",
        "colab": {
          "base_uri": "https://localhost:8080/"
        }
      },
      "source": [
        "y_enc"
      ],
      "execution_count": 23,
      "outputs": [
        {
          "output_type": "execute_result",
          "data": {
            "text/plain": [
              "array([1, 1, 1, ..., 2, 2, 2])"
            ]
          },
          "metadata": {},
          "execution_count": 23
        }
      ]
    },
    {
      "cell_type": "code",
      "metadata": {
        "id": "nCvYWRfSZzAp"
      },
      "source": [
        "df2 = pd.DataFrame()\n",
        "\n",
        "df2['X_test'] =  X\n",
        "df2['y_test_enc'] =  y_enc\n",
        "df2['y_pred'] =  y_pred\n",
        "\n",
        "#df2[df2[\"y_test_enc\"]==-1 & df2[\"y_pred\"]==1].item()"
      ],
      "execution_count": 24,
      "outputs": []
    },
    {
      "cell_type": "code",
      "metadata": {
        "id": "svYVN2FWzaSB",
        "outputId": "fed05417-ce6e-4011-c3bc-bbe7ab10e3c4",
        "colab": {
          "base_uri": "https://localhost:8080/",
          "height": 424
        }
      },
      "source": [
        "df2[np.logical_and.reduce([df2['y_test_enc'] == 1, df2['y_pred'] == 0])]"
      ],
      "execution_count": 25,
      "outputs": [
        {
          "output_type": "execute_result",
          "data": {
            "text/html": [
              "<div>\n",
              "<style scoped>\n",
              "    .dataframe tbody tr th:only-of-type {\n",
              "        vertical-align: middle;\n",
              "    }\n",
              "\n",
              "    .dataframe tbody tr th {\n",
              "        vertical-align: top;\n",
              "    }\n",
              "\n",
              "    .dataframe thead th {\n",
              "        text-align: right;\n",
              "    }\n",
              "</style>\n",
              "<table border=\"1\" class=\"dataframe\">\n",
              "  <thead>\n",
              "    <tr style=\"text-align: right;\">\n",
              "      <th></th>\n",
              "      <th>X_test</th>\n",
              "      <th>y_test_enc</th>\n",
              "      <th>y_pred</th>\n",
              "    </tr>\n",
              "  </thead>\n",
              "  <tbody>\n",
              "    <tr>\n",
              "      <th>0</th>\n",
              "      <td>[nana, pleas, follow, thi, fake, new, lie, and, sue, bbc, for, peddl, fals, inform, hold, al]</td>\n",
              "      <td>1</td>\n",
              "      <td>0</td>\n",
              "    </tr>\n",
              "    <tr>\n",
              "      <th>1</th>\n",
              "      <td>[no, you, havent, he, use, hi, freedom, speech, is, he, cover]</td>\n",
              "      <td>1</td>\n",
              "      <td>0</td>\n",
              "    </tr>\n",
              "    <tr>\n",
              "      <th>6</th>\n",
              "      <td>[the, emoji, you, use, show, you, dont, have, sens]</td>\n",
              "      <td>1</td>\n",
              "      <td>0</td>\n",
              "    </tr>\n",
              "    <tr>\n",
              "      <th>8</th>\n",
              "      <td>[whi, are, some, you, guy, be, neg, here, without, offer, solut, ani, particularli, note, problem]</td>\n",
              "      <td>1</td>\n",
              "      <td>0</td>\n",
              "    </tr>\n",
              "    <tr>\n",
              "      <th>11</th>\n",
              "      <td>[yall, quick, insult]</td>\n",
              "      <td>1</td>\n",
              "      <td>0</td>\n",
              "    </tr>\n",
              "    <tr>\n",
              "      <th>...</th>\n",
              "      <td>...</td>\n",
              "      <td>...</td>\n",
              "      <td>...</td>\n",
              "    </tr>\n",
              "    <tr>\n",
              "      <th>995</th>\n",
              "      <td>[pleas, sir, where, the, insult]</td>\n",
              "      <td>1</td>\n",
              "      <td>0</td>\n",
              "    </tr>\n",
              "    <tr>\n",
              "      <th>996</th>\n",
              "      <td>[our, leader, have, fail, ghana, complet, when, can, african, leader, put, greed, asid, and, focu, their, citiz]</td>\n",
              "      <td>1</td>\n",
              "      <td>0</td>\n",
              "    </tr>\n",
              "    <tr>\n",
              "      <th>997</th>\n",
              "      <td>[dear, pleas, check, well, your, darl, took, there, not, check, and, revert]</td>\n",
              "      <td>1</td>\n",
              "      <td>0</td>\n",
              "    </tr>\n",
              "    <tr>\n",
              "      <th>998</th>\n",
              "      <td>[have, lot, money, account, even, lose, dont, care, cuz, ill, never, broke]</td>\n",
              "      <td>1</td>\n",
              "      <td>0</td>\n",
              "    </tr>\n",
              "    <tr>\n",
              "      <th>999</th>\n",
              "      <td>[have, brother, friend, when, come, crusad, against, prevent, corrupt, and, fight, corrupt]</td>\n",
              "      <td>1</td>\n",
              "      <td>0</td>\n",
              "    </tr>\n",
              "  </tbody>\n",
              "</table>\n",
              "<p>253 rows × 3 columns</p>\n",
              "</div>"
            ],
            "text/plain": [
              "                                                                                                               X_test  ...  y_pred\n",
              "0                       [nana, pleas, follow, thi, fake, new, lie, and, sue, bbc, for, peddl, fals, inform, hold, al]  ...       0\n",
              "1                                                      [no, you, havent, he, use, hi, freedom, speech, is, he, cover]  ...       0\n",
              "6                                                                 [the, emoji, you, use, show, you, dont, have, sens]  ...       0\n",
              "8                  [whi, are, some, you, guy, be, neg, here, without, offer, solut, ani, particularli, note, problem]  ...       0\n",
              "11                                                                                              [yall, quick, insult]  ...       0\n",
              "..                                                                                                                ...  ...     ...\n",
              "995                                                                                  [pleas, sir, where, the, insult]  ...       0\n",
              "996  [our, leader, have, fail, ghana, complet, when, can, african, leader, put, greed, asid, and, focu, their, citiz]  ...       0\n",
              "997                                      [dear, pleas, check, well, your, darl, took, there, not, check, and, revert]  ...       0\n",
              "998                                       [have, lot, money, account, even, lose, dont, care, cuz, ill, never, broke]  ...       0\n",
              "999                       [have, brother, friend, when, come, crusad, against, prevent, corrupt, and, fight, corrupt]  ...       0\n",
              "\n",
              "[253 rows x 3 columns]"
            ]
          },
          "metadata": {},
          "execution_count": 25
        }
      ]
    },
    {
      "cell_type": "code",
      "metadata": {
        "id": "U7E9ZwNr0YYZ",
        "outputId": "67e3fa41-9488-4197-c943-5f81279bd7e9",
        "colab": {
          "base_uri": "https://localhost:8080/",
          "height": 35
        }
      },
      "source": [
        "df.loc[852,'tweet']"
      ],
      "execution_count": 26,
      "outputs": [
        {
          "output_type": "execute_result",
          "data": {
            "application/vnd.google.colaboratory.intrinsic+json": {
              "type": "string"
            },
            "text/plain": [
              "'@Nicksalat_ @RailaOdinga @NAkufoAddo Tell Gideon he should also accept the results if Raila defeats him'"
            ]
          },
          "metadata": {},
          "execution_count": 26
        }
      ]
    },
    {
      "cell_type": "code",
      "metadata": {
        "id": "jleixtSLxyRE",
        "outputId": "e9638601-ff2e-43bb-fb79-c9c69bb781d0",
        "colab": {
          "base_uri": "https://localhost:8080/",
          "height": 287
        }
      },
      "source": [
        "df2[df2[\"y_test_enc\"]==-1 & df2[\"y_pred\"]==1].item()"
      ],
      "execution_count": 27,
      "outputs": [
        {
          "output_type": "error",
          "ename": "ValueError",
          "evalue": "ignored",
          "traceback": [
            "\u001b[0;31m---------------------------------------------------------------------------\u001b[0m",
            "\u001b[0;31mValueError\u001b[0m                                Traceback (most recent call last)",
            "\u001b[0;32m<ipython-input-27-d2611dea3492>\u001b[0m in \u001b[0;36m<module>\u001b[0;34m()\u001b[0m\n\u001b[0;32m----> 1\u001b[0;31m \u001b[0mdf2\u001b[0m\u001b[0;34m[\u001b[0m\u001b[0mdf2\u001b[0m\u001b[0;34m[\u001b[0m\u001b[0;34m\"y_test_enc\"\u001b[0m\u001b[0;34m]\u001b[0m\u001b[0;34m==\u001b[0m\u001b[0;34m-\u001b[0m\u001b[0;36m1\u001b[0m \u001b[0;34m&\u001b[0m \u001b[0mdf2\u001b[0m\u001b[0;34m[\u001b[0m\u001b[0;34m\"y_pred\"\u001b[0m\u001b[0;34m]\u001b[0m\u001b[0;34m==\u001b[0m\u001b[0;36m1\u001b[0m\u001b[0;34m]\u001b[0m\u001b[0;34m.\u001b[0m\u001b[0mitem\u001b[0m\u001b[0;34m(\u001b[0m\u001b[0;34m)\u001b[0m\u001b[0;34m\u001b[0m\u001b[0;34m\u001b[0m\u001b[0m\n\u001b[0m",
            "\u001b[0;32m/usr/local/lib/python3.7/dist-packages/pandas/core/generic.py\u001b[0m in \u001b[0;36m__nonzero__\u001b[0;34m(self)\u001b[0m\n\u001b[1;32m   1328\u001b[0m     \u001b[0;32mdef\u001b[0m \u001b[0m__nonzero__\u001b[0m\u001b[0;34m(\u001b[0m\u001b[0mself\u001b[0m\u001b[0;34m)\u001b[0m\u001b[0;34m:\u001b[0m\u001b[0;34m\u001b[0m\u001b[0;34m\u001b[0m\u001b[0m\n\u001b[1;32m   1329\u001b[0m         raise ValueError(\n\u001b[0;32m-> 1330\u001b[0;31m             \u001b[0;34mf\"The truth value of a {type(self).__name__} is ambiguous. \"\u001b[0m\u001b[0;34m\u001b[0m\u001b[0;34m\u001b[0m\u001b[0m\n\u001b[0m\u001b[1;32m   1331\u001b[0m             \u001b[0;34m\"Use a.empty, a.bool(), a.item(), a.any() or a.all().\"\u001b[0m\u001b[0;34m\u001b[0m\u001b[0;34m\u001b[0m\u001b[0m\n\u001b[1;32m   1332\u001b[0m         )\n",
            "\u001b[0;31mValueError\u001b[0m: The truth value of a Series is ambiguous. Use a.empty, a.bool(), a.item(), a.any() or a.all()."
          ]
        }
      ]
    },
    {
      "cell_type": "markdown",
      "metadata": {
        "id": "U2s63wZBKomw"
      },
      "source": [
        "# Summary"
      ]
    },
    {
      "cell_type": "markdown",
      "metadata": {
        "id": "OUyZmdx4Komx"
      },
      "source": [
        "The addition of SMOTE oversampling generally improved the SVM as negative classes have better scores. "
      ]
    },
    {
      "cell_type": "code",
      "metadata": {
        "id": "DQ5vPdYv4IWL"
      },
      "source": [
        ""
      ],
      "execution_count": null,
      "outputs": []
    },
    {
      "cell_type": "code",
      "metadata": {
        "id": "H1ewKsB54JzC"
      },
      "source": [
        ""
      ],
      "execution_count": null,
      "outputs": []
    },
    {
      "cell_type": "code",
      "metadata": {
        "id": "ZXEuNdQm4JOr"
      },
      "source": [
        ""
      ],
      "execution_count": null,
      "outputs": []
    },
    {
      "cell_type": "code",
      "metadata": {
        "id": "WqimPqBp5mLj"
      },
      "source": [
        "easy.py"
      ],
      "execution_count": null,
      "outputs": []
    }
  ]
}