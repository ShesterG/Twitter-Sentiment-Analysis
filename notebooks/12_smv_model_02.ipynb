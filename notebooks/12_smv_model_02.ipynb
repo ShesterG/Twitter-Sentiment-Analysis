{
  "nbformat": 4,
  "nbformat_minor": 0,
  "metadata": {
    "kernelspec": {
      "display_name": "learn-env",
      "language": "python",
      "name": "learn-env"
    },
    "language_info": {
      "codemirror_mode": {
        "name": "ipython",
        "version": 3
      },
      "file_extension": ".py",
      "mimetype": "text/x-python",
      "name": "python",
      "nbconvert_exporter": "python",
      "pygments_lexer": "ipython3",
      "version": "3.6.9"
    },
    "toc": {
      "base_numbering": 1,
      "nav_menu": {},
      "number_sections": true,
      "sideBar": true,
      "skip_h1_title": false,
      "title_cell": "Table of Contents",
      "title_sidebar": "Contents",
      "toc_cell": false,
      "toc_position": {},
      "toc_section_display": true,
      "toc_window_display": false
    },
    "varInspector": {
      "cols": {
        "lenName": 16,
        "lenType": 16,
        "lenVar": 40
      },
      "kernels_config": {
        "python": {
          "delete_cmd_postfix": "",
          "delete_cmd_prefix": "del ",
          "library": "var_list.py",
          "varRefreshCmd": "print(var_dic_list())"
        },
        "r": {
          "delete_cmd_postfix": ") ",
          "delete_cmd_prefix": "rm(",
          "library": "var_list.r",
          "varRefreshCmd": "cat(var_dic_list()) "
        }
      },
      "types_to_exclude": [
        "module",
        "function",
        "builtin_function_or_method",
        "instance",
        "_Feature"
      ],
      "window_display": false
    },
    "colab": {
      "name": "12_smv_model_02.ipynb",
      "provenance": [],
      "include_colab_link": true
    }
  },
  "cells": [
    {
      "cell_type": "markdown",
      "metadata": {
        "id": "view-in-github",
        "colab_type": "text"
      },
      "source": [
        "<a href=\"https://colab.research.google.com/github/ShesterG/Twitter-Sentiment-Analysis/blob/master/notebooks/12_smv_model_02.ipynb\" target=\"_parent\"><img src=\"https://colab.research.google.com/assets/colab-badge.svg\" alt=\"Open In Colab\"/></a>"
      ]
    },
    {
      "cell_type": "markdown",
      "metadata": {
        "id": "pOr84TwcKomO"
      },
      "source": [
        "# SVM with Smote Model for Twitter Sentiment Analysis"
      ]
    },
    {
      "cell_type": "markdown",
      "metadata": {
        "id": "KGZkKVLpKomi"
      },
      "source": [
        "This model will use SVM with tf/idf to classify the tweets.\n",
        "\n",
        "It will reduce the dimensionality of the feature set by adjusting the minimum document frequency of words, in an attempt to get better results.\n",
        "\n",
        "It will use SMOTE to synthesize some data to balance the classes."
      ]
    },
    {
      "cell_type": "code",
      "metadata": {
        "id": "6MftFUf1Ltx-",
        "colab": {
          "base_uri": "https://localhost:8080/"
        },
        "outputId": "d7377761-6d94-491d-a90b-e215d6fc882f"
      },
      "source": [
        "from google.colab import drive\n",
        "drive.mount(\"/content/drive\", force_remount=True)"
      ],
      "execution_count": 1,
      "outputs": [
        {
          "output_type": "stream",
          "text": [
            "Mounted at /content/drive\n"
          ],
          "name": "stdout"
        }
      ]
    },
    {
      "cell_type": "markdown",
      "metadata": {
        "id": "A-q54ki6Komk"
      },
      "source": [
        "# Imports and Constants"
      ]
    },
    {
      "cell_type": "code",
      "metadata": {
        "ExecuteTime": {
          "end_time": "2020-09-10T17:33:58.632607Z",
          "start_time": "2020-09-10T17:33:57.317553Z"
        },
        "id": "XOkxSJpcKomk",
        "outputId": "528f2ee6-74e9-442f-93cc-63f6adb87ef3",
        "colab": {
          "base_uri": "https://localhost:8080/"
        }
      },
      "source": [
        "import pandas as pd\n",
        "import numpy as np\n",
        "from sklearn.naive_bayes import MultinomialNB\n",
        "from sklearn.svm import SVC\n",
        "from sklearn.model_selection import train_test_split\n",
        "from sklearn.feature_extraction.text import CountVectorizer\n",
        "\n",
        "from sklearn.preprocessing import LabelEncoder\n",
        "from sklearn.metrics import classification_report, plot_confusion_matrix\n",
        "import matplotlib.pyplot as plt\n",
        "%matplotlib inline\n",
        "from sklearn.metrics import precision_recall_curve, auc\n",
        "from sklearn.metrics import accuracy_score, f1_score, recall_score\n",
        "from sklearn.preprocessing import LabelBinarizer\n",
        "#import evaluation_functions\n",
        "from sklearn.metrics import confusion_matrix\n",
        "from sklearn.metrics import classification_report\n",
        "from sklearn.feature_extraction.text import TfidfTransformer\n",
        "from sklearn.linear_model import SGDClassifier\n",
        "from imblearn.over_sampling import SMOTE\n",
        "from imblearn.pipeline import Pipeline\n",
        "import ast"
      ],
      "execution_count": 2,
      "outputs": [
        {
          "output_type": "stream",
          "text": [
            "/usr/local/lib/python3.7/dist-packages/sklearn/externals/six.py:31: FutureWarning: The module is deprecated in version 0.21 and will be removed in version 0.23 since we've dropped support for Python 2.7. Please rely on the official version of six (https://pypi.org/project/six/).\n",
            "  \"(https://pypi.org/project/six/).\", FutureWarning)\n",
            "/usr/local/lib/python3.7/dist-packages/sklearn/utils/deprecation.py:144: FutureWarning: The sklearn.neighbors.base module is  deprecated in version 0.22 and will be removed in version 0.24. The corresponding classes / functions should instead be imported from sklearn.neighbors. Anything that cannot be imported from sklearn.neighbors is now part of the private API.\n",
            "  warnings.warn(message, FutureWarning)\n"
          ],
          "name": "stderr"
        }
      ]
    },
    {
      "cell_type": "code",
      "metadata": {
        "ExecuteTime": {
          "end_time": "2020-09-10T17:33:58.639394Z",
          "start_time": "2020-09-10T17:33:58.635233Z"
        },
        "id": "XjDfZZQvKomm"
      },
      "source": [
        "DATA_FILE_PATH = '/content/drive/MyDrive/NLPGh/'\n",
        "CLEAN_DATA_FILE_NAME = 'Book6Clean.csv'\n",
        "TOKENIZED_DATA_FILE_NAME = 'Book6Tokenized.csv'\n",
        "pd.set_option('display.max_colwidth', None)\n",
        "RANDOM_STATE = 42"
      ],
      "execution_count": 3,
      "outputs": []
    },
    {
      "cell_type": "markdown",
      "metadata": {
        "id": "8p6TU0dHKomn"
      },
      "source": [
        "# Load Data"
      ]
    },
    {
      "cell_type": "code",
      "metadata": {
        "ExecuteTime": {
          "end_time": "2020-09-10T17:33:58.693585Z",
          "start_time": "2020-09-10T17:33:58.642232Z"
        },
        "id": "e7HwLTwRKomn"
      },
      "source": [
        "df = pd.read_csv(DATA_FILE_PATH + TOKENIZED_DATA_FILE_NAME)"
      ],
      "execution_count": 4,
      "outputs": []
    },
    {
      "cell_type": "code",
      "metadata": {
        "ExecuteTime": {
          "end_time": "2020-09-10T17:33:58.716944Z",
          "start_time": "2020-09-10T17:33:58.696032Z"
        },
        "id": "D8GqKiY1Komn",
        "colab": {
          "base_uri": "https://localhost:8080/",
          "height": 782
        },
        "outputId": "52da4c56-19e9-499b-e872-a9f17fdbc277"
      },
      "source": [
        "df.head()"
      ],
      "execution_count": 5,
      "outputs": [
        {
          "output_type": "execute_result",
          "data": {
            "text/html": [
              "<div>\n",
              "<style scoped>\n",
              "    .dataframe tbody tr th:only-of-type {\n",
              "        vertical-align: middle;\n",
              "    }\n",
              "\n",
              "    .dataframe tbody tr th {\n",
              "        vertical-align: top;\n",
              "    }\n",
              "\n",
              "    .dataframe thead th {\n",
              "        text-align: right;\n",
              "    }\n",
              "</style>\n",
              "<table border=\"1\" class=\"dataframe\">\n",
              "  <thead>\n",
              "    <tr style=\"text-align: right;\">\n",
              "      <th></th>\n",
              "      <th>Unnamed: 0</th>\n",
              "      <th>tweet</th>\n",
              "      <th>location_x</th>\n",
              "      <th>pretweet</th>\n",
              "      <th>candidate</th>\n",
              "      <th>LRPredScore</th>\n",
              "      <th>LRConfi</th>\n",
              "      <th>Sentiment</th>\n",
              "      <th>Unnamed: 8</th>\n",
              "      <th>tokens</th>\n",
              "    </tr>\n",
              "  </thead>\n",
              "  <tbody>\n",
              "    <tr>\n",
              "      <th>0</th>\n",
              "      <td>0</td>\n",
              "      <td>@NsiaAvena @NAkufoAddo They don't know anything about peace</td>\n",
              "      <td>NaN</td>\n",
              "      <td>they dont know anyth about peac</td>\n",
              "      <td>Nana</td>\n",
              "      <td>NaN</td>\n",
              "      <td>NaN</td>\n",
              "      <td>-1</td>\n",
              "      <td>NaN</td>\n",
              "      <td>['they', 'dont', 'know', 'anyth', 'about', 'peac']</td>\n",
              "    </tr>\n",
              "    <tr>\n",
              "      <th>1</th>\n",
              "      <td>2</td>\n",
              "      <td>@NAkufoAddo  H. E Nana please follow up on this FAKE NEWS, LIES and sue BBC for peddling false information. Hold alÃ¢â¬Â¦ https://t.co/SdwnMsxeUV</td>\n",
              "      <td>NaN</td>\n",
              "      <td>nana pleas follow thi fake new lie and sue bbc for peddl fals inform hold al</td>\n",
              "      <td>Nana</td>\n",
              "      <td>-3.0</td>\n",
              "      <td>1.0</td>\n",
              "      <td>0</td>\n",
              "      <td>NaN</td>\n",
              "      <td>['nana', 'pleas', 'follow', 'thi', 'fake', 'new', 'lie', 'and', 'sue', 'bbc', 'for', 'peddl', 'fals', 'inform', 'hold', 'al']</td>\n",
              "    </tr>\n",
              "    <tr>\n",
              "      <th>2</th>\n",
              "      <td>4</td>\n",
              "      <td>@BarrowPresident @NAkufoAddo good to go may God bless an protect you</td>\n",
              "      <td>NaN</td>\n",
              "      <td>good may god bless protect you</td>\n",
              "      <td>Nana</td>\n",
              "      <td>NaN</td>\n",
              "      <td>NaN</td>\n",
              "      <td>1</td>\n",
              "      <td>NaN</td>\n",
              "      <td>['good', 'may', 'god', 'bless', 'protect', 'you']</td>\n",
              "    </tr>\n",
              "    <tr>\n",
              "      <th>3</th>\n",
              "      <td>6</td>\n",
              "      <td>@ChipsJhay @TruthFreema @AOuattara_PRCI @NAkufoAddo No, you haven't. He's using his freedom of speech as it is. He's covered.</td>\n",
              "      <td>Afamase Akotom, Ghana</td>\n",
              "      <td>no you havent he use hi freedom speech is he cover</td>\n",
              "      <td>Nana</td>\n",
              "      <td>NaN</td>\n",
              "      <td>NaN</td>\n",
              "      <td>0</td>\n",
              "      <td>NaN</td>\n",
              "      <td>['no', 'you', 'havent', 'he', 'use', 'hi', 'freedom', 'speech', 'is', 'he', 'cover']</td>\n",
              "    </tr>\n",
              "    <tr>\n",
              "      <th>4</th>\n",
              "      <td>7</td>\n",
              "      <td>@IssahGerard @HEgyiri @NAkufoAddo Please who is this and how is he your in law??</td>\n",
              "      <td>NaN</td>\n",
              "      <td>pleas who thi and how your law</td>\n",
              "      <td>Nana</td>\n",
              "      <td>-1.0</td>\n",
              "      <td>1.0</td>\n",
              "      <td>0</td>\n",
              "      <td>NaN</td>\n",
              "      <td>['pleas', 'who', 'thi', 'and', 'how', 'your', 'law']</td>\n",
              "    </tr>\n",
              "  </tbody>\n",
              "</table>\n",
              "</div>"
            ],
            "text/plain": [
              "   Unnamed: 0  ...                                                                                                                         tokens\n",
              "0           0  ...                                                                             ['they', 'dont', 'know', 'anyth', 'about', 'peac']\n",
              "1           2  ...  ['nana', 'pleas', 'follow', 'thi', 'fake', 'new', 'lie', 'and', 'sue', 'bbc', 'for', 'peddl', 'fals', 'inform', 'hold', 'al']\n",
              "2           4  ...                                                                              ['good', 'may', 'god', 'bless', 'protect', 'you']\n",
              "3           6  ...                                           ['no', 'you', 'havent', 'he', 'use', 'hi', 'freedom', 'speech', 'is', 'he', 'cover']\n",
              "4           7  ...                                                                           ['pleas', 'who', 'thi', 'and', 'how', 'your', 'law']\n",
              "\n",
              "[5 rows x 10 columns]"
            ]
          },
          "metadata": {
            "tags": []
          },
          "execution_count": 5
        }
      ]
    },
    {
      "cell_type": "code",
      "metadata": {
        "ExecuteTime": {
          "end_time": "2020-09-10T17:33:59.158553Z",
          "start_time": "2020-09-10T17:33:58.719183Z"
        },
        "id": "OLfKOp0DKomo"
      },
      "source": [
        "# convert list of strings represented as a string to a list of strings\n",
        "df.tokens = df.tokens.map(ast.literal_eval)"
      ],
      "execution_count": 6,
      "outputs": []
    },
    {
      "cell_type": "code",
      "metadata": {
        "ExecuteTime": {
          "end_time": "2020-09-10T17:33:59.166031Z",
          "start_time": "2020-09-10T17:33:59.160668Z"
        },
        "id": "2-IVZp-qKomp"
      },
      "source": [
        "data = df[['tokens', 'Sentiment']]"
      ],
      "execution_count": 7,
      "outputs": []
    },
    {
      "cell_type": "code",
      "metadata": {
        "ExecuteTime": {
          "end_time": "2020-09-10T17:33:59.181978Z",
          "start_time": "2020-09-10T17:33:59.168323Z"
        },
        "id": "9ot3qehDKomp",
        "colab": {
          "base_uri": "https://localhost:8080/",
          "height": 204
        },
        "outputId": "41e83753-4d20-45d5-c436-48d09f1916ba"
      },
      "source": [
        "data.head()"
      ],
      "execution_count": 8,
      "outputs": [
        {
          "output_type": "execute_result",
          "data": {
            "text/html": [
              "<div>\n",
              "<style scoped>\n",
              "    .dataframe tbody tr th:only-of-type {\n",
              "        vertical-align: middle;\n",
              "    }\n",
              "\n",
              "    .dataframe tbody tr th {\n",
              "        vertical-align: top;\n",
              "    }\n",
              "\n",
              "    .dataframe thead th {\n",
              "        text-align: right;\n",
              "    }\n",
              "</style>\n",
              "<table border=\"1\" class=\"dataframe\">\n",
              "  <thead>\n",
              "    <tr style=\"text-align: right;\">\n",
              "      <th></th>\n",
              "      <th>tokens</th>\n",
              "      <th>Sentiment</th>\n",
              "    </tr>\n",
              "  </thead>\n",
              "  <tbody>\n",
              "    <tr>\n",
              "      <th>0</th>\n",
              "      <td>[they, dont, know, anyth, about, peac]</td>\n",
              "      <td>-1</td>\n",
              "    </tr>\n",
              "    <tr>\n",
              "      <th>1</th>\n",
              "      <td>[nana, pleas, follow, thi, fake, new, lie, and, sue, bbc, for, peddl, fals, inform, hold, al]</td>\n",
              "      <td>0</td>\n",
              "    </tr>\n",
              "    <tr>\n",
              "      <th>2</th>\n",
              "      <td>[good, may, god, bless, protect, you]</td>\n",
              "      <td>1</td>\n",
              "    </tr>\n",
              "    <tr>\n",
              "      <th>3</th>\n",
              "      <td>[no, you, havent, he, use, hi, freedom, speech, is, he, cover]</td>\n",
              "      <td>0</td>\n",
              "    </tr>\n",
              "    <tr>\n",
              "      <th>4</th>\n",
              "      <td>[pleas, who, thi, and, how, your, law]</td>\n",
              "      <td>0</td>\n",
              "    </tr>\n",
              "  </tbody>\n",
              "</table>\n",
              "</div>"
            ],
            "text/plain": [
              "                                                                                          tokens  Sentiment\n",
              "0                                                         [they, dont, know, anyth, about, peac]         -1\n",
              "1  [nana, pleas, follow, thi, fake, new, lie, and, sue, bbc, for, peddl, fals, inform, hold, al]          0\n",
              "2                                                          [good, may, god, bless, protect, you]          1\n",
              "3                                 [no, you, havent, he, use, hi, freedom, speech, is, he, cover]          0\n",
              "4                                                         [pleas, who, thi, and, how, your, law]          0"
            ]
          },
          "metadata": {
            "tags": []
          },
          "execution_count": 8
        }
      ]
    },
    {
      "cell_type": "markdown",
      "metadata": {
        "id": "8XQ1lJ--Komp"
      },
      "source": [
        "# Split Data"
      ]
    },
    {
      "cell_type": "code",
      "metadata": {
        "ExecuteTime": {
          "end_time": "2020-09-10T17:33:59.208403Z",
          "start_time": "2020-09-10T17:33:59.186404Z"
        },
        "id": "LsE-CjGQKomq"
      },
      "source": [
        "X_train, X_test, y_train, y_test = train_test_split(data['tokens'], \n",
        "                                                    data['Sentiment'],\n",
        "                                                   test_size = 0.2,\n",
        "                                                   random_state = RANDOM_STATE,\n",
        "                                                   stratify = data['Sentiment'])"
      ],
      "execution_count": 9,
      "outputs": []
    },
    {
      "cell_type": "code",
      "metadata": {
        "ExecuteTime": {
          "end_time": "2020-09-10T17:33:59.217856Z",
          "start_time": "2020-09-10T17:33:59.211816Z"
        },
        "id": "e6ZbJhDpKomq",
        "colab": {
          "base_uri": "https://localhost:8080/"
        },
        "outputId": "ff325002-39e0-4f35-beab-105ee3dc7a8f"
      },
      "source": [
        "X_train.shape"
      ],
      "execution_count": 10,
      "outputs": [
        {
          "output_type": "execute_result",
          "data": {
            "text/plain": [
              "(1200,)"
            ]
          },
          "metadata": {
            "tags": []
          },
          "execution_count": 10
        }
      ]
    },
    {
      "cell_type": "code",
      "metadata": {
        "ExecuteTime": {
          "end_time": "2020-09-10T17:33:59.225303Z",
          "start_time": "2020-09-10T17:33:59.220214Z"
        },
        "id": "LhuTx3bAKomr",
        "colab": {
          "base_uri": "https://localhost:8080/"
        },
        "outputId": "19085f2f-9030-4596-ca93-9ba5628f9658"
      },
      "source": [
        "X_test.shape"
      ],
      "execution_count": 11,
      "outputs": [
        {
          "output_type": "execute_result",
          "data": {
            "text/plain": [
              "(300,)"
            ]
          },
          "metadata": {
            "tags": []
          },
          "execution_count": 11
        }
      ]
    },
    {
      "cell_type": "markdown",
      "metadata": {
        "id": "vIYUAWJXKomr"
      },
      "source": [
        "# Encode Labels"
      ]
    },
    {
      "cell_type": "code",
      "metadata": {
        "ExecuteTime": {
          "end_time": "2020-09-10T17:33:59.231548Z",
          "start_time": "2020-09-10T17:33:59.228153Z"
        },
        "id": "b9h7GJtyKomr"
      },
      "source": [
        "le = LabelEncoder()"
      ],
      "execution_count": 12,
      "outputs": []
    },
    {
      "cell_type": "code",
      "metadata": {
        "ExecuteTime": {
          "end_time": "2020-09-10T17:33:59.239063Z",
          "start_time": "2020-09-10T17:33:59.233579Z"
        },
        "id": "YmS4TDmSKomr"
      },
      "source": [
        "y_train_enc = le.fit_transform(y_train)"
      ],
      "execution_count": 13,
      "outputs": []
    },
    {
      "cell_type": "code",
      "metadata": {
        "ExecuteTime": {
          "end_time": "2020-09-10T17:33:59.255359Z",
          "start_time": "2020-09-10T17:33:59.241210Z"
        },
        "id": "HORAhV0PKoms"
      },
      "source": [
        "y_test_enc = le.transform(y_test)"
      ],
      "execution_count": 14,
      "outputs": []
    },
    {
      "cell_type": "markdown",
      "metadata": {
        "id": "ep11COZQKoms"
      },
      "source": [
        "# Evaluate Adjustments to Minimum Document Frequency"
      ]
    },
    {
      "cell_type": "code",
      "metadata": {
        "ExecuteTime": {
          "end_time": "2020-09-10T17:33:59.261759Z",
          "start_time": "2020-09-10T17:33:59.257741Z"
        },
        "id": "xgFhcb5OKoms"
      },
      "source": [
        "def passthrough(doc):\n",
        "    \"\"\"passthrough function for use in the pipeline because the text is already tokenized\"\"\"\n",
        "    return doc"
      ],
      "execution_count": 15,
      "outputs": []
    },
    {
      "cell_type": "code",
      "metadata": {
        "ExecuteTime": {
          "end_time": "2020-09-10T17:33:59.276479Z",
          "start_time": "2020-09-10T17:33:59.264034Z"
        },
        "id": "FAQzIQvpKoms"
      },
      "source": [
        "def train_and_eval_model(min_df):\n",
        "    \"\"\"\n",
        "    Train and Evaluate and Bag of Words Representation with a SVM\n",
        "    classifier with a specified minimum document frequency.\n",
        "    \"\"\"\n",
        "    \n",
        "    pipeline = Pipeline([('bow',CountVectorizer(min_df=min_df, \n",
        "                                                preprocessor=passthrough, \n",
        "                                                tokenizer=passthrough)),\n",
        "                         ('tfidf', TfidfTransformer()),\n",
        "                         ('smote', SMOTE(random_state=RANDOM_STATE, \n",
        "                                         n_jobs=-1)),\n",
        "                         ('SVM', SVC(kernel = 'linear', probability = True, random_state = RANDOM_STATE))])\n",
        "    \n",
        "    pipeline.fit(X_train,y_train_enc)\n",
        "    \n",
        "    print(f'MINIMUM DOCUMENT FREQUENCY = {min_df}')\n",
        "    print('')\n",
        "    \n",
        "\n",
        "    y_pred = pipeline.predict(X_test)\n",
        "\n",
        "\n",
        "\n",
        "    conf_matrix = confusion_matrix(y_true=y_test_enc, y_pred=y_pred)\n",
        "    #confusion_matrix(y_true=y_train_enc, y_pred=pipeline.predict(X_train),labels='Training')\n",
        "\n",
        "    \n",
        "    classi_report = classification_report(y_true=y_test_enc, y_pred=y_pred, target_names=['Negative', 'Neutral', 'Postive'])\n",
        "    print(classi_report)\n",
        "\n",
        "\n",
        "    \n",
        "    train_accuracy = accuracy_score(y_train_enc, pipeline.predict(X_train))\n",
        "    \n",
        "    test_accuracy = accuracy_score(y_test_enc, pipeline.predict(X_test))\n",
        "    \n",
        "    ave_macro_recall = recall_score(y_test_enc, pipeline.predict(X_test), average='macro')\n",
        "    recall_scores = recall_score(y_test_enc, pipeline.predict(X_test), average=None)\n",
        "    \n",
        "    test_results = np.append(np.array([min_df, train_accuracy, test_accuracy, ave_macro_recall]),\n",
        "                             recall_scores)\n",
        "   \n",
        "    return test_results, conf_matrix, y_pred\n",
        "    "
      ],
      "execution_count": 16,
      "outputs": []
    },
    {
      "cell_type": "code",
      "metadata": {
        "ExecuteTime": {
          "end_time": "2020-09-10T17:35:26.888718Z",
          "start_time": "2020-09-10T17:33:59.278764Z"
        },
        "scrolled": true,
        "id": "qVbFOtXQKomt",
        "colab": {
          "base_uri": "https://localhost:8080/"
        },
        "outputId": "7dfc2423-cf3f-46ba-8535-73398a75ef54"
      },
      "source": [
        "metrics_summary = []\n",
        "\n",
        "for min_df in range(1,11):\n",
        "    test_scores, conf_matrix, y_pred = train_and_eval_model(min_df)\n",
        "    metrics_summary.append(test_scores)"
      ],
      "execution_count": 18,
      "outputs": [
        {
          "output_type": "stream",
          "text": [
            "MINIMUM DOCUMENT FREQUENCY = 1\n",
            "\n",
            "              precision    recall  f1-score   support\n",
            "\n",
            "    Negative       0.69      0.75      0.72       100\n",
            "     Neutral       0.66      0.64      0.65       100\n",
            "     Postive       0.83      0.78      0.80       100\n",
            "\n",
            "    accuracy                           0.72       300\n",
            "   macro avg       0.73      0.72      0.72       300\n",
            "weighted avg       0.73      0.72      0.72       300\n",
            "\n",
            "MINIMUM DOCUMENT FREQUENCY = 2\n",
            "\n",
            "              precision    recall  f1-score   support\n",
            "\n",
            "    Negative       0.69      0.70      0.70       100\n",
            "     Neutral       0.63      0.68      0.65       100\n",
            "     Postive       0.84      0.76      0.80       100\n",
            "\n",
            "    accuracy                           0.71       300\n",
            "   macro avg       0.72      0.71      0.72       300\n",
            "weighted avg       0.72      0.71      0.72       300\n",
            "\n",
            "MINIMUM DOCUMENT FREQUENCY = 3\n",
            "\n",
            "              precision    recall  f1-score   support\n",
            "\n",
            "    Negative       0.71      0.72      0.72       100\n",
            "     Neutral       0.64      0.69      0.66       100\n",
            "     Postive       0.85      0.77      0.81       100\n",
            "\n",
            "    accuracy                           0.73       300\n",
            "   macro avg       0.73      0.73      0.73       300\n",
            "weighted avg       0.73      0.73      0.73       300\n",
            "\n",
            "MINIMUM DOCUMENT FREQUENCY = 4\n",
            "\n",
            "              precision    recall  f1-score   support\n",
            "\n",
            "    Negative       0.75      0.74      0.74       100\n",
            "     Neutral       0.65      0.72      0.68       100\n",
            "     Postive       0.87      0.78      0.82       100\n",
            "\n",
            "    accuracy                           0.75       300\n",
            "   macro avg       0.75      0.75      0.75       300\n",
            "weighted avg       0.75      0.75      0.75       300\n",
            "\n",
            "MINIMUM DOCUMENT FREQUENCY = 5\n",
            "\n",
            "              precision    recall  f1-score   support\n",
            "\n",
            "    Negative       0.75      0.77      0.76       100\n",
            "     Neutral       0.66      0.71      0.69       100\n",
            "     Postive       0.86      0.77      0.81       100\n",
            "\n",
            "    accuracy                           0.75       300\n",
            "   macro avg       0.76      0.75      0.75       300\n",
            "weighted avg       0.76      0.75      0.75       300\n",
            "\n",
            "MINIMUM DOCUMENT FREQUENCY = 6\n",
            "\n",
            "              precision    recall  f1-score   support\n",
            "\n",
            "    Negative       0.73      0.72      0.72       100\n",
            "     Neutral       0.63      0.67      0.65       100\n",
            "     Postive       0.80      0.76      0.78       100\n",
            "\n",
            "    accuracy                           0.72       300\n",
            "   macro avg       0.72      0.72      0.72       300\n",
            "weighted avg       0.72      0.72      0.72       300\n",
            "\n",
            "MINIMUM DOCUMENT FREQUENCY = 7\n",
            "\n",
            "              precision    recall  f1-score   support\n",
            "\n",
            "    Negative       0.73      0.72      0.73       100\n",
            "     Neutral       0.63      0.67      0.65       100\n",
            "     Postive       0.81      0.77      0.79       100\n",
            "\n",
            "    accuracy                           0.72       300\n",
            "   macro avg       0.72      0.72      0.72       300\n",
            "weighted avg       0.72      0.72      0.72       300\n",
            "\n",
            "MINIMUM DOCUMENT FREQUENCY = 8\n",
            "\n",
            "              precision    recall  f1-score   support\n",
            "\n",
            "    Negative       0.72      0.71      0.71       100\n",
            "     Neutral       0.63      0.68      0.65       100\n",
            "     Postive       0.83      0.77      0.80       100\n",
            "\n",
            "    accuracy                           0.72       300\n",
            "   macro avg       0.72      0.72      0.72       300\n",
            "weighted avg       0.72      0.72      0.72       300\n",
            "\n",
            "MINIMUM DOCUMENT FREQUENCY = 9\n",
            "\n",
            "              precision    recall  f1-score   support\n",
            "\n",
            "    Negative       0.71      0.70      0.71       100\n",
            "     Neutral       0.64      0.67      0.65       100\n",
            "     Postive       0.79      0.77      0.78       100\n",
            "\n",
            "    accuracy                           0.71       300\n",
            "   macro avg       0.72      0.71      0.71       300\n",
            "weighted avg       0.72      0.71      0.71       300\n",
            "\n",
            "MINIMUM DOCUMENT FREQUENCY = 10\n",
            "\n",
            "              precision    recall  f1-score   support\n",
            "\n",
            "    Negative       0.72      0.70      0.71       100\n",
            "     Neutral       0.64      0.66      0.65       100\n",
            "     Postive       0.79      0.79      0.79       100\n",
            "\n",
            "    accuracy                           0.72       300\n",
            "   macro avg       0.72      0.72      0.72       300\n",
            "weighted avg       0.72      0.72      0.72       300\n",
            "\n"
          ],
          "name": "stdout"
        }
      ]
    },
    {
      "cell_type": "code",
      "metadata": {
        "ExecuteTime": {
          "end_time": "2020-09-10T17:35:26.913147Z",
          "start_time": "2020-09-10T17:35:26.890840Z"
        },
        "id": "MAlgX9MYKomu",
        "colab": {
          "base_uri": "https://localhost:8080/",
          "height": 359
        },
        "outputId": "453bf073-22cf-496f-a03e-9da656127084"
      },
      "source": [
        "metrics_summary_df = pd.DataFrame(metrics_summary, \n",
        "                                  columns=['min doc freq',\n",
        "                                           'train accuracy',\n",
        "                                           'test accuracy',\n",
        "                                           'macro recall',\n",
        "                                          'neg recall',\n",
        "                                          'neutral recall',\n",
        "                                          'pos recall'])\n",
        "\n",
        "metrics_summary_df"
      ],
      "execution_count": 19,
      "outputs": [
        {
          "output_type": "execute_result",
          "data": {
            "text/html": [
              "<div>\n",
              "<style scoped>\n",
              "    .dataframe tbody tr th:only-of-type {\n",
              "        vertical-align: middle;\n",
              "    }\n",
              "\n",
              "    .dataframe tbody tr th {\n",
              "        vertical-align: top;\n",
              "    }\n",
              "\n",
              "    .dataframe thead th {\n",
              "        text-align: right;\n",
              "    }\n",
              "</style>\n",
              "<table border=\"1\" class=\"dataframe\">\n",
              "  <thead>\n",
              "    <tr style=\"text-align: right;\">\n",
              "      <th></th>\n",
              "      <th>min doc freq</th>\n",
              "      <th>train accuracy</th>\n",
              "      <th>test accuracy</th>\n",
              "      <th>macro recall</th>\n",
              "      <th>neg recall</th>\n",
              "      <th>neutral recall</th>\n",
              "      <th>pos recall</th>\n",
              "    </tr>\n",
              "  </thead>\n",
              "  <tbody>\n",
              "    <tr>\n",
              "      <th>0</th>\n",
              "      <td>1.0</td>\n",
              "      <td>0.961667</td>\n",
              "      <td>0.723333</td>\n",
              "      <td>0.723333</td>\n",
              "      <td>0.75</td>\n",
              "      <td>0.64</td>\n",
              "      <td>0.78</td>\n",
              "    </tr>\n",
              "    <tr>\n",
              "      <th>1</th>\n",
              "      <td>2.0</td>\n",
              "      <td>0.922500</td>\n",
              "      <td>0.713333</td>\n",
              "      <td>0.713333</td>\n",
              "      <td>0.70</td>\n",
              "      <td>0.68</td>\n",
              "      <td>0.76</td>\n",
              "    </tr>\n",
              "    <tr>\n",
              "      <th>2</th>\n",
              "      <td>3.0</td>\n",
              "      <td>0.892500</td>\n",
              "      <td>0.726667</td>\n",
              "      <td>0.726667</td>\n",
              "      <td>0.72</td>\n",
              "      <td>0.69</td>\n",
              "      <td>0.77</td>\n",
              "    </tr>\n",
              "    <tr>\n",
              "      <th>3</th>\n",
              "      <td>4.0</td>\n",
              "      <td>0.878333</td>\n",
              "      <td>0.746667</td>\n",
              "      <td>0.746667</td>\n",
              "      <td>0.74</td>\n",
              "      <td>0.72</td>\n",
              "      <td>0.78</td>\n",
              "    </tr>\n",
              "    <tr>\n",
              "      <th>4</th>\n",
              "      <td>5.0</td>\n",
              "      <td>0.869167</td>\n",
              "      <td>0.750000</td>\n",
              "      <td>0.750000</td>\n",
              "      <td>0.77</td>\n",
              "      <td>0.71</td>\n",
              "      <td>0.77</td>\n",
              "    </tr>\n",
              "    <tr>\n",
              "      <th>5</th>\n",
              "      <td>6.0</td>\n",
              "      <td>0.856667</td>\n",
              "      <td>0.716667</td>\n",
              "      <td>0.716667</td>\n",
              "      <td>0.72</td>\n",
              "      <td>0.67</td>\n",
              "      <td>0.76</td>\n",
              "    </tr>\n",
              "    <tr>\n",
              "      <th>6</th>\n",
              "      <td>7.0</td>\n",
              "      <td>0.849167</td>\n",
              "      <td>0.720000</td>\n",
              "      <td>0.720000</td>\n",
              "      <td>0.72</td>\n",
              "      <td>0.67</td>\n",
              "      <td>0.77</td>\n",
              "    </tr>\n",
              "    <tr>\n",
              "      <th>7</th>\n",
              "      <td>8.0</td>\n",
              "      <td>0.837500</td>\n",
              "      <td>0.720000</td>\n",
              "      <td>0.720000</td>\n",
              "      <td>0.71</td>\n",
              "      <td>0.68</td>\n",
              "      <td>0.77</td>\n",
              "    </tr>\n",
              "    <tr>\n",
              "      <th>8</th>\n",
              "      <td>9.0</td>\n",
              "      <td>0.822500</td>\n",
              "      <td>0.713333</td>\n",
              "      <td>0.713333</td>\n",
              "      <td>0.70</td>\n",
              "      <td>0.67</td>\n",
              "      <td>0.77</td>\n",
              "    </tr>\n",
              "    <tr>\n",
              "      <th>9</th>\n",
              "      <td>10.0</td>\n",
              "      <td>0.815833</td>\n",
              "      <td>0.716667</td>\n",
              "      <td>0.716667</td>\n",
              "      <td>0.70</td>\n",
              "      <td>0.66</td>\n",
              "      <td>0.79</td>\n",
              "    </tr>\n",
              "  </tbody>\n",
              "</table>\n",
              "</div>"
            ],
            "text/plain": [
              "   min doc freq  train accuracy  ...  neutral recall  pos recall\n",
              "0           1.0        0.961667  ...            0.64        0.78\n",
              "1           2.0        0.922500  ...            0.68        0.76\n",
              "2           3.0        0.892500  ...            0.69        0.77\n",
              "3           4.0        0.878333  ...            0.72        0.78\n",
              "4           5.0        0.869167  ...            0.71        0.77\n",
              "5           6.0        0.856667  ...            0.67        0.76\n",
              "6           7.0        0.849167  ...            0.67        0.77\n",
              "7           8.0        0.837500  ...            0.68        0.77\n",
              "8           9.0        0.822500  ...            0.67        0.77\n",
              "9          10.0        0.815833  ...            0.66        0.79\n",
              "\n",
              "[10 rows x 7 columns]"
            ]
          },
          "metadata": {
            "tags": []
          },
          "execution_count": 19
        }
      ]
    },
    {
      "cell_type": "code",
      "metadata": {
        "ExecuteTime": {
          "end_time": "2020-09-10T17:35:35.781715Z",
          "start_time": "2020-09-10T17:35:26.915324Z"
        },
        "scrolled": false,
        "id": "Rdb6Iq5IKomw",
        "colab": {
          "base_uri": "https://localhost:8080/",
          "height": 705
        },
        "outputId": "ced7e30c-4754-42b5-c639-7b6d6af4e64b"
      },
      "source": [
        "_,conf_matrix, y_pred = train_and_eval_model(min_df=5)\n",
        "labels = ['Negative', 'Neutral', 'Postive']\n",
        "\n",
        "fig, ax = plt.subplots(figsize=(7.5, 7.5))\n",
        "ax.matshow(conf_matrix, cmap=plt.cm.Blues, alpha=0.3)\n",
        "for i in range(conf_matrix.shape[0]):\n",
        "    for j in range(conf_matrix.shape[1]):\n",
        "        ax.text(x=j, y=i,s=conf_matrix[i, j], va='center', ha='center', size='xx-large')\n",
        " \n",
        "plt.xlabel('Predictions', fontsize=18)\n",
        "plt.ylabel('Actuals', fontsize=18)\n",
        "ax.set_xticklabels([''] + labels)\n",
        "ax.set_yticklabels([''] + labels)\n",
        "plt.title('Confusion Matrix', fontsize=18)\n",
        "plt.show()"
      ],
      "execution_count": 20,
      "outputs": [
        {
          "output_type": "stream",
          "text": [
            "MINIMUM DOCUMENT FREQUENCY = 5\n",
            "\n",
            "              precision    recall  f1-score   support\n",
            "\n",
            "    Negative       0.75      0.77      0.76       100\n",
            "     Neutral       0.66      0.71      0.69       100\n",
            "     Postive       0.86      0.77      0.81       100\n",
            "\n",
            "    accuracy                           0.75       300\n",
            "   macro avg       0.76      0.75      0.75       300\n",
            "weighted avg       0.76      0.75      0.75       300\n",
            "\n"
          ],
          "name": "stdout"
        },
        {
          "output_type": "display_data",
          "data": {
            "image/png": "[encoded data removed]",
            "text/plain": [
              "<Figure size 540x540 with 1 Axes>"
            ]
          },
          "metadata": {
            "tags": [],
            "needs_background": "light"
          }
        }
      ]
    },
    {
      "cell_type": "code",
      "metadata": {
        "id": "_WR19SdGrryS"
      },
      "source": [
        ""
      ],
      "execution_count": null,
      "outputs": []
    },
    {
      "cell_type": "code",
      "metadata": {
        "id": "nCvYWRfSZzAp"
      },
      "source": [
        "df2 = pd.DataFrame()\n",
        "\n",
        "df2['X_test'] =  X_test\n",
        "df2['y_test_enc'] =  y_test\n",
        "df2['y_pred'] =  y_pred-1\n",
        "\n",
        "df2[df2[\"y_test_enc\"]==-1 & df2[\"y_pred\"]==1].item()"
      ],
      "execution_count": null,
      "outputs": []
    },
    {
      "cell_type": "code",
      "metadata": {
        "id": "svYVN2FWzaSB",
        "outputId": "e6f823aa-c776-4002-d6b6-1a454e1f773b",
        "colab": {
          "base_uri": "https://localhost:8080/",
          "height": 638
        }
      },
      "source": [
        "df2[np.logical_and.reduce([df2['y_test_enc'] == -1, df2['y_pred'] == 0])]"
      ],
      "execution_count": 29,
      "outputs": [
        {
          "output_type": "execute_result",
          "data": {
            "text/html": [
              "<div>\n",
              "<style scoped>\n",
              "    .dataframe tbody tr th:only-of-type {\n",
              "        vertical-align: middle;\n",
              "    }\n",
              "\n",
              "    .dataframe tbody tr th {\n",
              "        vertical-align: top;\n",
              "    }\n",
              "\n",
              "    .dataframe thead th {\n",
              "        text-align: right;\n",
              "    }\n",
              "</style>\n",
              "<table border=\"1\" class=\"dataframe\">\n",
              "  <thead>\n",
              "    <tr style=\"text-align: right;\">\n",
              "      <th></th>\n",
              "      <th>X_test</th>\n",
              "      <th>y_test_enc</th>\n",
              "      <th>y_pred</th>\n",
              "    </tr>\n",
              "  </thead>\n",
              "  <tbody>\n",
              "    <tr>\n",
              "      <th>998</th>\n",
              "      <td>[dont, mind, that, guy, too, obvious, bias, and, stink]</td>\n",
              "      <td>-1</td>\n",
              "      <td>0</td>\n",
              "    </tr>\n",
              "    <tr>\n",
              "      <th>399</th>\n",
              "      <td>[you, know, your, deep, insid, that, you, didm, win, thi, elect]</td>\n",
              "      <td>-1</td>\n",
              "      <td>0</td>\n",
              "    </tr>\n",
              "    <tr>\n",
              "      <th>1198</th>\n",
              "      <td>[whi, dont, you, send, the, full, video, childish, presid, have, where, did, wrong]</td>\n",
              "      <td>-1</td>\n",
              "      <td>0</td>\n",
              "    </tr>\n",
              "    <tr>\n",
              "      <th>1086</th>\n",
              "      <td>[eiiii, npp, scandal, scandal, thunder, from, father, home, town, fire, di, peopl, and, their, gener, unborn]</td>\n",
              "      <td>-1</td>\n",
              "      <td>0</td>\n",
              "    </tr>\n",
              "    <tr>\n",
              "      <th>926</th>\n",
              "      <td>[he, not, tyrant, for, cri, out, loud]</td>\n",
              "      <td>-1</td>\n",
              "      <td>0</td>\n",
              "    </tr>\n",
              "    <tr>\n",
              "      <th>204</th>\n",
              "      <td>[weak, mine, typic, primit, man, manner]</td>\n",
              "      <td>-1</td>\n",
              "      <td>0</td>\n",
              "    </tr>\n",
              "    <tr>\n",
              "      <th>863</th>\n",
              "      <td>[pleas, want, school, weve, start, forget, lot, our, previou, academ, and, bad]</td>\n",
              "      <td>-1</td>\n",
              "      <td>0</td>\n",
              "    </tr>\n",
              "    <tr>\n",
              "      <th>1369</th>\n",
              "      <td>[see, dey, like, tag, satan, saf, win]</td>\n",
              "      <td>-1</td>\n",
              "      <td>0</td>\n",
              "    </tr>\n",
              "    <tr>\n",
              "      <th>1373</th>\n",
              "      <td>[god, punish, you, there]</td>\n",
              "      <td>-1</td>\n",
              "      <td>0</td>\n",
              "    </tr>\n",
              "    <tr>\n",
              "      <th>918</th>\n",
              "      <td>[you, didnt, insult, anyon, but, you, may, get, insult, for, thi, rather, solemn, prayer]</td>\n",
              "      <td>-1</td>\n",
              "      <td>0</td>\n",
              "    </tr>\n",
              "    <tr>\n",
              "      <th>1055</th>\n",
              "      <td>[nobodi, ha, threaten, kill, him, ha, now, realiz, that, he, just, coward, john, maha]</td>\n",
              "      <td>-1</td>\n",
              "      <td>0</td>\n",
              "    </tr>\n",
              "    <tr>\n",
              "      <th>243</th>\n",
              "      <td>[steal, your, mantra, everyth, about, steal, will, the, jubile, hous, soon]</td>\n",
              "      <td>-1</td>\n",
              "      <td>0</td>\n",
              "    </tr>\n",
              "    <tr>\n",
              "      <th>869</th>\n",
              "      <td>[witchcraft, real, and, hi, npp, member, hate, the, core, life, but, ador, him, when, dead, hypocrisi]</td>\n",
              "      <td>-1</td>\n",
              "      <td>0</td>\n",
              "    </tr>\n",
              "    <tr>\n",
              "      <th>847</th>\n",
              "      <td>[veri, much, doubt, even, god, scare, him]</td>\n",
              "      <td>-1</td>\n",
              "      <td>0</td>\n",
              "    </tr>\n",
              "    <tr>\n",
              "      <th>62</th>\n",
              "      <td>[get, fact, right, befor, spit, non, one, sent, them, there, after, vote]</td>\n",
              "      <td>-1</td>\n",
              "      <td>0</td>\n",
              "    </tr>\n",
              "    <tr>\n",
              "      <th>1381</th>\n",
              "      <td>[sack, long, time, dey, sow, funer, cloth, matern, wear]</td>\n",
              "      <td>-1</td>\n",
              "      <td>0</td>\n",
              "    </tr>\n",
              "    <tr>\n",
              "      <th>852</th>\n",
              "      <td>[when, loss, pray, for, doom]</td>\n",
              "      <td>-1</td>\n",
              "      <td>0</td>\n",
              "    </tr>\n",
              "    <tr>\n",
              "      <th>262</th>\n",
              "      <td>[proverb, b, when, the, wick, rule, the, peopl, groan, are, come, for, you, and, your, famili]</td>\n",
              "      <td>-1</td>\n",
              "      <td>0</td>\n",
              "    </tr>\n",
              "    <tr>\n",
              "      <th>1016</th>\n",
              "      <td>[just, dey, bizz, brono, hard, feel, just, pray, you, dont, grow, regret]</td>\n",
              "      <td>-1</td>\n",
              "      <td>0</td>\n",
              "    </tr>\n",
              "  </tbody>\n",
              "</table>\n",
              "</div>"
            ],
            "text/plain": [
              "                                                                                                             X_test  ...  y_pred\n",
              "998                                                         [dont, mind, that, guy, too, obvious, bias, and, stink]  ...       0\n",
              "399                                                [you, know, your, deep, insid, that, you, didm, win, thi, elect]  ...       0\n",
              "1198                            [whi, dont, you, send, the, full, video, childish, presid, have, where, did, wrong]  ...       0\n",
              "1086  [eiiii, npp, scandal, scandal, thunder, from, father, home, town, fire, di, peopl, and, their, gener, unborn]  ...       0\n",
              "926                                                                          [he, not, tyrant, for, cri, out, loud]  ...       0\n",
              "204                                                                        [weak, mine, typic, primit, man, manner]  ...       0\n",
              "863                                 [pleas, want, school, weve, start, forget, lot, our, previou, academ, and, bad]  ...       0\n",
              "1369                                                                         [see, dey, like, tag, satan, saf, win]  ...       0\n",
              "1373                                                                                      [god, punish, you, there]  ...       0\n",
              "918                       [you, didnt, insult, anyon, but, you, may, get, insult, for, thi, rather, solemn, prayer]  ...       0\n",
              "1055                         [nobodi, ha, threaten, kill, him, ha, now, realiz, that, he, just, coward, john, maha]  ...       0\n",
              "243                                     [steal, your, mantra, everyth, about, steal, will, the, jubile, hous, soon]  ...       0\n",
              "869          [witchcraft, real, and, hi, npp, member, hate, the, core, life, but, ador, him, when, dead, hypocrisi]  ...       0\n",
              "847                                                                      [veri, much, doubt, even, god, scare, him]  ...       0\n",
              "62                                        [get, fact, right, befor, spit, non, one, sent, them, there, after, vote]  ...       0\n",
              "1381                                                       [sack, long, time, dey, sow, funer, cloth, matern, wear]  ...       0\n",
              "852                                                                                   [when, loss, pray, for, doom]  ...       0\n",
              "262                  [proverb, b, when, the, wick, rule, the, peopl, groan, are, come, for, you, and, your, famili]  ...       0\n",
              "1016                                      [just, dey, bizz, brono, hard, feel, just, pray, you, dont, grow, regret]  ...       0\n",
              "\n",
              "[19 rows x 3 columns]"
            ]
          },
          "metadata": {
            "tags": []
          },
          "execution_count": 29
        }
      ]
    },
    {
      "cell_type": "code",
      "metadata": {
        "id": "U7E9ZwNr0YYZ",
        "outputId": "234366c7-4f10-44bd-d81c-fdebd86d8171",
        "colab": {
          "base_uri": "https://localhost:8080/",
          "height": 35
        }
      },
      "source": [
        "df.loc[852,'tweet']"
      ],
      "execution_count": 34,
      "outputs": [
        {
          "output_type": "execute_result",
          "data": {
            "application/vnd.google.colaboratory.intrinsic+json": {
              "type": "string"
            },
            "text/plain": [
              "'@AnlorVictor @NAkufoAddo When u loss u pray for doom .'"
            ]
          },
          "metadata": {
            "tags": []
          },
          "execution_count": 34
        }
      ]
    },
    {
      "cell_type": "code",
      "metadata": {
        "id": "jleixtSLxyRE",
        "outputId": "19350241-3b42-4898-9e95-57680ed24129",
        "colab": {
          "base_uri": "https://localhost:8080/",
          "height": 282
        }
      },
      "source": [
        "df2[df2[\"y_test_enc\"]==-1 & df2[\"y_pred\"]==1].item()"
      ],
      "execution_count": 22,
      "outputs": [
        {
          "output_type": "error",
          "ename": "ValueError",
          "evalue": "ignored",
          "traceback": [
            "\u001b[0;31m---------------------------------------------------------------------------\u001b[0m",
            "\u001b[0;31mValueError\u001b[0m                                Traceback (most recent call last)",
            "\u001b[0;32m<ipython-input-22-d2611dea3492>\u001b[0m in \u001b[0;36m<module>\u001b[0;34m()\u001b[0m\n\u001b[0;32m----> 1\u001b[0;31m \u001b[0mdf2\u001b[0m\u001b[0;34m[\u001b[0m\u001b[0mdf2\u001b[0m\u001b[0;34m[\u001b[0m\u001b[0;34m\"y_test_enc\"\u001b[0m\u001b[0;34m]\u001b[0m\u001b[0;34m==\u001b[0m\u001b[0;34m-\u001b[0m\u001b[0;36m1\u001b[0m \u001b[0;34m&\u001b[0m \u001b[0mdf2\u001b[0m\u001b[0;34m[\u001b[0m\u001b[0;34m\"y_pred\"\u001b[0m\u001b[0;34m]\u001b[0m\u001b[0;34m==\u001b[0m\u001b[0;36m1\u001b[0m\u001b[0;34m]\u001b[0m\u001b[0;34m.\u001b[0m\u001b[0mitem\u001b[0m\u001b[0;34m(\u001b[0m\u001b[0;34m)\u001b[0m\u001b[0;34m\u001b[0m\u001b[0;34m\u001b[0m\u001b[0m\n\u001b[0m",
            "\u001b[0;32m/usr/local/lib/python3.7/dist-packages/pandas/core/generic.py\u001b[0m in \u001b[0;36m__nonzero__\u001b[0;34m(self)\u001b[0m\n\u001b[1;32m   1328\u001b[0m     \u001b[0;32mdef\u001b[0m \u001b[0m__nonzero__\u001b[0m\u001b[0;34m(\u001b[0m\u001b[0mself\u001b[0m\u001b[0;34m)\u001b[0m\u001b[0;34m:\u001b[0m\u001b[0;34m\u001b[0m\u001b[0;34m\u001b[0m\u001b[0m\n\u001b[1;32m   1329\u001b[0m         raise ValueError(\n\u001b[0;32m-> 1330\u001b[0;31m             \u001b[0;34mf\"The truth value of a {type(self).__name__} is ambiguous. \"\u001b[0m\u001b[0;34m\u001b[0m\u001b[0;34m\u001b[0m\u001b[0m\n\u001b[0m\u001b[1;32m   1331\u001b[0m             \u001b[0;34m\"Use a.empty, a.bool(), a.item(), a.any() or a.all().\"\u001b[0m\u001b[0;34m\u001b[0m\u001b[0;34m\u001b[0m\u001b[0m\n\u001b[1;32m   1332\u001b[0m         )\n",
            "\u001b[0;31mValueError\u001b[0m: The truth value of a Series is ambiguous. Use a.empty, a.bool(), a.item(), a.any() or a.all()."
          ]
        }
      ]
    },
    {
      "cell_type": "markdown",
      "metadata": {
        "id": "U2s63wZBKomw"
      },
      "source": [
        "# Summary"
      ]
    },
    {
      "cell_type": "markdown",
      "metadata": {
        "id": "OUyZmdx4Komx"
      },
      "source": [
        "The addition of SMOTE oversampling generally improved the SVM as negative classes have better scores. "
      ]
    },
    {
      "cell_type": "code",
      "metadata": {
        "id": "DQ5vPdYv4IWL"
      },
      "source": [
        ""
      ],
      "execution_count": null,
      "outputs": []
    },
    {
      "cell_type": "code",
      "metadata": {
        "id": "H1ewKsB54JzC"
      },
      "source": [
        ""
      ],
      "execution_count": null,
      "outputs": []
    },
    {
      "cell_type": "code",
      "metadata": {
        "id": "ZXEuNdQm4JOr"
      },
      "source": [
        ""
      ],
      "execution_count": null,
      "outputs": []
    },
    {
      "cell_type": "code",
      "metadata": {
        "id": "WqimPqBp5mLj"
      },
      "source": [
        "easy.py"
      ],
      "execution_count": null,
      "outputs": []
    }
  ]
}