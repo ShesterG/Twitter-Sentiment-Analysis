{
  "nbformat": 4,
  "nbformat_minor": 0,
  "metadata": {
    "kernelspec": {
      "display_name": "learn-env",
      "language": "python",
      "name": "learn-env"
    },
    "language_info": {
      "codemirror_mode": {
        "name": "ipython",
        "version": 3
      },
      "file_extension": ".py",
      "mimetype": "text/x-python",
      "name": "python",
      "nbconvert_exporter": "python",
      "pygments_lexer": "ipython3",
      "version": "3.6.9"
    },
    "toc": {
      "base_numbering": 1,
      "nav_menu": {},
      "number_sections": true,
      "sideBar": true,
      "skip_h1_title": false,
      "title_cell": "Table of Contents",
      "title_sidebar": "Contents",
      "toc_cell": false,
      "toc_position": {},
      "toc_section_display": true,
      "toc_window_display": false
    },
    "varInspector": {
      "cols": {
        "lenName": 16,
        "lenType": 16,
        "lenVar": 40
      },
      "kernels_config": {
        "python": {
          "delete_cmd_postfix": "",
          "delete_cmd_prefix": "del ",
          "library": "var_list.py",
          "varRefreshCmd": "print(var_dic_list())"
        },
        "r": {
          "delete_cmd_postfix": ") ",
          "delete_cmd_prefix": "rm(",
          "library": "var_list.r",
          "varRefreshCmd": "cat(var_dic_list()) "
        }
      },
      "types_to_exclude": [
        "module",
        "function",
        "builtin_function_or_method",
        "instance",
        "_Feature"
      ],
      "window_display": false
    },
    "colab": {
      "name": "12_smv_model_02.ipynb",
      "provenance": [],
      "include_colab_link": true
    }
  },
  "cells": [
    {
      "cell_type": "markdown",
      "metadata": {
        "id": "view-in-github",
        "colab_type": "text"
      },
      "source": [
        "<a href=\"https://colab.research.google.com/github/ShesterG/Twitter-Sentiment-Analysis/blob/master/notebooks/12_smv_model_02.ipynb\" target=\"_parent\"><img src=\"https://colab.research.google.com/assets/colab-badge.svg\" alt=\"Open In Colab\"/></a>"
      ]
    },
    {
      "cell_type": "markdown",
      "metadata": {
        "id": "pOr84TwcKomO"
      },
      "source": [
        "# SVM with Smote Model for Twitter Sentiment Analysis"
      ]
    },
    {
      "cell_type": "markdown",
      "metadata": {
        "id": "KGZkKVLpKomi"
      },
      "source": [
        "This model will use SVM with tf/idf to classify the tweets.\n",
        "\n",
        "It will reduce the dimensionality of the feature set by adjusting the minimum document frequency of words, in an attempt to get better results.\n",
        "\n",
        "It will use SMOTE to synthesize some data to balance the classes."
      ]
    },
    {
      "cell_type": "code",
      "metadata": {
        "id": "6MftFUf1Ltx-",
        "outputId": "c2574634-fddc-4a4f-cdc3-ec67755640ba",
        "colab": {
          "base_uri": "https://localhost:8080/"
        }
      },
      "source": [
        "from google.colab import drive\n",
        "drive.mount(\"/content/drive\", force_remount=True)"
      ],
      "execution_count": 1,
      "outputs": [
        {
          "output_type": "stream",
          "text": [
            "Mounted at /content/drive\n"
          ],
          "name": "stdout"
        }
      ]
    },
    {
      "cell_type": "markdown",
      "metadata": {
        "id": "A-q54ki6Komk"
      },
      "source": [
        "# Imports and Constants"
      ]
    },
    {
      "cell_type": "code",
      "metadata": {
        "ExecuteTime": {
          "end_time": "2020-09-10T17:33:58.632607Z",
          "start_time": "2020-09-10T17:33:57.317553Z"
        },
        "id": "XOkxSJpcKomk"
      },
      "source": [
        "import pandas as pd\n",
        "import numpy as np\n",
        "from sklearn.naive_bayes import MultinomialNB\n",
        "from sklearn.svm import SVC\n",
        "from sklearn.model_selection import train_test_split\n",
        "from sklearn.feature_extraction.text import CountVectorizer\n",
        "\n",
        "from sklearn.preprocessing import LabelEncoder\n",
        "from sklearn.metrics import classification_report, plot_confusion_matrix\n",
        "import matplotlib.pyplot as plt\n",
        "%matplotlib inline\n",
        "from sklearn.metrics import precision_recall_curve, auc\n",
        "from sklearn.metrics import accuracy_score, f1_score, recall_score\n",
        "from sklearn.preprocessing import LabelBinarizer\n",
        "#import evaluation_functions\n",
        "from sklearn.metrics import confusion_matrix\n",
        "from sklearn.metrics import classification_report\n",
        "from sklearn.feature_extraction.text import TfidfTransformer\n",
        "from sklearn.linear_model import SGDClassifier\n",
        "from imblearn.over_sampling import SMOTE\n",
        "from imblearn.pipeline import Pipeline\n",
        "import ast"
      ],
      "execution_count": 18,
      "outputs": []
    },
    {
      "cell_type": "code",
      "metadata": {
        "ExecuteTime": {
          "end_time": "2020-09-10T17:33:58.639394Z",
          "start_time": "2020-09-10T17:33:58.635233Z"
        },
        "id": "XjDfZZQvKomm"
      },
      "source": [
        "DATA_FILE_PATH = '/content/drive/MyDrive/NLPGh/'\n",
        "CLEAN_DATA_FILE_NAME = 'DataSet2Clean.csv'\n",
        "TOKENIZED_DATA_FILE_NAME = 'DataSet2Tokenized.csv'\n",
        "pd.set_option('display.max_colwidth', None)\n",
        "RANDOM_STATE = 42"
      ],
      "execution_count": 3,
      "outputs": []
    },
    {
      "cell_type": "markdown",
      "metadata": {
        "id": "8p6TU0dHKomn"
      },
      "source": [
        "# Load Data"
      ]
    },
    {
      "cell_type": "code",
      "metadata": {
        "ExecuteTime": {
          "end_time": "2020-09-10T17:33:58.693585Z",
          "start_time": "2020-09-10T17:33:58.642232Z"
        },
        "id": "e7HwLTwRKomn"
      },
      "source": [
        "df = pd.read_csv(DATA_FILE_PATH + TOKENIZED_DATA_FILE_NAME)"
      ],
      "execution_count": 4,
      "outputs": []
    },
    {
      "cell_type": "code",
      "metadata": {
        "ExecuteTime": {
          "end_time": "2020-09-10T17:33:58.716944Z",
          "start_time": "2020-09-10T17:33:58.696032Z"
        },
        "id": "D8GqKiY1Komn",
        "outputId": "fcf23e92-0173-49eb-c7a1-8acb517086e3",
        "colab": {
          "base_uri": "https://localhost:8080/",
          "height": 323
        }
      },
      "source": [
        "df.head()"
      ],
      "execution_count": 5,
      "outputs": [
        {
          "output_type": "execute_result",
          "data": {
            "text/html": [
              "<div>\n",
              "<style scoped>\n",
              "    .dataframe tbody tr th:only-of-type {\n",
              "        vertical-align: middle;\n",
              "    }\n",
              "\n",
              "    .dataframe tbody tr th {\n",
              "        vertical-align: top;\n",
              "    }\n",
              "\n",
              "    .dataframe thead th {\n",
              "        text-align: right;\n",
              "    }\n",
              "</style>\n",
              "<table border=\"1\" class=\"dataframe\">\n",
              "  <thead>\n",
              "    <tr style=\"text-align: right;\">\n",
              "      <th></th>\n",
              "      <th>Unnamed</th>\n",
              "      <th>tweet</th>\n",
              "      <th>location</th>\n",
              "      <th>pretweet</th>\n",
              "      <th>Sentiment</th>\n",
              "      <th>tokens</th>\n",
              "    </tr>\n",
              "  </thead>\n",
              "  <tbody>\n",
              "    <tr>\n",
              "      <th>0</th>\n",
              "      <td>65780</td>\n",
              "      <td>Pls add us some momo to make data  0246964913 ðŸ˜‚ðŸ˜‚ðŸ˜‚ https://t.co/w5ozYUF59x</td>\n",
              "      <td>NaN</td>\n",
              "      <td>pl add some momo make data</td>\n",
              "      <td>0.0</td>\n",
              "      <td>['pl', 'add', 'some', 'momo', 'make', 'data']</td>\n",
              "    </tr>\n",
              "    <tr>\n",
              "      <th>1</th>\n",
              "      <td>65781</td>\n",
              "      <td>@McVan_1 @AnnanPerry @blac4rina We will descend on @NAkufoAddo soon</td>\n",
              "      <td>Ghana</td>\n",
              "      <td>will descend soon</td>\n",
              "      <td>0.0</td>\n",
              "      <td>['will', 'descend', 'soon']</td>\n",
              "    </tr>\n",
              "    <tr>\n",
              "      <th>2</th>\n",
              "      <td>65782</td>\n",
              "      <td>*Forgery allegations by EC is not enough to disqualify the five presidential candidates*\\n\\nhttps://t.co/GAkYghEbQHâ€¦ https://t.co/o0pCodbuWj</td>\n",
              "      <td>NaN</td>\n",
              "      <td>forgeri alleg not enough disqualifi the five presidenti candid</td>\n",
              "      <td>0.0</td>\n",
              "      <td>['forgeri', 'alleg', 'not', 'enough', 'disqualifi', 'the', 'five', 'presidenti', 'candid']</td>\n",
              "    </tr>\n",
              "    <tr>\n",
              "      <th>3</th>\n",
              "      <td>65783</td>\n",
              "      <td>@NiiWills @bosompemny I donâ€™t know how dem dey see @NAkufoAddo oo</td>\n",
              "      <td>dansoman accra</td>\n",
              "      <td>dont know how dem dey see</td>\n",
              "      <td>0.0</td>\n",
              "      <td>['dont', 'know', 'how', 'dem', 'dey', 'see']</td>\n",
              "    </tr>\n",
              "    <tr>\n",
              "      <th>4</th>\n",
              "      <td>65784</td>\n",
              "      <td>Do we have online renewal what what ka kwano?? https://t.co/3CdekJYMgr</td>\n",
              "      <td>Botswana</td>\n",
              "      <td>have onlin renew what what kwano</td>\n",
              "      <td>0.0</td>\n",
              "      <td>['have', 'onlin', 'renew', 'what', 'what', 'kwano']</td>\n",
              "    </tr>\n",
              "  </tbody>\n",
              "</table>\n",
              "</div>"
            ],
            "text/plain": [
              "   Unnamed  ...                                                                                      tokens\n",
              "0    65780  ...                                               ['pl', 'add', 'some', 'momo', 'make', 'data']\n",
              "1    65781  ...                                                                 ['will', 'descend', 'soon']\n",
              "2    65782  ...  ['forgeri', 'alleg', 'not', 'enough', 'disqualifi', 'the', 'five', 'presidenti', 'candid']\n",
              "3    65783  ...                                                ['dont', 'know', 'how', 'dem', 'dey', 'see']\n",
              "4    65784  ...                                         ['have', 'onlin', 'renew', 'what', 'what', 'kwano']\n",
              "\n",
              "[5 rows x 6 columns]"
            ]
          },
          "metadata": {
            "tags": []
          },
          "execution_count": 5
        }
      ]
    },
    {
      "cell_type": "code",
      "metadata": {
        "ExecuteTime": {
          "end_time": "2020-09-10T17:33:59.158553Z",
          "start_time": "2020-09-10T17:33:58.719183Z"
        },
        "id": "OLfKOp0DKomo"
      },
      "source": [
        "# convert list of strings represented as a string to a list of strings\n",
        "df.tokens = df.tokens.map(ast.literal_eval)"
      ],
      "execution_count": 6,
      "outputs": []
    },
    {
      "cell_type": "code",
      "metadata": {
        "ExecuteTime": {
          "end_time": "2020-09-10T17:33:59.166031Z",
          "start_time": "2020-09-10T17:33:59.160668Z"
        },
        "id": "2-IVZp-qKomp"
      },
      "source": [
        "data = df[['tokens', 'Sentiment']]"
      ],
      "execution_count": 7,
      "outputs": []
    },
    {
      "cell_type": "code",
      "metadata": {
        "ExecuteTime": {
          "end_time": "2020-09-10T17:33:59.181978Z",
          "start_time": "2020-09-10T17:33:59.168323Z"
        },
        "id": "9ot3qehDKomp",
        "outputId": "85913235-37dc-42f2-e515-19d319c86f35",
        "colab": {
          "base_uri": "https://localhost:8080/",
          "height": 204
        }
      },
      "source": [
        "data.head()"
      ],
      "execution_count": 8,
      "outputs": [
        {
          "output_type": "execute_result",
          "data": {
            "text/html": [
              "<div>\n",
              "<style scoped>\n",
              "    .dataframe tbody tr th:only-of-type {\n",
              "        vertical-align: middle;\n",
              "    }\n",
              "\n",
              "    .dataframe tbody tr th {\n",
              "        vertical-align: top;\n",
              "    }\n",
              "\n",
              "    .dataframe thead th {\n",
              "        text-align: right;\n",
              "    }\n",
              "</style>\n",
              "<table border=\"1\" class=\"dataframe\">\n",
              "  <thead>\n",
              "    <tr style=\"text-align: right;\">\n",
              "      <th></th>\n",
              "      <th>tokens</th>\n",
              "      <th>Sentiment</th>\n",
              "    </tr>\n",
              "  </thead>\n",
              "  <tbody>\n",
              "    <tr>\n",
              "      <th>0</th>\n",
              "      <td>[pl, add, some, momo, make, data]</td>\n",
              "      <td>0.0</td>\n",
              "    </tr>\n",
              "    <tr>\n",
              "      <th>1</th>\n",
              "      <td>[will, descend, soon]</td>\n",
              "      <td>0.0</td>\n",
              "    </tr>\n",
              "    <tr>\n",
              "      <th>2</th>\n",
              "      <td>[forgeri, alleg, not, enough, disqualifi, the, five, presidenti, candid]</td>\n",
              "      <td>0.0</td>\n",
              "    </tr>\n",
              "    <tr>\n",
              "      <th>3</th>\n",
              "      <td>[dont, know, how, dem, dey, see]</td>\n",
              "      <td>0.0</td>\n",
              "    </tr>\n",
              "    <tr>\n",
              "      <th>4</th>\n",
              "      <td>[have, onlin, renew, what, what, kwano]</td>\n",
              "      <td>0.0</td>\n",
              "    </tr>\n",
              "  </tbody>\n",
              "</table>\n",
              "</div>"
            ],
            "text/plain": [
              "                                                                     tokens  Sentiment\n",
              "0                                         [pl, add, some, momo, make, data]        0.0\n",
              "1                                                     [will, descend, soon]        0.0\n",
              "2  [forgeri, alleg, not, enough, disqualifi, the, five, presidenti, candid]        0.0\n",
              "3                                          [dont, know, how, dem, dey, see]        0.0\n",
              "4                                   [have, onlin, renew, what, what, kwano]        0.0"
            ]
          },
          "metadata": {
            "tags": []
          },
          "execution_count": 8
        }
      ]
    },
    {
      "cell_type": "markdown",
      "metadata": {
        "id": "8XQ1lJ--Komp"
      },
      "source": [
        "# Split Data"
      ]
    },
    {
      "cell_type": "code",
      "metadata": {
        "ExecuteTime": {
          "end_time": "2020-09-10T17:33:59.208403Z",
          "start_time": "2020-09-10T17:33:59.186404Z"
        },
        "id": "LsE-CjGQKomq"
      },
      "source": [
        "X_train, X_test, y_train, y_test = train_test_split(data['tokens'], \n",
        "                                                    data['Sentiment'],\n",
        "                                                   test_size = 0.2,\n",
        "                                                   random_state = RANDOM_STATE,\n",
        "                                                   stratify = data['Sentiment'])"
      ],
      "execution_count": 9,
      "outputs": []
    },
    {
      "cell_type": "code",
      "metadata": {
        "ExecuteTime": {
          "end_time": "2020-09-10T17:33:59.217856Z",
          "start_time": "2020-09-10T17:33:59.211816Z"
        },
        "id": "e6ZbJhDpKomq",
        "outputId": "de9df442-5af8-4400-92df-7c4d9044ff8b",
        "colab": {
          "base_uri": "https://localhost:8080/"
        }
      },
      "source": [
        "X_train.shape"
      ],
      "execution_count": 10,
      "outputs": [
        {
          "output_type": "execute_result",
          "data": {
            "text/plain": [
              "(1637,)"
            ]
          },
          "metadata": {
            "tags": []
          },
          "execution_count": 10
        }
      ]
    },
    {
      "cell_type": "code",
      "metadata": {
        "ExecuteTime": {
          "end_time": "2020-09-10T17:33:59.225303Z",
          "start_time": "2020-09-10T17:33:59.220214Z"
        },
        "id": "LhuTx3bAKomr",
        "outputId": "eded9bbc-42a2-4524-a99a-9e8440f660cb",
        "colab": {
          "base_uri": "https://localhost:8080/"
        }
      },
      "source": [
        "X_test.shape"
      ],
      "execution_count": 11,
      "outputs": [
        {
          "output_type": "execute_result",
          "data": {
            "text/plain": [
              "(410,)"
            ]
          },
          "metadata": {
            "tags": []
          },
          "execution_count": 11
        }
      ]
    },
    {
      "cell_type": "markdown",
      "metadata": {
        "id": "vIYUAWJXKomr"
      },
      "source": [
        "# Encode Labels"
      ]
    },
    {
      "cell_type": "code",
      "metadata": {
        "ExecuteTime": {
          "end_time": "2020-09-10T17:33:59.231548Z",
          "start_time": "2020-09-10T17:33:59.228153Z"
        },
        "id": "b9h7GJtyKomr"
      },
      "source": [
        "le = LabelEncoder()"
      ],
      "execution_count": 12,
      "outputs": []
    },
    {
      "cell_type": "code",
      "metadata": {
        "ExecuteTime": {
          "end_time": "2020-09-10T17:33:59.239063Z",
          "start_time": "2020-09-10T17:33:59.233579Z"
        },
        "id": "YmS4TDmSKomr"
      },
      "source": [
        "y_train_enc = le.fit_transform(y_train)"
      ],
      "execution_count": 13,
      "outputs": []
    },
    {
      "cell_type": "code",
      "metadata": {
        "ExecuteTime": {
          "end_time": "2020-09-10T17:33:59.255359Z",
          "start_time": "2020-09-10T17:33:59.241210Z"
        },
        "id": "HORAhV0PKoms"
      },
      "source": [
        "y_test_enc = le.transform(y_test)"
      ],
      "execution_count": 14,
      "outputs": []
    },
    {
      "cell_type": "markdown",
      "metadata": {
        "id": "ep11COZQKoms"
      },
      "source": [
        "# Evaluate Adjustments to Minimum Document Frequency"
      ]
    },
    {
      "cell_type": "code",
      "metadata": {
        "ExecuteTime": {
          "end_time": "2020-09-10T17:33:59.261759Z",
          "start_time": "2020-09-10T17:33:59.257741Z"
        },
        "id": "xgFhcb5OKoms"
      },
      "source": [
        "def passthrough(doc):\n",
        "    \"\"\"passthrough function for use in the pipeline because the text is already tokenized\"\"\"\n",
        "    return doc"
      ],
      "execution_count": 15,
      "outputs": []
    },
    {
      "cell_type": "code",
      "metadata": {
        "ExecuteTime": {
          "end_time": "2020-09-10T17:33:59.276479Z",
          "start_time": "2020-09-10T17:33:59.264034Z"
        },
        "id": "FAQzIQvpKoms"
      },
      "source": [
        "def train_and_eval_model(min_df):\n",
        "    \"\"\"\n",
        "    Train and Evaluate and Bag of Words Representation with a SVM\n",
        "    classifier with a specified minimum document frequency.\n",
        "    \"\"\"\n",
        "    \n",
        "    pipeline = Pipeline([('bow',CountVectorizer(min_df=min_df, \n",
        "                                                preprocessor=passthrough, \n",
        "                                                tokenizer=passthrough)),\n",
        "                         ('tfidf', TfidfTransformer()),\n",
        "                         ('smote', SMOTE(random_state=RANDOM_STATE, \n",
        "                                         n_jobs=-1)),\n",
        "                         ('SVM', SVC(kernel = 'linear', probability = True, random_state = RANDOM_STATE))])\n",
        "    \n",
        "    pipeline.fit(X_train,y_train_enc)\n",
        "    \n",
        "    print(f'MINIMUM DOCUMENT FREQUENCY = {min_df}')\n",
        "    print('')\n",
        "    \n",
        "\n",
        "    y_pred = pipeline.predict(X_test)\n",
        "\n",
        "\n",
        "\n",
        "    conf_matrix = confusion_matrix(y_true=y_test_enc, y_pred=y_pred)\n",
        "    #confusion_matrix(y_true=y_train_enc, y_pred=pipeline.predict(X_train),labels='Training')\n",
        "\n",
        "    \n",
        "    classi_report = classification_report(y_true=y_test_enc, y_pred=y_pred, target_names=['Negative', 'Neutral', 'Postive'])\n",
        "    print(classi_report)\n",
        "\n",
        "\n",
        "    \n",
        "    train_accuracy = accuracy_score(y_train_enc, pipeline.predict(X_train))\n",
        "    \n",
        "    test_accuracy = accuracy_score(y_test_enc, pipeline.predict(X_test))\n",
        "    \n",
        "    ave_macro_recall = recall_score(y_test_enc, pipeline.predict(X_test), average='macro')\n",
        "    recall_scores = recall_score(y_test_enc, pipeline.predict(X_test), average=None)\n",
        "    \n",
        "    test_results = np.append(np.array([min_df, train_accuracy, test_accuracy, ave_macro_recall]),\n",
        "                             recall_scores)\n",
        "   \n",
        "    return test_results, conf_matrix\n",
        "    "
      ],
      "execution_count": 19,
      "outputs": []
    },
    {
      "cell_type": "code",
      "metadata": {
        "ExecuteTime": {
          "end_time": "2020-09-10T17:35:26.888718Z",
          "start_time": "2020-09-10T17:33:59.278764Z"
        },
        "scrolled": true,
        "id": "qVbFOtXQKomt",
        "outputId": "ea64a79e-070a-45b6-b400-874af9837f76",
        "colab": {
          "base_uri": "https://localhost:8080/"
        }
      },
      "source": [
        "metrics_summary = []\n",
        "\n",
        "for min_df in range(1,11):\n",
        "    test_scores, conf_matrix = train_and_eval_model(min_df)\n",
        "    metrics_summary.append(test_scores)"
      ],
      "execution_count": 22,
      "outputs": [
        {
          "output_type": "stream",
          "text": [
            "/usr/local/lib/python3.7/dist-packages/sklearn/utils/deprecation.py:87: FutureWarning: Function safe_indexing is deprecated; safe_indexing is deprecated in version 0.22 and will be removed in version 0.24.\n",
            "  warnings.warn(msg, category=FutureWarning)\n"
          ],
          "name": "stderr"
        },
        {
          "output_type": "stream",
          "text": [
            "MINIMUM DOCUMENT FREQUENCY = 1\n",
            "\n",
            "              precision    recall  f1-score   support\n",
            "\n",
            "    Negative       0.40      0.18      0.25        11\n",
            "     Neutral       0.95      0.98      0.97       356\n",
            "     Postive       0.78      0.72      0.75        43\n",
            "\n",
            "    accuracy                           0.93       410\n",
            "   macro avg       0.71      0.63      0.65       410\n",
            "weighted avg       0.92      0.93      0.92       410\n",
            "\n"
          ],
          "name": "stdout"
        },
        {
          "output_type": "stream",
          "text": [
            "/usr/local/lib/python3.7/dist-packages/sklearn/utils/deprecation.py:87: FutureWarning: Function safe_indexing is deprecated; safe_indexing is deprecated in version 0.22 and will be removed in version 0.24.\n",
            "  warnings.warn(msg, category=FutureWarning)\n"
          ],
          "name": "stderr"
        },
        {
          "output_type": "stream",
          "text": [
            "MINIMUM DOCUMENT FREQUENCY = 2\n",
            "\n",
            "              precision    recall  f1-score   support\n",
            "\n",
            "    Negative       0.19      0.36      0.25        11\n",
            "     Neutral       0.95      0.87      0.91       356\n",
            "     Postive       0.52      0.77      0.62        43\n",
            "\n",
            "    accuracy                           0.85       410\n",
            "   macro avg       0.55      0.67      0.59       410\n",
            "weighted avg       0.89      0.85      0.86       410\n",
            "\n"
          ],
          "name": "stdout"
        },
        {
          "output_type": "stream",
          "text": [
            "/usr/local/lib/python3.7/dist-packages/sklearn/utils/deprecation.py:87: FutureWarning: Function safe_indexing is deprecated; safe_indexing is deprecated in version 0.22 and will be removed in version 0.24.\n",
            "  warnings.warn(msg, category=FutureWarning)\n"
          ],
          "name": "stderr"
        },
        {
          "output_type": "stream",
          "text": [
            "MINIMUM DOCUMENT FREQUENCY = 3\n",
            "\n",
            "              precision    recall  f1-score   support\n",
            "\n",
            "    Negative       0.13      0.36      0.19        11\n",
            "     Neutral       0.95      0.85      0.89       356\n",
            "     Postive       0.50      0.72      0.59        43\n",
            "\n",
            "    accuracy                           0.82       410\n",
            "   macro avg       0.53      0.64      0.56       410\n",
            "weighted avg       0.88      0.82      0.84       410\n",
            "\n"
          ],
          "name": "stdout"
        },
        {
          "output_type": "stream",
          "text": [
            "/usr/local/lib/python3.7/dist-packages/sklearn/utils/deprecation.py:87: FutureWarning: Function safe_indexing is deprecated; safe_indexing is deprecated in version 0.22 and will be removed in version 0.24.\n",
            "  warnings.warn(msg, category=FutureWarning)\n"
          ],
          "name": "stderr"
        },
        {
          "output_type": "stream",
          "text": [
            "MINIMUM DOCUMENT FREQUENCY = 4\n",
            "\n",
            "              precision    recall  f1-score   support\n",
            "\n",
            "    Negative       0.12      0.36      0.18        11\n",
            "     Neutral       0.95      0.83      0.88       356\n",
            "     Postive       0.48      0.74      0.58        43\n",
            "\n",
            "    accuracy                           0.80       410\n",
            "   macro avg       0.52      0.64      0.55       410\n",
            "weighted avg       0.88      0.80      0.83       410\n",
            "\n"
          ],
          "name": "stdout"
        },
        {
          "output_type": "stream",
          "text": [
            "/usr/local/lib/python3.7/dist-packages/sklearn/utils/deprecation.py:87: FutureWarning: Function safe_indexing is deprecated; safe_indexing is deprecated in version 0.22 and will be removed in version 0.24.\n",
            "  warnings.warn(msg, category=FutureWarning)\n"
          ],
          "name": "stderr"
        },
        {
          "output_type": "stream",
          "text": [
            "MINIMUM DOCUMENT FREQUENCY = 5\n",
            "\n",
            "              precision    recall  f1-score   support\n",
            "\n",
            "    Negative       0.11      0.36      0.16        11\n",
            "     Neutral       0.95      0.81      0.88       356\n",
            "     Postive       0.46      0.74      0.57        43\n",
            "\n",
            "    accuracy                           0.79       410\n",
            "   macro avg       0.51      0.64      0.54       410\n",
            "weighted avg       0.88      0.79      0.82       410\n",
            "\n"
          ],
          "name": "stdout"
        },
        {
          "output_type": "stream",
          "text": [
            "/usr/local/lib/python3.7/dist-packages/sklearn/utils/deprecation.py:87: FutureWarning: Function safe_indexing is deprecated; safe_indexing is deprecated in version 0.22 and will be removed in version 0.24.\n",
            "  warnings.warn(msg, category=FutureWarning)\n"
          ],
          "name": "stderr"
        },
        {
          "output_type": "stream",
          "text": [
            "MINIMUM DOCUMENT FREQUENCY = 6\n",
            "\n",
            "              precision    recall  f1-score   support\n",
            "\n",
            "    Negative       0.08      0.27      0.12        11\n",
            "     Neutral       0.95      0.77      0.85       356\n",
            "     Postive       0.41      0.79      0.54        43\n",
            "\n",
            "    accuracy                           0.76       410\n",
            "   macro avg       0.48      0.61      0.50       410\n",
            "weighted avg       0.87      0.76      0.80       410\n",
            "\n"
          ],
          "name": "stdout"
        },
        {
          "output_type": "stream",
          "text": [
            "/usr/local/lib/python3.7/dist-packages/sklearn/utils/deprecation.py:87: FutureWarning: Function safe_indexing is deprecated; safe_indexing is deprecated in version 0.22 and will be removed in version 0.24.\n",
            "  warnings.warn(msg, category=FutureWarning)\n"
          ],
          "name": "stderr"
        },
        {
          "output_type": "stream",
          "text": [
            "MINIMUM DOCUMENT FREQUENCY = 7\n",
            "\n",
            "              precision    recall  f1-score   support\n",
            "\n",
            "    Negative       0.06      0.27      0.10        11\n",
            "     Neutral       0.96      0.75      0.84       356\n",
            "     Postive       0.40      0.79      0.54        43\n",
            "\n",
            "    accuracy                           0.74       410\n",
            "   macro avg       0.47      0.60      0.49       410\n",
            "weighted avg       0.87      0.74      0.79       410\n",
            "\n"
          ],
          "name": "stdout"
        },
        {
          "output_type": "stream",
          "text": [
            "/usr/local/lib/python3.7/dist-packages/sklearn/utils/deprecation.py:87: FutureWarning: Function safe_indexing is deprecated; safe_indexing is deprecated in version 0.22 and will be removed in version 0.24.\n",
            "  warnings.warn(msg, category=FutureWarning)\n"
          ],
          "name": "stderr"
        },
        {
          "output_type": "stream",
          "text": [
            "MINIMUM DOCUMENT FREQUENCY = 8\n",
            "\n",
            "              precision    recall  f1-score   support\n",
            "\n",
            "    Negative       0.06      0.27      0.10        11\n",
            "     Neutral       0.96      0.74      0.84       356\n",
            "     Postive       0.41      0.79      0.54        43\n",
            "\n",
            "    accuracy                           0.74       410\n",
            "   macro avg       0.48      0.60      0.49       410\n",
            "weighted avg       0.88      0.74      0.79       410\n",
            "\n"
          ],
          "name": "stdout"
        },
        {
          "output_type": "stream",
          "text": [
            "/usr/local/lib/python3.7/dist-packages/sklearn/utils/deprecation.py:87: FutureWarning: Function safe_indexing is deprecated; safe_indexing is deprecated in version 0.22 and will be removed in version 0.24.\n",
            "  warnings.warn(msg, category=FutureWarning)\n"
          ],
          "name": "stderr"
        },
        {
          "output_type": "stream",
          "text": [
            "MINIMUM DOCUMENT FREQUENCY = 9\n",
            "\n",
            "              precision    recall  f1-score   support\n",
            "\n",
            "    Negative       0.05      0.27      0.09        11\n",
            "     Neutral       0.96      0.72      0.82       356\n",
            "     Postive       0.39      0.77      0.52        43\n",
            "\n",
            "    accuracy                           0.71       410\n",
            "   macro avg       0.47      0.59      0.47       410\n",
            "weighted avg       0.87      0.71      0.77       410\n",
            "\n"
          ],
          "name": "stdout"
        },
        {
          "output_type": "stream",
          "text": [
            "/usr/local/lib/python3.7/dist-packages/sklearn/utils/deprecation.py:87: FutureWarning: Function safe_indexing is deprecated; safe_indexing is deprecated in version 0.22 and will be removed in version 0.24.\n",
            "  warnings.warn(msg, category=FutureWarning)\n"
          ],
          "name": "stderr"
        },
        {
          "output_type": "stream",
          "text": [
            "MINIMUM DOCUMENT FREQUENCY = 10\n",
            "\n",
            "              precision    recall  f1-score   support\n",
            "\n",
            "    Negative       0.05      0.27      0.08        11\n",
            "     Neutral       0.96      0.72      0.82       356\n",
            "     Postive       0.40      0.77      0.53        43\n",
            "\n",
            "    accuracy                           0.71       410\n",
            "   macro avg       0.47      0.59      0.48       410\n",
            "weighted avg       0.88      0.71      0.77       410\n",
            "\n"
          ],
          "name": "stdout"
        }
      ]
    },
    {
      "cell_type": "code",
      "metadata": {
        "ExecuteTime": {
          "end_time": "2020-09-10T17:35:26.913147Z",
          "start_time": "2020-09-10T17:35:26.890840Z"
        },
        "id": "MAlgX9MYKomu",
        "outputId": "e340a1de-2dc1-4cdc-dfd5-cc81acd32ca1",
        "colab": {
          "base_uri": "https://localhost:8080/",
          "height": 359
        }
      },
      "source": [
        "metrics_summary_df = pd.DataFrame(metrics_summary, \n",
        "                                  columns=['min doc freq',\n",
        "                                           'train accuracy',\n",
        "                                           'test accuracy',\n",
        "                                           'macro recall',\n",
        "                                          'neg recall',\n",
        "                                          'neutral recall',\n",
        "                                          'pos recall'])\n",
        "\n",
        "metrics_summary_df"
      ],
      "execution_count": 23,
      "outputs": [
        {
          "output_type": "execute_result",
          "data": {
            "text/html": [
              "<div>\n",
              "<style scoped>\n",
              "    .dataframe tbody tr th:only-of-type {\n",
              "        vertical-align: middle;\n",
              "    }\n",
              "\n",
              "    .dataframe tbody tr th {\n",
              "        vertical-align: top;\n",
              "    }\n",
              "\n",
              "    .dataframe thead th {\n",
              "        text-align: right;\n",
              "    }\n",
              "</style>\n",
              "<table border=\"1\" class=\"dataframe\">\n",
              "  <thead>\n",
              "    <tr style=\"text-align: right;\">\n",
              "      <th></th>\n",
              "      <th>min doc freq</th>\n",
              "      <th>train accuracy</th>\n",
              "      <th>test accuracy</th>\n",
              "      <th>macro recall</th>\n",
              "      <th>neg recall</th>\n",
              "      <th>neutral recall</th>\n",
              "      <th>pos recall</th>\n",
              "    </tr>\n",
              "  </thead>\n",
              "  <tbody>\n",
              "    <tr>\n",
              "      <th>0</th>\n",
              "      <td>1.0</td>\n",
              "      <td>0.987783</td>\n",
              "      <td>0.929268</td>\n",
              "      <td>0.626759</td>\n",
              "      <td>0.181818</td>\n",
              "      <td>0.977528</td>\n",
              "      <td>0.720930</td>\n",
              "    </tr>\n",
              "    <tr>\n",
              "      <th>1</th>\n",
              "      <td>2.0</td>\n",
              "      <td>0.949908</td>\n",
              "      <td>0.846341</td>\n",
              "      <td>0.667288</td>\n",
              "      <td>0.363636</td>\n",
              "      <td>0.870787</td>\n",
              "      <td>0.767442</td>\n",
              "    </tr>\n",
              "    <tr>\n",
              "      <th>2</th>\n",
              "      <td>3.0</td>\n",
              "      <td>0.932804</td>\n",
              "      <td>0.819512</td>\n",
              "      <td>0.643357</td>\n",
              "      <td>0.363636</td>\n",
              "      <td>0.845506</td>\n",
              "      <td>0.720930</td>\n",
              "    </tr>\n",
              "    <tr>\n",
              "      <th>3</th>\n",
              "      <td>4.0</td>\n",
              "      <td>0.908369</td>\n",
              "      <td>0.804878</td>\n",
              "      <td>0.644555</td>\n",
              "      <td>0.363636</td>\n",
              "      <td>0.825843</td>\n",
              "      <td>0.744186</td>\n",
              "    </tr>\n",
              "    <tr>\n",
              "      <th>4</th>\n",
              "      <td>5.0</td>\n",
              "      <td>0.897373</td>\n",
              "      <td>0.790244</td>\n",
              "      <td>0.638937</td>\n",
              "      <td>0.363636</td>\n",
              "      <td>0.808989</td>\n",
              "      <td>0.744186</td>\n",
              "    </tr>\n",
              "    <tr>\n",
              "      <th>5</th>\n",
              "      <td>6.0</td>\n",
              "      <td>0.872938</td>\n",
              "      <td>0.760976</td>\n",
              "      <td>0.611966</td>\n",
              "      <td>0.272727</td>\n",
              "      <td>0.772472</td>\n",
              "      <td>0.790698</td>\n",
              "    </tr>\n",
              "    <tr>\n",
              "      <th>6</th>\n",
              "      <td>7.0</td>\n",
              "      <td>0.859499</td>\n",
              "      <td>0.739024</td>\n",
              "      <td>0.603539</td>\n",
              "      <td>0.272727</td>\n",
              "      <td>0.747191</td>\n",
              "      <td>0.790698</td>\n",
              "    </tr>\n",
              "    <tr>\n",
              "      <th>7</th>\n",
              "      <td>8.0</td>\n",
              "      <td>0.839340</td>\n",
              "      <td>0.736585</td>\n",
              "      <td>0.602602</td>\n",
              "      <td>0.272727</td>\n",
              "      <td>0.744382</td>\n",
              "      <td>0.790698</td>\n",
              "    </tr>\n",
              "    <tr>\n",
              "      <th>8</th>\n",
              "      <td>9.0</td>\n",
              "      <td>0.825290</td>\n",
              "      <td>0.709756</td>\n",
              "      <td>0.585487</td>\n",
              "      <td>0.272727</td>\n",
              "      <td>0.716292</td>\n",
              "      <td>0.767442</td>\n",
              "    </tr>\n",
              "    <tr>\n",
              "      <th>9</th>\n",
              "      <td>10.0</td>\n",
              "      <td>0.817960</td>\n",
              "      <td>0.714634</td>\n",
              "      <td>0.587360</td>\n",
              "      <td>0.272727</td>\n",
              "      <td>0.721910</td>\n",
              "      <td>0.767442</td>\n",
              "    </tr>\n",
              "  </tbody>\n",
              "</table>\n",
              "</div>"
            ],
            "text/plain": [
              "   min doc freq  train accuracy  ...  neutral recall  pos recall\n",
              "0           1.0        0.987783  ...        0.977528    0.720930\n",
              "1           2.0        0.949908  ...        0.870787    0.767442\n",
              "2           3.0        0.932804  ...        0.845506    0.720930\n",
              "3           4.0        0.908369  ...        0.825843    0.744186\n",
              "4           5.0        0.897373  ...        0.808989    0.744186\n",
              "5           6.0        0.872938  ...        0.772472    0.790698\n",
              "6           7.0        0.859499  ...        0.747191    0.790698\n",
              "7           8.0        0.839340  ...        0.744382    0.790698\n",
              "8           9.0        0.825290  ...        0.716292    0.767442\n",
              "9          10.0        0.817960  ...        0.721910    0.767442\n",
              "\n",
              "[10 rows x 7 columns]"
            ]
          },
          "metadata": {
            "tags": []
          },
          "execution_count": 23
        }
      ]
    },
    {
      "cell_type": "code",
      "metadata": {
        "ExecuteTime": {
          "end_time": "2020-09-10T17:35:35.781715Z",
          "start_time": "2020-09-10T17:35:26.915324Z"
        },
        "scrolled": false,
        "id": "Rdb6Iq5IKomw",
        "outputId": "b8215458-f72c-4b0c-c7e2-f97722b2a7c5",
        "colab": {
          "base_uri": "https://localhost:8080/",
          "height": 759
        }
      },
      "source": [
        "_,conf_matrix = train_and_eval_model(min_df=2)\n",
        "labels = ['Negative', 'Neutral', 'Postive']\n",
        "\n",
        "fig, ax = plt.subplots(figsize=(7.5, 7.5))\n",
        "ax.matshow(conf_matrix, cmap=plt.cm.Blues, alpha=0.3)\n",
        "for i in range(conf_matrix.shape[0]):\n",
        "    for j in range(conf_matrix.shape[1]):\n",
        "        ax.text(x=j, y=i,s=conf_matrix[i, j], va='center', ha='center', size='xx-large')\n",
        " \n",
        "plt.xlabel('Predictions', fontsize=18)\n",
        "plt.ylabel('Actuals', fontsize=18)\n",
        "ax.set_xticklabels([''] + labels)\n",
        "ax.set_yticklabels([''] + labels)\n",
        "plt.title('Confusion Matrix', fontsize=18)\n",
        "plt.show()"
      ],
      "execution_count": 26,
      "outputs": [
        {
          "output_type": "stream",
          "text": [
            "/usr/local/lib/python3.7/dist-packages/sklearn/utils/deprecation.py:87: FutureWarning: Function safe_indexing is deprecated; safe_indexing is deprecated in version 0.22 and will be removed in version 0.24.\n",
            "  warnings.warn(msg, category=FutureWarning)\n"
          ],
          "name": "stderr"
        },
        {
          "output_type": "stream",
          "text": [
            "MINIMUM DOCUMENT FREQUENCY = 2\n",
            "\n",
            "              precision    recall  f1-score   support\n",
            "\n",
            "    Negative       0.19      0.36      0.25        11\n",
            "     Neutral       0.95      0.87      0.91       356\n",
            "     Postive       0.52      0.77      0.62        43\n",
            "\n",
            "    accuracy                           0.85       410\n",
            "   macro avg       0.55      0.67      0.59       410\n",
            "weighted avg       0.89      0.85      0.86       410\n",
            "\n"
          ],
          "name": "stdout"
        },
        {
          "output_type": "display_data",
          "data": {
            "image/png": "[encoded data removed]",
            "text/plain": [
              "<Figure size 540x540 with 1 Axes>"
            ]
          },
          "metadata": {
            "tags": [],
            "needs_background": "light"
          }
        }
      ]
    },
    {
      "cell_type": "markdown",
      "metadata": {
        "id": "U2s63wZBKomw"
      },
      "source": [
        "# Summary"
      ]
    },
    {
      "cell_type": "markdown",
      "metadata": {
        "id": "OUyZmdx4Komx"
      },
      "source": [
        "The addition of SMOTE oversampling generally improved the SVM as negative classes have better scores. "
      ]
    }
  ]
}